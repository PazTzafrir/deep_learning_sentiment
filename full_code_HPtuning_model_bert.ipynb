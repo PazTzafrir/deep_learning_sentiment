{
 "cells": [
  {
   "cell_type": "markdown",
   "id": "7f030776-9d62-4763-986b-e33ea203c71f",
   "metadata": {},
   "source": [
    "# BERT - Hyperparameter Tuning"
   ]
  },
  {
   "cell_type": "markdown",
   "id": "f717afa7-9892-40c7-9897-e353a52bc9a5",
   "metadata": {},
   "source": [
    "### Setup"
   ]
  },
  {
   "cell_type": "markdown",
   "id": "a207c87d-2e15-4358-afe8-85747ab64c37",
   "metadata": {},
   "source": [
    "### Import Libraries\n"
   ]
  },
  {
   "cell_type": "code",
   "execution_count": 1,
   "id": "52983362",
   "metadata": {
    "colab": {
     "base_uri": "https://localhost:8080/"
    },
    "id": "52983362",
    "outputId": "650c1535-cba2-42b9-908b-42e369716b3a"
   },
   "outputs": [
    {
     "name": "stdout",
     "output_type": "stream",
     "text": [
      "\u001b[?25l   \u001b[90m━━━━━━━━━━━━━━━━━━━━━━━━━━━━━━━━━━━━━━━━\u001b[0m \u001b[32m0.0/395.9 kB\u001b[0m \u001b[31m?\u001b[0m eta \u001b[36m-:--:--\u001b[0m\r",
      "\u001b[2K   \u001b[90m━━━━━━━━━━━━━━━━━━━━━━━━━━━━━━━━━━━━━━━━\u001b[0m \u001b[32m395.9/395.9 kB\u001b[0m \u001b[31m12.7 MB/s\u001b[0m eta \u001b[36m0:00:00\u001b[0m\n",
      "\u001b[2K   \u001b[90m━━━━━━━━━━━━━━━━━━━━━━━━━━━━━━━━━━━━━━━━\u001b[0m \u001b[32m247.0/247.0 kB\u001b[0m \u001b[31m23.2 MB/s\u001b[0m eta \u001b[36m0:00:00\u001b[0m\n",
      "\u001b[2K   \u001b[90m━━━━━━━━━━━━━━━━━━━━━━━━━━━━━━━━━━━━━━━━\u001b[0m \u001b[32m84.1/84.1 kB\u001b[0m \u001b[31m4.8 MB/s\u001b[0m eta \u001b[36m0:00:00\u001b[0m\n",
      "\u001b[2K     \u001b[90m━━━━━━━━━━━━━━━━━━━━━━━━━━━━━━━━━━━━━━━━\u001b[0m \u001b[32m51.0/51.0 kB\u001b[0m \u001b[31m3.4 MB/s\u001b[0m eta \u001b[36m0:00:00\u001b[0m\n",
      "\u001b[?25h  Preparing metadata (setup.py) ... \u001b[?25l\u001b[?25hdone\n",
      "  Building wheel for emoji (setup.py) ... \u001b[?25l\u001b[?25hdone\n"
     ]
    }
   ],
   "source": [
    "!pip install -q optuna\n",
    "!pip install -q evaluate\n",
    "!pip install -q emoji==0.6.0\n",
    "!pip install -q tqdm"
   ]
  },
  {
   "cell_type": "code",
   "execution_count": 2,
   "id": "d8caf727",
   "metadata": {
    "id": "d8caf727"
   },
   "outputs": [],
   "source": [
    "import os\n",
    "import pandas as pd\n",
    "import numpy as np\n",
    "import matplotlib.pyplot as plt\n",
    "import matplotlib.dates as mdates\n",
    "import seaborn as sns\n",
    "import torch\n",
    "from torch.utils.data import DataLoader, Dataset\n",
    "from torch import nn, optim\n",
    "from sklearn.model_selection import train_test_split\n",
    "from pathlib import Path\n",
    "from sklearn.metrics import *\n",
    "import json\n",
    "from sklearn.preprocessing import LabelEncoder\n",
    "from transformers import AutoModelForSequenceClassification, AutoTokenizer, get_scheduler\n",
    "\n",
    "\n",
    "import optuna\n",
    "import wandb\n",
    "\n",
    "import time\n",
    "from tqdm import tqdm\n",
    "import logging\n",
    "\n",
    "from sklearn.metrics import classification_report, precision_recall_fscore_support\n",
    "import pandas as pd\n",
    "\n",
    "from torch.cuda.amp import autocast, GradScaler"
   ]
  },
  {
   "cell_type": "markdown",
   "id": "c9f5a77b-70fe-4646-ac46-56c781920053",
   "metadata": {},
   "source": [
    "### Device Configuration"
   ]
  },
  {
   "cell_type": "code",
   "execution_count": 3,
   "id": "296be31e",
   "metadata": {
    "colab": {
     "base_uri": "https://localhost:8080/"
    },
    "id": "296be31e",
    "outputId": "f7074c88-2051-4506-df6c-b92377e925d7"
   },
   "outputs": [
    {
     "name": "stdout",
     "output_type": "stream",
     "text": [
      "Using device: cuda\n"
     ]
    }
   ],
   "source": [
    "device = torch.device(\"cuda\" if torch.cuda.is_available() else \"cpu\")\n",
    "print(f\"Using device: {device}\")"
   ]
  },
  {
   "cell_type": "code",
   "execution_count": null,
   "id": "5244d7e5",
   "metadata": {
    "colab": {
     "base_uri": "https://localhost:8080/"
    },
    "id": "5244d7e5",
    "outputId": "0097279c-ae78-46d0-b390-48b5fc39033d"
   },
   "outputs": [
    {
     "name": "stderr",
     "output_type": "stream",
     "text": [
      "\u001b[34m\u001b[1mwandb\u001b[0m: \u001b[33mWARNING\u001b[0m If you're specifying your api key in code, ensure this code is not shared publicly.\n",
      "\u001b[34m\u001b[1mwandb\u001b[0m: \u001b[33mWARNING\u001b[0m Consider setting the WANDB_API_KEY environment variable, or running `wandb login` from the command line.\n",
      "\u001b[34m\u001b[1mwandb\u001b[0m: No netrc file found, creating one.\n",
      "\u001b[34m\u001b[1mwandb\u001b[0m: Appending key for api.wandb.ai to your netrc file: /root/.netrc\n",
      "\u001b[34m\u001b[1mwandb\u001b[0m: Currently logged in as: \u001b[33mmayachn3\u001b[0m (\u001b[33mmayachn3-maya-bondar\u001b[0m) to \u001b[32mhttps://api.wandb.ai\u001b[0m. Use \u001b[1m`wandb login --relogin`\u001b[0m to force relogin\n"
     ]
    },
    {
     "data": {
      "text/plain": [
       "True"
      ]
     },
     "execution_count": 5,
     "metadata": {},
     "output_type": "execute_result"
    }
   ],
   "source": [
    "### Weights & Biases Setup\n",
    "\n",
    "wandb.login(key=\"<wandb key>\")"
   ]
  },
  {
   "cell_type": "code",
   "execution_count": 6,
   "id": "b6c6cdd5",
   "metadata": {
    "id": "b6c6cdd5"
   },
   "outputs": [],
   "source": [
    "pd.set_option('display.max_columns', None)\n",
    "pd.set_option('display.max_rows', None)\n",
    "pd.set_option('display.max_colwidth', None)"
   ]
  },
  {
   "cell_type": "markdown",
   "id": "df4b06ab-f85b-4354-a574-dacfb125c1ea",
   "metadata": {},
   "source": [
    "## Load Dataset"
   ]
  },
  {
   "cell_type": "code",
   "execution_count": 7,
   "id": "d3a0a73c",
   "metadata": {
    "id": "d3a0a73c"
   },
   "outputs": [],
   "source": [
    "train = pd.read_csv(\"OOT_train.csv\", encoding='latin-1')\n",
    "val = pd.read_csv(\"OOT_val.csv\", encoding='latin-1')\n",
    "test = pd.read_csv(\"OOT_test.csv\", encoding='latin-1')\n"
   ]
  },
  {
   "cell_type": "code",
   "execution_count": 8,
   "id": "38cadc1a",
   "metadata": {
    "id": "38cadc1a"
   },
   "outputs": [],
   "source": [
    "# train = train.head(100)\n",
    "# val = val.head(100)\n",
    "# test = test.head(100)"
   ]
  },
  {
   "cell_type": "markdown",
   "id": "4687deaa",
   "metadata": {
    "id": "4687deaa"
   },
   "source": [
    "### Preprocessing"
   ]
  },
  {
   "cell_type": "code",
   "execution_count": 9,
   "id": "9966ecc5",
   "metadata": {
    "id": "9966ecc5"
   },
   "outputs": [],
   "source": [
    "#encoding the labels numerically from Sentiment\n",
    "ordinal_mapping = {\n",
    "    'Extremely Negative': 0,\n",
    "    'Negative': 1,\n",
    "    'Neutral': 2,\n",
    "    'Positive': 3,\n",
    "    'Extremely Positive': 4\n",
    "}\n",
    "\n",
    "# map to ordinal labels\n",
    "train[\"label_id\"] = train[\"Sentiment\"].map(ordinal_mapping)\n",
    "val[\"label_id\"] = val[\"Sentiment\"].map(ordinal_mapping)\n",
    "test[\"label_id\"] = test[\"Sentiment\"].map(ordinal_mapping)\n",
    "\n"
   ]
  },
  {
   "cell_type": "code",
   "execution_count": 10,
   "id": "2b78e181",
   "metadata": {
    "id": "2b78e181"
   },
   "outputs": [],
   "source": [
    "# Concat the relevant columns into one string with seperation.\n",
    "# for example: \"Tweet: my food stock is low | Location: Canada | Date: 2020-03-17 | URL: https://t.co/abcd\"\n",
    "\n",
    "# Function to build the input string from multiple columns\n",
    "def build_augmented_input(row):\n",
    "    parts = []\n",
    "\n",
    "    if pd.notna(row.get('clean_tweet')):\n",
    "        parts.append(f\"{row['clean_tweet']}\")\n",
    "\n",
    "    if pd.notna(row.get('Location_standardized')) and row['Location_standardized'].lower() != 'unknown':\n",
    "        parts.append(f\"{row['Location_standardized']}\")\n",
    "\n",
    "    if pd.notna(row.get('TweetAt')):\n",
    "        parts.append(f\"{row['TweetAt']}\")\n",
    "\n",
    "    return \" | \".join(parts)\n",
    "\n",
    "# Apply to the DataFrames\n",
    "train['model_input'] = train.apply(build_augmented_input, axis=1)\n",
    "val['model_input'] = val.apply(build_augmented_input, axis=1)\n",
    "test['model_input'] = test.apply(build_augmented_input, axis=1)\n",
    "\n",
    "# Create new DataFrames with only what's needed for modeling\n",
    "formatted_train = train[['model_input', 'label_id']].copy()\n",
    "formatted_val = val[['model_input', 'label_id']].copy()\n",
    "formatted_test = test[['model_input', 'label_id']].copy()\n",
    "\n"
   ]
  },
  {
   "cell_type": "code",
   "execution_count": 11,
   "id": "c1ad0dc3",
   "metadata": {
    "colab": {
     "base_uri": "https://localhost:8080/"
    },
    "id": "c1ad0dc3",
    "outputId": "fbe7d5fb-a738-44f5-c1f1-3acacd5ab7cf"
   },
   "outputs": [
    {
     "name": "stdout",
     "output_type": "stream",
     "text": [
      "Original class distribution:\n",
      "label_id\n",
      "0     5175\n",
      "1     9230\n",
      "2     6784\n",
      "3    10140\n",
      "4     5845\n",
      "Name: count, dtype: int64\n",
      "Class 0: 5000 samples (undersampled)\n",
      "Class 1: 5000 samples (undersampled)\n",
      "Class 2: 5000 samples (undersampled)\n",
      "Class 3: 5000 samples (undersampled)\n",
      "Class 4: 5000 samples (undersampled)\n",
      "Balanced dataset: 25000 total samples\n",
      "New distribution:\n",
      "label_id\n",
      "0    5000\n",
      "1    5000\n",
      "2    5000\n",
      "3    5000\n",
      "4    5000\n",
      "Name: count, dtype: int64\n"
     ]
    }
   ],
   "source": [
    "def balance_dataset(df, target_samples_per_class=5000):\n",
    "    \"\"\"Balance dataset by undersampling\"\"\"\n",
    "    balanced_dfs = []\n",
    "\n",
    "    print(\"Original class distribution:\")\n",
    "    print(df['label_id'].value_counts().sort_index())\n",
    "\n",
    "    for class_id in range(5):\n",
    "        class_data = df[df['label_id'] == class_id]\n",
    "\n",
    "        if len(class_data) > target_samples_per_class:\n",
    "            class_data = class_data.sample(n=target_samples_per_class, random_state=42)\n",
    "            print(f\"Class {class_id}: {len(class_data)} samples (undersampled)\")\n",
    "        else:\n",
    "            print(f\"Class {class_id}: {len(class_data)} samples (kept all)\")\n",
    "\n",
    "        balanced_dfs.append(class_data)\n",
    "\n",
    "    balanced_df = pd.concat(balanced_dfs, ignore_index=True).sample(frac=1, random_state=42)\n",
    "\n",
    "    print(f\"Balanced dataset: {len(balanced_df)} total samples\")\n",
    "    print(\"New distribution:\")\n",
    "    print(balanced_df['label_id'].value_counts().sort_index())\n",
    "\n",
    "    return balanced_df\n",
    "\n",
    "# Apply balancing to training data\n",
    "formatted_train = balance_dataset(formatted_train, target_samples_per_class=5000)"
   ]
  },
  {
   "cell_type": "markdown",
   "id": "6c13dad1",
   "metadata": {
    "id": "6c13dad1"
   },
   "source": [
    "## Tokenization and Dataset Preparation"
   ]
  },
  {
   "cell_type": "code",
   "execution_count": 12,
   "id": "cc3b916d",
   "metadata": {
    "colab": {
     "base_uri": "https://localhost:8080/",
     "height": 279,
     "referenced_widgets": [
      "9ab0859342134e9790f3a25298d410dc",
      "0d123104f1c94fc7aeca0379bd4cf89f",
      "9e50434ecc9c40938281391881e811dc",
      "a85c8479c5ef4ea89bf9c232ff866aad",
      "53ff43592b8e4dda8f5f615db5583a6c",
      "498e7f4dbd8f4d2c8a0f75d57ef23fc6",
      "e7bb540823674f6a8d4c1493e22b31b8",
      "13feaf9ad6724ea188a1ba405e08392d",
      "24111e81d7884d1fba4ad2db372cc50f",
      "3265bfa4994747d0a0bcbba7124fc760",
      "8df85062cabb4049b6747ef23ad3698c",
      "8da16dd4572d4236824cfa2a5b2310cc",
      "560897643dbd464bb29cffcc2af894b5",
      "b2246c43b2454d7ba9975af4d375ed93",
      "57994cfce6ce41e7bdb80ab12f62828e",
      "006900248ab044bb94aedfa8a64b2d7a",
      "2dbe7d6f29f44265920ae349e6799e63",
      "915e2981f56a4fbba9de15fb714ae145",
      "906ed3473d534f95af0ca0a59a0116fc",
      "7d78543c851c4a76a3c167b4ea2794c9",
      "5d943ba338a446ef81e1ac65339f92e0",
      "cbad80f213a5437c884eb1d7a6ffe1b6",
      "9b807e5466604d858e7c3471bc78c640",
      "72a724691df4442c947c5e02151d5e05",
      "55c28984848741ddb4ae005c278c491e",
      "42bf7fe8ab0849069990771c1635842a",
      "f64080fc8e5f4da99590da1a63d2e8f1",
      "6e9ee454831f4a0b8a64b1c8111c0e28",
      "e10a812f7be542ca8f1a7f8fc5b80d10",
      "0370530f965b436c8653e8ac911fbbfc",
      "095cba7d8b754a2abc9be0a0e5598f93",
      "305f91a1665d43b4988c73e034a93bc5",
      "be536f4ec2b147d4b7fdc33fb20a1eaa",
      "89b03e781b6d4dd68c40fb895a0c2e09",
      "845de3a718484277a8f4619b0e94448b",
      "eed1e9ab6356430993407915403cef6b",
      "7d50020689b94a0fb1180d7f7d7741cd",
      "98fbe14bbc144c66bba463ef15352628",
      "9f5f09dcd01d4d9bad9f673b8c18d4f0",
      "1d79fc89547f4bc08c4ce2a4e6ace4e1",
      "714ba282fe51486aa60d2442f6ce4c6d",
      "8027714395d84a00b278b3c2f533d10a",
      "2af65b536632441080017da7137d8a52",
      "d9ef9051b4fb4395b76b9a01b8ea2153",
      "3ac2eb670ad7463f9487748fc7b1c0dc",
      "c4895799049d49cea9d4bd98c3211ce3",
      "50d4d2004a7843c0a2161369f830df60",
      "9b05323233b440618348691aab0f2082",
      "829d16b388a4493d95a7657e273da264",
      "e92f2da1db7847628561da9f63a27307",
      "c837e987955a436e8e889c87f277c281",
      "fa21ad2599f8442fb9a655077c16bd58",
      "4a35771d315c46da9ee6552e4e48b7b8",
      "356a4342c81743399fb66600b064cb99",
      "692271fe5a804d589ef167c9884f31f9"
     ]
    },
    "id": "cc3b916d",
    "outputId": "fec012d2-2bfb-4361-ba85-fc7f14f23972"
   },
   "outputs": [
    {
     "name": "stderr",
     "output_type": "stream",
     "text": [
      "/usr/local/lib/python3.11/dist-packages/huggingface_hub/utils/_auth.py:94: UserWarning: \n",
      "The secret `HF_TOKEN` does not exist in your Colab secrets.\n",
      "To authenticate with the Hugging Face Hub, create a token in your settings tab (https://huggingface.co/settings/tokens), set it as secret in your Google Colab and restart your session.\n",
      "You will be able to reuse this secret in all of your notebooks.\n",
      "Please note that authentication is recommended but still optional to access public models or datasets.\n",
      "  warnings.warn(\n"
     ]
    },
    {
     "data": {
      "application/vnd.jupyter.widget-view+json": {
       "model_id": "9ab0859342134e9790f3a25298d410dc",
       "version_major": 2,
       "version_minor": 0
      },
      "text/plain": [
       "tokenizer_config.json:   0%|          | 0.00/338 [00:00<?, ?B/s]"
      ]
     },
     "metadata": {},
     "output_type": "display_data"
    },
    {
     "data": {
      "application/vnd.jupyter.widget-view+json": {
       "model_id": "8da16dd4572d4236824cfa2a5b2310cc",
       "version_major": 2,
       "version_minor": 0
      },
      "text/plain": [
       "vocab.txt: 0.00B [00:00, ?B/s]"
      ]
     },
     "metadata": {},
     "output_type": "display_data"
    },
    {
     "data": {
      "application/vnd.jupyter.widget-view+json": {
       "model_id": "9b807e5466604d858e7c3471bc78c640",
       "version_major": 2,
       "version_minor": 0
      },
      "text/plain": [
       "bpe.codes: 0.00B [00:00, ?B/s]"
      ]
     },
     "metadata": {},
     "output_type": "display_data"
    },
    {
     "data": {
      "application/vnd.jupyter.widget-view+json": {
       "model_id": "89b03e781b6d4dd68c40fb895a0c2e09",
       "version_major": 2,
       "version_minor": 0
      },
      "text/plain": [
       "added_tokens.json:   0%|          | 0.00/22.0 [00:00<?, ?B/s]"
      ]
     },
     "metadata": {},
     "output_type": "display_data"
    },
    {
     "data": {
      "application/vnd.jupyter.widget-view+json": {
       "model_id": "3ac2eb670ad7463f9487748fc7b1c0dc",
       "version_major": 2,
       "version_minor": 0
      },
      "text/plain": [
       "special_tokens_map.json:   0%|          | 0.00/167 [00:00<?, ?B/s]"
      ]
     },
     "metadata": {},
     "output_type": "display_data"
    }
   ],
   "source": [
    "model_name = \"finiteautomata/bertweet-base-sentiment-analysis\"\n",
    "tokenizer = AutoTokenizer.from_pretrained(model_name)\n",
    "\n",
    "def tokenize_data(data, max_length=128):\n",
    "    return tokenizer(\n",
    "        data['model_input'].tolist(),\n",
    "        truncation=True,\n",
    "        padding='max_length',\n",
    "        max_length=max_length,\n",
    "        add_special_tokens=True,\n",
    "        return_attention_mask=True,\n",
    "        return_token_type_ids=False\n",
    "    )\n",
    "\n",
    "train_encodings = tokenize_data(formatted_train)\n",
    "val_encodings = tokenize_data(formatted_val)\n",
    "test_encodings = tokenize_data(formatted_test)"
   ]
  },
  {
   "cell_type": "code",
   "execution_count": null,
   "id": "0576ecae",
   "metadata": {
    "id": "0576ecae"
   },
   "outputs": [],
   "source": [
    "## define a PyTorch Dataset\n",
    "class TweetDataset(Dataset):\n",
    "    def __init__(self, encodings, labels):\n",
    "        self.encodings = encodings\n",
    "        self.labels = labels\n",
    "\n",
    "    def __getitem__(self, idx):\n",
    "        item = {key: torch.tensor(val[idx]) for key, val in self.encodings.items()}\n",
    "        item['labels'] = torch.tensor(self.labels[idx])  # For training\n",
    "        return item\n",
    "\n",
    "    def __len__(self):\n",
    "        return len(self.labels)\n",
    "\n",
    "# Convert labels to integers if not already\n",
    "train_labels = formatted_train['label_id'].tolist()\n",
    "val_labels = formatted_val['label_id'].tolist()\n",
    "test_labels = formatted_test['label_id'].tolist()\n",
    "\n",
    "\n",
    "train_dataset = TweetDataset(train_encodings, train_labels)\n",
    "val_dataset = TweetDataset(val_encodings, val_labels)\n",
    "test_dataset = TweetDataset(test_encodings, test_labels)\n"
   ]
  },
  {
   "cell_type": "code",
   "execution_count": 14,
   "id": "3460f26b",
   "metadata": {
    "id": "3460f26b"
   },
   "outputs": [],
   "source": [
    "\n",
    "# define mapping between label id and sentiment for later use and conveniency\n",
    "ordinal_label2id = ordinal_mapping\n",
    "ordinal_id2label = {v: k for k, v in ordinal_mapping.items()}\n"
   ]
  },
  {
   "cell_type": "markdown",
   "id": "ef394b35",
   "metadata": {
    "id": "ef394b35"
   },
   "source": [
    "### Model"
   ]
  },
  {
   "cell_type": "code",
   "execution_count": 15,
   "id": "xs3PTvj6lvs_",
   "metadata": {
    "id": "xs3PTvj6lvs_"
   },
   "outputs": [],
   "source": [
    "def save_training_checkpoint(model, optimizer, scheduler, epoch, loss, trial_params, filepath, trial_number, current_score, best_score, model_name=\"finiteautomata/bertweet-base-sentiment-analysis\"):\n",
    "    \"\"\"Save complete training checkpoint and handle best model updates\"\"\"\n",
    "    global global_best_qwk, global_best_model_state\n",
    "\n",
    "    # Get the trial directory from filepath\n",
    "    trial_dir = os.path.dirname(filepath)\n",
    "\n",
    "    # Save trial checkpoint\n",
    "    checkpoint = {\n",
    "        'epoch': epoch,\n",
    "        'model_state_dict': model.state_dict(),\n",
    "        'optimizer_state_dict': optimizer.state_dict() if optimizer else None,\n",
    "        'scheduler_state_dict': scheduler.state_dict() if scheduler else None,\n",
    "        'loss': loss,\n",
    "        'trial_params': trial_params,\n",
    "        'model_config': model.config.to_dict(),\n",
    "        'model_name': model_name,\n",
    "        'current_score': current_score,\n",
    "        'trial_number': trial_number,\n",
    "    }\n",
    "\n",
    "    # Save all trial files in the same directory\n",
    "    torch.save(checkpoint, filepath)\n",
    "    torch.save(model.state_dict(), os.path.join(trial_dir, 'model_bert_weights.pt'))\n",
    "    torch.save(model, os.path.join(trial_dir, 'model_bert.pt'))\n",
    "\n",
    "    print(f\"✅ Trial checkpoint saved: {filepath}\")\n",
    "    print(f\"✅ Model files saved in: {trial_dir}\")\n",
    "\n",
    "    # Update best model if needed\n",
    "    if current_score > best_score:\n",
    "        best_model_path = \"./best_bert_model_so_far\"\n",
    "\n",
    "        # Ensure best model directory exists\n",
    "        os.makedirs(best_model_path, exist_ok=True)\n",
    "\n",
    "        # Save our custom .pt files in best model directory\n",
    "        best_checkpoint_path = os.path.join(best_model_path, 'best_checkpoint.ckpt')\n",
    "        best_weights_path = os.path.join(best_model_path, 'model_bert_weights.pt')\n",
    "        best_model_file_path = os.path.join(best_model_path, 'model_bert.pt')\n",
    "\n",
    "        torch.save(checkpoint, best_checkpoint_path)\n",
    "        torch.save(model.state_dict(), best_weights_path)\n",
    "        torch.save(model, best_model_file_path)\n",
    "\n",
    "        # Update global variables\n",
    "        global_best_qwk = current_score\n",
    "        global_best_model_state = model.state_dict().copy()\n",
    "\n",
    "        print(f\"🏆 New best model saved! Score: {current_score:.4f} (Trial {trial_number})\")\n",
    "        print(f\"🏆 Best model files saved in: {best_model_path}\")\n",
    "\n",
    "        return True  # Indicates new best model\n",
    "    else:\n",
    "        print(f\"📊 Trial {trial_number} score: {current_score:.4f} (Best: {best_score:.4f})\")\n",
    "        return False"
   ]
  },
  {
   "cell_type": "code",
   "execution_count": 16,
   "id": "mySRBv5iuu0N",
   "metadata": {
    "id": "mySRBv5iuu0N"
   },
   "outputs": [],
   "source": [
    "def calculate_per_class_metrics(y_true, y_pred, class_names):\n",
    "    \"\"\"Calculate detailed per-class metrics\"\"\"\n",
    "    # Get per-class precision, recall, f1\n",
    "    precision, recall, f1, support = precision_recall_fscore_support(\n",
    "        y_true, y_pred, labels=list(range(len(class_names))), zero_division=0\n",
    "    )\n",
    "\n",
    "    # Calculate per-class accuracy (correct predictions for each class)\n",
    "    per_class_accuracy = []\n",
    "    for class_id in range(len(class_names)):\n",
    "        class_mask = (y_true == class_id)\n",
    "        if class_mask.sum() > 0:  # If class exists in true labels\n",
    "            class_acc = ((y_pred == class_id) & (y_true == class_id)).sum() / class_mask.sum()\n",
    "        else:\n",
    "            class_acc = 0.0\n",
    "        per_class_accuracy.append(class_acc)\n",
    "\n",
    "    return precision, recall, f1, per_class_accuracy\n",
    "\n",
    "\n",
    "def print_epoch_summary_table(epoch, train_loss, train_accuracy, val_loss, val_accuracy,\n",
    "                             val_precision, val_recall, val_f1, val_mae, val_adjacent_accuracy,\n",
    "                             val_qwk, per_class_metrics, class_names, epoch_time):\n",
    "    \"\"\"Print a comprehensive epoch summary table\"\"\"\n",
    "\n",
    "    precision, recall, f1, per_class_accuracy = per_class_metrics\n",
    "\n",
    "    print(f\"\\nEPOCH {epoch} DETAILED SUMMARY\")\n",
    "    print(\"=\" * 120)\n",
    "\n",
    "    # Overall metrics\n",
    "    print(f\"Epoch Time: {epoch_time:.1f}s\")\n",
    "    print(f\"Training   - Loss: {train_loss:.6f} | Accuracy: {train_accuracy:.6f}\")\n",
    "    print(f\"Validation - Loss: {val_loss:.6f} | Accuracy: {val_accuracy:.6f}\")\n",
    "    print(f\"Overall    - F1: {val_f1:.6f} | Precision: {val_precision:.6f} | Recall: {val_recall:.6f}\")\n",
    "    print(f\"Metrics    - MAE: {val_mae:.6f} | Adjacent Acc: {val_adjacent_accuracy:.6f} | QWK: {val_qwk:.6f}\")\n",
    "\n",
    "    print(\"\\n\" + \"─\" * 120)\n",
    "    print(\"PER-CLASS BREAKDOWN:\")\n",
    "    print(\"─\" * 120)\n",
    "\n",
    "    # Header\n",
    "    print(f\"{'Class':<20} {'F1':<10} {'Precision':<12} {'Recall':<10} {'Accuracy':<10}\")\n",
    "    print(\"─\" * 65)\n",
    "\n",
    "    # Per-class rows\n",
    "    for i, class_name in enumerate(class_names):\n",
    "        print(f\"{class_name:<20} {f1[i]:<10.6f} {precision[i]:<12.6f} {recall[i]:<10.6f} {per_class_accuracy[i]:<10.6f}\")\n",
    "\n",
    "    print(\"=\" * 120)"
   ]
  },
  {
   "cell_type": "markdown",
   "id": "fbfcc570",
   "metadata": {
    "id": "fbfcc570"
   },
   "source": [
    "### Training and Hyperparameter Tuning\n"
   ]
  },
  {
   "cell_type": "code",
   "execution_count": 17,
   "id": "05Pz-IxQJLEe",
   "metadata": {
    "id": "05Pz-IxQJLEe"
   },
   "outputs": [],
   "source": [
    "def get_model_size(model):\n",
    "    \"\"\"Calculate model size in MB\"\"\"\n",
    "    param_size = 0\n",
    "    buffer_size = 0\n",
    "\n",
    "    for param in model.parameters():\n",
    "        param_size += param.nelement() * param.element_size()\n",
    "\n",
    "    for buffer in model.buffers():\n",
    "        buffer_size += buffer.nelement() * buffer.element_size()\n",
    "\n",
    "    size_all_mb = (param_size + buffer_size) / 1024**2\n",
    "    return size_all_mb\n",
    "\n",
    "def get_model_parameters(model):\n",
    "    \"\"\"Get total number of parameters\"\"\"\n",
    "    total_params = sum(p.numel() for p in model.parameters())\n",
    "    trainable_params = sum(p.numel() for p in model.parameters() if p.requires_grad)\n",
    "    return total_params, trainable_params\n",
    "\n",
    "\n",
    "def measure_inference_time(model, sample_batch, device, num_runs=10):\n",
    "    \"\"\"Measure average inference time\"\"\"\n",
    "    model.eval()\n",
    "\n",
    "    # Warm up\n",
    "    with torch.no_grad():\n",
    "        for _ in range(3):\n",
    "            _ = model(sample_batch['input_ids'].to(device),\n",
    "                     attention_mask=sample_batch['attention_mask'].to(device))\n",
    "\n",
    "    # Measure inference time\n",
    "    torch.cuda.synchronize() if torch.cuda.is_available() else None\n",
    "    start_time = time.time()\n",
    "\n",
    "    with torch.no_grad():\n",
    "        for _ in range(num_runs):\n",
    "            _ = model(sample_batch['input_ids'].to(device),\n",
    "                     attention_mask=sample_batch['attention_mask'].to(device))\n",
    "\n",
    "    torch.cuda.synchronize() if torch.cuda.is_available() else None\n",
    "    end_time = time.time()\n",
    "\n",
    "    avg_inference_time = (end_time - start_time) / num_runs * 1000  # Convert to milliseconds\n",
    "    return avg_inference_time"
   ]
  },
  {
   "cell_type": "code",
   "execution_count": 18,
   "id": "9575d145",
   "metadata": {
    "id": "9575d145"
   },
   "outputs": [],
   "source": [
    "def early_stop_check(patience, best_val_qwk, best_val_qwk_epoch, current_val_qwk, current_val_qwk_epoch):\n",
    "    early_stop_flag = False\n",
    "    if current_val_qwk > best_val_qwk:\n",
    "        best_val_qwk = current_val_qwk\n",
    "        best_val_qwk_epoch = current_val_qwk_epoch\n",
    "    else:\n",
    "        if current_val_qwk_epoch - best_val_qwk_epoch > patience:\n",
    "            early_stop_flag = True\n",
    "    return best_val_qwk, best_val_qwk_epoch, early_stop_flag"
   ]
  },
  {
   "cell_type": "code",
   "execution_count": 19,
   "id": "3f798b13",
   "metadata": {
    "id": "3f798b13"
   },
   "outputs": [],
   "source": [
    "def train_model_with_hyperparams(model, train_loader, val_loader, optimizer, criterion, epochs, trial, scheduler=None, max_grad_norm=None, save_checkpoints=True):\n",
    "    # GPU Setup\n",
    "    device = torch.device(\"cuda\" if torch.cuda.is_available() else \"cpu\")\n",
    "    model = model.to(device)\n",
    "\n",
    "    trial_number = trial.number if trial else 0\n",
    "    checkpoint_dir = None\n",
    "    if save_checkpoints:\n",
    "        checkpoint_dir = Path(f\"./checkpoints_bert/trial_{trial_number}\")\n",
    "        checkpoint_dir.mkdir(parents=True, exist_ok=True)\n",
    "\n",
    "    # Calculate model analysis after moving to device\n",
    "    model_size_mb = get_model_size(model)\n",
    "    total_params, trainable_params = get_model_parameters(model)\n",
    "\n",
    "    # Get a sample batch for inference timing\n",
    "    sample_batch = next(iter(train_loader))\n",
    "    inference_time_ms = measure_inference_time(model, sample_batch, device)\n",
    "\n",
    "    best_val_qwk = 0.0\n",
    "    best_val_qwk_epoch = 0\n",
    "    early_stop_flag = False\n",
    "    best_model_state = None\n",
    "    best_checkpoint_path = None\n",
    "\n",
    "    # Print training configuration with model info\n",
    "    print(\"=\" * 60)\n",
    "    print(\"STARTING TRAINING\")\n",
    "    print(\"=\" * 60)\n",
    "    print(f\"Training Configuration:\")\n",
    "    print(f\"   • Device: {device}\")\n",
    "    print(f\"   • Model Size: {model_size_mb:.2f} MB\")\n",
    "    print(f\"   • Total Parameters: {total_params:,}\")\n",
    "    print(f\"   • Trainable Parameters: {trainable_params:,}\")\n",
    "    print(f\"   • Avg Inference Time: {inference_time_ms:.2f} ms\")\n",
    "    print(f\"   • Total Epochs: {epochs}\")\n",
    "    print(f\"   • Train Batches: {len(train_loader)}\")\n",
    "    print(f\"   • Validation Batches: {len(val_loader)}\")\n",
    "    print(f\"   • Learning Rate: {optimizer.param_groups[0]['lr']:.2e}\")\n",
    "    print(f\"   • Batch Size: {train_loader.batch_size}\")\n",
    "    print(\"=\" * 60)\n",
    "\n",
    "    # Continue with the rest of training loop\n",
    "\n",
    "    for epoch in range(1, epochs + 1):\n",
    "        epoch_start_time = time.time()\n",
    "\n",
    "        # Training Phase\n",
    "        print(f\"\\nEPOCH {epoch}/{epochs}\")\n",
    "        print(\"-\" * 50)\n",
    "\n",
    "        # Training loop with speed optimizations\n",
    "        model.train()\n",
    "        train_loss = 0.0\n",
    "        total_train_samples = 0\n",
    "        correct_train_predictions = 0\n",
    "\n",
    "        # Initialize mixed precision scaler\n",
    "        scaler = GradScaler()\n",
    "\n",
    "        train_pbar = tqdm(train_loader, desc=f\"Training\",\n",
    "                         bar_format='{l_bar}{bar:30}{r_bar}{bar:-30b}',\n",
    "                         ncols=100)\n",
    "\n",
    "        for batch_idx, batch in enumerate(train_pbar):\n",
    "            input_ids = batch['input_ids'].to(device, non_blocking=True)\n",
    "            attention_mask = batch['attention_mask'].to(device, non_blocking=True)\n",
    "            labels = batch['labels'].to(device, non_blocking=True)\n",
    "\n",
    "            optimizer.zero_grad(set_to_none=True)  # More efficient than zero_grad()\n",
    "\n",
    "            # Mixed precision forward pass\n",
    "            with autocast():\n",
    "                outputs = model(input_ids, attention_mask=attention_mask)\n",
    "                logits = outputs.logits\n",
    "                loss = criterion(logits, labels)\n",
    "\n",
    "            # Mixed precision backward pass\n",
    "            scaler.scale(loss).backward()\n",
    "\n",
    "            if max_grad_norm is not None:\n",
    "                scaler.unscale_(optimizer)\n",
    "                torch.nn.utils.clip_grad_norm_(model.parameters(), max_grad_norm)\n",
    "\n",
    "            scaler.step(optimizer)\n",
    "            scaler.update()\n",
    "\n",
    "            if scheduler is not None:\n",
    "                scheduler.step()\n",
    "\n",
    "            # Accumulate metrics (less frequently for speed)\n",
    "            if batch_idx % 10 == 0 or batch_idx == len(train_loader) - 1:\n",
    "                batch_size = input_ids.size(0)\n",
    "                train_loss += loss.item() * batch_size\n",
    "                total_train_samples += batch_size\n",
    "                with torch.no_grad():\n",
    "                    correct_train_predictions += (logits.argmax(dim=1) == labels).sum().item()\n",
    "\n",
    "                current_train_loss = train_loss / total_train_samples\n",
    "                current_train_acc = correct_train_predictions / total_train_samples\n",
    "\n",
    "                train_pbar.set_postfix({\n",
    "                    'Loss': f'{current_train_loss:.4f}',\n",
    "                    'Acc': f'{current_train_acc:.3f}',\n",
    "                    'LR': f'{optimizer.param_groups[0][\"lr\"]:.2e}'\n",
    "                })\n",
    "\n",
    "        train_loss /= total_train_samples\n",
    "        train_accuracy = correct_train_predictions / total_train_samples\n",
    "\n",
    "        ###  Validation loop  ###\n",
    "        print(f\"\\n📋 Validation Phase...\")\n",
    "\n",
    "        # Faster validation loop\n",
    "        model.eval()\n",
    "        val_loss = 0.0\n",
    "        total_val_samples = 0\n",
    "        correct_val_predictions = 0\n",
    "        all_val_labels = []\n",
    "        all_val_preds = []\n",
    "\n",
    "        val_pbar = tqdm(val_loader, desc=f\"Validation\",\n",
    "                       bar_format='{l_bar}{bar:30}{r_bar}{bar:-30b}',\n",
    "                       ncols=100)\n",
    "\n",
    "        with torch.no_grad():\n",
    "            for batch in val_pbar:\n",
    "                input_ids = batch['input_ids'].to(device, non_blocking=True)\n",
    "                attention_mask = batch['attention_mask'].to(device, non_blocking=True)\n",
    "                labels = batch['labels'].to(device, non_blocking=True)\n",
    "\n",
    "                # Use mixed precision for validation too\n",
    "                with autocast():\n",
    "                    outputs = model(input_ids, attention_mask=attention_mask)\n",
    "                    logits = outputs.logits\n",
    "                    loss = criterion(logits, labels)\n",
    "\n",
    "                batch_size = input_ids.size(0)\n",
    "                val_loss += loss.item() * batch_size\n",
    "                total_val_samples += batch_size\n",
    "                correct_val_predictions += (logits.argmax(dim=1) == labels).sum().item()\n",
    "\n",
    "                all_val_labels.extend(labels.cpu().numpy())\n",
    "                all_val_preds.extend(logits.argmax(dim=1).cpu().numpy())\n",
    "\n",
    "                current_val_loss = val_loss / total_val_samples\n",
    "                current_val_acc = correct_val_predictions / total_val_samples\n",
    "                val_pbar.set_postfix({\n",
    "                    'Loss': f'{current_val_loss:.4f}',\n",
    "                    'Acc': f'{current_val_acc:.3f}'\n",
    "                })\n",
    "\n",
    "        # calculate metrics\n",
    "        all_val_preds = np.array(all_val_preds)\n",
    "        all_val_labels = np.array(all_val_labels)\n",
    "        val_loss /= total_val_samples\n",
    "        val_accuracy = correct_val_predictions / total_val_samples\n",
    "        val_precision = precision_score(all_val_labels, all_val_preds, average='macro') #### change macro\n",
    "        val_recall = recall_score(all_val_labels, all_val_preds, average='macro')#### change macro\n",
    "        val_f1 = f1_score(all_val_labels, all_val_preds, average='macro')#### change macro\n",
    "        val_mae = np.mean(np.abs(all_val_preds - all_val_labels))\n",
    "        val_adjacent_accuracy = np.sum(np.abs(all_val_preds - all_val_labels) <= 1) / len(all_val_labels)\n",
    "        val_qwk = cohen_kappa_score(all_val_labels, all_val_preds, weights='quadratic')\n",
    "\n",
    "        # Calculate epoch time\n",
    "        epoch_time = time.time() - epoch_start_time\n",
    "\n",
    "        # Calculate per-class metrics\n",
    "        class_names = list(ordinal_id2label.values())\n",
    "        per_class_metrics = calculate_per_class_metrics(all_val_labels, all_val_preds, class_names)\n",
    "\n",
    "        # Print comprehensive epoch summary\n",
    "        print_epoch_summary_table(\n",
    "            epoch, train_loss, train_accuracy, val_loss, val_accuracy,\n",
    "            val_precision, val_recall, val_f1, val_mae, val_adjacent_accuracy,\n",
    "            val_qwk, per_class_metrics, class_names, epoch_time\n",
    "        )\n",
    "\n",
    "        # Check for early stopping\n",
    "        patience = 2\n",
    "        best_val_qwk, best_val_qwk_epoch, early_stop_flag = early_stop_check(patience, best_val_qwk, best_val_qwk_epoch, val_qwk, epoch)\n",
    "\n",
    "        # Save the best model under the best_model_state parameter\n",
    "        if val_qwk == best_val_qwk:\n",
    "            best_model_state = model.state_dict()\n",
    "            print(f\"New best QWK: {val_qwk:.4f} (saved model)\")\n",
    "        else:\n",
    "            print(f\"QWK: {val_qwk:.4f} (best: {best_val_qwk:.4f} at epoch {best_val_qwk_epoch})\")\n",
    "\n",
    "        detailed_metrics = {\n",
    "            \"Epoch\": epoch,\n",
    "            \"Train Loss\": train_loss,\n",
    "            \"Train Accuracy\": train_accuracy,  # Usually not computed during training\n",
    "            \"Validation Loss\": val_loss,\n",
    "            \"Validation Accuracy\": val_accuracy,\n",
    "            \"Validation Precision\": val_precision,\n",
    "            \"Validation Recall\": val_recall,\n",
    "            \"Model Size (MB)\": model_size_mb,\n",
    "            \"Total Parameters\": total_params,\n",
    "            \"Trainable Parameters\": trainable_params,\n",
    "            \"Inference Time (ms)\": inference_time_ms,\n",
    "            \"Parameters per MB\": total_params / model_size_mb if model_size_mb > 0 else 0,\n",
    "            \"Validation F1\": val_f1,\n",
    "            \"Validation MAE\": val_mae,\n",
    "            \"Validation Adjacent Accuracy\": val_adjacent_accuracy,\n",
    "            \"Validation QWK\": val_qwk,\n",
    "            \"Learning_Rate\": optimizer.param_groups[0]['lr'],\n",
    "            \"Epoch_Time\": epoch_time  # Added epoch time to wandb logging\n",
    "        }\n",
    "\n",
    "        # Log metrics to Weights & Biases\n",
    "        wandb.log(detailed_metrics)\n",
    "\n",
    "        patience = 2\n",
    "        best_val_qwk, best_val_qwk_epoch, early_stop_flag = early_stop_check(\n",
    "            patience, best_val_qwk, best_val_qwk_epoch, val_qwk, epoch\n",
    "        )\n",
    "\n",
    "        if val_qwk == best_val_qwk:\n",
    "            best_model_state = model.state_dict()\n",
    "            print(f\"🌟 New best QWK: {val_qwk:.4f} (saved model)\")\n",
    "        else:\n",
    "            print(f\"📉 QWK: {val_qwk:.4f} (best: {best_val_qwk:.4f} at epoch {best_val_qwk_epoch})\")\n",
    "\n",
    "        if early_stop_flag:  # Checks whether the early stopping condition has been met, as indicated by the early_stop_flag\n",
    "            print(f\"\\n⏹️  EARLY STOPPING triggered at epoch {epoch}\")\n",
    "            print(f\"    No improvement in QWK for {patience} epochs\")\n",
    "            break# Exits the training loop immediately if the early stopping condition is satisfied\n",
    "\n",
    "    # Training completion summary\n",
    "    print(\"\\n\" + \"=\" * 60)\n",
    "    print(\"TRAINING COMPLETED\")\n",
    "    print(\"=\" * 60)\n",
    "    print(f\"Best QWK: {best_val_qwk:.4f} (Epoch {best_val_qwk_epoch})\")\n",
    "    print(f\"Total Epochs: {epoch}\")\n",
    "    print(f\"Model Size: {model_size_mb:.2f} MB\")\n",
    "    print(f\"Parameters: {total_params:,} total, {trainable_params:,} trainable\")\n",
    "    print(f\"Inference Time: {inference_time_ms:.2f} ms per sample\")\n",
    "    print(f\"Efficiency: {total_params/1000000:.1f}M params, {inference_time_ms:.1f}ms\")\n",
    "    if best_checkpoint_path:\n",
    "        print(f\"Best Checkpoint: {best_checkpoint_path}\")\n",
    "    print(\"=\" * 60)\n",
    "\n",
    "    return best_val_qwk, best_model_state"
   ]
  },
  {
   "cell_type": "code",
   "execution_count": 20,
   "id": "37d2126c",
   "metadata": {
    "id": "37d2126c"
   },
   "outputs": [],
   "source": [
    "def objective(trial):\n",
    "    global global_best_qwk, global_best_model_state\n",
    "\n",
    "    # new HP and wider range\n",
    "    learning_rate = trial.suggest_float(\"learning_rate\", 3e-5, 5e-4, log=True)\n",
    "    batch_size = trial.suggest_categorical(\"batch_size\", [16, 32, 64])\n",
    "    label_smoothing = trial.suggest_float(\"label_smoothing\", 0.05, 0.15)\n",
    "    epochs = trial.suggest_int(\"epochs\", 10, 15)\n",
    "    # Advanced optimization parameters\n",
    "    warmup_ratio = trial.suggest_float(\"warmup_ratio\", 0.05, 0.15)\n",
    "    weight_decay = trial.suggest_float(\"weight_decay\", 0.05, 0.15)\n",
    "    # Model architecture parameters\n",
    "    attention_dropout = trial.suggest_float(\"attention_dropout\", 0.3, 0.4)\n",
    "    hidden_dropout = trial.suggest_float(\"hidden_dropout\", 0.3, 0.4)\n",
    "\n",
    "    # Save trial configuration\n",
    "    trial_config = {\n",
    "        'trial_number': trial.number,\n",
    "        'learning_rate': learning_rate,\n",
    "        'batch_size': batch_size,\n",
    "        'label_smoothing': label_smoothing,\n",
    "        'epochs': epochs,\n",
    "        'warmup_ratio': warmup_ratio,\n",
    "        'weight_decay': weight_decay,\n",
    "        'attention_dropout': attention_dropout,\n",
    "        'hidden_dropout': hidden_dropout,\n",
    "        'model_name': model_name\n",
    "    }\n",
    "\n",
    "    max_grad_norm = 1.0\n",
    "\n",
    "    train_loader = DataLoader(\n",
    "        train_dataset,\n",
    "        batch_size=batch_size,\n",
    "        shuffle=True,\n",
    "        num_workers=2,  # Parallel data loading\n",
    "        pin_memory=True,  # Faster GPU transfer\n",
    "        persistent_workers=True  # Keep workers alive\n",
    "    )\n",
    "    val_loader = DataLoader(\n",
    "        val_dataset,\n",
    "        batch_size=batch_size,\n",
    "        shuffle=False,\n",
    "        num_workers=2,\n",
    "        pin_memory=True,\n",
    "        persistent_workers=True\n",
    "    )\n",
    "\n",
    "    model = AutoModelForSequenceClassification.from_pretrained(\n",
    "        model_name,\n",
    "        num_labels=5,\n",
    "        id2label=ordinal_id2label,\n",
    "        label2id=ordinal_label2id,\n",
    "        ignore_mismatched_sizes=True\n",
    "    )\n",
    "\n",
    "    model_size_mb = get_model_size(model)\n",
    "    total_params, trainable_params = get_model_parameters(model)\n",
    "\n",
    "    device = torch.device(\"cuda\" if torch.cuda.is_available() else \"cpu\")\n",
    "    model = model.to(device)\n",
    "\n",
    "    # dropout configutation:\n",
    "    model.config.hidden_dropout_prob = hidden_dropout\n",
    "    model.config.attention_probs_dropout_prob = attention_dropout\n",
    "\n",
    "    criterion = nn.CrossEntropyLoss(label_smoothing=label_smoothing)\n",
    "    optimizer = optim.AdamW(\n",
    "        model.parameters(),\n",
    "        lr=learning_rate,\n",
    "        weight_decay=weight_decay,\n",
    "        betas=(0.9, 0.999),  # Default values, but explicit\n",
    "        eps=1e-8,            # Better numerical stability\n",
    "        amsgrad=False        # Standard setting\n",
    "    )\n",
    "\n",
    "    scheduler = None\n",
    "    if warmup_ratio > 0:\n",
    "        total_steps = len(train_loader) * epochs\n",
    "        warmup_steps = int(total_steps * warmup_ratio)\n",
    "\n",
    "        scheduler = get_scheduler(\n",
    "            \"cosine\",  # Linear warmup then decay\n",
    "            optimizer=optimizer,\n",
    "            num_warmup_steps=warmup_steps,\n",
    "            num_training_steps=total_steps\n",
    "        )\n",
    "\n",
    "    wandb.init(project=\"sentiment-full-bert\",\n",
    "                group=model_name.split('/')[-1],\n",
    "                config={\n",
    "                    \"learning_rate\": learning_rate,\n",
    "                    \"weight_decay\": weight_decay,\n",
    "                    \"batch_size\": batch_size,\n",
    "                    \"label_smoothing\": label_smoothing,\n",
    "                    \"warmup_ratio\": warmup_ratio,\n",
    "                    \"attention_dropout\": attention_dropout,\n",
    "                    \"hidden_dropout\": hidden_dropout,\n",
    "                    \"epochs\": epochs,\n",
    "                    \"model\": model_name},\n",
    "                name=f\"{model_name.split('/')[-1]}_trial_{trial.number}\")\n",
    "\n",
    "    best_val_qwk, best_model_state = train_model_with_hyperparams(\n",
    "        model, train_loader, val_loader, optimizer, criterion, epochs, trial=trial, scheduler=scheduler, max_grad_norm = max_grad_norm, save_checkpoints=True\n",
    "    )\n",
    "\n",
    "    trial_dir = f\"./checkpoints_bert/trial_{trial.number}\"\n",
    "    os.makedirs(trial_dir, exist_ok=True)\n",
    "\n",
    "    checkpoint_path = os.path.join(trial_dir, f'final_epoch_{epochs}.ckpt')\n",
    "\n",
    "    # Prepare trial parameters\n",
    "    trial_params = {\n",
    "        'trial_number': trial.number,\n",
    "        'learning_rate': learning_rate,\n",
    "        'batch_size': batch_size,\n",
    "        'label_smoothing': label_smoothing,\n",
    "        'epochs': epochs,\n",
    "        'warmup_ratio': warmup_ratio,\n",
    "        'weight_decay': weight_decay,\n",
    "        'attention_dropout': attention_dropout,\n",
    "        'hidden_dropout': hidden_dropout,\n",
    "        'model_name': model_name\n",
    "    }\n",
    "\n",
    "    # Save checkpoint and update best model if needed\n",
    "    is_new_best = save_training_checkpoint(\n",
    "        model=model,\n",
    "        optimizer=optimizer,\n",
    "        scheduler=scheduler,\n",
    "        epoch=epochs,\n",
    "        loss=0.0,  # track final loss\n",
    "        trial_params=trial_params,\n",
    "        filepath=checkpoint_path,\n",
    "        trial_number=trial.number,\n",
    "        current_score=best_val_qwk,\n",
    "        best_score=global_best_qwk,\n",
    "        model_name=model_name\n",
    "    )\n",
    "\n",
    "    # Update global variables if new best\n",
    "    if is_new_best:\n",
    "        global_best_qwk = best_val_qwk\n",
    "        global_best_model_state = best_model_state.copy()\n",
    "\n",
    "    wandb.finish()\n",
    "    return best_val_qwk"
   ]
  },
  {
   "cell_type": "code",
   "execution_count": 21,
   "id": "00463d80",
   "metadata": {
    "colab": {
     "base_uri": "https://localhost:8080/",
     "height": 1000,
     "referenced_widgets": [
      "eaff056b30be4bb4b4b60a0d2bebef0b",
      "3d9491215c0a471f87d32083030e5ea9",
      "dece572d8755490abc564e29ffe540a1",
      "30e85081d3f14e71a5f0db06c5eb4a3d",
      "0d8463be55df462ba54cfb61aaf104e1",
      "9d9e305c443244698e8ea57f91298c6f",
      "10134821bf254743ad96bc3f02a4f9f8",
      "57e4d681649d4e498f7552e670d09d8d",
      "cd644400d9e043fb8628a3376c7f303b",
      "603b27009a234abdaa946080e4486e47",
      "8438931fee98450e9835804f4366d3cb",
      "50ae317e621743aa9b5cff652166e3a4",
      "eddbecafc0e14ac1a1c7b026237c7322",
      "5441b398a6b3406fbd61655b05dbf4d3",
      "f71be797887b4052a6b5e3dd0cde9d6d",
      "d53ddf7de05b4409ace7e43b939229c8",
      "778696b04de643af9376c7d2dded756f",
      "3fcafcce6b544d38b4262965bed2583b",
      "17a631c59eca4558a083348e87d5af81",
      "e8735be100c04ee8954b47c300c1fb58",
      "68788c83cfc94ffc92b471bb65d24f36",
      "efb2d8e2bccb4213b6eac67741341efe",
      "14be82be076d44eb8642de8837e62294",
      "acb8051f99dd478dadbf754d00b34c30",
      "b53720ca6095451e9279cabbbf64201b",
      "e2d1ff38fddd4e82a9f4290acbe5dcdc",
      "fa80ac5acb3e4a26ac385f5506d431a0",
      "9120fdcc9f064436baa24c30e9d10be3",
      "cd1d085caa4c4fc2ab9858048eeee2c6",
      "8e002d6815754ab7958915b42a73c93e",
      "ad68ef71375d4a9e92ad0d76210fab30",
      "4045cf73e69b4a3bb3b63b1e010c5607",
      "c1b1de802f37412fbba27b2b206db6a0"
     ]
    },
    "id": "00463d80",
    "outputId": "0b0f7104-2696-410a-884a-9434e33acfd0"
   },
   "outputs": [
    {
     "name": "stderr",
     "output_type": "stream",
     "text": [
      "[I 2025-08-02 05:38:37,435] A new study created in memory with name: no-name-2d02b57a-985a-4d72-8e08-febaed8b458e\n"
     ]
    },
    {
     "name": "stdout",
     "output_type": "stream",
     "text": [
      "Initialized global_best_qwk: 0.0\n",
      "Initialized global_best_model_state: None\n"
     ]
    },
    {
     "data": {
      "application/vnd.jupyter.widget-view+json": {
       "model_id": "eaff056b30be4bb4b4b60a0d2bebef0b",
       "version_major": 2,
       "version_minor": 0
      },
      "text/plain": [
       "config.json:   0%|          | 0.00/949 [00:00<?, ?B/s]"
      ]
     },
     "metadata": {},
     "output_type": "display_data"
    },
    {
     "data": {
      "application/vnd.jupyter.widget-view+json": {
       "model_id": "50ae317e621743aa9b5cff652166e3a4",
       "version_major": 2,
       "version_minor": 0
      },
      "text/plain": [
       "pytorch_model.bin:   0%|          | 0.00/540M [00:00<?, ?B/s]"
      ]
     },
     "metadata": {},
     "output_type": "display_data"
    },
    {
     "data": {
      "application/vnd.jupyter.widget-view+json": {
       "model_id": "14be82be076d44eb8642de8837e62294",
       "version_major": 2,
       "version_minor": 0
      },
      "text/plain": [
       "model.safetensors:   0%|          | 0.00/540M [00:00<?, ?B/s]"
      ]
     },
     "metadata": {},
     "output_type": "display_data"
    },
    {
     "name": "stderr",
     "output_type": "stream",
     "text": [
      "Some weights of RobertaForSequenceClassification were not initialized from the model checkpoint at finiteautomata/bertweet-base-sentiment-analysis and are newly initialized because the shapes did not match:\n",
      "- classifier.out_proj.weight: found shape torch.Size([3, 768]) in the checkpoint and torch.Size([5, 768]) in the model instantiated\n",
      "- classifier.out_proj.bias: found shape torch.Size([3]) in the checkpoint and torch.Size([5]) in the model instantiated\n",
      "You should probably TRAIN this model on a down-stream task to be able to use it for predictions and inference.\n"
     ]
    },
    {
     "data": {
      "text/html": [
       "Tracking run with wandb version 0.21.0"
      ],
      "text/plain": [
       "<IPython.core.display.HTML object>"
      ]
     },
     "metadata": {},
     "output_type": "display_data"
    },
    {
     "data": {
      "text/html": [
       "Run data is saved locally in <code>/content/deep-learning-project/wandb/run-20250802_053910-z8bh6q1y</code>"
      ],
      "text/plain": [
       "<IPython.core.display.HTML object>"
      ]
     },
     "metadata": {},
     "output_type": "display_data"
    },
    {
     "data": {
      "text/html": [
       "Syncing run <strong><a href='https://wandb.ai/mayachn3-maya-bondar/sentiment-full-bert/runs/z8bh6q1y' target=\"_blank\">bertweet-base-sentiment-analysis_trial_0</a></strong> to <a href='https://wandb.ai/mayachn3-maya-bondar/sentiment-full-bert' target=\"_blank\">Weights & Biases</a> (<a href='https://wandb.me/developer-guide' target=\"_blank\">docs</a>)<br>"
      ],
      "text/plain": [
       "<IPython.core.display.HTML object>"
      ]
     },
     "metadata": {},
     "output_type": "display_data"
    },
    {
     "data": {
      "text/html": [
       " View project at <a href='https://wandb.ai/mayachn3-maya-bondar/sentiment-full-bert' target=\"_blank\">https://wandb.ai/mayachn3-maya-bondar/sentiment-full-bert</a>"
      ],
      "text/plain": [
       "<IPython.core.display.HTML object>"
      ]
     },
     "metadata": {},
     "output_type": "display_data"
    },
    {
     "data": {
      "text/html": [
       " View run at <a href='https://wandb.ai/mayachn3-maya-bondar/sentiment-full-bert/runs/z8bh6q1y' target=\"_blank\">https://wandb.ai/mayachn3-maya-bondar/sentiment-full-bert/runs/z8bh6q1y</a>"
      ],
      "text/plain": [
       "<IPython.core.display.HTML object>"
      ]
     },
     "metadata": {},
     "output_type": "display_data"
    },
    {
     "name": "stderr",
     "output_type": "stream",
     "text": [
      "/usr/local/lib/python3.11/dist-packages/torch/nn/modules/module.py:1750: FutureWarning: `encoder_attention_mask` is deprecated and will be removed in version 4.55.0 for `RobertaSdpaSelfAttention.forward`.\n",
      "  return forward_call(*args, **kwargs)\n",
      "/tmp/ipython-input-3553570516.py:61: FutureWarning: `torch.cuda.amp.GradScaler(args...)` is deprecated. Please use `torch.amp.GradScaler('cuda', args...)` instead.\n",
      "  scaler = GradScaler()\n"
     ]
    },
    {
     "name": "stdout",
     "output_type": "stream",
     "text": [
      "============================================================\n",
      "STARTING TRAINING\n",
      "============================================================\n",
      "Training Configuration:\n",
      "   • Device: cuda\n",
      "   • Model Size: 514.62 MB\n",
      "   • Total Parameters: 134,903,813\n",
      "   • Trainable Parameters: 134,903,813\n",
      "   • Avg Inference Time: 354.42 ms\n",
      "   • Total Epochs: 12\n",
      "   • Train Batches: 391\n",
      "   • Validation Batches: 69\n",
      "   • Learning Rate: 0.00e+00\n",
      "   • Batch Size: 64\n",
      "============================================================\n",
      "\n",
      "EPOCH 1/12\n",
      "--------------------------------------------------\n"
     ]
    },
    {
     "name": "stderr",
     "output_type": "stream",
     "text": [
      "\r",
      "Training:   0%|                              | 0/391 [00:00<?, ?it/s]                               /tmp/ipython-input-3553570516.py:75: FutureWarning: `torch.cuda.amp.autocast(args...)` is deprecated. Please use `torch.amp.autocast('cuda', args...)` instead.\n",
      "  with autocast():\n",
      "Training: 100%|██████████████████████████████| 391/391 [02:13<00:00,  2.94it/s, Loss=1.0800, Acc=0.5\n"
     ]
    },
    {
     "name": "stdout",
     "output_type": "stream",
     "text": [
      "\n",
      "📋 Validation Phase...\n"
     ]
    },
    {
     "name": "stderr",
     "output_type": "stream",
     "text": [
      "\r",
      "Validation:   0%|                              | 0/69 [00:00<?, ?it/s]                              /tmp/ipython-input-3553570516.py:135: FutureWarning: `torch.cuda.amp.autocast(args...)` is deprecated. Please use `torch.amp.autocast('cuda', args...)` instead.\n",
      "  with autocast():\n",
      "Validation: 100%|██████████████████████████████| 69/69 [00:06<00:00, 10.28it/s, Loss=0.7915, Acc=0.7\n",
      "/tmp/ipython-input-3553570516.py:61: FutureWarning: `torch.cuda.amp.GradScaler(args...)` is deprecated. Please use `torch.amp.GradScaler('cuda', args...)` instead.\n",
      "  scaler = GradScaler()\n"
     ]
    },
    {
     "name": "stdout",
     "output_type": "stream",
     "text": [
      "\n",
      "EPOCH 1 DETAILED SUMMARY\n",
      "========================================================================================================================\n",
      "Epoch Time: 139.8s\n",
      "Training   - Loss: 1.080017 | Accuracy: 0.583202\n",
      "Validation - Loss: 0.791470 | Accuracy: 0.746615\n",
      "Overall    - F1: 0.754519 | Precision: 0.754489 | Recall: 0.756398\n",
      "Metrics    - MAE: 0.322470 | Adjacent Acc: 0.937113 | QWK: 0.854102\n",
      "\n",
      "────────────────────────────────────────────────────────────────────────────────────────────────────────────────────────\n",
      "PER-CLASS BREAKDOWN:\n",
      "────────────────────────────────────────────────────────────────────────────────────────────────────────────────────────\n",
      "Class                F1         Precision    Recall     Accuracy  \n",
      "─────────────────────────────────────────────────────────────────\n",
      "Extremely Negative   0.784047   0.746296     0.825820   0.825820  \n",
      "Negative             0.677095   0.692571     0.662295   0.662295  \n",
      "Neutral              0.809152   0.802879     0.815523   0.815523  \n",
      "Positive             0.710273   0.697130     0.723922   0.723922  \n",
      "Extremely Positive   0.792027   0.833566     0.754430   0.754430  \n",
      "========================================================================================================================\n",
      "New best QWK: 0.8541 (saved model)\n",
      "🌟 New best QWK: 0.8541 (saved model)\n",
      "\n",
      "EPOCH 2/12\n",
      "--------------------------------------------------\n"
     ]
    },
    {
     "name": "stderr",
     "output_type": "stream",
     "text": [
      "\r",
      "Training:   0%|                              | 0/391 [00:00<?, ?it/s]                               /tmp/ipython-input-3553570516.py:75: FutureWarning: `torch.cuda.amp.autocast(args...)` is deprecated. Please use `torch.amp.autocast('cuda', args...)` instead.\n",
      "  with autocast():\n",
      "/usr/local/lib/python3.11/dist-packages/torch/nn/modules/module.py:1750: FutureWarning: `encoder_attention_mask` is deprecated and will be removed in version 4.55.0 for `RobertaSdpaSelfAttention.forward`.\n",
      "  return forward_call(*args, **kwargs)\n",
      "Training: 100%|██████████████████████████████| 391/391 [02:14<00:00,  2.91it/s, Loss=0.6978, Acc=0.7\n"
     ]
    },
    {
     "name": "stdout",
     "output_type": "stream",
     "text": [
      "\n",
      "📋 Validation Phase...\n"
     ]
    },
    {
     "name": "stderr",
     "output_type": "stream",
     "text": [
      "Validation:   0%|                              | 0/69 [00:00<?, ?it/s]                              /tmp/ipython-input-3553570516.py:135: FutureWarning: `torch.cuda.amp.autocast(args...)` is deprecated. Please use `torch.amp.autocast('cuda', args...)` instead.\n",
      "  with autocast():\n",
      "Validation: 100%|██████████████████████████████| 69/69 [00:06<00:00, 10.46it/s, Loss=0.7377, Acc=0.7\n",
      "/tmp/ipython-input-3553570516.py:61: FutureWarning: `torch.cuda.amp.GradScaler(args...)` is deprecated. Please use `torch.amp.GradScaler('cuda', args...)` instead.\n",
      "  scaler = GradScaler()\n"
     ]
    },
    {
     "name": "stdout",
     "output_type": "stream",
     "text": [
      "\n",
      "EPOCH 2 DETAILED SUMMARY\n",
      "========================================================================================================================\n",
      "Epoch Time: 140.9s\n",
      "Training   - Loss: 0.697803 | Accuracy: 0.783912\n",
      "Validation - Loss: 0.737694 | Accuracy: 0.781042\n",
      "Overall    - F1: 0.779813 | Precision: 0.775220 | Recall: 0.801182\n",
      "Metrics    - MAE: 0.271058 | Adjacent Acc: 0.954326 | QWK: 0.889512\n",
      "\n",
      "────────────────────────────────────────────────────────────────────────────────────────────────────────────────────────\n",
      "PER-CLASS BREAKDOWN:\n",
      "────────────────────────────────────────────────────────────────────────────────────────────────────────────────────────\n",
      "Class                F1         Precision    Recall     Accuracy  \n",
      "─────────────────────────────────────────────────────────────────\n",
      "Extremely Negative   0.758506   0.637378     0.936475   0.936475  \n",
      "Negative             0.674293   0.750670     0.612022   0.612022  \n",
      "Neutral              0.848019   0.894015     0.806524   0.806524  \n",
      "Positive             0.776518   0.802510     0.752157   0.752157  \n",
      "Extremely Positive   0.841731   0.791527     0.898734   0.898734  \n",
      "========================================================================================================================\n",
      "New best QWK: 0.8895 (saved model)\n",
      "🌟 New best QWK: 0.8895 (saved model)\n",
      "\n",
      "EPOCH 3/12\n",
      "--------------------------------------------------\n"
     ]
    },
    {
     "name": "stderr",
     "output_type": "stream",
     "text": [
      "\r",
      "Training:   0%|                              | 0/391 [00:00<?, ?it/s]                               /tmp/ipython-input-3553570516.py:75: FutureWarning: `torch.cuda.amp.autocast(args...)` is deprecated. Please use `torch.amp.autocast('cuda', args...)` instead.\n",
      "  with autocast():\n",
      "/usr/local/lib/python3.11/dist-packages/torch/nn/modules/module.py:1750: FutureWarning: `encoder_attention_mask` is deprecated and will be removed in version 4.55.0 for `RobertaSdpaSelfAttention.forward`.\n",
      "  return forward_call(*args, **kwargs)\n",
      "Training: 100%|██████████████████████████████| 391/391 [02:14<00:00,  2.91it/s, Loss=0.5794, Acc=0.8\n"
     ]
    },
    {
     "name": "stdout",
     "output_type": "stream",
     "text": [
      "\n",
      "📋 Validation Phase...\n"
     ]
    },
    {
     "name": "stderr",
     "output_type": "stream",
     "text": [
      "Validation:   0%|                              | 0/69 [00:00<?, ?it/s]                              /tmp/ipython-input-3553570516.py:135: FutureWarning: `torch.cuda.amp.autocast(args...)` is deprecated. Please use `torch.amp.autocast('cuda', args...)` instead.\n",
      "  with autocast():\n",
      "Validation: 100%|██████████████████████████████| 69/69 [00:06<00:00, 10.42it/s, Loss=0.6966, Acc=0.8\n",
      "/tmp/ipython-input-3553570516.py:61: FutureWarning: `torch.cuda.amp.GradScaler(args...)` is deprecated. Please use `torch.amp.GradScaler('cuda', args...)` instead.\n",
      "  scaler = GradScaler()\n"
     ]
    },
    {
     "name": "stdout",
     "output_type": "stream",
     "text": [
      "\n",
      "EPOCH 3 DETAILED SUMMARY\n",
      "========================================================================================================================\n",
      "Epoch Time: 141.2s\n",
      "Training   - Loss: 0.579384 | Accuracy: 0.850158\n",
      "Validation - Loss: 0.696564 | Accuracy: 0.809272\n",
      "Overall    - F1: 0.812476 | Precision: 0.807995 | Recall: 0.825171\n",
      "Metrics    - MAE: 0.226073 | Adjacent Acc: 0.967179 | QWK: 0.912086\n",
      "\n",
      "────────────────────────────────────────────────────────────────────────────────────────────────────────────────────────\n",
      "PER-CLASS BREAKDOWN:\n",
      "────────────────────────────────────────────────────────────────────────────────────────────────────────────────────────\n",
      "Class                F1         Precision    Recall     Accuracy  \n",
      "─────────────────────────────────────────────────────────────────\n",
      "Extremely Negative   0.820416   0.761404     0.889344   0.889344  \n",
      "Negative             0.764302   0.801921     0.730055   0.730055  \n",
      "Neutral              0.855286   0.900498     0.814398   0.814398  \n",
      "Positive             0.782466   0.819039     0.749020   0.749020  \n",
      "Extremely Positive   0.839910   0.757114     0.943038   0.943038  \n",
      "========================================================================================================================\n",
      "New best QWK: 0.9121 (saved model)\n",
      "🌟 New best QWK: 0.9121 (saved model)\n",
      "\n",
      "EPOCH 4/12\n",
      "--------------------------------------------------\n"
     ]
    },
    {
     "name": "stderr",
     "output_type": "stream",
     "text": [
      "\r",
      "Training:   0%|                              | 0/391 [00:00<?, ?it/s]                               /tmp/ipython-input-3553570516.py:75: FutureWarning: `torch.cuda.amp.autocast(args...)` is deprecated. Please use `torch.amp.autocast('cuda', args...)` instead.\n",
      "  with autocast():\n",
      "/usr/local/lib/python3.11/dist-packages/torch/nn/modules/module.py:1750: FutureWarning: `encoder_attention_mask` is deprecated and will be removed in version 4.55.0 for `RobertaSdpaSelfAttention.forward`.\n",
      "  return forward_call(*args, **kwargs)\n",
      "Training: 100%|██████████████████████████████| 391/391 [02:14<00:00,  2.91it/s, Loss=0.4739, Acc=0.8\n"
     ]
    },
    {
     "name": "stdout",
     "output_type": "stream",
     "text": [
      "\n",
      "📋 Validation Phase...\n"
     ]
    },
    {
     "name": "stderr",
     "output_type": "stream",
     "text": [
      "Validation:   0%|                              | 0/69 [00:00<?, ?it/s]                              /tmp/ipython-input-3553570516.py:135: FutureWarning: `torch.cuda.amp.autocast(args...)` is deprecated. Please use `torch.amp.autocast('cuda', args...)` instead.\n",
      "  with autocast():\n",
      "Validation: 100%|██████████████████████████████| 69/69 [00:06<00:00, 10.42it/s, Loss=0.6444, Acc=0.8\n",
      "/tmp/ipython-input-3553570516.py:61: FutureWarning: `torch.cuda.amp.GradScaler(args...)` is deprecated. Please use `torch.amp.GradScaler('cuda', args...)` instead.\n",
      "  scaler = GradScaler()\n"
     ]
    },
    {
     "name": "stdout",
     "output_type": "stream",
     "text": [
      "\n",
      "EPOCH 4 DETAILED SUMMARY\n",
      "========================================================================================================================\n",
      "Epoch Time: 141.0s\n",
      "Training   - Loss: 0.473895 | Accuracy: 0.892350\n",
      "Validation - Loss: 0.644364 | Accuracy: 0.825109\n",
      "Overall    - F1: 0.824074 | Precision: 0.816792 | Recall: 0.837423\n",
      "Metrics    - MAE: 0.205187 | Adjacent Acc: 0.971999 | QWK: 0.920266\n",
      "\n",
      "────────────────────────────────────────────────────────────────────────────────────────────────────────────────────────\n",
      "PER-CLASS BREAKDOWN:\n",
      "────────────────────────────────────────────────────────────────────────────────────────────────────────────────────────\n",
      "Class                F1         Precision    Recall     Accuracy  \n",
      "─────────────────────────────────────────────────────────────────\n",
      "Extremely Negative   0.806159   0.722403     0.911885   0.911885  \n",
      "Negative             0.750723   0.797297     0.709290   0.709290  \n",
      "Neutral              0.865352   0.866817     0.863892   0.863892  \n",
      "Positive             0.825051   0.850833     0.800784   0.800784  \n",
      "Extremely Positive   0.873084   0.846611     0.901266   0.901266  \n",
      "========================================================================================================================\n",
      "New best QWK: 0.9203 (saved model)\n",
      "🌟 New best QWK: 0.9203 (saved model)\n",
      "\n",
      "EPOCH 5/12\n",
      "--------------------------------------------------\n"
     ]
    },
    {
     "name": "stderr",
     "output_type": "stream",
     "text": [
      "\r",
      "Training:   0%|                              | 0/391 [00:00<?, ?it/s]                               /tmp/ipython-input-3553570516.py:75: FutureWarning: `torch.cuda.amp.autocast(args...)` is deprecated. Please use `torch.amp.autocast('cuda', args...)` instead.\n",
      "  with autocast():\n",
      "/usr/local/lib/python3.11/dist-packages/torch/nn/modules/module.py:1750: FutureWarning: `encoder_attention_mask` is deprecated and will be removed in version 4.55.0 for `RobertaSdpaSelfAttention.forward`.\n",
      "  return forward_call(*args, **kwargs)\n",
      "Training: 100%|██████████████████████████████| 391/391 [02:14<00:00,  2.91it/s, Loss=0.4156, Acc=0.9\n"
     ]
    },
    {
     "name": "stdout",
     "output_type": "stream",
     "text": [
      "\n",
      "📋 Validation Phase...\n"
     ]
    },
    {
     "name": "stderr",
     "output_type": "stream",
     "text": [
      "Validation:   0%|                              | 0/69 [00:00<?, ?it/s]                              /tmp/ipython-input-3553570516.py:135: FutureWarning: `torch.cuda.amp.autocast(args...)` is deprecated. Please use `torch.amp.autocast('cuda', args...)` instead.\n",
      "  with autocast():\n",
      "Validation: 100%|██████████████████████████████| 69/69 [00:06<00:00, 10.48it/s, Loss=0.6388, Acc=0.8\n",
      "/tmp/ipython-input-3553570516.py:61: FutureWarning: `torch.cuda.amp.GradScaler(args...)` is deprecated. Please use `torch.amp.GradScaler('cuda', args...)` instead.\n",
      "  scaler = GradScaler()\n"
     ]
    },
    {
     "name": "stdout",
     "output_type": "stream",
     "text": [
      "\n",
      "EPOCH 5 DETAILED SUMMARY\n",
      "========================================================================================================================\n",
      "Epoch Time: 140.7s\n",
      "Training   - Loss: 0.415649 | Accuracy: 0.921136\n",
      "Validation - Loss: 0.638768 | Accuracy: 0.839798\n",
      "Overall    - F1: 0.844121 | Precision: 0.841761 | Recall: 0.848471\n",
      "Metrics    - MAE: 0.193252 | Adjacent Acc: 0.969245 | QWK: 0.920805\n",
      "\n",
      "────────────────────────────────────────────────────────────────────────────────────────────────────────────────────────\n",
      "PER-CLASS BREAKDOWN:\n",
      "────────────────────────────────────────────────────────────────────────────────────────────────────────────────────────\n",
      "Class                F1         Precision    Recall     Accuracy  \n",
      "─────────────────────────────────────────────────────────────────\n",
      "Extremely Negative   0.858291   0.842209     0.875000   0.875000  \n",
      "Negative             0.802632   0.805281     0.800000   0.800000  \n",
      "Neutral              0.874489   0.908981     0.842520   0.842520  \n",
      "Positive             0.816147   0.832111     0.800784   0.800784  \n",
      "Extremely Positive   0.869048   0.820225     0.924051   0.924051  \n",
      "========================================================================================================================\n",
      "New best QWK: 0.9208 (saved model)\n",
      "🌟 New best QWK: 0.9208 (saved model)\n",
      "\n",
      "EPOCH 6/12\n",
      "--------------------------------------------------\n"
     ]
    },
    {
     "name": "stderr",
     "output_type": "stream",
     "text": [
      "\r",
      "Training:   0%|                              | 0/391 [00:00<?, ?it/s]                               /tmp/ipython-input-3553570516.py:75: FutureWarning: `torch.cuda.amp.autocast(args...)` is deprecated. Please use `torch.amp.autocast('cuda', args...)` instead.\n",
      "  with autocast():\n",
      "/usr/local/lib/python3.11/dist-packages/torch/nn/modules/module.py:1750: FutureWarning: `encoder_attention_mask` is deprecated and will be removed in version 4.55.0 for `RobertaSdpaSelfAttention.forward`.\n",
      "  return forward_call(*args, **kwargs)\n",
      "Training: 100%|██████████████████████████████| 391/391 [02:14<00:00,  2.92it/s, Loss=0.3845, Acc=0.9\n"
     ]
    },
    {
     "name": "stdout",
     "output_type": "stream",
     "text": [
      "\n",
      "📋 Validation Phase...\n"
     ]
    },
    {
     "name": "stderr",
     "output_type": "stream",
     "text": [
      "Validation:   0%|                              | 0/69 [00:00<?, ?it/s]                              /tmp/ipython-input-3553570516.py:135: FutureWarning: `torch.cuda.amp.autocast(args...)` is deprecated. Please use `torch.amp.autocast('cuda', args...)` instead.\n",
      "  with autocast():\n",
      "Validation: 100%|██████████████████████████████| 69/69 [00:06<00:00, 10.51it/s, Loss=0.7119, Acc=0.8\n",
      "/tmp/ipython-input-3553570516.py:61: FutureWarning: `torch.cuda.amp.GradScaler(args...)` is deprecated. Please use `torch.amp.GradScaler('cuda', args...)` instead.\n",
      "  scaler = GradScaler()\n"
     ]
    },
    {
     "name": "stdout",
     "output_type": "stream",
     "text": [
      "\n",
      "EPOCH 6 DETAILED SUMMARY\n",
      "========================================================================================================================\n",
      "Epoch Time: 140.7s\n",
      "Training   - Loss: 0.384468 | Accuracy: 0.932965\n",
      "Validation - Loss: 0.711866 | Accuracy: 0.835667\n",
      "Overall    - F1: 0.837643 | Precision: 0.832128 | Recall: 0.844872\n",
      "Metrics    - MAE: 0.193482 | Adjacent Acc: 0.972917 | QWK: 0.922890\n",
      "\n",
      "────────────────────────────────────────────────────────────────────────────────────────────────────────────────────────\n",
      "PER-CLASS BREAKDOWN:\n",
      "────────────────────────────────────────────────────────────────────────────────────────────────────────────────────────\n",
      "Class                F1         Precision    Recall     Accuracy  \n",
      "─────────────────────────────────────────────────────────────────\n",
      "Extremely Negative   0.839388   0.786738     0.899590   0.899590  \n",
      "Negative             0.786579   0.791805     0.781421   0.781421  \n",
      "Neutral              0.858586   0.856663     0.860517   0.860517  \n",
      "Positive             0.828583   0.848684     0.809412   0.809412  \n",
      "Extremely Positive   0.875079   0.876747     0.873418   0.873418  \n",
      "========================================================================================================================\n",
      "New best QWK: 0.9229 (saved model)\n",
      "🌟 New best QWK: 0.9229 (saved model)\n",
      "\n",
      "EPOCH 7/12\n",
      "--------------------------------------------------\n"
     ]
    },
    {
     "name": "stderr",
     "output_type": "stream",
     "text": [
      "\r",
      "Training:   0%|                              | 0/391 [00:00<?, ?it/s]                               /tmp/ipython-input-3553570516.py:75: FutureWarning: `torch.cuda.amp.autocast(args...)` is deprecated. Please use `torch.amp.autocast('cuda', args...)` instead.\n",
      "  with autocast():\n",
      "/usr/local/lib/python3.11/dist-packages/torch/nn/modules/module.py:1750: FutureWarning: `encoder_attention_mask` is deprecated and will be removed in version 4.55.0 for `RobertaSdpaSelfAttention.forward`.\n",
      "  return forward_call(*args, **kwargs)\n",
      "Training: 100%|██████████████████████████████| 391/391 [02:14<00:00,  2.92it/s, Loss=0.3310, Acc=0.9\n"
     ]
    },
    {
     "name": "stdout",
     "output_type": "stream",
     "text": [
      "\n",
      "📋 Validation Phase...\n"
     ]
    },
    {
     "name": "stderr",
     "output_type": "stream",
     "text": [
      "Validation:   0%|                              | 0/69 [00:00<?, ?it/s]                              /tmp/ipython-input-3553570516.py:135: FutureWarning: `torch.cuda.amp.autocast(args...)` is deprecated. Please use `torch.amp.autocast('cuda', args...)` instead.\n",
      "  with autocast():\n",
      "Validation: 100%|██████████████████████████████| 69/69 [00:06<00:00, 10.51it/s, Loss=0.7014, Acc=0.8\n",
      "/tmp/ipython-input-3553570516.py:61: FutureWarning: `torch.cuda.amp.GradScaler(args...)` is deprecated. Please use `torch.amp.GradScaler('cuda', args...)` instead.\n",
      "  scaler = GradScaler()\n"
     ]
    },
    {
     "name": "stdout",
     "output_type": "stream",
     "text": [
      "\n",
      "EPOCH 7 DETAILED SUMMARY\n",
      "========================================================================================================================\n",
      "Epoch Time: 140.6s\n",
      "Training   - Loss: 0.331049 | Accuracy: 0.957808\n",
      "Validation - Loss: 0.701445 | Accuracy: 0.841634\n",
      "Overall    - F1: 0.845145 | Precision: 0.840710 | Recall: 0.851087\n",
      "Metrics    - MAE: 0.178793 | Adjacent Acc: 0.980721 | QWK: 0.932400\n",
      "\n",
      "────────────────────────────────────────────────────────────────────────────────────────────────────────────────────────\n",
      "PER-CLASS BREAKDOWN:\n",
      "────────────────────────────────────────────────────────────────────────────────────────────────────────────────────────\n",
      "Class                F1         Precision    Recall     Accuracy  \n",
      "─────────────────────────────────────────────────────────────────\n",
      "Extremely Negative   0.859100   0.822097     0.899590   0.899590  \n",
      "Negative             0.812325   0.833333     0.792350   0.792350  \n",
      "Neutral              0.843478   0.815983     0.872891   0.872891  \n",
      "Positive             0.827836   0.849711     0.807059   0.807059  \n",
      "Extremely Positive   0.882985   0.882427     0.883544   0.883544  \n",
      "========================================================================================================================\n",
      "New best QWK: 0.9324 (saved model)\n",
      "🌟 New best QWK: 0.9324 (saved model)\n",
      "\n",
      "EPOCH 8/12\n",
      "--------------------------------------------------\n"
     ]
    },
    {
     "name": "stderr",
     "output_type": "stream",
     "text": [
      "\r",
      "Training:   0%|                              | 0/391 [00:00<?, ?it/s]                               /tmp/ipython-input-3553570516.py:75: FutureWarning: `torch.cuda.amp.autocast(args...)` is deprecated. Please use `torch.amp.autocast('cuda', args...)` instead.\n",
      "  with autocast():\n",
      "/usr/local/lib/python3.11/dist-packages/torch/nn/modules/module.py:1750: FutureWarning: `encoder_attention_mask` is deprecated and will be removed in version 4.55.0 for `RobertaSdpaSelfAttention.forward`.\n",
      "  return forward_call(*args, **kwargs)\n",
      "Training: 100%|██████████████████████████████| 391/391 [02:14<00:00,  2.91it/s, Loss=0.3107, Acc=0.9\n"
     ]
    },
    {
     "name": "stdout",
     "output_type": "stream",
     "text": [
      "\n",
      "📋 Validation Phase...\n"
     ]
    },
    {
     "name": "stderr",
     "output_type": "stream",
     "text": [
      "Validation:   0%|                              | 0/69 [00:00<?, ?it/s]                              /tmp/ipython-input-3553570516.py:135: FutureWarning: `torch.cuda.amp.autocast(args...)` is deprecated. Please use `torch.amp.autocast('cuda', args...)` instead.\n",
      "  with autocast():\n",
      "Validation: 100%|██████████████████████████████| 69/69 [00:06<00:00, 10.45it/s, Loss=0.7733, Acc=0.8\n",
      "/tmp/ipython-input-3553570516.py:61: FutureWarning: `torch.cuda.amp.GradScaler(args...)` is deprecated. Please use `torch.amp.GradScaler('cuda', args...)` instead.\n",
      "  scaler = GradScaler()\n"
     ]
    },
    {
     "name": "stdout",
     "output_type": "stream",
     "text": [
      "\n",
      "EPOCH 8 DETAILED SUMMARY\n",
      "========================================================================================================================\n",
      "Epoch Time: 140.9s\n",
      "Training   - Loss: 0.310714 | Accuracy: 0.964905\n",
      "Validation - Loss: 0.773306 | Accuracy: 0.839569\n",
      "Overall    - F1: 0.841276 | Precision: 0.840717 | Recall: 0.844471\n",
      "Metrics    - MAE: 0.182924 | Adjacent Acc: 0.978885 | QWK: 0.929845\n",
      "\n",
      "────────────────────────────────────────────────────────────────────────────────────────────────────────────────────────\n",
      "PER-CLASS BREAKDOWN:\n",
      "────────────────────────────────────────────────────────────────────────────────────────────────────────────────────────\n",
      "Class                F1         Precision    Recall     Accuracy  \n",
      "─────────────────────────────────────────────────────────────────\n",
      "Extremely Negative   0.850976   0.853608     0.848361   0.848361  \n",
      "Negative             0.796296   0.846248     0.751913   0.751913  \n",
      "Neutral              0.849088   0.834783     0.863892   0.863892  \n",
      "Positive             0.832870   0.843248     0.822745   0.822745  \n",
      "Extremely Positive   0.877151   0.825698     0.935443   0.935443  \n",
      "========================================================================================================================\n",
      "QWK: 0.9298 (best: 0.9324 at epoch 7)\n",
      "📉 QWK: 0.9298 (best: 0.9324 at epoch 7)\n",
      "\n",
      "EPOCH 9/12\n",
      "--------------------------------------------------\n"
     ]
    },
    {
     "name": "stderr",
     "output_type": "stream",
     "text": [
      "\r",
      "Training:   0%|                              | 0/391 [00:00<?, ?it/s]                               /tmp/ipython-input-3553570516.py:75: FutureWarning: `torch.cuda.amp.autocast(args...)` is deprecated. Please use `torch.amp.autocast('cuda', args...)` instead.\n",
      "  with autocast():\n",
      "/usr/local/lib/python3.11/dist-packages/torch/nn/modules/module.py:1750: FutureWarning: `encoder_attention_mask` is deprecated and will be removed in version 4.55.0 for `RobertaSdpaSelfAttention.forward`.\n",
      "  return forward_call(*args, **kwargs)\n",
      "Training: 100%|██████████████████████████████| 391/391 [02:14<00:00,  2.91it/s, Loss=0.2802, Acc=0.9\n"
     ]
    },
    {
     "name": "stdout",
     "output_type": "stream",
     "text": [
      "\n",
      "📋 Validation Phase...\n"
     ]
    },
    {
     "name": "stderr",
     "output_type": "stream",
     "text": [
      "Validation:   0%|                              | 0/69 [00:00<?, ?it/s]                              /tmp/ipython-input-3553570516.py:135: FutureWarning: `torch.cuda.amp.autocast(args...)` is deprecated. Please use `torch.amp.autocast('cuda', args...)` instead.\n",
      "  with autocast():\n",
      "Validation: 100%|██████████████████████████████| 69/69 [00:06<00:00, 10.31it/s, Loss=0.7856, Acc=0.8\n",
      "/tmp/ipython-input-3553570516.py:61: FutureWarning: `torch.cuda.amp.GradScaler(args...)` is deprecated. Please use `torch.amp.GradScaler('cuda', args...)` instead.\n",
      "  scaler = GradScaler()\n"
     ]
    },
    {
     "name": "stdout",
     "output_type": "stream",
     "text": [
      "\n",
      "EPOCH 9 DETAILED SUMMARY\n",
      "========================================================================================================================\n",
      "Epoch Time: 140.9s\n",
      "Training   - Loss: 0.280180 | Accuracy: 0.980284\n",
      "Validation - Loss: 0.785629 | Accuracy: 0.834978\n",
      "Overall    - F1: 0.839315 | Precision: 0.835864 | Recall: 0.849722\n",
      "Metrics    - MAE: 0.181317 | Adjacent Acc: 0.985081 | QWK: 0.934467\n",
      "\n",
      "────────────────────────────────────────────────────────────────────────────────────────────────────────────────────────\n",
      "PER-CLASS BREAKDOWN:\n",
      "────────────────────────────────────────────────────────────────────────────────────────────────────────────────────────\n",
      "Class                F1         Precision    Recall     Accuracy  \n",
      "─────────────────────────────────────────────────────────────────\n",
      "Extremely Negative   0.867063   0.840385     0.895492   0.895492  \n",
      "Negative             0.811409   0.867995     0.761749   0.761749  \n",
      "Neutral              0.833160   0.776482     0.898763   0.898763  \n",
      "Positive             0.814659   0.879891     0.758431   0.758431  \n",
      "Extremely Positive   0.870283   0.814570     0.934177   0.934177  \n",
      "========================================================================================================================\n",
      "New best QWK: 0.9345 (saved model)\n",
      "🌟 New best QWK: 0.9345 (saved model)\n",
      "\n",
      "EPOCH 10/12\n",
      "--------------------------------------------------\n"
     ]
    },
    {
     "name": "stderr",
     "output_type": "stream",
     "text": [
      "\r",
      "Training:   0%|                              | 0/391 [00:00<?, ?it/s]                               /tmp/ipython-input-3553570516.py:75: FutureWarning: `torch.cuda.amp.autocast(args...)` is deprecated. Please use `torch.amp.autocast('cuda', args...)` instead.\n",
      "  with autocast():\n",
      "/usr/local/lib/python3.11/dist-packages/torch/nn/modules/module.py:1750: FutureWarning: `encoder_attention_mask` is deprecated and will be removed in version 4.55.0 for `RobertaSdpaSelfAttention.forward`.\n",
      "  return forward_call(*args, **kwargs)\n",
      "Training: 100%|██████████████████████████████| 391/391 [02:14<00:00,  2.91it/s, Loss=0.2524, Acc=0.9\n"
     ]
    },
    {
     "name": "stdout",
     "output_type": "stream",
     "text": [
      "\n",
      "📋 Validation Phase...\n"
     ]
    },
    {
     "name": "stderr",
     "output_type": "stream",
     "text": [
      "Validation:   0%|                              | 0/69 [00:00<?, ?it/s]                              /tmp/ipython-input-3553570516.py:135: FutureWarning: `torch.cuda.amp.autocast(args...)` is deprecated. Please use `torch.amp.autocast('cuda', args...)` instead.\n",
      "  with autocast():\n",
      "Validation: 100%|██████████████████████████████| 69/69 [00:06<00:00, 10.32it/s, Loss=0.7864, Acc=0.8\n",
      "/tmp/ipython-input-3553570516.py:61: FutureWarning: `torch.cuda.amp.GradScaler(args...)` is deprecated. Please use `torch.amp.GradScaler('cuda', args...)` instead.\n",
      "  scaler = GradScaler()\n"
     ]
    },
    {
     "name": "stdout",
     "output_type": "stream",
     "text": [
      "\n",
      "EPOCH 10 DETAILED SUMMARY\n",
      "========================================================================================================================\n",
      "Epoch Time: 141.1s\n",
      "Training   - Loss: 0.252436 | Accuracy: 0.990142\n",
      "Validation - Loss: 0.786435 | Accuracy: 0.843929\n",
      "Overall    - F1: 0.846448 | Precision: 0.842954 | Recall: 0.853926\n",
      "Metrics    - MAE: 0.172596 | Adjacent Acc: 0.984622 | QWK: 0.936593\n",
      "\n",
      "────────────────────────────────────────────────────────────────────────────────────────────────────────────────────────\n",
      "PER-CLASS BREAKDOWN:\n",
      "────────────────────────────────────────────────────────────────────────────────────────────────────────────────────────\n",
      "Class                F1         Precision    Recall     Accuracy  \n",
      "─────────────────────────────────────────────────────────────────\n",
      "Extremely Negative   0.860488   0.821229     0.903689   0.903689  \n",
      "Negative             0.805361   0.862672     0.755191   0.755191  \n",
      "Neutral              0.837111   0.787698     0.893138   0.893138  \n",
      "Positive             0.838866   0.866946     0.812549   0.812549  \n",
      "Extremely Positive   0.890411   0.876225     0.905063   0.905063  \n",
      "========================================================================================================================\n",
      "New best QWK: 0.9366 (saved model)\n",
      "🌟 New best QWK: 0.9366 (saved model)\n",
      "\n",
      "EPOCH 11/12\n",
      "--------------------------------------------------\n"
     ]
    },
    {
     "name": "stderr",
     "output_type": "stream",
     "text": [
      "\r",
      "Training:   0%|                              | 0/391 [00:00<?, ?it/s]                               /tmp/ipython-input-3553570516.py:75: FutureWarning: `torch.cuda.amp.autocast(args...)` is deprecated. Please use `torch.amp.autocast('cuda', args...)` instead.\n",
      "  with autocast():\n",
      "/usr/local/lib/python3.11/dist-packages/torch/nn/modules/module.py:1750: FutureWarning: `encoder_attention_mask` is deprecated and will be removed in version 4.55.0 for `RobertaSdpaSelfAttention.forward`.\n",
      "  return forward_call(*args, **kwargs)\n",
      "Training: 100%|██████████████████████████████| 391/391 [02:14<00:00,  2.91it/s, Loss=0.2497, Acc=0.9\n"
     ]
    },
    {
     "name": "stdout",
     "output_type": "stream",
     "text": [
      "\n",
      "📋 Validation Phase...\n"
     ]
    },
    {
     "name": "stderr",
     "output_type": "stream",
     "text": [
      "Validation:   0%|                              | 0/69 [00:00<?, ?it/s]                              /tmp/ipython-input-3553570516.py:135: FutureWarning: `torch.cuda.amp.autocast(args...)` is deprecated. Please use `torch.amp.autocast('cuda', args...)` instead.\n",
      "  with autocast():\n",
      "Validation: 100%|██████████████████████████████| 69/69 [00:06<00:00, 10.44it/s, Loss=0.8095, Acc=0.8\n",
      "/tmp/ipython-input-3553570516.py:61: FutureWarning: `torch.cuda.amp.GradScaler(args...)` is deprecated. Please use `torch.amp.GradScaler('cuda', args...)` instead.\n",
      "  scaler = GradScaler()\n"
     ]
    },
    {
     "name": "stdout",
     "output_type": "stream",
     "text": [
      "\n",
      "EPOCH 11 DETAILED SUMMARY\n",
      "========================================================================================================================\n",
      "Epoch Time: 140.8s\n",
      "Training   - Loss: 0.249711 | Accuracy: 0.991719\n",
      "Validation - Loss: 0.809459 | Accuracy: 0.841864\n",
      "Overall    - F1: 0.844493 | Precision: 0.842067 | Recall: 0.851216\n",
      "Metrics    - MAE: 0.174202 | Adjacent Acc: 0.985311 | QWK: 0.935911\n",
      "\n",
      "────────────────────────────────────────────────────────────────────────────────────────────────────────────────────────\n",
      "PER-CLASS BREAKDOWN:\n",
      "────────────────────────────────────────────────────────────────────────────────────────────────────────────────────────\n",
      "Class                F1         Precision    Recall     Accuracy  \n",
      "─────────────────────────────────────────────────────────────────\n",
      "Extremely Negative   0.862240   0.834933     0.891393   0.891393  \n",
      "Negative             0.801638   0.862720     0.748634   0.748634  \n",
      "Neutral              0.833682   0.779081     0.896513   0.896513  \n",
      "Positive             0.838343   0.869419     0.809412   0.809412  \n",
      "Extremely Positive   0.886560   0.864183     0.910127   0.910127  \n",
      "========================================================================================================================\n",
      "QWK: 0.9359 (best: 0.9366 at epoch 10)\n",
      "📉 QWK: 0.9359 (best: 0.9366 at epoch 10)\n",
      "\n",
      "EPOCH 12/12\n",
      "--------------------------------------------------\n"
     ]
    },
    {
     "name": "stderr",
     "output_type": "stream",
     "text": [
      "\r",
      "Training:   0%|                              | 0/391 [00:00<?, ?it/s]                               /tmp/ipython-input-3553570516.py:75: FutureWarning: `torch.cuda.amp.autocast(args...)` is deprecated. Please use `torch.amp.autocast('cuda', args...)` instead.\n",
      "  with autocast():\n",
      "/usr/local/lib/python3.11/dist-packages/torch/nn/modules/module.py:1750: FutureWarning: `encoder_attention_mask` is deprecated and will be removed in version 4.55.0 for `RobertaSdpaSelfAttention.forward`.\n",
      "  return forward_call(*args, **kwargs)\n",
      "Training: 100%|██████████████████████████████| 391/391 [02:14<00:00,  2.91it/s, Loss=0.2368, Acc=0.9\n"
     ]
    },
    {
     "name": "stdout",
     "output_type": "stream",
     "text": [
      "\n",
      "📋 Validation Phase...\n"
     ]
    },
    {
     "name": "stderr",
     "output_type": "stream",
     "text": [
      "Validation:   0%|                              | 0/69 [00:00<?, ?it/s]                              /tmp/ipython-input-3553570516.py:135: FutureWarning: `torch.cuda.amp.autocast(args...)` is deprecated. Please use `torch.amp.autocast('cuda', args...)` instead.\n",
      "  with autocast():\n",
      "Validation: 100%|██████████████████████████████| 69/69 [00:06<00:00, 10.50it/s, Loss=0.8162, Acc=0.8\n"
     ]
    },
    {
     "name": "stdout",
     "output_type": "stream",
     "text": [
      "\n",
      "EPOCH 12 DETAILED SUMMARY\n",
      "========================================================================================================================\n",
      "Epoch Time: 140.8s\n",
      "Training   - Loss: 0.236838 | Accuracy: 0.996057\n",
      "Validation - Loss: 0.816239 | Accuracy: 0.840716\n",
      "Overall    - F1: 0.843123 | Precision: 0.840146 | Recall: 0.850426\n",
      "Metrics    - MAE: 0.175809 | Adjacent Acc: 0.984852 | QWK: 0.935369\n",
      "\n",
      "────────────────────────────────────────────────────────────────────────────────────────────────────────────────────────\n",
      "PER-CLASS BREAKDOWN:\n",
      "────────────────────────────────────────────────────────────────────────────────────────────────────────────────────────\n",
      "Class                F1         Precision    Recall     Accuracy  \n",
      "─────────────────────────────────────────────────────────────────\n",
      "Extremely Negative   0.860534   0.831740     0.891393   0.891393  \n",
      "Negative             0.800468   0.861461     0.747541   0.747541  \n",
      "Neutral              0.836402   0.785573     0.894263   0.894263  \n",
      "Positive             0.836793   0.869712     0.806275   0.806275  \n",
      "Extremely Positive   0.881418   0.852246     0.912658   0.912658  \n",
      "========================================================================================================================\n",
      "QWK: 0.9354 (best: 0.9366 at epoch 10)\n",
      "📉 QWK: 0.9354 (best: 0.9366 at epoch 10)\n",
      "\n",
      "============================================================\n",
      "TRAINING COMPLETED\n",
      "============================================================\n",
      "Best QWK: 0.9366 (Epoch 10)\n",
      "Total Epochs: 12\n",
      "Model Size: 514.62 MB\n",
      "Parameters: 134,903,813 total, 134,903,813 trainable\n",
      "Inference Time: 354.42 ms per sample\n",
      "Efficiency: 134.9M params, 354.4ms\n",
      "============================================================\n",
      "✅ Trial checkpoint saved: ./checkpoints_bert/trial_0/final_epoch_12.ckpt\n",
      "✅ Model files saved in: ./checkpoints_bert/trial_0\n",
      "🏆 New best model saved! Score: 0.9366 (Trial 0)\n",
      "🏆 Best model files saved in: ./best_bert_model_so_far\n"
     ]
    },
    {
     "data": {
      "text/html": [],
      "text/plain": [
       "<IPython.core.display.HTML object>"
      ]
     },
     "metadata": {},
     "output_type": "display_data"
    },
    {
     "data": {
      "text/html": [
       "<br>    <style><br>        .wandb-row {<br>            display: flex;<br>            flex-direction: row;<br>            flex-wrap: wrap;<br>            justify-content: flex-start;<br>            width: 100%;<br>        }<br>        .wandb-col {<br>            display: flex;<br>            flex-direction: column;<br>            flex-basis: 100%;<br>            flex: 1;<br>            padding: 10px;<br>        }<br>    </style><br><div class=\"wandb-row\"><div class=\"wandb-col\"><h3>Run history:</h3><br/><table class=\"wandb\"><tr><td>Epoch</td><td>▁▂▂▃▄▄▅▅▆▇▇█</td></tr><tr><td>Epoch_Time</td><td>▁▆█▇▆▅▅▆▆▇▆▆</td></tr><tr><td>Inference Time (ms)</td><td>▁▁▁▁▁▁▁▁▁▁▁▁</td></tr><tr><td>Learning_Rate</td><td>███▇▆▅▄▃▂▂▁▁</td></tr><tr><td>Model Size (MB)</td><td>▁▁▁▁▁▁▁▁▁▁▁▁</td></tr><tr><td>Parameters per MB</td><td>▁▁▁▁▁▁▁▁▁▁▁▁</td></tr><tr><td>Total Parameters</td><td>▁▁▁▁▁▁▁▁▁▁▁▁</td></tr><tr><td>Train Accuracy</td><td>▁▄▆▆▇▇▇▇████</td></tr><tr><td>Train Loss</td><td>█▅▄▃▂▂▂▂▁▁▁▁</td></tr><tr><td>Trainable Parameters</td><td>▁▁▁▁▁▁▁▁▁▁▁▁</td></tr><tr><td>Validation Accuracy</td><td>▁▃▆▇█▇██▇███</td></tr><tr><td>Validation Adjacent Accuracy</td><td>▁▄▅▆▆▆▇▇████</td></tr><tr><td>Validation F1</td><td>▁▃▅▆█▇██▇███</td></tr><tr><td>Validation Loss</td><td>▇▅▃▁▁▄▃▆▇▇██</td></tr><tr><td>Validation MAE</td><td>█▆▃▃▂▂▁▁▁▁▁▁</td></tr><tr><td>Validation Precision</td><td>▁▃▅▆█▇██▇███</td></tr><tr><td>Validation QWK</td><td>▁▄▆▇▇▇█▇████</td></tr><tr><td>Validation Recall</td><td>▁▄▆▇█▇█▇████</td></tr></table><br/></div><div class=\"wandb-col\"><h3>Run summary:</h3><br/><table class=\"wandb\"><tr><td>Epoch</td><td>12</td></tr><tr><td>Epoch_Time</td><td>140.76095</td></tr><tr><td>Inference Time (ms)</td><td>354.42345</td></tr><tr><td>Learning_Rate</td><td>0</td></tr><tr><td>Model Size (MB)</td><td>514.61919</td></tr><tr><td>Parameters per MB</td><td>262142.98954</td></tr><tr><td>Total Parameters</td><td>134903813</td></tr><tr><td>Train Accuracy</td><td>0.99606</td></tr><tr><td>Train Loss</td><td>0.23684</td></tr><tr><td>Trainable Parameters</td><td>134903813</td></tr><tr><td>Validation Accuracy</td><td>0.84072</td></tr><tr><td>Validation Adjacent Accuracy</td><td>0.98485</td></tr><tr><td>Validation F1</td><td>0.84312</td></tr><tr><td>Validation Loss</td><td>0.81624</td></tr><tr><td>Validation MAE</td><td>0.17581</td></tr><tr><td>Validation Precision</td><td>0.84015</td></tr><tr><td>Validation QWK</td><td>0.93537</td></tr><tr><td>Validation Recall</td><td>0.85043</td></tr></table><br/></div></div>"
      ],
      "text/plain": [
       "<IPython.core.display.HTML object>"
      ]
     },
     "metadata": {},
     "output_type": "display_data"
    },
    {
     "data": {
      "text/html": [
       " View run <strong style=\"color:#cdcd00\">bertweet-base-sentiment-analysis_trial_0</strong> at: <a href='https://wandb.ai/mayachn3-maya-bondar/sentiment-full-bert/runs/z8bh6q1y' target=\"_blank\">https://wandb.ai/mayachn3-maya-bondar/sentiment-full-bert/runs/z8bh6q1y</a><br> View project at: <a href='https://wandb.ai/mayachn3-maya-bondar/sentiment-full-bert' target=\"_blank\">https://wandb.ai/mayachn3-maya-bondar/sentiment-full-bert</a><br>Synced 5 W&B file(s), 0 media file(s), 0 artifact file(s) and 0 other file(s)"
      ],
      "text/plain": [
       "<IPython.core.display.HTML object>"
      ]
     },
     "metadata": {},
     "output_type": "display_data"
    },
    {
     "data": {
      "text/html": [
       "Find logs at: <code>./wandb/run-20250802_053910-z8bh6q1y/logs</code>"
      ],
      "text/plain": [
       "<IPython.core.display.HTML object>"
      ]
     },
     "metadata": {},
     "output_type": "display_data"
    },
    {
     "name": "stderr",
     "output_type": "stream",
     "text": [
      "[I 2025-08-02 06:09:01,859] Trial 0 finished with value: 0.9365934028477956 and parameters: {'learning_rate': 7.889621272296148e-05, 'batch_size': 64, 'label_smoothing': 0.05006721052365936, 'epochs': 12, 'warmup_ratio': 0.08833286582169274, 'weight_decay': 0.07738924193415143, 'attention_dropout': 0.3205473170963326, 'hidden_dropout': 0.37665040790456367}. Best is trial 0 with value: 0.9365934028477956.\n",
      "Some weights of RobertaForSequenceClassification were not initialized from the model checkpoint at finiteautomata/bertweet-base-sentiment-analysis and are newly initialized because the shapes did not match:\n",
      "- classifier.out_proj.weight: found shape torch.Size([3, 768]) in the checkpoint and torch.Size([5, 768]) in the model instantiated\n",
      "- classifier.out_proj.bias: found shape torch.Size([3]) in the checkpoint and torch.Size([5]) in the model instantiated\n",
      "You should probably TRAIN this model on a down-stream task to be able to use it for predictions and inference.\n"
     ]
    },
    {
     "data": {
      "text/html": [
       "Tracking run with wandb version 0.21.0"
      ],
      "text/plain": [
       "<IPython.core.display.HTML object>"
      ]
     },
     "metadata": {},
     "output_type": "display_data"
    },
    {
     "data": {
      "text/html": [
       "Run data is saved locally in <code>/content/deep-learning-project/wandb/run-20250802_060902-c9dsso6f</code>"
      ],
      "text/plain": [
       "<IPython.core.display.HTML object>"
      ]
     },
     "metadata": {},
     "output_type": "display_data"
    },
    {
     "data": {
      "text/html": [
       "Syncing run <strong><a href='https://wandb.ai/mayachn3-maya-bondar/sentiment-full-bert/runs/c9dsso6f' target=\"_blank\">bertweet-base-sentiment-analysis_trial_1</a></strong> to <a href='https://wandb.ai/mayachn3-maya-bondar/sentiment-full-bert' target=\"_blank\">Weights & Biases</a> (<a href='https://wandb.me/developer-guide' target=\"_blank\">docs</a>)<br>"
      ],
      "text/plain": [
       "<IPython.core.display.HTML object>"
      ]
     },
     "metadata": {},
     "output_type": "display_data"
    },
    {
     "data": {
      "text/html": [
       " View project at <a href='https://wandb.ai/mayachn3-maya-bondar/sentiment-full-bert' target=\"_blank\">https://wandb.ai/mayachn3-maya-bondar/sentiment-full-bert</a>"
      ],
      "text/plain": [
       "<IPython.core.display.HTML object>"
      ]
     },
     "metadata": {},
     "output_type": "display_data"
    },
    {
     "data": {
      "text/html": [
       " View run at <a href='https://wandb.ai/mayachn3-maya-bondar/sentiment-full-bert/runs/c9dsso6f' target=\"_blank\">https://wandb.ai/mayachn3-maya-bondar/sentiment-full-bert/runs/c9dsso6f</a>"
      ],
      "text/plain": [
       "<IPython.core.display.HTML object>"
      ]
     },
     "metadata": {},
     "output_type": "display_data"
    },
    {
     "name": "stderr",
     "output_type": "stream",
     "text": [
      "/usr/local/lib/python3.11/dist-packages/torch/nn/modules/module.py:1750: FutureWarning: `encoder_attention_mask` is deprecated and will be removed in version 4.55.0 for `RobertaSdpaSelfAttention.forward`.\n",
      "  return forward_call(*args, **kwargs)\n",
      "/tmp/ipython-input-3553570516.py:61: FutureWarning: `torch.cuda.amp.GradScaler(args...)` is deprecated. Please use `torch.amp.GradScaler('cuda', args...)` instead.\n",
      "  scaler = GradScaler()\n"
     ]
    },
    {
     "name": "stdout",
     "output_type": "stream",
     "text": [
      "============================================================\n",
      "STARTING TRAINING\n",
      "============================================================\n",
      "Training Configuration:\n",
      "   • Device: cuda\n",
      "   • Model Size: 514.62 MB\n",
      "   • Total Parameters: 134,903,813\n",
      "   • Trainable Parameters: 134,903,813\n",
      "   • Avg Inference Time: 105.77 ms\n",
      "   • Total Epochs: 15\n",
      "   • Train Batches: 1563\n",
      "   • Validation Batches: 273\n",
      "   • Learning Rate: 0.00e+00\n",
      "   • Batch Size: 16\n",
      "============================================================\n",
      "\n",
      "EPOCH 1/15\n",
      "--------------------------------------------------\n"
     ]
    },
    {
     "name": "stderr",
     "output_type": "stream",
     "text": [
      "Training:   0%|                              | 0/1563 [00:00<?, ?it/s]                              /tmp/ipython-input-3553570516.py:75: FutureWarning: `torch.cuda.amp.autocast(args...)` is deprecated. Please use `torch.amp.autocast('cuda', args...)` instead.\n",
      "  with autocast():\n",
      "Training: 100%|██████████████████████████████| 1563/1563 [03:34<00:00,  7.28it/s, Loss=1.1586, Acc=0\n"
     ]
    },
    {
     "name": "stdout",
     "output_type": "stream",
     "text": [
      "\n",
      "📋 Validation Phase...\n"
     ]
    },
    {
     "name": "stderr",
     "output_type": "stream",
     "text": [
      "Validation:   0%|                              | 0/273 [00:00<?, ?it/s]                             /tmp/ipython-input-3553570516.py:135: FutureWarning: `torch.cuda.amp.autocast(args...)` is deprecated. Please use `torch.amp.autocast('cuda', args...)` instead.\n",
      "  with autocast():\n",
      "Validation: 100%|██████████████████████████████| 273/273 [00:08<00:00, 32.75it/s, Loss=1.0631, Acc=0\n",
      "/tmp/ipython-input-3553570516.py:61: FutureWarning: `torch.cuda.amp.GradScaler(args...)` is deprecated. Please use `torch.amp.GradScaler('cuda', args...)` instead.\n",
      "  scaler = GradScaler()\n"
     ]
    },
    {
     "name": "stdout",
     "output_type": "stream",
     "text": [
      "\n",
      "EPOCH 1 DETAILED SUMMARY\n",
      "========================================================================================================================\n",
      "Epoch Time: 223.0s\n",
      "Training   - Loss: 1.158631 | Accuracy: 0.596032\n",
      "Validation - Loss: 1.063138 | Accuracy: 0.662153\n",
      "Overall    - F1: 0.670119 | Precision: 0.678104 | Recall: 0.713044\n",
      "Metrics    - MAE: 0.422538 | Adjacent Acc: 0.931604 | QWK: 0.834940\n",
      "\n",
      "────────────────────────────────────────────────────────────────────────────────────────────────────────────────────────\n",
      "PER-CLASS BREAKDOWN:\n",
      "────────────────────────────────────────────────────────────────────────────────────────────────────────────────────────\n",
      "Class                F1         Precision    Recall     Accuracy  \n",
      "─────────────────────────────────────────────────────────────────\n",
      "Extremely Negative   0.730392   0.607337     0.915984   0.915984  \n",
      "Negative             0.609626   0.667969     0.560656   0.560656  \n",
      "Neutral              0.787144   0.853947     0.730034   0.730034  \n",
      "Positive             0.525123   0.705960     0.418039   0.418039  \n",
      "Extremely Positive   0.698308   0.555306     0.940506   0.940506  \n",
      "========================================================================================================================\n",
      "New best QWK: 0.8349 (saved model)\n",
      "🌟 New best QWK: 0.8349 (saved model)\n",
      "\n",
      "EPOCH 2/15\n",
      "--------------------------------------------------\n"
     ]
    },
    {
     "name": "stderr",
     "output_type": "stream",
     "text": [
      "\r",
      "Training:   0%|                              | 0/1563 [00:00<?, ?it/s]                              /tmp/ipython-input-3553570516.py:75: FutureWarning: `torch.cuda.amp.autocast(args...)` is deprecated. Please use `torch.amp.autocast('cuda', args...)` instead.\n",
      "  with autocast():\n",
      "/usr/local/lib/python3.11/dist-packages/torch/nn/modules/module.py:1750: FutureWarning: `encoder_attention_mask` is deprecated and will be removed in version 4.55.0 for `RobertaSdpaSelfAttention.forward`.\n",
      "  return forward_call(*args, **kwargs)\n",
      "Training: 100%|██████████████████████████████| 1563/1563 [03:33<00:00,  7.31it/s, Loss=0.8915, Acc=0\n"
     ]
    },
    {
     "name": "stdout",
     "output_type": "stream",
     "text": [
      "\n",
      "📋 Validation Phase...\n"
     ]
    },
    {
     "name": "stderr",
     "output_type": "stream",
     "text": [
      "Validation:   0%|                              | 0/273 [00:00<?, ?it/s]                             /tmp/ipython-input-3553570516.py:135: FutureWarning: `torch.cuda.amp.autocast(args...)` is deprecated. Please use `torch.amp.autocast('cuda', args...)` instead.\n",
      "  with autocast():\n",
      "Validation: 100%|██████████████████████████████| 273/273 [00:08<00:00, 33.22it/s, Loss=0.8486, Acc=0\n",
      "/tmp/ipython-input-3553570516.py:61: FutureWarning: `torch.cuda.amp.GradScaler(args...)` is deprecated. Please use `torch.amp.GradScaler('cuda', args...)` instead.\n",
      "  scaler = GradScaler()\n"
     ]
    },
    {
     "name": "stdout",
     "output_type": "stream",
     "text": [
      "\n",
      "EPOCH 2 DETAILED SUMMARY\n",
      "========================================================================================================================\n",
      "Epoch Time: 222.2s\n",
      "Training   - Loss: 0.891516 | Accuracy: 0.754762\n",
      "Validation - Loss: 0.848571 | Accuracy: 0.796190\n",
      "Overall    - F1: 0.802317 | Precision: 0.800166 | Recall: 0.812197\n",
      "Metrics    - MAE: 0.262107 | Adjacent Acc: 0.946064 | QWK: 0.884653\n",
      "\n",
      "────────────────────────────────────────────────────────────────────────────────────────────────────────────────────────\n",
      "PER-CLASS BREAKDOWN:\n",
      "────────────────────────────────────────────────────────────────────────────────────────────────────────────────────────\n",
      "Class                F1         Precision    Recall     Accuracy  \n",
      "─────────────────────────────────────────────────────────────────\n",
      "Extremely Negative   0.812749   0.790698     0.836066   0.836066  \n",
      "Negative             0.733234   0.672131     0.806557   0.806557  \n",
      "Neutral              0.844847   0.850627     0.839145   0.839145  \n",
      "Positive             0.759982   0.862550     0.679216   0.679216  \n",
      "Extremely Positive   0.860775   0.824826     0.900000   0.900000  \n",
      "========================================================================================================================\n",
      "New best QWK: 0.8847 (saved model)\n",
      "🌟 New best QWK: 0.8847 (saved model)\n",
      "\n",
      "EPOCH 3/15\n",
      "--------------------------------------------------\n"
     ]
    },
    {
     "name": "stderr",
     "output_type": "stream",
     "text": [
      "\r",
      "Training:   0%|                              | 0/1563 [00:00<?, ?it/s]                              /tmp/ipython-input-3553570516.py:75: FutureWarning: `torch.cuda.amp.autocast(args...)` is deprecated. Please use `torch.amp.autocast('cuda', args...)` instead.\n",
      "  with autocast():\n",
      "/usr/local/lib/python3.11/dist-packages/torch/nn/modules/module.py:1750: FutureWarning: `encoder_attention_mask` is deprecated and will be removed in version 4.55.0 for `RobertaSdpaSelfAttention.forward`.\n",
      "  return forward_call(*args, **kwargs)\n",
      "Training: 100%|██████████████████████████████| 1563/1563 [03:33<00:00,  7.31it/s, Loss=0.7744, Acc=0\n"
     ]
    },
    {
     "name": "stdout",
     "output_type": "stream",
     "text": [
      "\n",
      "📋 Validation Phase...\n"
     ]
    },
    {
     "name": "stderr",
     "output_type": "stream",
     "text": [
      "Validation:   0%|                              | 0/273 [00:00<?, ?it/s]                             /tmp/ipython-input-3553570516.py:135: FutureWarning: `torch.cuda.amp.autocast(args...)` is deprecated. Please use `torch.amp.autocast('cuda', args...)` instead.\n",
      "  with autocast():\n",
      "Validation: 100%|██████████████████████████████| 273/273 [00:08<00:00, 33.56it/s, Loss=0.9177, Acc=0\n",
      "/tmp/ipython-input-3553570516.py:61: FutureWarning: `torch.cuda.amp.GradScaler(args...)` is deprecated. Please use `torch.amp.GradScaler('cuda', args...)` instead.\n",
      "  scaler = GradScaler()\n"
     ]
    },
    {
     "name": "stdout",
     "output_type": "stream",
     "text": [
      "\n",
      "EPOCH 3 DETAILED SUMMARY\n",
      "========================================================================================================================\n",
      "Epoch Time: 222.0s\n",
      "Training   - Loss: 0.774411 | Accuracy: 0.817857\n",
      "Validation - Loss: 0.917652 | Accuracy: 0.761992\n",
      "Overall    - F1: 0.757768 | Precision: 0.759792 | Recall: 0.788010\n",
      "Metrics    - MAE: 0.292862 | Adjacent Acc: 0.952031 | QWK: 0.885199\n",
      "\n",
      "────────────────────────────────────────────────────────────────────────────────────────────────────────────────────────\n",
      "PER-CLASS BREAKDOWN:\n",
      "────────────────────────────────────────────────────────────────────────────────────────────────────────────────────────\n",
      "Class                F1         Precision    Recall     Accuracy  \n",
      "─────────────────────────────────────────────────────────────────\n",
      "Extremely Negative   0.730829   0.591139     0.956967   0.956967  \n",
      "Negative             0.618464   0.755521     0.523497   0.523497  \n",
      "Neutral              0.851319   0.911425     0.798650   0.798650  \n",
      "Positive             0.759754   0.797414     0.725490   0.725490  \n",
      "Extremely Positive   0.828475   0.743461     0.935443   0.935443  \n",
      "========================================================================================================================\n",
      "New best QWK: 0.8852 (saved model)\n",
      "🌟 New best QWK: 0.8852 (saved model)\n",
      "\n",
      "EPOCH 4/15\n",
      "--------------------------------------------------\n"
     ]
    },
    {
     "name": "stderr",
     "output_type": "stream",
     "text": [
      "\r",
      "Training:   0%|                              | 0/1563 [00:00<?, ?it/s]                              /tmp/ipython-input-3553570516.py:75: FutureWarning: `torch.cuda.amp.autocast(args...)` is deprecated. Please use `torch.amp.autocast('cuda', args...)` instead.\n",
      "  with autocast():\n",
      "/usr/local/lib/python3.11/dist-packages/torch/nn/modules/module.py:1750: FutureWarning: `encoder_attention_mask` is deprecated and will be removed in version 4.55.0 for `RobertaSdpaSelfAttention.forward`.\n",
      "  return forward_call(*args, **kwargs)\n",
      "Training: 100%|██████████████████████████████| 1563/1563 [03:33<00:00,  7.31it/s, Loss=0.6814, Acc=0\n"
     ]
    },
    {
     "name": "stdout",
     "output_type": "stream",
     "text": [
      "\n",
      "📋 Validation Phase...\n"
     ]
    },
    {
     "name": "stderr",
     "output_type": "stream",
     "text": [
      "Validation:   0%|                              | 0/273 [00:00<?, ?it/s]                             /tmp/ipython-input-3553570516.py:135: FutureWarning: `torch.cuda.amp.autocast(args...)` is deprecated. Please use `torch.amp.autocast('cuda', args...)` instead.\n",
      "  with autocast():\n",
      "Validation: 100%|██████████████████████████████| 273/273 [00:08<00:00, 33.40it/s, Loss=0.8092, Acc=0\n",
      "/tmp/ipython-input-3553570516.py:61: FutureWarning: `torch.cuda.amp.GradScaler(args...)` is deprecated. Please use `torch.amp.GradScaler('cuda', args...)` instead.\n",
      "  scaler = GradScaler()\n"
     ]
    },
    {
     "name": "stdout",
     "output_type": "stream",
     "text": [
      "\n",
      "EPOCH 4 DETAILED SUMMARY\n",
      "========================================================================================================================\n",
      "Epoch Time: 222.0s\n",
      "Training   - Loss: 0.681414 | Accuracy: 0.873016\n",
      "Validation - Loss: 0.809210 | Accuracy: 0.819371\n",
      "Overall    - F1: 0.820776 | Precision: 0.816898 | Recall: 0.831371\n",
      "Metrics    - MAE: 0.218728 | Adjacent Acc: 0.964884 | QWK: 0.910614\n",
      "\n",
      "────────────────────────────────────────────────────────────────────────────────────────────────────────────────────────\n",
      "PER-CLASS BREAKDOWN:\n",
      "────────────────────────────────────────────────────────────────────────────────────────────────────────────────────────\n",
      "Class                F1         Precision    Recall     Accuracy  \n",
      "─────────────────────────────────────────────────────────────────\n",
      "Extremely Negative   0.820789   0.729299     0.938525   0.938525  \n",
      "Negative             0.749566   0.796069     0.708197   0.708197  \n",
      "Neutral              0.856312   0.886747     0.827897   0.827897  \n",
      "Positive             0.814441   0.806303     0.822745   0.822745  \n",
      "Extremely Positive   0.862770   0.866071     0.859494   0.859494  \n",
      "========================================================================================================================\n",
      "New best QWK: 0.9106 (saved model)\n",
      "🌟 New best QWK: 0.9106 (saved model)\n",
      "\n",
      "EPOCH 5/15\n",
      "--------------------------------------------------\n"
     ]
    },
    {
     "name": "stderr",
     "output_type": "stream",
     "text": [
      "\r",
      "Training:   0%|                              | 0/1563 [00:00<?, ?it/s]                              /tmp/ipython-input-3553570516.py:75: FutureWarning: `torch.cuda.amp.autocast(args...)` is deprecated. Please use `torch.amp.autocast('cuda', args...)` instead.\n",
      "  with autocast():\n",
      "/usr/local/lib/python3.11/dist-packages/torch/nn/modules/module.py:1750: FutureWarning: `encoder_attention_mask` is deprecated and will be removed in version 4.55.0 for `RobertaSdpaSelfAttention.forward`.\n",
      "  return forward_call(*args, **kwargs)\n",
      "Training: 100%|██████████████████████████████| 1563/1563 [03:34<00:00,  7.30it/s, Loss=0.6498, Acc=0\n"
     ]
    },
    {
     "name": "stdout",
     "output_type": "stream",
     "text": [
      "\n",
      "📋 Validation Phase...\n"
     ]
    },
    {
     "name": "stderr",
     "output_type": "stream",
     "text": [
      "\r",
      "Validation:   0%|                              | 0/273 [00:00<?, ?it/s]                             /tmp/ipython-input-3553570516.py:135: FutureWarning: `torch.cuda.amp.autocast(args...)` is deprecated. Please use `torch.amp.autocast('cuda', args...)` instead.\n",
      "  with autocast():\n",
      "Validation: 100%|██████████████████████████████| 273/273 [00:08<00:00, 33.83it/s, Loss=0.8490, Acc=0\n",
      "/tmp/ipython-input-3553570516.py:61: FutureWarning: `torch.cuda.amp.GradScaler(args...)` is deprecated. Please use `torch.amp.GradScaler('cuda', args...)` instead.\n",
      "  scaler = GradScaler()\n"
     ]
    },
    {
     "name": "stdout",
     "output_type": "stream",
     "text": [
      "\n",
      "EPOCH 5 DETAILED SUMMARY\n",
      "========================================================================================================================\n",
      "Epoch Time: 222.2s\n",
      "Training   - Loss: 0.649757 | Accuracy: 0.894444\n",
      "Validation - Loss: 0.849000 | Accuracy: 0.803305\n",
      "Overall    - F1: 0.804518 | Precision: 0.797353 | Recall: 0.825968\n",
      "Metrics    - MAE: 0.240762 | Adjacent Acc: 0.959376 | QWK: 0.904564\n",
      "\n",
      "────────────────────────────────────────────────────────────────────────────────────────────────────────────────────────\n",
      "PER-CLASS BREAKDOWN:\n",
      "────────────────────────────────────────────────────────────────────────────────────────────────────────────────────────\n",
      "Class                F1         Precision    Recall     Accuracy  \n",
      "─────────────────────────────────────────────────────────────────\n",
      "Extremely Negative   0.793814   0.683432     0.946721   0.946721  \n",
      "Negative             0.722501   0.738584     0.707104   0.707104  \n",
      "Neutral              0.865282   0.915829     0.820022   0.820022  \n",
      "Positive             0.790816   0.863510     0.729412   0.729412  \n",
      "Extremely Positive   0.850174   0.785408     0.926582   0.926582  \n",
      "========================================================================================================================\n",
      "QWK: 0.9046 (best: 0.9106 at epoch 4)\n",
      "📉 QWK: 0.9046 (best: 0.9106 at epoch 4)\n",
      "\n",
      "EPOCH 6/15\n",
      "--------------------------------------------------\n"
     ]
    },
    {
     "name": "stderr",
     "output_type": "stream",
     "text": [
      "\r",
      "Training:   0%|                              | 0/1563 [00:00<?, ?it/s]                              /tmp/ipython-input-3553570516.py:75: FutureWarning: `torch.cuda.amp.autocast(args...)` is deprecated. Please use `torch.amp.autocast('cuda', args...)` instead.\n",
      "  with autocast():\n",
      "/usr/local/lib/python3.11/dist-packages/torch/nn/modules/module.py:1750: FutureWarning: `encoder_attention_mask` is deprecated and will be removed in version 4.55.0 for `RobertaSdpaSelfAttention.forward`.\n",
      "  return forward_call(*args, **kwargs)\n",
      "Training: 100%|██████████████████████████████| 1563/1563 [03:34<00:00,  7.30it/s, Loss=0.5941, Acc=0\n"
     ]
    },
    {
     "name": "stdout",
     "output_type": "stream",
     "text": [
      "\n",
      "📋 Validation Phase...\n"
     ]
    },
    {
     "name": "stderr",
     "output_type": "stream",
     "text": [
      "Validation:   0%|                              | 0/273 [00:00<?, ?it/s]                             /tmp/ipython-input-3553570516.py:135: FutureWarning: `torch.cuda.amp.autocast(args...)` is deprecated. Please use `torch.amp.autocast('cuda', args...)` instead.\n",
      "  with autocast():\n",
      "Validation: 100%|██████████████████████████████| 273/273 [00:07<00:00, 34.21it/s, Loss=0.8072, Acc=0\n",
      "/tmp/ipython-input-3553570516.py:61: FutureWarning: `torch.cuda.amp.GradScaler(args...)` is deprecated. Please use `torch.amp.GradScaler('cuda', args...)` instead.\n",
      "  scaler = GradScaler()\n"
     ]
    },
    {
     "name": "stdout",
     "output_type": "stream",
     "text": [
      "\n",
      "EPOCH 6 DETAILED SUMMARY\n",
      "========================================================================================================================\n",
      "Epoch Time: 222.0s\n",
      "Training   - Loss: 0.594135 | Accuracy: 0.921429\n",
      "Validation - Loss: 0.807178 | Accuracy: 0.831765\n",
      "Overall    - F1: 0.834809 | Precision: 0.829805 | Recall: 0.842236\n",
      "Metrics    - MAE: 0.202662 | Adjacent Acc: 0.968097 | QWK: 0.917538\n",
      "\n",
      "────────────────────────────────────────────────────────────────────────────────────────────────────────────────────────\n",
      "PER-CLASS BREAKDOWN:\n",
      "────────────────────────────────────────────────────────────────────────────────────────────────────────────────────────\n",
      "Class                F1         Precision    Recall     Accuracy  \n",
      "─────────────────────────────────────────────────────────────────\n",
      "Extremely Negative   0.847721   0.804788     0.895492   0.895492  \n",
      "Negative             0.770140   0.757128     0.783607   0.783607  \n",
      "Neutral              0.845120   0.879562     0.813273   0.813273  \n",
      "Positive             0.828676   0.856784     0.802353   0.802353  \n",
      "Extremely Positive   0.882389   0.850764     0.916456   0.916456  \n",
      "========================================================================================================================\n",
      "New best QWK: 0.9175 (saved model)\n",
      "🌟 New best QWK: 0.9175 (saved model)\n",
      "\n",
      "EPOCH 7/15\n",
      "--------------------------------------------------\n"
     ]
    },
    {
     "name": "stderr",
     "output_type": "stream",
     "text": [
      "\r",
      "Training:   0%|                              | 0/1563 [00:00<?, ?it/s]                              /tmp/ipython-input-3553570516.py:75: FutureWarning: `torch.cuda.amp.autocast(args...)` is deprecated. Please use `torch.amp.autocast('cuda', args...)` instead.\n",
      "  with autocast():\n",
      "/usr/local/lib/python3.11/dist-packages/torch/nn/modules/module.py:1750: FutureWarning: `encoder_attention_mask` is deprecated and will be removed in version 4.55.0 for `RobertaSdpaSelfAttention.forward`.\n",
      "  return forward_call(*args, **kwargs)\n",
      "Training: 100%|██████████████████████████████| 1563/1563 [03:33<00:00,  7.31it/s, Loss=0.5662, Acc=0\n"
     ]
    },
    {
     "name": "stdout",
     "output_type": "stream",
     "text": [
      "\n",
      "📋 Validation Phase...\n"
     ]
    },
    {
     "name": "stderr",
     "output_type": "stream",
     "text": [
      "Validation:   0%|                              | 0/273 [00:00<?, ?it/s]                             /tmp/ipython-input-3553570516.py:135: FutureWarning: `torch.cuda.amp.autocast(args...)` is deprecated. Please use `torch.amp.autocast('cuda', args...)` instead.\n",
      "  with autocast():\n",
      "Validation: 100%|██████████████████████████████| 273/273 [00:08<00:00, 33.59it/s, Loss=0.8083, Acc=0\n",
      "/tmp/ipython-input-3553570516.py:61: FutureWarning: `torch.cuda.amp.GradScaler(args...)` is deprecated. Please use `torch.amp.GradScaler('cuda', args...)` instead.\n",
      "  scaler = GradScaler()\n"
     ]
    },
    {
     "name": "stdout",
     "output_type": "stream",
     "text": [
      "\n",
      "EPOCH 7 DETAILED SUMMARY\n",
      "========================================================================================================================\n",
      "Epoch Time: 222.1s\n",
      "Training   - Loss: 0.566194 | Accuracy: 0.932937\n",
      "Validation - Loss: 0.808266 | Accuracy: 0.847831\n",
      "Overall    - F1: 0.850166 | Precision: 0.856853 | Recall: 0.844664\n",
      "Metrics    - MAE: 0.184760 | Adjacent Acc: 0.970852 | QWK: 0.919772\n",
      "\n",
      "────────────────────────────────────────────────────────────────────────────────────────────────────────────────────────\n",
      "PER-CLASS BREAKDOWN:\n",
      "────────────────────────────────────────────────────────────────────────────────────────────────────────────────────────\n",
      "Class                F1         Precision    Recall     Accuracy  \n",
      "─────────────────────────────────────────────────────────────────\n",
      "Extremely Negative   0.850377   0.895692     0.809426   0.809426  \n",
      "Negative             0.807756   0.819101     0.796721   0.796721  \n",
      "Neutral              0.866328   0.868778     0.863892   0.863892  \n",
      "Positive             0.836641   0.814870     0.859608   0.859608  \n",
      "Extremely Positive   0.889729   0.885822     0.893671   0.893671  \n",
      "========================================================================================================================\n",
      "New best QWK: 0.9198 (saved model)\n",
      "🌟 New best QWK: 0.9198 (saved model)\n",
      "\n",
      "EPOCH 8/15\n",
      "--------------------------------------------------\n"
     ]
    },
    {
     "name": "stderr",
     "output_type": "stream",
     "text": [
      "\r",
      "Training:   0%|                              | 0/1563 [00:00<?, ?it/s]                              /tmp/ipython-input-3553570516.py:75: FutureWarning: `torch.cuda.amp.autocast(args...)` is deprecated. Please use `torch.amp.autocast('cuda', args...)` instead.\n",
      "  with autocast():\n",
      "/usr/local/lib/python3.11/dist-packages/torch/nn/modules/module.py:1750: FutureWarning: `encoder_attention_mask` is deprecated and will be removed in version 4.55.0 for `RobertaSdpaSelfAttention.forward`.\n",
      "  return forward_call(*args, **kwargs)\n",
      "Training: 100%|██████████████████████████████| 1563/1563 [03:33<00:00,  7.32it/s, Loss=0.5397, Acc=0\n"
     ]
    },
    {
     "name": "stdout",
     "output_type": "stream",
     "text": [
      "\n",
      "📋 Validation Phase...\n"
     ]
    },
    {
     "name": "stderr",
     "output_type": "stream",
     "text": [
      "Validation:   0%|                              | 0/273 [00:00<?, ?it/s]                             /tmp/ipython-input-3553570516.py:135: FutureWarning: `torch.cuda.amp.autocast(args...)` is deprecated. Please use `torch.amp.autocast('cuda', args...)` instead.\n",
      "  with autocast():\n",
      "Validation: 100%|██████████████████████████████| 273/273 [00:08<00:00, 33.31it/s, Loss=0.8288, Acc=0\n",
      "/tmp/ipython-input-3553570516.py:61: FutureWarning: `torch.cuda.amp.GradScaler(args...)` is deprecated. Please use `torch.amp.GradScaler('cuda', args...)` instead.\n",
      "  scaler = GradScaler()\n"
     ]
    },
    {
     "name": "stdout",
     "output_type": "stream",
     "text": [
      "\n",
      "EPOCH 8 DETAILED SUMMARY\n",
      "========================================================================================================================\n",
      "Epoch Time: 221.8s\n",
      "Training   - Loss: 0.539679 | Accuracy: 0.953571\n",
      "Validation - Loss: 0.828822 | Accuracy: 0.840257\n",
      "Overall    - F1: 0.842802 | Precision: 0.838849 | Recall: 0.850644\n",
      "Metrics    - MAE: 0.182006 | Adjacent Acc: 0.979573 | QWK: 0.930227\n",
      "\n",
      "────────────────────────────────────────────────────────────────────────────────────────────────────────────────────────\n",
      "PER-CLASS BREAKDOWN:\n",
      "────────────────────────────────────────────────────────────────────────────────────────────────────────────────────────\n",
      "Class                F1         Precision    Recall     Accuracy  \n",
      "─────────────────────────────────────────────────────────────────\n",
      "Extremely Negative   0.853119   0.837945     0.868852   0.868852  \n",
      "Negative             0.801596   0.837902     0.768306   0.768306  \n",
      "Neutral              0.853035   0.809909     0.901012   0.901012  \n",
      "Positive             0.823871   0.873462     0.779608   0.779608  \n",
      "Extremely Positive   0.882388   0.835028     0.935443   0.935443  \n",
      "========================================================================================================================\n",
      "New best QWK: 0.9302 (saved model)\n",
      "🌟 New best QWK: 0.9302 (saved model)\n",
      "\n",
      "EPOCH 9/15\n",
      "--------------------------------------------------\n"
     ]
    },
    {
     "name": "stderr",
     "output_type": "stream",
     "text": [
      "\r",
      "Training:   0%|                              | 0/1563 [00:00<?, ?it/s]                              /tmp/ipython-input-3553570516.py:75: FutureWarning: `torch.cuda.amp.autocast(args...)` is deprecated. Please use `torch.amp.autocast('cuda', args...)` instead.\n",
      "  with autocast():\n",
      "/usr/local/lib/python3.11/dist-packages/torch/nn/modules/module.py:1750: FutureWarning: `encoder_attention_mask` is deprecated and will be removed in version 4.55.0 for `RobertaSdpaSelfAttention.forward`.\n",
      "  return forward_call(*args, **kwargs)\n",
      "Training: 100%|██████████████████████████████| 1563/1563 [03:33<00:00,  7.32it/s, Loss=0.5192, Acc=0\n"
     ]
    },
    {
     "name": "stdout",
     "output_type": "stream",
     "text": [
      "\n",
      "📋 Validation Phase...\n"
     ]
    },
    {
     "name": "stderr",
     "output_type": "stream",
     "text": [
      "Validation:   0%|                              | 0/273 [00:00<?, ?it/s]                             /tmp/ipython-input-3553570516.py:135: FutureWarning: `torch.cuda.amp.autocast(args...)` is deprecated. Please use `torch.amp.autocast('cuda', args...)` instead.\n",
      "  with autocast():\n",
      "Validation: 100%|██████████████████████████████| 273/273 [00:08<00:00, 33.52it/s, Loss=0.8374, Acc=0\n",
      "/tmp/ipython-input-3553570516.py:61: FutureWarning: `torch.cuda.amp.GradScaler(args...)` is deprecated. Please use `torch.amp.GradScaler('cuda', args...)` instead.\n",
      "  scaler = GradScaler()\n"
     ]
    },
    {
     "name": "stdout",
     "output_type": "stream",
     "text": [
      "\n",
      "EPOCH 9 DETAILED SUMMARY\n",
      "========================================================================================================================\n",
      "Epoch Time: 221.7s\n",
      "Training   - Loss: 0.519177 | Accuracy: 0.959127\n",
      "Validation - Loss: 0.837367 | Accuracy: 0.846683\n",
      "Overall    - F1: 0.850502 | Precision: 0.850125 | Recall: 0.853186\n",
      "Metrics    - MAE: 0.178104 | Adjacent Acc: 0.978426 | QWK: 0.928387\n",
      "\n",
      "────────────────────────────────────────────────────────────────────────────────────────────────────────────────────────\n",
      "PER-CLASS BREAKDOWN:\n",
      "────────────────────────────────────────────────────────────────────────────────────────────────────────────────────────\n",
      "Class                F1         Precision    Recall     Accuracy  \n",
      "─────────────────────────────────────────────────────────────────\n",
      "Extremely Negative   0.873033   0.894624     0.852459   0.852459  \n",
      "Negative             0.814485   0.830682     0.798907   0.798907  \n",
      "Neutral              0.853552   0.829968     0.878515   0.878515  \n",
      "Positive             0.833537   0.866328     0.803137   0.803137  \n",
      "Extremely Positive   0.877904   0.829021     0.932911   0.932911  \n",
      "========================================================================================================================\n",
      "QWK: 0.9284 (best: 0.9302 at epoch 8)\n",
      "📉 QWK: 0.9284 (best: 0.9302 at epoch 8)\n",
      "\n",
      "EPOCH 10/15\n",
      "--------------------------------------------------\n"
     ]
    },
    {
     "name": "stderr",
     "output_type": "stream",
     "text": [
      "\r",
      "Training:   0%|                              | 0/1563 [00:00<?, ?it/s]                              /tmp/ipython-input-3553570516.py:75: FutureWarning: `torch.cuda.amp.autocast(args...)` is deprecated. Please use `torch.amp.autocast('cuda', args...)` instead.\n",
      "  with autocast():\n",
      "/usr/local/lib/python3.11/dist-packages/torch/nn/modules/module.py:1750: FutureWarning: `encoder_attention_mask` is deprecated and will be removed in version 4.55.0 for `RobertaSdpaSelfAttention.forward`.\n",
      "  return forward_call(*args, **kwargs)\n",
      "Training: 100%|██████████████████████████████| 1563/1563 [03:33<00:00,  7.31it/s, Loss=0.4822, Acc=0\n"
     ]
    },
    {
     "name": "stdout",
     "output_type": "stream",
     "text": [
      "\n",
      "📋 Validation Phase...\n"
     ]
    },
    {
     "name": "stderr",
     "output_type": "stream",
     "text": [
      "Validation:   0%|                              | 0/273 [00:00<?, ?it/s]                             /tmp/ipython-input-3553570516.py:135: FutureWarning: `torch.cuda.amp.autocast(args...)` is deprecated. Please use `torch.amp.autocast('cuda', args...)` instead.\n",
      "  with autocast():\n",
      "Validation: 100%|██████████████████████████████| 273/273 [00:08<00:00, 33.89it/s, Loss=0.8641, Acc=0\n",
      "/tmp/ipython-input-3553570516.py:61: FutureWarning: `torch.cuda.amp.GradScaler(args...)` is deprecated. Please use `torch.amp.GradScaler('cuda', args...)` instead.\n",
      "  scaler = GradScaler()\n"
     ]
    },
    {
     "name": "stdout",
     "output_type": "stream",
     "text": [
      "\n",
      "EPOCH 10 DETAILED SUMMARY\n",
      "========================================================================================================================\n",
      "Epoch Time: 221.8s\n",
      "Training   - Loss: 0.482241 | Accuracy: 0.973016\n",
      "Validation - Loss: 0.864073 | Accuracy: 0.844388\n",
      "Overall    - F1: 0.848382 | Precision: 0.845443 | Recall: 0.854152\n",
      "Metrics    - MAE: 0.174202 | Adjacent Acc: 0.982557 | QWK: 0.934170\n",
      "\n",
      "────────────────────────────────────────────────────────────────────────────────────────────────────────────────────────\n",
      "PER-CLASS BREAKDOWN:\n",
      "────────────────────────────────────────────────────────────────────────────────────────────────────────────────────────\n",
      "Class                F1         Precision    Recall     Accuracy  \n",
      "─────────────────────────────────────────────────────────────────\n",
      "Extremely Negative   0.870681   0.840000     0.903689   0.903689  \n",
      "Negative             0.803371   0.826590     0.781421   0.781421  \n",
      "Neutral              0.833770   0.780943     0.894263   0.894263  \n",
      "Positive             0.839788   0.874363     0.807843   0.807843  \n",
      "Extremely Positive   0.894299   0.905318     0.883544   0.883544  \n",
      "========================================================================================================================\n",
      "New best QWK: 0.9342 (saved model)\n",
      "🌟 New best QWK: 0.9342 (saved model)\n",
      "\n",
      "EPOCH 11/15\n",
      "--------------------------------------------------\n"
     ]
    },
    {
     "name": "stderr",
     "output_type": "stream",
     "text": [
      "\r",
      "Training:   0%|                              | 0/1563 [00:00<?, ?it/s]                              /tmp/ipython-input-3553570516.py:75: FutureWarning: `torch.cuda.amp.autocast(args...)` is deprecated. Please use `torch.amp.autocast('cuda', args...)` instead.\n",
      "  with autocast():\n",
      "/usr/local/lib/python3.11/dist-packages/torch/nn/modules/module.py:1750: FutureWarning: `encoder_attention_mask` is deprecated and will be removed in version 4.55.0 for `RobertaSdpaSelfAttention.forward`.\n",
      "  return forward_call(*args, **kwargs)\n",
      "Training: 100%|██████████████████████████████| 1563/1563 [03:33<00:00,  7.32it/s, Loss=0.4727, Acc=0\n"
     ]
    },
    {
     "name": "stdout",
     "output_type": "stream",
     "text": [
      "\n",
      "📋 Validation Phase...\n"
     ]
    },
    {
     "name": "stderr",
     "output_type": "stream",
     "text": [
      "Validation:   0%|                              | 0/273 [00:00<?, ?it/s]                             /tmp/ipython-input-3553570516.py:135: FutureWarning: `torch.cuda.amp.autocast(args...)` is deprecated. Please use `torch.amp.autocast('cuda', args...)` instead.\n",
      "  with autocast():\n",
      "Validation: 100%|██████████████████████████████| 273/273 [00:08<00:00, 33.33it/s, Loss=0.9028, Acc=0\n",
      "/tmp/ipython-input-3553570516.py:61: FutureWarning: `torch.cuda.amp.GradScaler(args...)` is deprecated. Please use `torch.amp.GradScaler('cuda', args...)` instead.\n",
      "  scaler = GradScaler()\n"
     ]
    },
    {
     "name": "stdout",
     "output_type": "stream",
     "text": [
      "\n",
      "EPOCH 11 DETAILED SUMMARY\n",
      "========================================================================================================================\n",
      "Epoch Time: 221.8s\n",
      "Training   - Loss: 0.472708 | Accuracy: 0.982143\n",
      "Validation - Loss: 0.902807 | Accuracy: 0.834290\n",
      "Overall    - F1: 0.833939 | Precision: 0.827983 | Recall: 0.848577\n",
      "Metrics    - MAE: 0.185678 | Adjacent Acc: 0.982098 | QWK: 0.931488\n",
      "\n",
      "────────────────────────────────────────────────────────────────────────────────────────────────────────────────────────\n",
      "PER-CLASS BREAKDOWN:\n",
      "────────────────────────────────────────────────────────────────────────────────────────────────────────────────────────\n",
      "Class                F1         Precision    Recall     Accuracy  \n",
      "─────────────────────────────────────────────────────────────────\n",
      "Extremely Negative   0.837687   0.768836     0.920082   0.920082  \n",
      "Negative             0.763789   0.845950     0.696175   0.696175  \n",
      "Neutral              0.840703   0.798583     0.887514   0.887514  \n",
      "Positive             0.838496   0.885689     0.796078   0.796078  \n",
      "Extremely Positive   0.889021   0.840858     0.943038   0.943038  \n",
      "========================================================================================================================\n",
      "QWK: 0.9315 (best: 0.9342 at epoch 10)\n",
      "📉 QWK: 0.9315 (best: 0.9342 at epoch 10)\n",
      "\n",
      "EPOCH 12/15\n",
      "--------------------------------------------------\n"
     ]
    },
    {
     "name": "stderr",
     "output_type": "stream",
     "text": [
      "\r",
      "Training:   0%|                              | 0/1563 [00:00<?, ?it/s]                              /tmp/ipython-input-3553570516.py:75: FutureWarning: `torch.cuda.amp.autocast(args...)` is deprecated. Please use `torch.amp.autocast('cuda', args...)` instead.\n",
      "  with autocast():\n",
      "/usr/local/lib/python3.11/dist-packages/torch/nn/modules/module.py:1750: FutureWarning: `encoder_attention_mask` is deprecated and will be removed in version 4.55.0 for `RobertaSdpaSelfAttention.forward`.\n",
      "  return forward_call(*args, **kwargs)\n",
      "Training: 100%|██████████████████████████████| 1563/1563 [03:33<00:00,  7.31it/s, Loss=0.4642, Acc=0\n"
     ]
    },
    {
     "name": "stdout",
     "output_type": "stream",
     "text": [
      "\n",
      "📋 Validation Phase...\n"
     ]
    },
    {
     "name": "stderr",
     "output_type": "stream",
     "text": [
      "Validation:   0%|                              | 0/273 [00:00<?, ?it/s]                             /tmp/ipython-input-3553570516.py:135: FutureWarning: `torch.cuda.amp.autocast(args...)` is deprecated. Please use `torch.amp.autocast('cuda', args...)` instead.\n",
      "  with autocast():\n",
      "Validation: 100%|██████████████████████████████| 273/273 [00:08<00:00, 33.20it/s, Loss=0.8789, Acc=0\n",
      "/tmp/ipython-input-3553570516.py:61: FutureWarning: `torch.cuda.amp.GradScaler(args...)` is deprecated. Please use `torch.amp.GradScaler('cuda', args...)` instead.\n",
      "  scaler = GradScaler()\n"
     ]
    },
    {
     "name": "stdout",
     "output_type": "stream",
     "text": [
      "\n",
      "EPOCH 12 DETAILED SUMMARY\n",
      "========================================================================================================================\n",
      "Epoch Time: 221.9s\n",
      "Training   - Loss: 0.464174 | Accuracy: 0.985317\n",
      "Validation - Loss: 0.878925 | Accuracy: 0.850126\n",
      "Overall    - F1: 0.852928 | Precision: 0.853118 | Recall: 0.857322\n",
      "Metrics    - MAE: 0.167317 | Adjacent Acc: 0.985081 | QWK: 0.936128\n",
      "\n",
      "────────────────────────────────────────────────────────────────────────────────────────────────────────────────────────\n",
      "PER-CLASS BREAKDOWN:\n",
      "────────────────────────────────────────────────────────────────────────────────────────────────────────────────────────\n",
      "Class                F1         Precision    Recall     Accuracy  \n",
      "─────────────────────────────────────────────────────────────────\n",
      "Extremely Negative   0.871001   0.877339     0.864754   0.864754  \n",
      "Negative             0.812030   0.862408     0.767213   0.767213  \n",
      "Neutral              0.842214   0.779693     0.915636   0.915636  \n",
      "Positive             0.845775   0.886500     0.808627   0.808627  \n",
      "Extremely Positive   0.893617   0.859649     0.930380   0.930380  \n",
      "========================================================================================================================\n",
      "New best QWK: 0.9361 (saved model)\n",
      "🌟 New best QWK: 0.9361 (saved model)\n",
      "\n",
      "EPOCH 13/15\n",
      "--------------------------------------------------\n"
     ]
    },
    {
     "name": "stderr",
     "output_type": "stream",
     "text": [
      "\r",
      "Training:   0%|                              | 0/1563 [00:00<?, ?it/s]                              /tmp/ipython-input-3553570516.py:75: FutureWarning: `torch.cuda.amp.autocast(args...)` is deprecated. Please use `torch.amp.autocast('cuda', args...)` instead.\n",
      "  with autocast():\n",
      "/usr/local/lib/python3.11/dist-packages/torch/nn/modules/module.py:1750: FutureWarning: `encoder_attention_mask` is deprecated and will be removed in version 4.55.0 for `RobertaSdpaSelfAttention.forward`.\n",
      "  return forward_call(*args, **kwargs)\n",
      "Training: 100%|██████████████████████████████| 1563/1563 [03:33<00:00,  7.32it/s, Loss=0.4486, Acc=0\n"
     ]
    },
    {
     "name": "stdout",
     "output_type": "stream",
     "text": [
      "\n",
      "📋 Validation Phase...\n"
     ]
    },
    {
     "name": "stderr",
     "output_type": "stream",
     "text": [
      "Validation:   0%|                              | 0/273 [00:00<?, ?it/s]                             /tmp/ipython-input-3553570516.py:135: FutureWarning: `torch.cuda.amp.autocast(args...)` is deprecated. Please use `torch.amp.autocast('cuda', args...)` instead.\n",
      "  with autocast():\n",
      "Validation: 100%|██████████████████████████████| 273/273 [00:08<00:00, 32.65it/s, Loss=0.8929, Acc=0\n",
      "/tmp/ipython-input-3553570516.py:61: FutureWarning: `torch.cuda.amp.GradScaler(args...)` is deprecated. Please use `torch.amp.GradScaler('cuda', args...)` instead.\n",
      "  scaler = GradScaler()\n"
     ]
    },
    {
     "name": "stdout",
     "output_type": "stream",
     "text": [
      "\n",
      "EPOCH 13 DETAILED SUMMARY\n",
      "========================================================================================================================\n",
      "Epoch Time: 222.0s\n",
      "Training   - Loss: 0.448601 | Accuracy: 0.991270\n",
      "Validation - Loss: 0.892908 | Accuracy: 0.848290\n",
      "Overall    - F1: 0.850031 | Precision: 0.849797 | Recall: 0.855105\n",
      "Metrics    - MAE: 0.170530 | Adjacent Acc: 0.983934 | QWK: 0.933975\n",
      "\n",
      "────────────────────────────────────────────────────────────────────────────────────────────────────────────────────────\n",
      "PER-CLASS BREAKDOWN:\n",
      "────────────────────────────────────────────────────────────────────────────────────────────────────────────────────────\n",
      "Class                F1         Precision    Recall     Accuracy  \n",
      "─────────────────────────────────────────────────────────────────\n",
      "Extremely Negative   0.864975   0.857143     0.872951   0.872951  \n",
      "Negative             0.799057   0.867008     0.740984   0.740984  \n",
      "Neutral              0.841723   0.781310     0.912261   0.912261  \n",
      "Positive             0.850081   0.879296     0.822745   0.822745  \n",
      "Extremely Positive   0.894319   0.864227     0.926582   0.926582  \n",
      "========================================================================================================================\n",
      "QWK: 0.9340 (best: 0.9361 at epoch 12)\n",
      "📉 QWK: 0.9340 (best: 0.9361 at epoch 12)\n",
      "\n",
      "EPOCH 14/15\n",
      "--------------------------------------------------\n"
     ]
    },
    {
     "name": "stderr",
     "output_type": "stream",
     "text": [
      "\r",
      "Training:   0%|                              | 0/1563 [00:00<?, ?it/s]                              /tmp/ipython-input-3553570516.py:75: FutureWarning: `torch.cuda.amp.autocast(args...)` is deprecated. Please use `torch.amp.autocast('cuda', args...)` instead.\n",
      "  with autocast():\n",
      "/usr/local/lib/python3.11/dist-packages/torch/nn/modules/module.py:1750: FutureWarning: `encoder_attention_mask` is deprecated and will be removed in version 4.55.0 for `RobertaSdpaSelfAttention.forward`.\n",
      "  return forward_call(*args, **kwargs)\n",
      "Training: 100%|██████████████████████████████| 1563/1563 [03:34<00:00,  7.30it/s, Loss=0.4357, Acc=0\n"
     ]
    },
    {
     "name": "stdout",
     "output_type": "stream",
     "text": [
      "\n",
      "📋 Validation Phase...\n"
     ]
    },
    {
     "name": "stderr",
     "output_type": "stream",
     "text": [
      "Validation:   0%|                              | 0/273 [00:00<?, ?it/s]                             /tmp/ipython-input-3553570516.py:135: FutureWarning: `torch.cuda.amp.autocast(args...)` is deprecated. Please use `torch.amp.autocast('cuda', args...)` instead.\n",
      "  with autocast():\n",
      "Validation: 100%|██████████████████████████████| 273/273 [00:08<00:00, 33.05it/s, Loss=0.9015, Acc=0\n",
      "/tmp/ipython-input-3553570516.py:61: FutureWarning: `torch.cuda.amp.GradScaler(args...)` is deprecated. Please use `torch.amp.GradScaler('cuda', args...)` instead.\n",
      "  scaler = GradScaler()\n"
     ]
    },
    {
     "name": "stdout",
     "output_type": "stream",
     "text": [
      "\n",
      "EPOCH 14 DETAILED SUMMARY\n",
      "========================================================================================================================\n",
      "Epoch Time: 222.4s\n",
      "Training   - Loss: 0.435717 | Accuracy: 0.996032\n",
      "Validation - Loss: 0.901549 | Accuracy: 0.845536\n",
      "Overall    - F1: 0.847920 | Precision: 0.845202 | Recall: 0.855896\n",
      "Metrics    - MAE: 0.172137 | Adjacent Acc: 0.984163 | QWK: 0.935255\n",
      "\n",
      "────────────────────────────────────────────────────────────────────────────────────────────────────────────────────────\n",
      "PER-CLASS BREAKDOWN:\n",
      "────────────────────────────────────────────────────────────────────────────────────────────────────────────────────────\n",
      "Class                F1         Precision    Recall     Accuracy  \n",
      "─────────────────────────────────────────────────────────────────\n",
      "Extremely Negative   0.863636   0.833969     0.895492   0.895492  \n",
      "Negative             0.798591   0.862944     0.743169   0.743169  \n",
      "Neutral              0.840083   0.780135     0.910011   0.910011  \n",
      "Positive             0.841458   0.880789     0.805490   0.805490  \n",
      "Extremely Positive   0.895833   0.868171     0.925316   0.925316  \n",
      "========================================================================================================================\n",
      "QWK: 0.9353 (best: 0.9361 at epoch 12)\n",
      "📉 QWK: 0.9353 (best: 0.9361 at epoch 12)\n",
      "\n",
      "EPOCH 15/15\n",
      "--------------------------------------------------\n"
     ]
    },
    {
     "name": "stderr",
     "output_type": "stream",
     "text": [
      "\r",
      "Training:   0%|                              | 0/1563 [00:00<?, ?it/s]                              /tmp/ipython-input-3553570516.py:75: FutureWarning: `torch.cuda.amp.autocast(args...)` is deprecated. Please use `torch.amp.autocast('cuda', args...)` instead.\n",
      "  with autocast():\n",
      "/usr/local/lib/python3.11/dist-packages/torch/nn/modules/module.py:1750: FutureWarning: `encoder_attention_mask` is deprecated and will be removed in version 4.55.0 for `RobertaSdpaSelfAttention.forward`.\n",
      "  return forward_call(*args, **kwargs)\n",
      "Training: 100%|██████████████████████████████| 1563/1563 [03:33<00:00,  7.31it/s, Loss=0.4409, Acc=0\n"
     ]
    },
    {
     "name": "stdout",
     "output_type": "stream",
     "text": [
      "\n",
      "📋 Validation Phase...\n"
     ]
    },
    {
     "name": "stderr",
     "output_type": "stream",
     "text": [
      "Validation:   0%|                              | 0/273 [00:00<?, ?it/s]                             /tmp/ipython-input-3553570516.py:135: FutureWarning: `torch.cuda.amp.autocast(args...)` is deprecated. Please use `torch.amp.autocast('cuda', args...)` instead.\n",
      "  with autocast():\n",
      "Validation: 100%|██████████████████████████████| 273/273 [00:08<00:00, 33.39it/s, Loss=0.8962, Acc=0\n"
     ]
    },
    {
     "name": "stdout",
     "output_type": "stream",
     "text": [
      "\n",
      "EPOCH 15 DETAILED SUMMARY\n",
      "========================================================================================================================\n",
      "Epoch Time: 221.9s\n",
      "Training   - Loss: 0.440938 | Accuracy: 0.994444\n",
      "Validation - Loss: 0.896250 | Accuracy: 0.847143\n",
      "Overall    - F1: 0.849222 | Precision: 0.846925 | Recall: 0.856160\n",
      "Metrics    - MAE: 0.170530 | Adjacent Acc: 0.984163 | QWK: 0.935628\n",
      "\n",
      "────────────────────────────────────────────────────────────────────────────────────────────────────────────────────────\n",
      "PER-CLASS BREAKDOWN:\n",
      "────────────────────────────────────────────────────────────────────────────────────────────────────────────────────────\n",
      "Class                F1         Precision    Recall     Accuracy  \n",
      "─────────────────────────────────────────────────────────────────\n",
      "Extremely Negative   0.863682   0.839458     0.889344   0.889344  \n",
      "Negative             0.798827   0.862025     0.744262   0.744262  \n",
      "Neutral              0.841941   0.785019     0.907762   0.907762  \n",
      "Positive             0.845277   0.878916     0.814118   0.814118  \n",
      "Extremely Positive   0.896383   0.869203     0.925316   0.925316  \n",
      "========================================================================================================================\n",
      "QWK: 0.9356 (best: 0.9361 at epoch 12)\n",
      "📉 QWK: 0.9356 (best: 0.9361 at epoch 12)\n",
      "\n",
      "⏹️  EARLY STOPPING triggered at epoch 15\n",
      "    No improvement in QWK for 2 epochs\n",
      "\n",
      "============================================================\n",
      "TRAINING COMPLETED\n",
      "============================================================\n",
      "Best QWK: 0.9361 (Epoch 12)\n",
      "Total Epochs: 15\n",
      "Model Size: 514.62 MB\n",
      "Parameters: 134,903,813 total, 134,903,813 trainable\n",
      "Inference Time: 105.77 ms per sample\n",
      "Efficiency: 134.9M params, 105.8ms\n",
      "============================================================\n",
      "✅ Trial checkpoint saved: ./checkpoints_bert/trial_1/final_epoch_15.ckpt\n",
      "✅ Model files saved in: ./checkpoints_bert/trial_1\n",
      "📊 Trial 1 score: 0.9361 (Best: 0.9366)\n"
     ]
    },
    {
     "data": {
      "text/html": [],
      "text/plain": [
       "<IPython.core.display.HTML object>"
      ]
     },
     "metadata": {},
     "output_type": "display_data"
    },
    {
     "data": {
      "text/html": [
       "<br>    <style><br>        .wandb-row {<br>            display: flex;<br>            flex-direction: row;<br>            flex-wrap: wrap;<br>            justify-content: flex-start;<br>            width: 100%;<br>        }<br>        .wandb-col {<br>            display: flex;<br>            flex-direction: column;<br>            flex-basis: 100%;<br>            flex: 1;<br>            padding: 10px;<br>        }<br>    </style><br><div class=\"wandb-row\"><div class=\"wandb-col\"><h3>Run history:</h3><br/><table class=\"wandb\"><tr><td>Epoch</td><td>▁▁▂▃▃▃▄▅▅▅▆▇▇▇█</td></tr><tr><td>Epoch_Time</td><td>█▄▂▂▃▃▃▁▁▁▂▂▂▅▂</td></tr><tr><td>Inference Time (ms)</td><td>▁▁▁▁▁▁▁▁▁▁▁▁▁▁▁</td></tr><tr><td>Learning_Rate</td><td>▅██▇▇▆▆▅▄▃▂▂▁▁▁</td></tr><tr><td>Model Size (MB)</td><td>▁▁▁▁▁▁▁▁▁▁▁▁▁▁▁</td></tr><tr><td>Parameters per MB</td><td>▁▁▁▁▁▁▁▁▁▁▁▁▁▁▁</td></tr><tr><td>Total Parameters</td><td>▁▁▁▁▁▁▁▁▁▁▁▁▁▁▁</td></tr><tr><td>Train Accuracy</td><td>▁▄▅▆▆▇▇▇▇██████</td></tr><tr><td>Train Loss</td><td>█▅▄▃▃▃▂▂▂▁▁▁▁▁▁</td></tr><tr><td>Trainable Parameters</td><td>▁▁▁▁▁▁▁▁▁▁▁▁▁▁▁</td></tr><tr><td>Validation Accuracy</td><td>▁▆▅▇▆▇████▇████</td></tr><tr><td>Validation Adjacent Accuracy</td><td>▁▃▄▅▅▆▆▇▇██████</td></tr><tr><td>Validation F1</td><td>▁▆▄▇▆▇████▇████</td></tr><tr><td>Validation Loss</td><td>█▂▄▁▂▁▁▂▂▃▄▃▃▄▃</td></tr><tr><td>Validation MAE</td><td>█▄▄▂▃▂▁▁▁▁▂▁▁▁▁</td></tr><tr><td>Validation Precision</td><td>▁▆▄▆▆▇█▇██▇████</td></tr><tr><td>Validation QWK</td><td>▁▄▄▆▆▇▇█▇██████</td></tr><tr><td>Validation Recall</td><td>▁▆▅▇▆▇▇████████</td></tr></table><br/></div><div class=\"wandb-col\"><h3>Run summary:</h3><br/><table class=\"wandb\"><tr><td>Epoch</td><td>15</td></tr><tr><td>Epoch_Time</td><td>221.93337</td></tr><tr><td>Inference Time (ms)</td><td>105.77195</td></tr><tr><td>Learning_Rate</td><td>0</td></tr><tr><td>Model Size (MB)</td><td>514.61919</td></tr><tr><td>Parameters per MB</td><td>262142.98954</td></tr><tr><td>Total Parameters</td><td>134903813</td></tr><tr><td>Train Accuracy</td><td>0.99444</td></tr><tr><td>Train Loss</td><td>0.44094</td></tr><tr><td>Trainable Parameters</td><td>134903813</td></tr><tr><td>Validation Accuracy</td><td>0.84714</td></tr><tr><td>Validation Adjacent Accuracy</td><td>0.98416</td></tr><tr><td>Validation F1</td><td>0.84922</td></tr><tr><td>Validation Loss</td><td>0.89625</td></tr><tr><td>Validation MAE</td><td>0.17053</td></tr><tr><td>Validation Precision</td><td>0.84692</td></tr><tr><td>Validation QWK</td><td>0.93563</td></tr><tr><td>Validation Recall</td><td>0.85616</td></tr></table><br/></div></div>"
      ],
      "text/plain": [
       "<IPython.core.display.HTML object>"
      ]
     },
     "metadata": {},
     "output_type": "display_data"
    },
    {
     "data": {
      "text/html": [
       " View run <strong style=\"color:#cdcd00\">bertweet-base-sentiment-analysis_trial_1</strong> at: <a href='https://wandb.ai/mayachn3-maya-bondar/sentiment-full-bert/runs/c9dsso6f' target=\"_blank\">https://wandb.ai/mayachn3-maya-bondar/sentiment-full-bert/runs/c9dsso6f</a><br> View project at: <a href='https://wandb.ai/mayachn3-maya-bondar/sentiment-full-bert' target=\"_blank\">https://wandb.ai/mayachn3-maya-bondar/sentiment-full-bert</a><br>Synced 5 W&B file(s), 0 media file(s), 0 artifact file(s) and 0 other file(s)"
      ],
      "text/plain": [
       "<IPython.core.display.HTML object>"
      ]
     },
     "metadata": {},
     "output_type": "display_data"
    },
    {
     "data": {
      "text/html": [
       "Find logs at: <code>./wandb/run-20250802_060902-c9dsso6f/logs</code>"
      ],
      "text/plain": [
       "<IPython.core.display.HTML object>"
      ]
     },
     "metadata": {},
     "output_type": "display_data"
    },
    {
     "name": "stderr",
     "output_type": "stream",
     "text": [
      "[I 2025-08-02 07:06:20,342] Trial 1 finished with value: 0.9361276398133396 and parameters: {'learning_rate': 4.570195370569955e-05, 'batch_size': 16, 'label_smoothing': 0.11196125036101309, 'epochs': 15, 'warmup_ratio': 0.11199151048649855, 'weight_decay': 0.10019252204650037, 'attention_dropout': 0.3425873629760852, 'hidden_dropout': 0.36120517172971595}. Best is trial 0 with value: 0.9365934028477956.\n",
      "Some weights of RobertaForSequenceClassification were not initialized from the model checkpoint at finiteautomata/bertweet-base-sentiment-analysis and are newly initialized because the shapes did not match:\n",
      "- classifier.out_proj.weight: found shape torch.Size([3, 768]) in the checkpoint and torch.Size([5, 768]) in the model instantiated\n",
      "- classifier.out_proj.bias: found shape torch.Size([3]) in the checkpoint and torch.Size([5]) in the model instantiated\n",
      "You should probably TRAIN this model on a down-stream task to be able to use it for predictions and inference.\n"
     ]
    },
    {
     "data": {
      "text/html": [
       "Tracking run with wandb version 0.21.0"
      ],
      "text/plain": [
       "<IPython.core.display.HTML object>"
      ]
     },
     "metadata": {},
     "output_type": "display_data"
    },
    {
     "data": {
      "text/html": [
       "Run data is saved locally in <code>/content/deep-learning-project/wandb/run-20250802_070621-os7s7ihs</code>"
      ],
      "text/plain": [
       "<IPython.core.display.HTML object>"
      ]
     },
     "metadata": {},
     "output_type": "display_data"
    },
    {
     "data": {
      "text/html": [
       "Syncing run <strong><a href='https://wandb.ai/mayachn3-maya-bondar/sentiment-full-bert/runs/os7s7ihs' target=\"_blank\">bertweet-base-sentiment-analysis_trial_2</a></strong> to <a href='https://wandb.ai/mayachn3-maya-bondar/sentiment-full-bert' target=\"_blank\">Weights & Biases</a> (<a href='https://wandb.me/developer-guide' target=\"_blank\">docs</a>)<br>"
      ],
      "text/plain": [
       "<IPython.core.display.HTML object>"
      ]
     },
     "metadata": {},
     "output_type": "display_data"
    },
    {
     "data": {
      "text/html": [
       " View project at <a href='https://wandb.ai/mayachn3-maya-bondar/sentiment-full-bert' target=\"_blank\">https://wandb.ai/mayachn3-maya-bondar/sentiment-full-bert</a>"
      ],
      "text/plain": [
       "<IPython.core.display.HTML object>"
      ]
     },
     "metadata": {},
     "output_type": "display_data"
    },
    {
     "data": {
      "text/html": [
       " View run at <a href='https://wandb.ai/mayachn3-maya-bondar/sentiment-full-bert/runs/os7s7ihs' target=\"_blank\">https://wandb.ai/mayachn3-maya-bondar/sentiment-full-bert/runs/os7s7ihs</a>"
      ],
      "text/plain": [
       "<IPython.core.display.HTML object>"
      ]
     },
     "metadata": {},
     "output_type": "display_data"
    },
    {
     "name": "stderr",
     "output_type": "stream",
     "text": [
      "/usr/local/lib/python3.11/dist-packages/torch/nn/modules/module.py:1750: FutureWarning: `encoder_attention_mask` is deprecated and will be removed in version 4.55.0 for `RobertaSdpaSelfAttention.forward`.\n",
      "  return forward_call(*args, **kwargs)\n",
      "/tmp/ipython-input-3553570516.py:61: FutureWarning: `torch.cuda.amp.GradScaler(args...)` is deprecated. Please use `torch.amp.GradScaler('cuda', args...)` instead.\n",
      "  scaler = GradScaler()\n"
     ]
    },
    {
     "name": "stdout",
     "output_type": "stream",
     "text": [
      "============================================================\n",
      "STARTING TRAINING\n",
      "============================================================\n",
      "Training Configuration:\n",
      "   • Device: cuda\n",
      "   • Model Size: 514.62 MB\n",
      "   • Total Parameters: 134,903,813\n",
      "   • Trainable Parameters: 134,903,813\n",
      "   • Avg Inference Time: 106.35 ms\n",
      "   • Total Epochs: 12\n",
      "   • Train Batches: 1563\n",
      "   • Validation Batches: 273\n",
      "   • Learning Rate: 0.00e+00\n",
      "   • Batch Size: 16\n",
      "============================================================\n",
      "\n",
      "EPOCH 1/12\n",
      "--------------------------------------------------\n"
     ]
    },
    {
     "name": "stderr",
     "output_type": "stream",
     "text": [
      "Training:   0%|                              | 0/1563 [00:00<?, ?it/s]                              /tmp/ipython-input-3553570516.py:75: FutureWarning: `torch.cuda.amp.autocast(args...)` is deprecated. Please use `torch.amp.autocast('cuda', args...)` instead.\n",
      "  with autocast():\n",
      "Training: 100%|██████████████████████████████| 1563/1563 [03:34<00:00,  7.29it/s, Loss=1.1386, Acc=0\n"
     ]
    },
    {
     "name": "stdout",
     "output_type": "stream",
     "text": [
      "\n",
      "📋 Validation Phase...\n"
     ]
    },
    {
     "name": "stderr",
     "output_type": "stream",
     "text": [
      "\r",
      "Validation:   0%|                              | 0/273 [00:00<?, ?it/s]                             /tmp/ipython-input-3553570516.py:135: FutureWarning: `torch.cuda.amp.autocast(args...)` is deprecated. Please use `torch.amp.autocast('cuda', args...)` instead.\n",
      "  with autocast():\n",
      "Validation: 100%|██████████████████████████████| 273/273 [00:08<00:00, 32.58it/s, Loss=0.9639, Acc=0\n",
      "/tmp/ipython-input-3553570516.py:61: FutureWarning: `torch.cuda.amp.GradScaler(args...)` is deprecated. Please use `torch.amp.GradScaler('cuda', args...)` instead.\n",
      "  scaler = GradScaler()\n"
     ]
    },
    {
     "name": "stdout",
     "output_type": "stream",
     "text": [
      "\n",
      "EPOCH 1 DETAILED SUMMARY\n",
      "========================================================================================================================\n",
      "Epoch Time: 222.7s\n",
      "Training   - Loss: 1.138562 | Accuracy: 0.623810\n",
      "Validation - Loss: 0.963892 | Accuracy: 0.762451\n",
      "Overall    - F1: 0.765729 | Precision: 0.761940 | Recall: 0.774810\n",
      "Metrics    - MAE: 0.301813 | Adjacent Acc: 0.943310 | QWK: 0.865491\n",
      "\n",
      "────────────────────────────────────────────────────────────────────────────────────────────────────────────────────────\n",
      "PER-CLASS BREAKDOWN:\n",
      "────────────────────────────────────────────────────────────────────────────────────────────────────────────────────────\n",
      "Class                F1         Precision    Recall     Accuracy  \n",
      "─────────────────────────────────────────────────────────────────\n",
      "Extremely Negative   0.778182   0.699346     0.877049   0.877049  \n",
      "Negative             0.667422   0.692941     0.643716   0.643716  \n",
      "Neutral              0.822616   0.810929     0.834646   0.834646  \n",
      "Positive             0.751377   0.753749     0.749020   0.749020  \n",
      "Extremely Positive   0.809049   0.852735     0.769620   0.769620  \n",
      "========================================================================================================================\n",
      "New best QWK: 0.8655 (saved model)\n",
      "🌟 New best QWK: 0.8655 (saved model)\n",
      "\n",
      "EPOCH 2/12\n",
      "--------------------------------------------------\n"
     ]
    },
    {
     "name": "stderr",
     "output_type": "stream",
     "text": [
      "\r",
      "Training:   0%|                              | 0/1563 [00:00<?, ?it/s]                              /tmp/ipython-input-3553570516.py:75: FutureWarning: `torch.cuda.amp.autocast(args...)` is deprecated. Please use `torch.amp.autocast('cuda', args...)` instead.\n",
      "  with autocast():\n",
      "/usr/local/lib/python3.11/dist-packages/torch/nn/modules/module.py:1750: FutureWarning: `encoder_attention_mask` is deprecated and will be removed in version 4.55.0 for `RobertaSdpaSelfAttention.forward`.\n",
      "  return forward_call(*args, **kwargs)\n",
      "Training: 100%|██████████████████████████████| 1563/1563 [03:33<00:00,  7.31it/s, Loss=0.8694, Acc=0\n"
     ]
    },
    {
     "name": "stdout",
     "output_type": "stream",
     "text": [
      "\n",
      "📋 Validation Phase...\n"
     ]
    },
    {
     "name": "stderr",
     "output_type": "stream",
     "text": [
      "Validation:   0%|                              | 0/273 [00:00<?, ?it/s]                             /tmp/ipython-input-3553570516.py:135: FutureWarning: `torch.cuda.amp.autocast(args...)` is deprecated. Please use `torch.amp.autocast('cuda', args...)` instead.\n",
      "  with autocast():\n",
      "Validation: 100%|██████████████████████████████| 273/273 [00:08<00:00, 33.74it/s, Loss=0.9284, Acc=0\n",
      "/tmp/ipython-input-3553570516.py:61: FutureWarning: `torch.cuda.amp.GradScaler(args...)` is deprecated. Please use `torch.amp.GradScaler('cuda', args...)` instead.\n",
      "  scaler = GradScaler()\n"
     ]
    },
    {
     "name": "stdout",
     "output_type": "stream",
     "text": [
      "\n",
      "EPOCH 2 DETAILED SUMMARY\n",
      "========================================================================================================================\n",
      "Epoch Time: 221.9s\n",
      "Training   - Loss: 0.869402 | Accuracy: 0.803968\n",
      "Validation - Loss: 0.928365 | Accuracy: 0.784714\n",
      "Overall    - F1: 0.786550 | Precision: 0.781296 | Recall: 0.808655\n",
      "Metrics    - MAE: 0.264173 | Adjacent Acc: 0.955474 | QWK: 0.894719\n",
      "\n",
      "────────────────────────────────────────────────────────────────────────────────────────────────────────────────────────\n",
      "PER-CLASS BREAKDOWN:\n",
      "────────────────────────────────────────────────────────────────────────────────────────────────────────────────────────\n",
      "Class                F1         Precision    Recall     Accuracy  \n",
      "─────────────────────────────────────────────────────────────────\n",
      "Extremely Negative   0.785030   0.682300     0.924180   0.924180  \n",
      "Negative             0.702638   0.778220     0.640437   0.640437  \n",
      "Neutral              0.873469   0.906780     0.842520   0.842520  \n",
      "Positive             0.751154   0.807762     0.701961   0.701961  \n",
      "Extremely Positive   0.820456   0.731417     0.934177   0.934177  \n",
      "========================================================================================================================\n",
      "New best QWK: 0.8947 (saved model)\n",
      "🌟 New best QWK: 0.8947 (saved model)\n",
      "\n",
      "EPOCH 3/12\n",
      "--------------------------------------------------\n"
     ]
    },
    {
     "name": "stderr",
     "output_type": "stream",
     "text": [
      "\r",
      "Training:   0%|                              | 0/1563 [00:00<?, ?it/s]                              /tmp/ipython-input-3553570516.py:75: FutureWarning: `torch.cuda.amp.autocast(args...)` is deprecated. Please use `torch.amp.autocast('cuda', args...)` instead.\n",
      "  with autocast():\n",
      "/usr/local/lib/python3.11/dist-packages/torch/nn/modules/module.py:1750: FutureWarning: `encoder_attention_mask` is deprecated and will be removed in version 4.55.0 for `RobertaSdpaSelfAttention.forward`.\n",
      "  return forward_call(*args, **kwargs)\n",
      "Training: 100%|██████████████████████████████| 1563/1563 [03:34<00:00,  7.30it/s, Loss=0.7925, Acc=0\n"
     ]
    },
    {
     "name": "stdout",
     "output_type": "stream",
     "text": [
      "\n",
      "📋 Validation Phase...\n"
     ]
    },
    {
     "name": "stderr",
     "output_type": "stream",
     "text": [
      "Validation:   0%|                              | 0/273 [00:00<?, ?it/s]                             /tmp/ipython-input-3553570516.py:135: FutureWarning: `torch.cuda.amp.autocast(args...)` is deprecated. Please use `torch.amp.autocast('cuda', args...)` instead.\n",
      "  with autocast():\n",
      "Validation: 100%|██████████████████████████████| 273/273 [00:08<00:00, 31.70it/s, Loss=0.8805, Acc=0\n",
      "/tmp/ipython-input-3553570516.py:61: FutureWarning: `torch.cuda.amp.GradScaler(args...)` is deprecated. Please use `torch.amp.GradScaler('cuda', args...)` instead.\n",
      "  scaler = GradScaler()\n"
     ]
    },
    {
     "name": "stdout",
     "output_type": "stream",
     "text": [
      "\n",
      "EPOCH 3 DETAILED SUMMARY\n",
      "========================================================================================================================\n",
      "Epoch Time: 222.8s\n",
      "Training   - Loss: 0.792511 | Accuracy: 0.858730\n",
      "Validation - Loss: 0.880527 | Accuracy: 0.816617\n",
      "Overall    - F1: 0.822056 | Precision: 0.829946 | Recall: 0.821255\n",
      "Metrics    - MAE: 0.224466 | Adjacent Acc: 0.962359 | QWK: 0.905765\n",
      "\n",
      "────────────────────────────────────────────────────────────────────────────────────────────────────────────────────────\n",
      "PER-CLASS BREAKDOWN:\n",
      "────────────────────────────────────────────────────────────────────────────────────────────────────────────────────────\n",
      "Class                F1         Precision    Recall     Accuracy  \n",
      "─────────────────────────────────────────────────────────────────\n",
      "Extremely Negative   0.832609   0.886574     0.784836   0.784836  \n",
      "Negative             0.796565   0.782700     0.810929   0.810929  \n",
      "Neutral              0.863500   0.927649     0.807649   0.807649  \n",
      "Positive             0.778534   0.795417     0.762353   0.762353  \n",
      "Extremely Positive   0.839074   0.757390     0.940506   0.940506  \n",
      "========================================================================================================================\n",
      "New best QWK: 0.9058 (saved model)\n",
      "🌟 New best QWK: 0.9058 (saved model)\n",
      "\n",
      "EPOCH 4/12\n",
      "--------------------------------------------------\n"
     ]
    },
    {
     "name": "stderr",
     "output_type": "stream",
     "text": [
      "\r",
      "Training:   0%|                              | 0/1563 [00:00<?, ?it/s]                              /tmp/ipython-input-3553570516.py:75: FutureWarning: `torch.cuda.amp.autocast(args...)` is deprecated. Please use `torch.amp.autocast('cuda', args...)` instead.\n",
      "  with autocast():\n",
      "/usr/local/lib/python3.11/dist-packages/torch/nn/modules/module.py:1750: FutureWarning: `encoder_attention_mask` is deprecated and will be removed in version 4.55.0 for `RobertaSdpaSelfAttention.forward`.\n",
      "  return forward_call(*args, **kwargs)\n",
      "Training: 100%|██████████████████████████████| 1563/1563 [03:34<00:00,  7.30it/s, Loss=0.7428, Acc=0\n"
     ]
    },
    {
     "name": "stdout",
     "output_type": "stream",
     "text": [
      "\n",
      "📋 Validation Phase...\n"
     ]
    },
    {
     "name": "stderr",
     "output_type": "stream",
     "text": [
      "Validation:   0%|                              | 0/273 [00:00<?, ?it/s]                             /tmp/ipython-input-3553570516.py:135: FutureWarning: `torch.cuda.amp.autocast(args...)` is deprecated. Please use `torch.amp.autocast('cuda', args...)` instead.\n",
      "  with autocast():\n",
      "Validation: 100%|██████████████████████████████| 273/273 [00:08<00:00, 33.00it/s, Loss=0.9040, Acc=0\n",
      "/tmp/ipython-input-3553570516.py:61: FutureWarning: `torch.cuda.amp.GradScaler(args...)` is deprecated. Please use `torch.amp.GradScaler('cuda', args...)` instead.\n",
      "  scaler = GradScaler()\n"
     ]
    },
    {
     "name": "stdout",
     "output_type": "stream",
     "text": [
      "\n",
      "EPOCH 4 DETAILED SUMMARY\n",
      "========================================================================================================================\n",
      "Epoch Time: 222.4s\n",
      "Training   - Loss: 0.742778 | Accuracy: 0.886905\n",
      "Validation - Loss: 0.903991 | Accuracy: 0.813174\n",
      "Overall    - F1: 0.819002 | Precision: 0.818160 | Recall: 0.826026\n",
      "Metrics    - MAE: 0.240303 | Adjacent Acc: 0.949277 | QWK: 0.894516\n",
      "\n",
      "────────────────────────────────────────────────────────────────────────────────────────────────────────────────────────\n",
      "PER-CLASS BREAKDOWN:\n",
      "────────────────────────────────────────────────────────────────────────────────────────────────────────────────────────\n",
      "Class                F1         Precision    Recall     Accuracy  \n",
      "─────────────────────────────────────────────────────────────────\n",
      "Extremely Negative   0.825722   0.757265     0.907787   0.907787  \n",
      "Negative             0.736949   0.687146     0.794536   0.794536  \n",
      "Neutral              0.875516   0.920596     0.834646   0.834646  \n",
      "Positive             0.797231   0.828959     0.767843   0.767843  \n",
      "Extremely Positive   0.859591   0.896836     0.825316   0.825316  \n",
      "========================================================================================================================\n",
      "QWK: 0.8945 (best: 0.9058 at epoch 3)\n",
      "📉 QWK: 0.8945 (best: 0.9058 at epoch 3)\n",
      "\n",
      "EPOCH 5/12\n",
      "--------------------------------------------------\n"
     ]
    },
    {
     "name": "stderr",
     "output_type": "stream",
     "text": [
      "\r",
      "Training:   0%|                              | 0/1563 [00:00<?, ?it/s]                              /tmp/ipython-input-3553570516.py:75: FutureWarning: `torch.cuda.amp.autocast(args...)` is deprecated. Please use `torch.amp.autocast('cuda', args...)` instead.\n",
      "  with autocast():\n",
      "/usr/local/lib/python3.11/dist-packages/torch/nn/modules/module.py:1750: FutureWarning: `encoder_attention_mask` is deprecated and will be removed in version 4.55.0 for `RobertaSdpaSelfAttention.forward`.\n",
      "  return forward_call(*args, **kwargs)\n",
      "Training: 100%|██████████████████████████████| 1563/1563 [03:34<00:00,  7.30it/s, Loss=0.6982, Acc=0\n"
     ]
    },
    {
     "name": "stdout",
     "output_type": "stream",
     "text": [
      "\n",
      "📋 Validation Phase...\n"
     ]
    },
    {
     "name": "stderr",
     "output_type": "stream",
     "text": [
      "Validation:   0%|                              | 0/273 [00:00<?, ?it/s]                             /tmp/ipython-input-3553570516.py:135: FutureWarning: `torch.cuda.amp.autocast(args...)` is deprecated. Please use `torch.amp.autocast('cuda', args...)` instead.\n",
      "  with autocast():\n",
      "Validation: 100%|██████████████████████████████| 273/273 [00:08<00:00, 33.77it/s, Loss=0.8632, Acc=0\n",
      "/tmp/ipython-input-3553570516.py:61: FutureWarning: `torch.cuda.amp.GradScaler(args...)` is deprecated. Please use `torch.amp.GradScaler('cuda', args...)` instead.\n",
      "  scaler = GradScaler()\n"
     ]
    },
    {
     "name": "stdout",
     "output_type": "stream",
     "text": [
      "\n",
      "EPOCH 5 DETAILED SUMMARY\n",
      "========================================================================================================================\n",
      "Epoch Time: 222.2s\n",
      "Training   - Loss: 0.698171 | Accuracy: 0.914683\n",
      "Validation - Loss: 0.863173 | Accuracy: 0.835896\n",
      "Overall    - F1: 0.837003 | Precision: 0.850422 | Recall: 0.828817\n",
      "Metrics    - MAE: 0.189580 | Adjacent Acc: 0.975442 | QWK: 0.922626\n",
      "\n",
      "────────────────────────────────────────────────────────────────────────────────────────────────────────────────────────\n",
      "PER-CLASS BREAKDOWN:\n",
      "────────────────────────────────────────────────────────────────────────────────────────────────────────────────────────\n",
      "Class                F1         Precision    Recall     Accuracy  \n",
      "─────────────────────────────────────────────────────────────────\n",
      "Extremely Negative   0.835040   0.938619     0.752049   0.752049  \n",
      "Negative             0.790083   0.796667     0.783607   0.783607  \n",
      "Neutral              0.843783   0.799597     0.893138   0.893138  \n",
      "Positive             0.835600   0.828197     0.843137   0.843137  \n",
      "Extremely Positive   0.880511   0.889032     0.872152   0.872152  \n",
      "========================================================================================================================\n",
      "New best QWK: 0.9226 (saved model)\n",
      "🌟 New best QWK: 0.9226 (saved model)\n",
      "\n",
      "EPOCH 6/12\n",
      "--------------------------------------------------\n"
     ]
    },
    {
     "name": "stderr",
     "output_type": "stream",
     "text": [
      "\r",
      "Training:   0%|                              | 0/1563 [00:00<?, ?it/s]                              /tmp/ipython-input-3553570516.py:75: FutureWarning: `torch.cuda.amp.autocast(args...)` is deprecated. Please use `torch.amp.autocast('cuda', args...)` instead.\n",
      "  with autocast():\n",
      "/usr/local/lib/python3.11/dist-packages/torch/nn/modules/module.py:1750: FutureWarning: `encoder_attention_mask` is deprecated and will be removed in version 4.55.0 for `RobertaSdpaSelfAttention.forward`.\n",
      "  return forward_call(*args, **kwargs)\n",
      "Training: 100%|██████████████████████████████| 1563/1563 [03:34<00:00,  7.30it/s, Loss=0.6747, Acc=0\n"
     ]
    },
    {
     "name": "stdout",
     "output_type": "stream",
     "text": [
      "\n",
      "📋 Validation Phase...\n"
     ]
    },
    {
     "name": "stderr",
     "output_type": "stream",
     "text": [
      "Validation:   0%|                              | 0/273 [00:00<?, ?it/s]                             /tmp/ipython-input-3553570516.py:135: FutureWarning: `torch.cuda.amp.autocast(args...)` is deprecated. Please use `torch.amp.autocast('cuda', args...)` instead.\n",
      "  with autocast():\n",
      "Validation: 100%|██████████████████████████████| 273/273 [00:07<00:00, 34.13it/s, Loss=0.8487, Acc=0\n",
      "/tmp/ipython-input-3553570516.py:61: FutureWarning: `torch.cuda.amp.GradScaler(args...)` is deprecated. Please use `torch.amp.GradScaler('cuda', args...)` instead.\n",
      "  scaler = GradScaler()\n"
     ]
    },
    {
     "name": "stdout",
     "output_type": "stream",
     "text": [
      "\n",
      "EPOCH 6 DETAILED SUMMARY\n",
      "========================================================================================================================\n",
      "Epoch Time: 222.2s\n",
      "Training   - Loss: 0.674712 | Accuracy: 0.930159\n",
      "Validation - Loss: 0.848748 | Accuracy: 0.854028\n",
      "Overall    - F1: 0.856158 | Precision: 0.853687 | Recall: 0.860148\n",
      "Metrics    - MAE: 0.169153 | Adjacent Acc: 0.978885 | QWK: 0.932843\n",
      "\n",
      "────────────────────────────────────────────────────────────────────────────────────────────────────────────────────────\n",
      "PER-CLASS BREAKDOWN:\n",
      "────────────────────────────────────────────────────────────────────────────────────────────────────────────────────────\n",
      "Class                F1         Precision    Recall     Accuracy  \n",
      "─────────────────────────────────────────────────────────────────\n",
      "Extremely Negative   0.870079   0.837121     0.905738   0.905738  \n",
      "Negative             0.808023   0.849398     0.770492   0.770492  \n",
      "Neutral              0.862315   0.841542     0.884139   0.884139  \n",
      "Positive             0.851765   0.851765     0.851765   0.851765  \n",
      "Extremely Positive   0.888608   0.888608     0.888608   0.888608  \n",
      "========================================================================================================================\n",
      "New best QWK: 0.9328 (saved model)\n",
      "🌟 New best QWK: 0.9328 (saved model)\n",
      "\n",
      "EPOCH 7/12\n",
      "--------------------------------------------------\n"
     ]
    },
    {
     "name": "stderr",
     "output_type": "stream",
     "text": [
      "\r",
      "Training:   0%|                              | 0/1563 [00:00<?, ?it/s]                              /tmp/ipython-input-3553570516.py:75: FutureWarning: `torch.cuda.amp.autocast(args...)` is deprecated. Please use `torch.amp.autocast('cuda', args...)` instead.\n",
      "  with autocast():\n",
      "/usr/local/lib/python3.11/dist-packages/torch/nn/modules/module.py:1750: FutureWarning: `encoder_attention_mask` is deprecated and will be removed in version 4.55.0 for `RobertaSdpaSelfAttention.forward`.\n",
      "  return forward_call(*args, **kwargs)\n",
      "Training: 100%|██████████████████████████████| 1563/1563 [03:33<00:00,  7.31it/s, Loss=0.6318, Acc=0\n"
     ]
    },
    {
     "name": "stdout",
     "output_type": "stream",
     "text": [
      "\n",
      "📋 Validation Phase...\n"
     ]
    },
    {
     "name": "stderr",
     "output_type": "stream",
     "text": [
      "Validation:   0%|                              | 0/273 [00:00<?, ?it/s]                             /tmp/ipython-input-3553570516.py:135: FutureWarning: `torch.cuda.amp.autocast(args...)` is deprecated. Please use `torch.amp.autocast('cuda', args...)` instead.\n",
      "  with autocast():\n",
      "Validation: 100%|██████████████████████████████| 273/273 [00:08<00:00, 33.42it/s, Loss=0.8808, Acc=0\n",
      "/tmp/ipython-input-3553570516.py:61: FutureWarning: `torch.cuda.amp.GradScaler(args...)` is deprecated. Please use `torch.amp.GradScaler('cuda', args...)` instead.\n",
      "  scaler = GradScaler()\n"
     ]
    },
    {
     "name": "stdout",
     "output_type": "stream",
     "text": [
      "\n",
      "EPOCH 7 DETAILED SUMMARY\n",
      "========================================================================================================================\n",
      "Epoch Time: 222.0s\n",
      "Training   - Loss: 0.631816 | Accuracy: 0.952381\n",
      "Validation - Loss: 0.880806 | Accuracy: 0.849897\n",
      "Overall    - F1: 0.850109 | Precision: 0.853347 | Recall: 0.848449\n",
      "Metrics    - MAE: 0.178104 | Adjacent Acc: 0.974294 | QWK: 0.926017\n",
      "\n",
      "────────────────────────────────────────────────────────────────────────────────────────────────────────────────────────\n",
      "PER-CLASS BREAKDOWN:\n",
      "────────────────────────────────────────────────────────────────────────────────────────────────────────────────────────\n",
      "Class                F1         Precision    Recall     Accuracy  \n",
      "─────────────────────────────────────────────────────────────────\n",
      "Extremely Negative   0.846885   0.873638     0.821721   0.821721  \n",
      "Negative             0.795872   0.837153     0.758470   0.758470  \n",
      "Neutral              0.867257   0.853101     0.881890   0.881890  \n",
      "Positive             0.849188   0.837529     0.861176   0.861176  \n",
      "Extremely Positive   0.891344   0.865316     0.918987   0.918987  \n",
      "========================================================================================================================\n",
      "QWK: 0.9260 (best: 0.9328 at epoch 6)\n",
      "📉 QWK: 0.9260 (best: 0.9328 at epoch 6)\n",
      "\n",
      "EPOCH 8/12\n",
      "--------------------------------------------------\n"
     ]
    },
    {
     "name": "stderr",
     "output_type": "stream",
     "text": [
      "\r",
      "Training:   0%|                              | 0/1563 [00:00<?, ?it/s]                              /tmp/ipython-input-3553570516.py:75: FutureWarning: `torch.cuda.amp.autocast(args...)` is deprecated. Please use `torch.amp.autocast('cuda', args...)` instead.\n",
      "  with autocast():\n",
      "/usr/local/lib/python3.11/dist-packages/torch/nn/modules/module.py:1750: FutureWarning: `encoder_attention_mask` is deprecated and will be removed in version 4.55.0 for `RobertaSdpaSelfAttention.forward`.\n",
      "  return forward_call(*args, **kwargs)\n",
      "Training: 100%|██████████████████████████████| 1563/1563 [03:33<00:00,  7.31it/s, Loss=0.6037, Acc=0\n"
     ]
    },
    {
     "name": "stdout",
     "output_type": "stream",
     "text": [
      "\n",
      "📋 Validation Phase...\n"
     ]
    },
    {
     "name": "stderr",
     "output_type": "stream",
     "text": [
      "Validation:   0%|                              | 0/273 [00:00<?, ?it/s]                             /tmp/ipython-input-3553570516.py:135: FutureWarning: `torch.cuda.amp.autocast(args...)` is deprecated. Please use `torch.amp.autocast('cuda', args...)` instead.\n",
      "  with autocast():\n",
      "Validation: 100%|██████████████████████████████| 273/273 [00:08<00:00, 33.30it/s, Loss=0.9206, Acc=0\n",
      "/tmp/ipython-input-3553570516.py:61: FutureWarning: `torch.cuda.amp.GradScaler(args...)` is deprecated. Please use `torch.amp.GradScaler('cuda', args...)` instead.\n",
      "  scaler = GradScaler()\n"
     ]
    },
    {
     "name": "stdout",
     "output_type": "stream",
     "text": [
      "\n",
      "EPOCH 8 DETAILED SUMMARY\n",
      "========================================================================================================================\n",
      "Epoch Time: 222.2s\n",
      "Training   - Loss: 0.603681 | Accuracy: 0.967460\n",
      "Validation - Loss: 0.920629 | Accuracy: 0.840028\n",
      "Overall    - F1: 0.844341 | Precision: 0.840248 | Recall: 0.850517\n",
      "Metrics    - MAE: 0.179481 | Adjacent Acc: 0.981868 | QWK: 0.932373\n",
      "\n",
      "────────────────────────────────────────────────────────────────────────────────────────────────────────────────────────\n",
      "PER-CLASS BREAKDOWN:\n",
      "────────────────────────────────────────────────────────────────────────────────────────────────────────────────────────\n",
      "Class                F1         Precision    Recall     Accuracy  \n",
      "─────────────────────────────────────────────────────────────────\n",
      "Extremely Negative   0.866667   0.830827     0.905738   0.905738  \n",
      "Negative             0.813026   0.836028     0.791257   0.791257  \n",
      "Neutral              0.835917   0.796334     0.879640   0.879640  \n",
      "Positive             0.826245   0.854271     0.800000   0.800000  \n",
      "Extremely Positive   0.879847   0.883780     0.875949   0.875949  \n",
      "========================================================================================================================\n",
      "QWK: 0.9324 (best: 0.9328 at epoch 6)\n",
      "📉 QWK: 0.9324 (best: 0.9328 at epoch 6)\n",
      "\n",
      "EPOCH 9/12\n",
      "--------------------------------------------------\n"
     ]
    },
    {
     "name": "stderr",
     "output_type": "stream",
     "text": [
      "\r",
      "Training:   0%|                              | 0/1563 [00:00<?, ?it/s]                              /tmp/ipython-input-3553570516.py:75: FutureWarning: `torch.cuda.amp.autocast(args...)` is deprecated. Please use `torch.amp.autocast('cuda', args...)` instead.\n",
      "  with autocast():\n",
      "/usr/local/lib/python3.11/dist-packages/torch/nn/modules/module.py:1750: FutureWarning: `encoder_attention_mask` is deprecated and will be removed in version 4.55.0 for `RobertaSdpaSelfAttention.forward`.\n",
      "  return forward_call(*args, **kwargs)\n",
      "Training: 100%|██████████████████████████████| 1563/1563 [03:33<00:00,  7.31it/s, Loss=0.5736, Acc=0\n"
     ]
    },
    {
     "name": "stdout",
     "output_type": "stream",
     "text": [
      "\n",
      "📋 Validation Phase...\n"
     ]
    },
    {
     "name": "stderr",
     "output_type": "stream",
     "text": [
      "Validation:   0%|                              | 0/273 [00:00<?, ?it/s]                             /tmp/ipython-input-3553570516.py:135: FutureWarning: `torch.cuda.amp.autocast(args...)` is deprecated. Please use `torch.amp.autocast('cuda', args...)` instead.\n",
      "  with autocast():\n",
      "Validation: 100%|██████████████████████████████| 273/273 [00:08<00:00, 32.70it/s, Loss=0.9221, Acc=0\n",
      "/tmp/ipython-input-3553570516.py:61: FutureWarning: `torch.cuda.amp.GradScaler(args...)` is deprecated. Please use `torch.amp.GradScaler('cuda', args...)` instead.\n",
      "  scaler = GradScaler()\n"
     ]
    },
    {
     "name": "stdout",
     "output_type": "stream",
     "text": [
      "\n",
      "EPOCH 9 DETAILED SUMMARY\n",
      "========================================================================================================================\n",
      "Epoch Time: 222.2s\n",
      "Training   - Loss: 0.573605 | Accuracy: 0.980556\n",
      "Validation - Loss: 0.922065 | Accuracy: 0.843929\n",
      "Overall    - F1: 0.845098 | Precision: 0.840601 | Recall: 0.854826\n",
      "Metrics    - MAE: 0.173973 | Adjacent Acc: 0.983704 | QWK: 0.935819\n",
      "\n",
      "────────────────────────────────────────────────────────────────────────────────────────────────────────────────────────\n",
      "PER-CLASS BREAKDOWN:\n",
      "────────────────────────────────────────────────────────────────────────────────────────────────────────────────────────\n",
      "Class                F1         Precision    Recall     Accuracy  \n",
      "─────────────────────────────────────────────────────────────────\n",
      "Extremely Negative   0.856585   0.817505     0.899590   0.899590  \n",
      "Negative             0.796948   0.860583     0.742077   0.742077  \n",
      "Neutral              0.845867   0.804260     0.892013   0.892013  \n",
      "Positive             0.843314   0.883921     0.806275   0.806275  \n",
      "Extremely Positive   0.882775   0.836735     0.934177   0.934177  \n",
      "========================================================================================================================\n",
      "New best QWK: 0.9358 (saved model)\n",
      "🌟 New best QWK: 0.9358 (saved model)\n",
      "\n",
      "EPOCH 10/12\n",
      "--------------------------------------------------\n"
     ]
    },
    {
     "name": "stderr",
     "output_type": "stream",
     "text": [
      "\r",
      "Training:   0%|                              | 0/1563 [00:00<?, ?it/s]                              /tmp/ipython-input-3553570516.py:75: FutureWarning: `torch.cuda.amp.autocast(args...)` is deprecated. Please use `torch.amp.autocast('cuda', args...)` instead.\n",
      "  with autocast():\n",
      "/usr/local/lib/python3.11/dist-packages/torch/nn/modules/module.py:1750: FutureWarning: `encoder_attention_mask` is deprecated and will be removed in version 4.55.0 for `RobertaSdpaSelfAttention.forward`.\n",
      "  return forward_call(*args, **kwargs)\n",
      "Training: 100%|██████████████████████████████| 1563/1563 [03:33<00:00,  7.31it/s, Loss=0.5607, Acc=0\n"
     ]
    },
    {
     "name": "stdout",
     "output_type": "stream",
     "text": [
      "\n",
      "📋 Validation Phase...\n"
     ]
    },
    {
     "name": "stderr",
     "output_type": "stream",
     "text": [
      "Validation:   0%|                              | 0/273 [00:00<?, ?it/s]                             /tmp/ipython-input-3553570516.py:135: FutureWarning: `torch.cuda.amp.autocast(args...)` is deprecated. Please use `torch.amp.autocast('cuda', args...)` instead.\n",
      "  with autocast():\n",
      "Validation: 100%|██████████████████████████████| 273/273 [00:08<00:00, 31.80it/s, Loss=0.9455, Acc=0\n",
      "/tmp/ipython-input-3553570516.py:61: FutureWarning: `torch.cuda.amp.GradScaler(args...)` is deprecated. Please use `torch.amp.GradScaler('cuda', args...)` instead.\n",
      "  scaler = GradScaler()\n"
     ]
    },
    {
     "name": "stdout",
     "output_type": "stream",
     "text": [
      "\n",
      "EPOCH 10 DETAILED SUMMARY\n",
      "========================================================================================================================\n",
      "Epoch Time: 222.3s\n",
      "Training   - Loss: 0.560733 | Accuracy: 0.986111\n",
      "Validation - Loss: 0.945462 | Accuracy: 0.841405\n",
      "Overall    - F1: 0.845215 | Precision: 0.841638 | Recall: 0.854071\n",
      "Metrics    - MAE: 0.175120 | Adjacent Acc: 0.984852 | QWK: 0.936035\n",
      "\n",
      "────────────────────────────────────────────────────────────────────────────────────────────────────────────────────────\n",
      "PER-CLASS BREAKDOWN:\n",
      "────────────────────────────────────────────────────────────────────────────────────────────────────────────────────────\n",
      "Class                F1         Precision    Recall     Accuracy  \n",
      "─────────────────────────────────────────────────────────────────\n",
      "Extremely Negative   0.869911   0.843931     0.897541   0.897541  \n",
      "Negative             0.812065   0.865266     0.765027   0.765027  \n",
      "Neutral              0.837087   0.783333     0.898763   0.898763  \n",
      "Positive             0.827586   0.879859     0.781176   0.781176  \n",
      "Extremely Positive   0.879424   0.835804     0.927848   0.927848  \n",
      "========================================================================================================================\n",
      "New best QWK: 0.9360 (saved model)\n",
      "🌟 New best QWK: 0.9360 (saved model)\n",
      "\n",
      "EPOCH 11/12\n",
      "--------------------------------------------------\n"
     ]
    },
    {
     "name": "stderr",
     "output_type": "stream",
     "text": [
      "\r",
      "Training:   0%|                              | 0/1563 [00:00<?, ?it/s]                              /tmp/ipython-input-3553570516.py:75: FutureWarning: `torch.cuda.amp.autocast(args...)` is deprecated. Please use `torch.amp.autocast('cuda', args...)` instead.\n",
      "  with autocast():\n",
      "/usr/local/lib/python3.11/dist-packages/torch/nn/modules/module.py:1750: FutureWarning: `encoder_attention_mask` is deprecated and will be removed in version 4.55.0 for `RobertaSdpaSelfAttention.forward`.\n",
      "  return forward_call(*args, **kwargs)\n",
      "Training: 100%|██████████████████████████████| 1563/1563 [03:33<00:00,  7.31it/s, Loss=0.5488, Acc=0\n"
     ]
    },
    {
     "name": "stdout",
     "output_type": "stream",
     "text": [
      "\n",
      "📋 Validation Phase...\n"
     ]
    },
    {
     "name": "stderr",
     "output_type": "stream",
     "text": [
      "Validation:   0%|                              | 0/273 [00:00<?, ?it/s]                             /tmp/ipython-input-3553570516.py:135: FutureWarning: `torch.cuda.amp.autocast(args...)` is deprecated. Please use `torch.amp.autocast('cuda', args...)` instead.\n",
      "  with autocast():\n",
      "Validation: 100%|██████████████████████████████| 273/273 [00:08<00:00, 32.85it/s, Loss=0.9464, Acc=0\n",
      "/tmp/ipython-input-3553570516.py:61: FutureWarning: `torch.cuda.amp.GradScaler(args...)` is deprecated. Please use `torch.amp.GradScaler('cuda', args...)` instead.\n",
      "  scaler = GradScaler()\n"
     ]
    },
    {
     "name": "stdout",
     "output_type": "stream",
     "text": [
      "\n",
      "EPOCH 11 DETAILED SUMMARY\n",
      "========================================================================================================================\n",
      "Epoch Time: 222.2s\n",
      "Training   - Loss: 0.548783 | Accuracy: 0.990873\n",
      "Validation - Loss: 0.946370 | Accuracy: 0.843929\n",
      "Overall    - F1: 0.847817 | Precision: 0.845149 | Recall: 0.854920\n",
      "Metrics    - MAE: 0.171907 | Adjacent Acc: 0.985541 | QWK: 0.937087\n",
      "\n",
      "────────────────────────────────────────────────────────────────────────────────────────────────────────────────────────\n",
      "PER-CLASS BREAKDOWN:\n",
      "────────────────────────────────────────────────────────────────────────────────────────────────────────────────────────\n",
      "Class                F1         Precision    Recall     Accuracy  \n",
      "─────────────────────────────────────────────────────────────────\n",
      "Extremely Negative   0.873747   0.854902     0.893443   0.893443  \n",
      "Negative             0.815287   0.866995     0.769399   0.769399  \n",
      "Neutral              0.834555   0.780607     0.896513   0.896513  \n",
      "Positive             0.833608   0.877710     0.793725   0.793725  \n",
      "Extremely Positive   0.881890   0.845528     0.921519   0.921519  \n",
      "========================================================================================================================\n",
      "New best QWK: 0.9371 (saved model)\n",
      "🌟 New best QWK: 0.9371 (saved model)\n",
      "\n",
      "EPOCH 12/12\n",
      "--------------------------------------------------\n"
     ]
    },
    {
     "name": "stderr",
     "output_type": "stream",
     "text": [
      "\r",
      "Training:   0%|                              | 0/1563 [00:00<?, ?it/s]                              /tmp/ipython-input-3553570516.py:75: FutureWarning: `torch.cuda.amp.autocast(args...)` is deprecated. Please use `torch.amp.autocast('cuda', args...)` instead.\n",
      "  with autocast():\n",
      "/usr/local/lib/python3.11/dist-packages/torch/nn/modules/module.py:1750: FutureWarning: `encoder_attention_mask` is deprecated and will be removed in version 4.55.0 for `RobertaSdpaSelfAttention.forward`.\n",
      "  return forward_call(*args, **kwargs)\n",
      "Training: 100%|██████████████████████████████| 1563/1563 [03:33<00:00,  7.31it/s, Loss=0.5519, Acc=0\n"
     ]
    },
    {
     "name": "stdout",
     "output_type": "stream",
     "text": [
      "\n",
      "📋 Validation Phase...\n"
     ]
    },
    {
     "name": "stderr",
     "output_type": "stream",
     "text": [
      "Validation:   0%|                              | 0/273 [00:00<?, ?it/s]                             /tmp/ipython-input-3553570516.py:135: FutureWarning: `torch.cuda.amp.autocast(args...)` is deprecated. Please use `torch.amp.autocast('cuda', args...)` instead.\n",
      "  with autocast():\n",
      "Validation: 100%|██████████████████████████████| 273/273 [00:08<00:00, 33.03it/s, Loss=0.9498, Acc=0\n"
     ]
    },
    {
     "name": "stdout",
     "output_type": "stream",
     "text": [
      "\n",
      "EPOCH 12 DETAILED SUMMARY\n",
      "========================================================================================================================\n",
      "Epoch Time: 222.1s\n",
      "Training   - Loss: 0.551921 | Accuracy: 0.990476\n",
      "Validation - Loss: 0.949788 | Accuracy: 0.844159\n",
      "Overall    - F1: 0.847273 | Precision: 0.844680 | Recall: 0.854564\n",
      "Metrics    - MAE: 0.171448 | Adjacent Acc: 0.985770 | QWK: 0.937434\n",
      "\n",
      "────────────────────────────────────────────────────────────────────────────────────────────────────────────────────────\n",
      "PER-CLASS BREAKDOWN:\n",
      "────────────────────────────────────────────────────────────────────────────────────────────────────────────────────────\n",
      "Class                F1         Precision    Recall     Accuracy  \n",
      "─────────────────────────────────────────────────────────────────\n",
      "Extremely Negative   0.869739   0.850980     0.889344   0.889344  \n",
      "Negative             0.810465   0.865839     0.761749   0.761749  \n",
      "Neutral              0.837526   0.784102     0.898763   0.898763  \n",
      "Positive             0.837382   0.881282     0.797647   0.797647  \n",
      "Extremely Positive   0.881254   0.841197     0.925316   0.925316  \n",
      "========================================================================================================================\n",
      "New best QWK: 0.9374 (saved model)\n",
      "🌟 New best QWK: 0.9374 (saved model)\n",
      "\n",
      "============================================================\n",
      "TRAINING COMPLETED\n",
      "============================================================\n",
      "Best QWK: 0.9374 (Epoch 12)\n",
      "Total Epochs: 12\n",
      "Model Size: 514.62 MB\n",
      "Parameters: 134,903,813 total, 134,903,813 trainable\n",
      "Inference Time: 106.35 ms per sample\n",
      "Efficiency: 134.9M params, 106.4ms\n",
      "============================================================\n",
      "✅ Trial checkpoint saved: ./checkpoints_bert/trial_2/final_epoch_12.ckpt\n",
      "✅ Model files saved in: ./checkpoints_bert/trial_2\n",
      "🏆 New best model saved! Score: 0.9374 (Trial 2)\n",
      "🏆 Best model files saved in: ./best_bert_model_so_far\n"
     ]
    },
    {
     "data": {
      "text/html": [],
      "text/plain": [
       "<IPython.core.display.HTML object>"
      ]
     },
     "metadata": {},
     "output_type": "display_data"
    },
    {
     "data": {
      "text/html": [
       "<br>    <style><br>        .wandb-row {<br>            display: flex;<br>            flex-direction: row;<br>            flex-wrap: wrap;<br>            justify-content: flex-start;<br>            width: 100%;<br>        }<br>        .wandb-col {<br>            display: flex;<br>            flex-direction: column;<br>            flex-basis: 100%;<br>            flex: 1;<br>            padding: 10px;<br>        }<br>    </style><br><div class=\"wandb-row\"><div class=\"wandb-col\"><h3>Run history:</h3><br/><table class=\"wandb\"><tr><td>Epoch</td><td>▁▂▂▃▄▄▅▅▆▇▇█</td></tr><tr><td>Epoch_Time</td><td>▇▁█▅▃▃▂▃▃▄▃▂</td></tr><tr><td>Inference Time (ms)</td><td>▁▁▁▁▁▁▁▁▁▁▁▁</td></tr><tr><td>Learning_Rate</td><td>██▇▇▆▅▄▃▂▂▁▁</td></tr><tr><td>Model Size (MB)</td><td>▁▁▁▁▁▁▁▁▁▁▁▁</td></tr><tr><td>Parameters per MB</td><td>▁▁▁▁▁▁▁▁▁▁▁▁</td></tr><tr><td>Total Parameters</td><td>▁▁▁▁▁▁▁▁▁▁▁▁</td></tr><tr><td>Train Accuracy</td><td>▁▄▅▆▇▇▇█████</td></tr><tr><td>Train Loss</td><td>█▅▄▃▃▂▂▂▁▁▁▁</td></tr><tr><td>Trainable Parameters</td><td>▁▁▁▁▁▁▁▁▁▁▁▁</td></tr><tr><td>Validation Accuracy</td><td>▁▃▅▅▇██▇▇▇▇▇</td></tr><tr><td>Validation Adjacent Accuracy</td><td>▁▃▄▂▆▇▆▇████</td></tr><tr><td>Validation F1</td><td>▁▃▅▅▇██▇▇▇▇▇</td></tr><tr><td>Validation Loss</td><td>█▆▃▄▂▁▃▅▅▇▇▇</td></tr><tr><td>Validation MAE</td><td>█▆▄▅▂▁▁▂▁▁▁▁</td></tr><tr><td>Validation Precision</td><td>▁▂▆▅███▇▇▇▇▇</td></tr><tr><td>Validation QWK</td><td>▁▄▅▄▇█▇█████</td></tr><tr><td>Validation Recall</td><td>▁▄▅▅▅█▇▇████</td></tr></table><br/></div><div class=\"wandb-col\"><h3>Run summary:</h3><br/><table class=\"wandb\"><tr><td>Epoch</td><td>12</td></tr><tr><td>Epoch_Time</td><td>222.08167</td></tr><tr><td>Inference Time (ms)</td><td>106.35221</td></tr><tr><td>Learning_Rate</td><td>0</td></tr><tr><td>Model Size (MB)</td><td>514.61919</td></tr><tr><td>Parameters per MB</td><td>262142.98954</td></tr><tr><td>Total Parameters</td><td>134903813</td></tr><tr><td>Train Accuracy</td><td>0.99048</td></tr><tr><td>Train Loss</td><td>0.55192</td></tr><tr><td>Trainable Parameters</td><td>134903813</td></tr><tr><td>Validation Accuracy</td><td>0.84416</td></tr><tr><td>Validation Adjacent Accuracy</td><td>0.98577</td></tr><tr><td>Validation F1</td><td>0.84727</td></tr><tr><td>Validation Loss</td><td>0.94979</td></tr><tr><td>Validation MAE</td><td>0.17145</td></tr><tr><td>Validation Precision</td><td>0.84468</td></tr><tr><td>Validation QWK</td><td>0.93743</td></tr><tr><td>Validation Recall</td><td>0.85456</td></tr></table><br/></div></div>"
      ],
      "text/plain": [
       "<IPython.core.display.HTML object>"
      ]
     },
     "metadata": {},
     "output_type": "display_data"
    },
    {
     "data": {
      "text/html": [
       " View run <strong style=\"color:#cdcd00\">bertweet-base-sentiment-analysis_trial_2</strong> at: <a href='https://wandb.ai/mayachn3-maya-bondar/sentiment-full-bert/runs/os7s7ihs' target=\"_blank\">https://wandb.ai/mayachn3-maya-bondar/sentiment-full-bert/runs/os7s7ihs</a><br> View project at: <a href='https://wandb.ai/mayachn3-maya-bondar/sentiment-full-bert' target=\"_blank\">https://wandb.ai/mayachn3-maya-bondar/sentiment-full-bert</a><br>Synced 5 W&B file(s), 0 media file(s), 0 artifact file(s) and 0 other file(s)"
      ],
      "text/plain": [
       "<IPython.core.display.HTML object>"
      ]
     },
     "metadata": {},
     "output_type": "display_data"
    },
    {
     "data": {
      "text/html": [
       "Find logs at: <code>./wandb/run-20250802_070621-os7s7ihs/logs</code>"
      ],
      "text/plain": [
       "<IPython.core.display.HTML object>"
      ]
     },
     "metadata": {},
     "output_type": "display_data"
    },
    {
     "name": "stderr",
     "output_type": "stream",
     "text": [
      "[I 2025-08-02 07:52:14,358] Trial 2 finished with value: 0.9374337888939281 and parameters: {'learning_rate': 4.7412352298523686e-05, 'batch_size': 16, 'label_smoothing': 0.14864590596800178, 'epochs': 12, 'warmup_ratio': 0.053072966467540166, 'weight_decay': 0.14067329738635054, 'attention_dropout': 0.31630050099253554, 'hidden_dropout': 0.30284169042309084}. Best is trial 2 with value: 0.9374337888939281.\n",
      "Some weights of RobertaForSequenceClassification were not initialized from the model checkpoint at finiteautomata/bertweet-base-sentiment-analysis and are newly initialized because the shapes did not match:\n",
      "- classifier.out_proj.weight: found shape torch.Size([3, 768]) in the checkpoint and torch.Size([5, 768]) in the model instantiated\n",
      "- classifier.out_proj.bias: found shape torch.Size([3]) in the checkpoint and torch.Size([5]) in the model instantiated\n",
      "You should probably TRAIN this model on a down-stream task to be able to use it for predictions and inference.\n"
     ]
    },
    {
     "data": {
      "text/html": [
       "Tracking run with wandb version 0.21.0"
      ],
      "text/plain": [
       "<IPython.core.display.HTML object>"
      ]
     },
     "metadata": {},
     "output_type": "display_data"
    },
    {
     "data": {
      "text/html": [
       "Run data is saved locally in <code>/content/deep-learning-project/wandb/run-20250802_075215-tal7m47b</code>"
      ],
      "text/plain": [
       "<IPython.core.display.HTML object>"
      ]
     },
     "metadata": {},
     "output_type": "display_data"
    },
    {
     "data": {
      "text/html": [
       "Syncing run <strong><a href='https://wandb.ai/mayachn3-maya-bondar/sentiment-full-bert/runs/tal7m47b' target=\"_blank\">bertweet-base-sentiment-analysis_trial_3</a></strong> to <a href='https://wandb.ai/mayachn3-maya-bondar/sentiment-full-bert' target=\"_blank\">Weights & Biases</a> (<a href='https://wandb.me/developer-guide' target=\"_blank\">docs</a>)<br>"
      ],
      "text/plain": [
       "<IPython.core.display.HTML object>"
      ]
     },
     "metadata": {},
     "output_type": "display_data"
    },
    {
     "data": {
      "text/html": [
       " View project at <a href='https://wandb.ai/mayachn3-maya-bondar/sentiment-full-bert' target=\"_blank\">https://wandb.ai/mayachn3-maya-bondar/sentiment-full-bert</a>"
      ],
      "text/plain": [
       "<IPython.core.display.HTML object>"
      ]
     },
     "metadata": {},
     "output_type": "display_data"
    },
    {
     "data": {
      "text/html": [
       " View run at <a href='https://wandb.ai/mayachn3-maya-bondar/sentiment-full-bert/runs/tal7m47b' target=\"_blank\">https://wandb.ai/mayachn3-maya-bondar/sentiment-full-bert/runs/tal7m47b</a>"
      ],
      "text/plain": [
       "<IPython.core.display.HTML object>"
      ]
     },
     "metadata": {},
     "output_type": "display_data"
    },
    {
     "name": "stderr",
     "output_type": "stream",
     "text": [
      "/usr/local/lib/python3.11/dist-packages/torch/nn/modules/module.py:1750: FutureWarning: `encoder_attention_mask` is deprecated and will be removed in version 4.55.0 for `RobertaSdpaSelfAttention.forward`.\n",
      "  return forward_call(*args, **kwargs)\n",
      "/tmp/ipython-input-3553570516.py:61: FutureWarning: `torch.cuda.amp.GradScaler(args...)` is deprecated. Please use `torch.amp.GradScaler('cuda', args...)` instead.\n",
      "  scaler = GradScaler()\n"
     ]
    },
    {
     "name": "stdout",
     "output_type": "stream",
     "text": [
      "============================================================\n",
      "STARTING TRAINING\n",
      "============================================================\n",
      "Training Configuration:\n",
      "   • Device: cuda\n",
      "   • Model Size: 514.62 MB\n",
      "   • Total Parameters: 134,903,813\n",
      "   • Trainable Parameters: 134,903,813\n",
      "   • Avg Inference Time: 192.24 ms\n",
      "   • Total Epochs: 14\n",
      "   • Train Batches: 782\n",
      "   • Validation Batches: 137\n",
      "   • Learning Rate: 0.00e+00\n",
      "   • Batch Size: 32\n",
      "============================================================\n",
      "\n",
      "EPOCH 1/14\n",
      "--------------------------------------------------\n"
     ]
    },
    {
     "name": "stderr",
     "output_type": "stream",
     "text": [
      "\r",
      "Training:   0%|                              | 0/782 [00:00<?, ?it/s]                               /tmp/ipython-input-3553570516.py:75: FutureWarning: `torch.cuda.amp.autocast(args...)` is deprecated. Please use `torch.amp.autocast('cuda', args...)` instead.\n",
      "  with autocast():\n",
      "Training: 100%|██████████████████████████████| 782/782 [02:41<00:00,  4.85it/s, Loss=1.1726, Acc=0.5\n"
     ]
    },
    {
     "name": "stdout",
     "output_type": "stream",
     "text": [
      "\n",
      "📋 Validation Phase...\n"
     ]
    },
    {
     "name": "stderr",
     "output_type": "stream",
     "text": [
      "Validation:   0%|                              | 0/137 [00:00<?, ?it/s]                             /tmp/ipython-input-3553570516.py:135: FutureWarning: `torch.cuda.amp.autocast(args...)` is deprecated. Please use `torch.amp.autocast('cuda', args...)` instead.\n",
      "  with autocast():\n",
      "Validation: 100%|██████████████████████████████| 137/137 [00:07<00:00, 19.14it/s, Loss=0.8549, Acc=0\n",
      "/tmp/ipython-input-3553570516.py:61: FutureWarning: `torch.cuda.amp.GradScaler(args...)` is deprecated. Please use `torch.amp.GradScaler('cuda', args...)` instead.\n",
      "  scaler = GradScaler()\n"
     ]
    },
    {
     "name": "stdout",
     "output_type": "stream",
     "text": [
      "\n",
      "EPOCH 1 DETAILED SUMMARY\n",
      "========================================================================================================================\n",
      "Epoch Time: 168.4s\n",
      "Training   - Loss: 1.172644 | Accuracy: 0.557177\n",
      "Validation - Loss: 0.854929 | Accuracy: 0.714023\n",
      "Overall    - F1: 0.725190 | Precision: 0.725751 | Recall: 0.728238\n",
      "Metrics    - MAE: 0.360340 | Adjacent Acc: 0.932293 | QWK: 0.838611\n",
      "\n",
      "────────────────────────────────────────────────────────────────────────────────────────────────────────────────────────\n",
      "PER-CLASS BREAKDOWN:\n",
      "────────────────────────────────────────────────────────────────────────────────────────────────────────────────────────\n",
      "Class                F1         Precision    Recall     Accuracy  \n",
      "─────────────────────────────────────────────────────────────────\n",
      "Extremely Negative   0.769685   0.740530     0.801230   0.801230  \n",
      "Negative             0.657732   0.622439     0.697268   0.697268  \n",
      "Neutral              0.764513   0.744931     0.785152   0.785152  \n",
      "Positive             0.665313   0.689975     0.642353   0.642353  \n",
      "Extremely Positive   0.768707   0.830882     0.715190   0.715190  \n",
      "========================================================================================================================\n",
      "New best QWK: 0.8386 (saved model)\n",
      "🌟 New best QWK: 0.8386 (saved model)\n",
      "\n",
      "EPOCH 2/14\n",
      "--------------------------------------------------\n"
     ]
    },
    {
     "name": "stderr",
     "output_type": "stream",
     "text": [
      "\r",
      "Training:   0%|                              | 0/782 [00:00<?, ?it/s]                               /tmp/ipython-input-3553570516.py:75: FutureWarning: `torch.cuda.amp.autocast(args...)` is deprecated. Please use `torch.amp.autocast('cuda', args...)` instead.\n",
      "  with autocast():\n",
      "/usr/local/lib/python3.11/dist-packages/torch/nn/modules/module.py:1750: FutureWarning: `encoder_attention_mask` is deprecated and will be removed in version 4.55.0 for `RobertaSdpaSelfAttention.forward`.\n",
      "  return forward_call(*args, **kwargs)\n",
      "Training: 100%|██████████████████████████████| 782/782 [02:40<00:00,  4.88it/s, Loss=0.7771, Acc=0.7\n"
     ]
    },
    {
     "name": "stdout",
     "output_type": "stream",
     "text": [
      "\n",
      "📋 Validation Phase...\n"
     ]
    },
    {
     "name": "stderr",
     "output_type": "stream",
     "text": [
      "\r",
      "Validation:   0%|                              | 0/137 [00:00<?, ?it/s]                             /tmp/ipython-input-3553570516.py:135: FutureWarning: `torch.cuda.amp.autocast(args...)` is deprecated. Please use `torch.amp.autocast('cuda', args...)` instead.\n",
      "  with autocast():\n",
      "Validation: 100%|██████████████████████████████| 137/137 [00:07<00:00, 19.29it/s, Loss=0.7252, Acc=0\n",
      "/tmp/ipython-input-3553570516.py:61: FutureWarning: `torch.cuda.amp.GradScaler(args...)` is deprecated. Please use `torch.amp.GradScaler('cuda', args...)` instead.\n",
      "  scaler = GradScaler()\n"
     ]
    },
    {
     "name": "stdout",
     "output_type": "stream",
     "text": [
      "\n",
      "EPOCH 2 DETAILED SUMMARY\n",
      "========================================================================================================================\n",
      "Epoch Time: 167.4s\n",
      "Training   - Loss: 0.777129 | Accuracy: 0.756703\n",
      "Validation - Loss: 0.725171 | Accuracy: 0.784485\n",
      "Overall    - F1: 0.789853 | Precision: 0.805244 | Recall: 0.780053\n",
      "Metrics    - MAE: 0.281845 | Adjacent Acc: 0.939178 | QWK: 0.867264\n",
      "\n",
      "────────────────────────────────────────────────────────────────────────────────────────────────────────────────────────\n",
      "PER-CLASS BREAKDOWN:\n",
      "────────────────────────────────────────────────────────────────────────────────────────────────────────────────────────\n",
      "Class                F1         Precision    Recall     Accuracy  \n",
      "─────────────────────────────────────────────────────────────────\n",
      "Extremely Negative   0.793333   0.866505     0.731557   0.731557  \n",
      "Negative             0.718679   0.750297     0.689617   0.689617  \n",
      "Neutral              0.841044   0.889586     0.797525   0.797525  \n",
      "Positive             0.754938   0.707334     0.809412   0.809412  \n",
      "Extremely Positive   0.841270   0.812500     0.872152   0.872152  \n",
      "========================================================================================================================\n",
      "New best QWK: 0.8673 (saved model)\n",
      "🌟 New best QWK: 0.8673 (saved model)\n",
      "\n",
      "EPOCH 3/14\n",
      "--------------------------------------------------\n"
     ]
    },
    {
     "name": "stderr",
     "output_type": "stream",
     "text": [
      "\r",
      "Training:   0%|                              | 0/782 [00:00<?, ?it/s]                               /tmp/ipython-input-3553570516.py:75: FutureWarning: `torch.cuda.amp.autocast(args...)` is deprecated. Please use `torch.amp.autocast('cuda', args...)` instead.\n",
      "  with autocast():\n",
      "/usr/local/lib/python3.11/dist-packages/torch/nn/modules/module.py:1750: FutureWarning: `encoder_attention_mask` is deprecated and will be removed in version 4.55.0 for `RobertaSdpaSelfAttention.forward`.\n",
      "  return forward_call(*args, **kwargs)\n",
      "Training: 100%|██████████████████████████████| 782/782 [02:40<00:00,  4.87it/s, Loss=0.6208, Acc=0.8\n"
     ]
    },
    {
     "name": "stdout",
     "output_type": "stream",
     "text": [
      "\n",
      "📋 Validation Phase...\n"
     ]
    },
    {
     "name": "stderr",
     "output_type": "stream",
     "text": [
      "Validation:   0%|                              | 0/137 [00:00<?, ?it/s]                             /tmp/ipython-input-3553570516.py:135: FutureWarning: `torch.cuda.amp.autocast(args...)` is deprecated. Please use `torch.amp.autocast('cuda', args...)` instead.\n",
      "  with autocast():\n",
      "Validation: 100%|██████████████████████████████| 137/137 [00:07<00:00, 19.31it/s, Loss=0.6889, Acc=0\n",
      "/tmp/ipython-input-3553570516.py:61: FutureWarning: `torch.cuda.amp.GradScaler(args...)` is deprecated. Please use `torch.amp.GradScaler('cuda', args...)` instead.\n",
      "  scaler = GradScaler()\n"
     ]
    },
    {
     "name": "stdout",
     "output_type": "stream",
     "text": [
      "\n",
      "EPOCH 3 DETAILED SUMMARY\n",
      "========================================================================================================================\n",
      "Epoch Time: 167.7s\n",
      "Training   - Loss: 0.620757 | Accuracy: 0.832808\n",
      "Validation - Loss: 0.688914 | Accuracy: 0.805830\n",
      "Overall    - F1: 0.804281 | Precision: 0.812464 | Recall: 0.813224\n",
      "Metrics    - MAE: 0.233647 | Adjacent Acc: 0.964196 | QWK: 0.904822\n",
      "\n",
      "────────────────────────────────────────────────────────────────────────────────────────────────────────────────────────\n",
      "PER-CLASS BREAKDOWN:\n",
      "────────────────────────────────────────────────────────────────────────────────────────────────────────────────────────\n",
      "Class                F1         Precision    Recall     Accuracy  \n",
      "─────────────────────────────────────────────────────────────────\n",
      "Extremely Negative   0.784446   0.667626     0.950820   0.950820  \n",
      "Negative             0.720657   0.778200     0.671038   0.671038  \n",
      "Neutral              0.860729   0.918367     0.809899   0.809899  \n",
      "Positive             0.817847   0.771747     0.869804   0.869804  \n",
      "Extremely Positive   0.837725   0.926380     0.764557   0.764557  \n",
      "========================================================================================================================\n",
      "New best QWK: 0.9048 (saved model)\n",
      "🌟 New best QWK: 0.9048 (saved model)\n",
      "\n",
      "EPOCH 4/14\n",
      "--------------------------------------------------\n"
     ]
    },
    {
     "name": "stderr",
     "output_type": "stream",
     "text": [
      "\r",
      "Training:   0%|                              | 0/782 [00:00<?, ?it/s]                               /tmp/ipython-input-3553570516.py:75: FutureWarning: `torch.cuda.amp.autocast(args...)` is deprecated. Please use `torch.amp.autocast('cuda', args...)` instead.\n",
      "  with autocast():\n",
      "/usr/local/lib/python3.11/dist-packages/torch/nn/modules/module.py:1750: FutureWarning: `encoder_attention_mask` is deprecated and will be removed in version 4.55.0 for `RobertaSdpaSelfAttention.forward`.\n",
      "  return forward_call(*args, **kwargs)\n",
      "Training: 100%|██████████████████████████████| 782/782 [02:40<00:00,  4.88it/s, Loss=0.5251, Acc=0.8\n"
     ]
    },
    {
     "name": "stdout",
     "output_type": "stream",
     "text": [
      "\n",
      "📋 Validation Phase...\n"
     ]
    },
    {
     "name": "stderr",
     "output_type": "stream",
     "text": [
      "Validation:   0%|                              | 0/137 [00:00<?, ?it/s]                             /tmp/ipython-input-3553570516.py:135: FutureWarning: `torch.cuda.amp.autocast(args...)` is deprecated. Please use `torch.amp.autocast('cuda', args...)` instead.\n",
      "  with autocast():\n",
      "Validation: 100%|██████████████████████████████| 137/137 [00:06<00:00, 19.75it/s, Loss=0.6822, Acc=0\n",
      "/tmp/ipython-input-3553570516.py:61: FutureWarning: `torch.cuda.amp.GradScaler(args...)` is deprecated. Please use `torch.amp.GradScaler('cuda', args...)` instead.\n",
      "  scaler = GradScaler()\n"
     ]
    },
    {
     "name": "stdout",
     "output_type": "stream",
     "text": [
      "\n",
      "EPOCH 4 DETAILED SUMMARY\n",
      "========================================================================================================================\n",
      "Epoch Time: 167.3s\n",
      "Training   - Loss: 0.525098 | Accuracy: 0.878943\n",
      "Validation - Loss: 0.682199 | Accuracy: 0.822125\n",
      "Overall    - F1: 0.821963 | Precision: 0.816788 | Recall: 0.833566\n",
      "Metrics    - MAE: 0.213679 | Adjacent Acc: 0.966491 | QWK: 0.913401\n",
      "\n",
      "────────────────────────────────────────────────────────────────────────────────────────────────────────────────────────\n",
      "PER-CLASS BREAKDOWN:\n",
      "────────────────────────────────────────────────────────────────────────────────────────────────────────────────────────\n",
      "Class                F1         Precision    Recall     Accuracy  \n",
      "─────────────────────────────────────────────────────────────────\n",
      "Extremely Negative   0.813996   0.739130     0.905738   0.905738  \n",
      "Negative             0.744770   0.821900     0.680874   0.680874  \n",
      "Neutral              0.862702   0.852747     0.872891   0.872891  \n",
      "Positive             0.814727   0.822542     0.807059   0.807059  \n",
      "Extremely Positive   0.873620   0.847619     0.901266   0.901266  \n",
      "========================================================================================================================\n",
      "New best QWK: 0.9134 (saved model)\n",
      "🌟 New best QWK: 0.9134 (saved model)\n",
      "\n",
      "EPOCH 5/14\n",
      "--------------------------------------------------\n"
     ]
    },
    {
     "name": "stderr",
     "output_type": "stream",
     "text": [
      "\r",
      "Training:   0%|                              | 0/782 [00:00<?, ?it/s]                               /tmp/ipython-input-3553570516.py:75: FutureWarning: `torch.cuda.amp.autocast(args...)` is deprecated. Please use `torch.amp.autocast('cuda', args...)` instead.\n",
      "  with autocast():\n",
      "/usr/local/lib/python3.11/dist-packages/torch/nn/modules/module.py:1750: FutureWarning: `encoder_attention_mask` is deprecated and will be removed in version 4.55.0 for `RobertaSdpaSelfAttention.forward`.\n",
      "  return forward_call(*args, **kwargs)\n",
      "Training: 100%|██████████████████████████████| 782/782 [02:40<00:00,  4.88it/s, Loss=0.4818, Acc=0.8\n"
     ]
    },
    {
     "name": "stdout",
     "output_type": "stream",
     "text": [
      "\n",
      "📋 Validation Phase...\n"
     ]
    },
    {
     "name": "stderr",
     "output_type": "stream",
     "text": [
      "Validation:   0%|                              | 0/137 [00:00<?, ?it/s]                             /tmp/ipython-input-3553570516.py:135: FutureWarning: `torch.cuda.amp.autocast(args...)` is deprecated. Please use `torch.amp.autocast('cuda', args...)` instead.\n",
      "  with autocast():\n",
      "Validation: 100%|██████████████████████████████| 137/137 [00:06<00:00, 19.84it/s, Loss=0.6630, Acc=0\n",
      "/tmp/ipython-input-3553570516.py:61: FutureWarning: `torch.cuda.amp.GradScaler(args...)` is deprecated. Please use `torch.amp.GradScaler('cuda', args...)` instead.\n",
      "  scaler = GradScaler()\n"
     ]
    },
    {
     "name": "stdout",
     "output_type": "stream",
     "text": [
      "\n",
      "EPOCH 5 DETAILED SUMMARY\n",
      "========================================================================================================================\n",
      "Epoch Time: 167.2s\n",
      "Training   - Loss: 0.481807 | Accuracy: 0.897871\n",
      "Validation - Loss: 0.663027 | Accuracy: 0.842093\n",
      "Overall    - F1: 0.844437 | Precision: 0.842998 | Recall: 0.849446\n",
      "Metrics    - MAE: 0.192334 | Adjacent Acc: 0.966950 | QWK: 0.919910\n",
      "\n",
      "────────────────────────────────────────────────────────────────────────────────────────────────────────────────────────\n",
      "PER-CLASS BREAKDOWN:\n",
      "────────────────────────────────────────────────────────────────────────────────────────────────────────────────────────\n",
      "Class                F1         Precision    Recall     Accuracy  \n",
      "─────────────────────────────────────────────────────────────────\n",
      "Extremely Negative   0.846948   0.781629     0.924180   0.924180  \n",
      "Negative             0.782276   0.783133     0.781421   0.781421  \n",
      "Neutral              0.882051   0.893764     0.870641   0.870641  \n",
      "Positive             0.836576   0.830116     0.843137   0.843137  \n",
      "Extremely Positive   0.874332   0.926346     0.827848   0.827848  \n",
      "========================================================================================================================\n",
      "New best QWK: 0.9199 (saved model)\n",
      "🌟 New best QWK: 0.9199 (saved model)\n",
      "\n",
      "EPOCH 6/14\n",
      "--------------------------------------------------\n"
     ]
    },
    {
     "name": "stderr",
     "output_type": "stream",
     "text": [
      "\r",
      "Training:   0%|                              | 0/782 [00:00<?, ?it/s]                               /tmp/ipython-input-3553570516.py:75: FutureWarning: `torch.cuda.amp.autocast(args...)` is deprecated. Please use `torch.amp.autocast('cuda', args...)` instead.\n",
      "  with autocast():\n",
      "/usr/local/lib/python3.11/dist-packages/torch/nn/modules/module.py:1750: FutureWarning: `encoder_attention_mask` is deprecated and will be removed in version 4.55.0 for `RobertaSdpaSelfAttention.forward`.\n",
      "  return forward_call(*args, **kwargs)\n",
      "Training: 100%|██████████████████████████████| 782/782 [02:40<00:00,  4.88it/s, Loss=0.4223, Acc=0.9\n"
     ]
    },
    {
     "name": "stdout",
     "output_type": "stream",
     "text": [
      "\n",
      "📋 Validation Phase...\n"
     ]
    },
    {
     "name": "stderr",
     "output_type": "stream",
     "text": [
      "\r",
      "Validation:   0%|                              | 0/137 [00:00<?, ?it/s]                             /tmp/ipython-input-3553570516.py:135: FutureWarning: `torch.cuda.amp.autocast(args...)` is deprecated. Please use `torch.amp.autocast('cuda', args...)` instead.\n",
      "  with autocast():\n",
      "Validation: 100%|██████████████████████████████| 137/137 [00:06<00:00, 19.91it/s, Loss=0.7027, Acc=0\n",
      "/tmp/ipython-input-3553570516.py:61: FutureWarning: `torch.cuda.amp.GradScaler(args...)` is deprecated. Please use `torch.amp.GradScaler('cuda', args...)` instead.\n",
      "  scaler = GradScaler()\n"
     ]
    },
    {
     "name": "stdout",
     "output_type": "stream",
     "text": [
      "\n",
      "EPOCH 6 DETAILED SUMMARY\n",
      "========================================================================================================================\n",
      "Epoch Time: 167.3s\n",
      "Training   - Loss: 0.422319 | Accuracy: 0.921924\n",
      "Validation - Loss: 0.702655 | Accuracy: 0.833372\n",
      "Overall    - F1: 0.833760 | Precision: 0.825382 | Recall: 0.848744\n",
      "Metrics    - MAE: 0.190957 | Adjacent Acc: 0.976819 | QWK: 0.928602\n",
      "\n",
      "────────────────────────────────────────────────────────────────────────────────────────────────────────────────────────\n",
      "PER-CLASS BREAKDOWN:\n",
      "────────────────────────────────────────────────────────────────────────────────────────────────────────────────────────\n",
      "Class                F1         Precision    Recall     Accuracy  \n",
      "─────────────────────────────────────────────────────────────────\n",
      "Extremely Negative   0.832721   0.755000     0.928279   0.928279  \n",
      "Negative             0.772334   0.817073     0.732240   0.732240  \n",
      "Neutral              0.865311   0.846237     0.885264   0.885264  \n",
      "Positive             0.827872   0.878521     0.782745   0.782745  \n",
      "Extremely Positive   0.870560   0.830080     0.915190   0.915190  \n",
      "========================================================================================================================\n",
      "New best QWK: 0.9286 (saved model)\n",
      "🌟 New best QWK: 0.9286 (saved model)\n",
      "\n",
      "EPOCH 7/14\n",
      "--------------------------------------------------\n"
     ]
    },
    {
     "name": "stderr",
     "output_type": "stream",
     "text": [
      "\r",
      "Training:   0%|                              | 0/782 [00:00<?, ?it/s]                               /tmp/ipython-input-3553570516.py:75: FutureWarning: `torch.cuda.amp.autocast(args...)` is deprecated. Please use `torch.amp.autocast('cuda', args...)` instead.\n",
      "  with autocast():\n",
      "/usr/local/lib/python3.11/dist-packages/torch/nn/modules/module.py:1750: FutureWarning: `encoder_attention_mask` is deprecated and will be removed in version 4.55.0 for `RobertaSdpaSelfAttention.forward`.\n",
      "  return forward_call(*args, **kwargs)\n",
      "Training: 100%|██████████████████████████████| 782/782 [02:40<00:00,  4.88it/s, Loss=0.3767, Acc=0.9\n"
     ]
    },
    {
     "name": "stdout",
     "output_type": "stream",
     "text": [
      "\n",
      "📋 Validation Phase...\n"
     ]
    },
    {
     "name": "stderr",
     "output_type": "stream",
     "text": [
      "Validation:   0%|                              | 0/137 [00:00<?, ?it/s]                             /tmp/ipython-input-3553570516.py:135: FutureWarning: `torch.cuda.amp.autocast(args...)` is deprecated. Please use `torch.amp.autocast('cuda', args...)` instead.\n",
      "  with autocast():\n",
      "Validation: 100%|██████████████████████████████| 137/137 [00:07<00:00, 19.55it/s, Loss=0.7810, Acc=0\n",
      "/tmp/ipython-input-3553570516.py:61: FutureWarning: `torch.cuda.amp.GradScaler(args...)` is deprecated. Please use `torch.amp.GradScaler('cuda', args...)` instead.\n",
      "  scaler = GradScaler()\n"
     ]
    },
    {
     "name": "stdout",
     "output_type": "stream",
     "text": [
      "\n",
      "EPOCH 7 DETAILED SUMMARY\n",
      "========================================================================================================================\n",
      "Epoch Time: 167.4s\n",
      "Training   - Loss: 0.376704 | Accuracy: 0.943218\n",
      "Validation - Loss: 0.780991 | Accuracy: 0.813174\n",
      "Overall    - F1: 0.816134 | Precision: 0.809189 | Recall: 0.833987\n",
      "Metrics    - MAE: 0.215974 | Adjacent Acc: 0.971999 | QWK: 0.920119\n",
      "\n",
      "────────────────────────────────────────────────────────────────────────────────────────────────────────────────────────\n",
      "PER-CLASS BREAKDOWN:\n",
      "────────────────────────────────────────────────────────────────────────────────────────────────────────────────────────\n",
      "Class                F1         Precision    Recall     Accuracy  \n",
      "─────────────────────────────────────────────────────────────────\n",
      "Extremely Negative   0.826493   0.758562     0.907787   0.907787  \n",
      "Negative             0.769841   0.799764     0.742077   0.742077  \n",
      "Neutral              0.863301   0.870709     0.856018   0.856018  \n",
      "Positive             0.781748   0.866412     0.712157   0.712157  \n",
      "Extremely Positive   0.839286   0.750499     0.951899   0.951899  \n",
      "========================================================================================================================\n",
      "QWK: 0.9201 (best: 0.9286 at epoch 6)\n",
      "📉 QWK: 0.9201 (best: 0.9286 at epoch 6)\n",
      "\n",
      "EPOCH 8/14\n",
      "--------------------------------------------------\n"
     ]
    },
    {
     "name": "stderr",
     "output_type": "stream",
     "text": [
      "\r",
      "Training:   0%|                              | 0/782 [00:00<?, ?it/s]                               /tmp/ipython-input-3553570516.py:75: FutureWarning: `torch.cuda.amp.autocast(args...)` is deprecated. Please use `torch.amp.autocast('cuda', args...)` instead.\n",
      "  with autocast():\n",
      "/usr/local/lib/python3.11/dist-packages/torch/nn/modules/module.py:1750: FutureWarning: `encoder_attention_mask` is deprecated and will be removed in version 4.55.0 for `RobertaSdpaSelfAttention.forward`.\n",
      "  return forward_call(*args, **kwargs)\n",
      "Training: 100%|██████████████████████████████| 782/782 [02:40<00:00,  4.88it/s, Loss=0.3599, Acc=0.9\n"
     ]
    },
    {
     "name": "stdout",
     "output_type": "stream",
     "text": [
      "\n",
      "📋 Validation Phase...\n"
     ]
    },
    {
     "name": "stderr",
     "output_type": "stream",
     "text": [
      "Validation:   0%|                              | 0/137 [00:00<?, ?it/s]                             /tmp/ipython-input-3553570516.py:135: FutureWarning: `torch.cuda.amp.autocast(args...)` is deprecated. Please use `torch.amp.autocast('cuda', args...)` instead.\n",
      "  with autocast():\n",
      "Validation: 100%|██████████████████████████████| 137/137 [00:07<00:00, 19.54it/s, Loss=0.7453, Acc=0\n",
      "/tmp/ipython-input-3553570516.py:61: FutureWarning: `torch.cuda.amp.GradScaler(args...)` is deprecated. Please use `torch.amp.GradScaler('cuda', args...)` instead.\n",
      "  scaler = GradScaler()\n"
     ]
    },
    {
     "name": "stdout",
     "output_type": "stream",
     "text": [
      "\n",
      "EPOCH 8 DETAILED SUMMARY\n",
      "========================================================================================================================\n",
      "Epoch Time: 167.3s\n",
      "Training   - Loss: 0.359929 | Accuracy: 0.955442\n",
      "Validation - Loss: 0.745297 | Accuracy: 0.834978\n",
      "Overall    - F1: 0.839549 | Precision: 0.837962 | Recall: 0.845962\n",
      "Metrics    - MAE: 0.191875 | Adjacent Acc: 0.974524 | QWK: 0.925963\n",
      "\n",
      "────────────────────────────────────────────────────────────────────────────────────────────────────────────────────────\n",
      "PER-CLASS BREAKDOWN:\n",
      "────────────────────────────────────────────────────────────────────────────────────────────────────────────────────────\n",
      "Class                F1         Precision    Recall     Accuracy  \n",
      "─────────────────────────────────────────────────────────────────\n",
      "Extremely Negative   0.858308   0.853955     0.862705   0.862705  \n",
      "Negative             0.809551   0.843602     0.778142   0.778142  \n",
      "Neutral              0.871591   0.880597     0.862767   0.862767  \n",
      "Positive             0.802938   0.836735     0.771765   0.771765  \n",
      "Extremely Positive   0.855360   0.774923     0.954430   0.954430  \n",
      "========================================================================================================================\n",
      "QWK: 0.9260 (best: 0.9286 at epoch 6)\n",
      "📉 QWK: 0.9260 (best: 0.9286 at epoch 6)\n",
      "\n",
      "EPOCH 9/14\n",
      "--------------------------------------------------\n"
     ]
    },
    {
     "name": "stderr",
     "output_type": "stream",
     "text": [
      "\r",
      "Training:   0%|                              | 0/782 [00:00<?, ?it/s]                               /tmp/ipython-input-3553570516.py:75: FutureWarning: `torch.cuda.amp.autocast(args...)` is deprecated. Please use `torch.amp.autocast('cuda', args...)` instead.\n",
      "  with autocast():\n",
      "/usr/local/lib/python3.11/dist-packages/torch/nn/modules/module.py:1750: FutureWarning: `encoder_attention_mask` is deprecated and will be removed in version 4.55.0 for `RobertaSdpaSelfAttention.forward`.\n",
      "  return forward_call(*args, **kwargs)\n",
      "Training: 100%|██████████████████████████████| 782/782 [02:40<00:00,  4.89it/s, Loss=0.3258, Acc=0.9\n"
     ]
    },
    {
     "name": "stdout",
     "output_type": "stream",
     "text": [
      "\n",
      "📋 Validation Phase...\n"
     ]
    },
    {
     "name": "stderr",
     "output_type": "stream",
     "text": [
      "Validation:   0%|                              | 0/137 [00:00<?, ?it/s]                             /tmp/ipython-input-3553570516.py:135: FutureWarning: `torch.cuda.amp.autocast(args...)` is deprecated. Please use `torch.amp.autocast('cuda', args...)` instead.\n",
      "  with autocast():\n",
      "Validation: 100%|██████████████████████████████| 137/137 [00:06<00:00, 20.05it/s, Loss=0.7724, Acc=0\n",
      "/tmp/ipython-input-3553570516.py:61: FutureWarning: `torch.cuda.amp.GradScaler(args...)` is deprecated. Please use `torch.amp.GradScaler('cuda', args...)` instead.\n",
      "  scaler = GradScaler()\n"
     ]
    },
    {
     "name": "stdout",
     "output_type": "stream",
     "text": [
      "\n",
      "EPOCH 9 DETAILED SUMMARY\n",
      "========================================================================================================================\n",
      "Epoch Time: 166.9s\n",
      "Training   - Loss: 0.325795 | Accuracy: 0.971609\n",
      "Validation - Loss: 0.772386 | Accuracy: 0.838880\n",
      "Overall    - F1: 0.842320 | Precision: 0.843037 | Recall: 0.843808\n",
      "Metrics    - MAE: 0.184072 | Adjacent Acc: 0.978426 | QWK: 0.928875\n",
      "\n",
      "────────────────────────────────────────────────────────────────────────────────────────────────────────────────────────\n",
      "PER-CLASS BREAKDOWN:\n",
      "────────────────────────────────────────────────────────────────────────────────────────────────────────────────────────\n",
      "Class                F1         Precision    Recall     Accuracy  \n",
      "─────────────────────────────────────────────────────────────────\n",
      "Extremely Negative   0.865828   0.886266     0.846311   0.846311  \n",
      "Negative             0.796128   0.831153     0.763934   0.763934  \n",
      "Neutral              0.845941   0.830803     0.861642   0.861642  \n",
      "Positive             0.830414   0.843169     0.818039   0.818039  \n",
      "Extremely Positive   0.873290   0.823793     0.929114   0.929114  \n",
      "========================================================================================================================\n",
      "New best QWK: 0.9289 (saved model)\n",
      "🌟 New best QWK: 0.9289 (saved model)\n",
      "\n",
      "EPOCH 10/14\n",
      "--------------------------------------------------\n"
     ]
    },
    {
     "name": "stderr",
     "output_type": "stream",
     "text": [
      "\r",
      "Training:   0%|                              | 0/782 [00:00<?, ?it/s]                               /tmp/ipython-input-3553570516.py:75: FutureWarning: `torch.cuda.amp.autocast(args...)` is deprecated. Please use `torch.amp.autocast('cuda', args...)` instead.\n",
      "  with autocast():\n",
      "/usr/local/lib/python3.11/dist-packages/torch/nn/modules/module.py:1750: FutureWarning: `encoder_attention_mask` is deprecated and will be removed in version 4.55.0 for `RobertaSdpaSelfAttention.forward`.\n",
      "  return forward_call(*args, **kwargs)\n",
      "Training: 100%|██████████████████████████████| 782/782 [02:39<00:00,  4.89it/s, Loss=0.3177, Acc=0.9\n"
     ]
    },
    {
     "name": "stdout",
     "output_type": "stream",
     "text": [
      "\n",
      "📋 Validation Phase...\n"
     ]
    },
    {
     "name": "stderr",
     "output_type": "stream",
     "text": [
      "Validation:   0%|                              | 0/137 [00:00<?, ?it/s]                             /tmp/ipython-input-3553570516.py:135: FutureWarning: `torch.cuda.amp.autocast(args...)` is deprecated. Please use `torch.amp.autocast('cuda', args...)` instead.\n",
      "  with autocast():\n",
      "Validation: 100%|██████████████████████████████| 137/137 [00:06<00:00, 20.02it/s, Loss=0.7650, Acc=0\n",
      "/tmp/ipython-input-3553570516.py:61: FutureWarning: `torch.cuda.amp.GradScaler(args...)` is deprecated. Please use `torch.amp.GradScaler('cuda', args...)` instead.\n",
      "  scaler = GradScaler()\n"
     ]
    },
    {
     "name": "stdout",
     "output_type": "stream",
     "text": [
      "\n",
      "EPOCH 10 DETAILED SUMMARY\n",
      "========================================================================================================================\n",
      "Epoch Time: 166.8s\n",
      "Training   - Loss: 0.317681 | Accuracy: 0.972792\n",
      "Validation - Loss: 0.764975 | Accuracy: 0.848979\n",
      "Overall    - F1: 0.851686 | Precision: 0.847410 | Recall: 0.857437\n",
      "Metrics    - MAE: 0.171678 | Adjacent Acc: 0.980262 | QWK: 0.934503\n",
      "\n",
      "────────────────────────────────────────────────────────────────────────────────────────────────────────────────────────\n",
      "PER-CLASS BREAKDOWN:\n",
      "────────────────────────────────────────────────────────────────────────────────────────────────────────────────────────\n",
      "Class                F1         Precision    Recall     Accuracy  \n",
      "─────────────────────────────────────────────────────────────────\n",
      "Extremely Negative   0.865079   0.838462     0.893443   0.893443  \n",
      "Negative             0.804919   0.823799     0.786885   0.786885  \n",
      "Neutral              0.854054   0.822060     0.888639   0.888639  \n",
      "Positive             0.843129   0.872483     0.815686   0.815686  \n",
      "Extremely Positive   0.891250   0.880247     0.902532   0.902532  \n",
      "========================================================================================================================\n",
      "New best QWK: 0.9345 (saved model)\n",
      "🌟 New best QWK: 0.9345 (saved model)\n",
      "\n",
      "EPOCH 11/14\n",
      "--------------------------------------------------\n"
     ]
    },
    {
     "name": "stderr",
     "output_type": "stream",
     "text": [
      "\r",
      "Training:   0%|                              | 0/782 [00:00<?, ?it/s]                               /tmp/ipython-input-3553570516.py:75: FutureWarning: `torch.cuda.amp.autocast(args...)` is deprecated. Please use `torch.amp.autocast('cuda', args...)` instead.\n",
      "  with autocast():\n",
      "/usr/local/lib/python3.11/dist-packages/torch/nn/modules/module.py:1750: FutureWarning: `encoder_attention_mask` is deprecated and will be removed in version 4.55.0 for `RobertaSdpaSelfAttention.forward`.\n",
      "  return forward_call(*args, **kwargs)\n",
      "Training: 100%|██████████████████████████████| 782/782 [02:40<00:00,  4.88it/s, Loss=0.2962, Acc=0.9\n"
     ]
    },
    {
     "name": "stdout",
     "output_type": "stream",
     "text": [
      "\n",
      "📋 Validation Phase...\n"
     ]
    },
    {
     "name": "stderr",
     "output_type": "stream",
     "text": [
      "Validation:   0%|                              | 0/137 [00:00<?, ?it/s]                             /tmp/ipython-input-3553570516.py:135: FutureWarning: `torch.cuda.amp.autocast(args...)` is deprecated. Please use `torch.amp.autocast('cuda', args...)` instead.\n",
      "  with autocast():\n",
      "Validation: 100%|██████████████████████████████| 137/137 [00:06<00:00, 19.61it/s, Loss=0.8047, Acc=0\n",
      "/tmp/ipython-input-3553570516.py:61: FutureWarning: `torch.cuda.amp.GradScaler(args...)` is deprecated. Please use `torch.amp.GradScaler('cuda', args...)` instead.\n",
      "  scaler = GradScaler()\n"
     ]
    },
    {
     "name": "stdout",
     "output_type": "stream",
     "text": [
      "\n",
      "EPOCH 11 DETAILED SUMMARY\n",
      "========================================================================================================================\n",
      "Epoch Time: 167.2s\n",
      "Training   - Loss: 0.296174 | Accuracy: 0.981073\n",
      "Validation - Loss: 0.804747 | Accuracy: 0.843929\n",
      "Overall    - F1: 0.847261 | Precision: 0.846097 | Recall: 0.851190\n",
      "Metrics    - MAE: 0.174202 | Adjacent Acc: 0.982786 | QWK: 0.934832\n",
      "\n",
      "────────────────────────────────────────────────────────────────────────────────────────────────────────────────────────\n",
      "PER-CLASS BREAKDOWN:\n",
      "────────────────────────────────────────────────────────────────────────────────────────────────────────────────────────\n",
      "Class                F1         Precision    Recall     Accuracy  \n",
      "─────────────────────────────────────────────────────────────────\n",
      "Extremely Negative   0.868313   0.871901     0.864754   0.864754  \n",
      "Negative             0.803653   0.841099     0.769399   0.769399  \n",
      "Neutral              0.837308   0.791583     0.888639   0.888639  \n",
      "Positive             0.837739   0.869932     0.807843   0.807843  \n",
      "Extremely Positive   0.889294   0.855972     0.925316   0.925316  \n",
      "========================================================================================================================\n",
      "New best QWK: 0.9348 (saved model)\n",
      "🌟 New best QWK: 0.9348 (saved model)\n",
      "\n",
      "EPOCH 12/14\n",
      "--------------------------------------------------\n"
     ]
    },
    {
     "name": "stderr",
     "output_type": "stream",
     "text": [
      "\r",
      "Training:   0%|                              | 0/782 [00:00<?, ?it/s]                               /tmp/ipython-input-3553570516.py:75: FutureWarning: `torch.cuda.amp.autocast(args...)` is deprecated. Please use `torch.amp.autocast('cuda', args...)` instead.\n",
      "  with autocast():\n",
      "/usr/local/lib/python3.11/dist-packages/torch/nn/modules/module.py:1750: FutureWarning: `encoder_attention_mask` is deprecated and will be removed in version 4.55.0 for `RobertaSdpaSelfAttention.forward`.\n",
      "  return forward_call(*args, **kwargs)\n",
      "Training: 100%|██████████████████████████████| 782/782 [02:40<00:00,  4.88it/s, Loss=0.2699, Acc=0.9\n"
     ]
    },
    {
     "name": "stdout",
     "output_type": "stream",
     "text": [
      "\n",
      "📋 Validation Phase...\n"
     ]
    },
    {
     "name": "stderr",
     "output_type": "stream",
     "text": [
      "Validation:   0%|                              | 0/137 [00:00<?, ?it/s]                             /tmp/ipython-input-3553570516.py:135: FutureWarning: `torch.cuda.amp.autocast(args...)` is deprecated. Please use `torch.amp.autocast('cuda', args...)` instead.\n",
      "  with autocast():\n",
      "Validation: 100%|██████████████████████████████| 137/137 [00:06<00:00, 19.58it/s, Loss=0.8078, Acc=0\n",
      "/tmp/ipython-input-3553570516.py:61: FutureWarning: `torch.cuda.amp.GradScaler(args...)` is deprecated. Please use `torch.amp.GradScaler('cuda', args...)` instead.\n",
      "  scaler = GradScaler()\n"
     ]
    },
    {
     "name": "stdout",
     "output_type": "stream",
     "text": [
      "\n",
      "EPOCH 12 DETAILED SUMMARY\n",
      "========================================================================================================================\n",
      "Epoch Time: 167.3s\n",
      "Training   - Loss: 0.269885 | Accuracy: 0.991719\n",
      "Validation - Loss: 0.807792 | Accuracy: 0.845765\n",
      "Overall    - F1: 0.849189 | Precision: 0.846579 | Recall: 0.854901\n",
      "Metrics    - MAE: 0.171678 | Adjacent Acc: 0.983704 | QWK: 0.936059\n",
      "\n",
      "────────────────────────────────────────────────────────────────────────────────────────────────────────────────────────\n",
      "PER-CLASS BREAKDOWN:\n",
      "────────────────────────────────────────────────────────────────────────────────────────────────────────────────────────\n",
      "Class                F1         Precision    Recall     Accuracy  \n",
      "─────────────────────────────────────────────────────────────────\n",
      "Extremely Negative   0.870968   0.857143     0.885246   0.885246  \n",
      "Negative             0.807780   0.847539     0.771585   0.771585  \n",
      "Neutral              0.839389   0.789109     0.896513   0.896513  \n",
      "Positive             0.838921   0.876174     0.804706   0.804706  \n",
      "Extremely Positive   0.888889   0.862932     0.916456   0.916456  \n",
      "========================================================================================================================\n",
      "New best QWK: 0.9361 (saved model)\n",
      "🌟 New best QWK: 0.9361 (saved model)\n",
      "\n",
      "EPOCH 13/14\n",
      "--------------------------------------------------\n"
     ]
    },
    {
     "name": "stderr",
     "output_type": "stream",
     "text": [
      "\r",
      "Training:   0%|                              | 0/782 [00:00<?, ?it/s]                               /tmp/ipython-input-3553570516.py:75: FutureWarning: `torch.cuda.amp.autocast(args...)` is deprecated. Please use `torch.amp.autocast('cuda', args...)` instead.\n",
      "  with autocast():\n",
      "/usr/local/lib/python3.11/dist-packages/torch/nn/modules/module.py:1750: FutureWarning: `encoder_attention_mask` is deprecated and will be removed in version 4.55.0 for `RobertaSdpaSelfAttention.forward`.\n",
      "  return forward_call(*args, **kwargs)\n",
      "Training: 100%|██████████████████████████████| 782/782 [02:39<00:00,  4.89it/s, Loss=0.2641, Acc=0.9\n"
     ]
    },
    {
     "name": "stdout",
     "output_type": "stream",
     "text": [
      "\n",
      "📋 Validation Phase...\n"
     ]
    },
    {
     "name": "stderr",
     "output_type": "stream",
     "text": [
      "Validation:   0%|                              | 0/137 [00:00<?, ?it/s]                             /tmp/ipython-input-3553570516.py:135: FutureWarning: `torch.cuda.amp.autocast(args...)` is deprecated. Please use `torch.amp.autocast('cuda', args...)` instead.\n",
      "  with autocast():\n",
      "Validation: 100%|██████████████████████████████| 137/137 [00:07<00:00, 19.56it/s, Loss=0.8137, Acc=0\n",
      "/tmp/ipython-input-3553570516.py:61: FutureWarning: `torch.cuda.amp.GradScaler(args...)` is deprecated. Please use `torch.amp.GradScaler('cuda', args...)` instead.\n",
      "  scaler = GradScaler()\n"
     ]
    },
    {
     "name": "stdout",
     "output_type": "stream",
     "text": [
      "\n",
      "EPOCH 13 DETAILED SUMMARY\n",
      "========================================================================================================================\n",
      "Epoch Time: 166.9s\n",
      "Training   - Loss: 0.264086 | Accuracy: 0.994874\n",
      "Validation - Loss: 0.813695 | Accuracy: 0.847602\n",
      "Overall    - F1: 0.850341 | Precision: 0.846691 | Recall: 0.856646\n",
      "Metrics    - MAE: 0.170989 | Adjacent Acc: 0.982557 | QWK: 0.935891\n",
      "\n",
      "────────────────────────────────────────────────────────────────────────────────────────────────────────────────────────\n",
      "PER-CLASS BREAKDOWN:\n",
      "────────────────────────────────────────────────────────────────────────────────────────────────────────────────────────\n",
      "Class                F1         Precision    Recall     Accuracy  \n",
      "─────────────────────────────────────────────────────────────────\n",
      "Extremely Negative   0.866867   0.847358     0.887295   0.887295  \n",
      "Negative             0.805936   0.843489     0.771585   0.771585  \n",
      "Neutral              0.846154   0.805697     0.890889   0.890889  \n",
      "Positive             0.841419   0.876061     0.809412   0.809412  \n",
      "Extremely Positive   0.891331   0.860849     0.924051   0.924051  \n",
      "========================================================================================================================\n",
      "QWK: 0.9359 (best: 0.9361 at epoch 12)\n",
      "📉 QWK: 0.9359 (best: 0.9361 at epoch 12)\n",
      "\n",
      "EPOCH 14/14\n",
      "--------------------------------------------------\n"
     ]
    },
    {
     "name": "stderr",
     "output_type": "stream",
     "text": [
      "\r",
      "Training:   0%|                              | 0/782 [00:00<?, ?it/s]                               /tmp/ipython-input-3553570516.py:75: FutureWarning: `torch.cuda.amp.autocast(args...)` is deprecated. Please use `torch.amp.autocast('cuda', args...)` instead.\n",
      "  with autocast():\n",
      "/usr/local/lib/python3.11/dist-packages/torch/nn/modules/module.py:1750: FutureWarning: `encoder_attention_mask` is deprecated and will be removed in version 4.55.0 for `RobertaSdpaSelfAttention.forward`.\n",
      "  return forward_call(*args, **kwargs)\n",
      "Training: 100%|██████████████████████████████| 782/782 [02:39<00:00,  4.89it/s, Loss=0.2742, Acc=0.9\n"
     ]
    },
    {
     "name": "stdout",
     "output_type": "stream",
     "text": [
      "\n",
      "📋 Validation Phase...\n"
     ]
    },
    {
     "name": "stderr",
     "output_type": "stream",
     "text": [
      "Validation:   0%|                              | 0/137 [00:00<?, ?it/s]                             /tmp/ipython-input-3553570516.py:135: FutureWarning: `torch.cuda.amp.autocast(args...)` is deprecated. Please use `torch.amp.autocast('cuda', args...)` instead.\n",
      "  with autocast():\n",
      "Validation: 100%|██████████████████████████████| 137/137 [00:07<00:00, 19.50it/s, Loss=0.8108, Acc=0\n"
     ]
    },
    {
     "name": "stdout",
     "output_type": "stream",
     "text": [
      "\n",
      "EPOCH 14 DETAILED SUMMARY\n",
      "========================================================================================================================\n",
      "Epoch Time: 166.9s\n",
      "Training   - Loss: 0.274217 | Accuracy: 0.991325\n",
      "Validation - Loss: 0.810761 | Accuracy: 0.847602\n",
      "Overall    - F1: 0.850528 | Precision: 0.847736 | Recall: 0.856079\n",
      "Metrics    - MAE: 0.170301 | Adjacent Acc: 0.983245 | QWK: 0.936328\n",
      "\n",
      "────────────────────────────────────────────────────────────────────────────────────────────────────────────────────────\n",
      "PER-CLASS BREAKDOWN:\n",
      "────────────────────────────────────────────────────────────────────────────────────────────────────────────────────────\n",
      "Class                F1         Precision    Recall     Accuracy  \n",
      "─────────────────────────────────────────────────────────────────\n",
      "Extremely Negative   0.868952   0.855159     0.883197   0.883197  \n",
      "Negative             0.807560   0.848375     0.770492   0.770492  \n",
      "Neutral              0.842105   0.798387     0.890889   0.890889  \n",
      "Positive             0.842148   0.874894     0.811765   0.811765  \n",
      "Extremely Positive   0.891875   0.861865     0.924051   0.924051  \n",
      "========================================================================================================================\n",
      "New best QWK: 0.9363 (saved model)\n",
      "🌟 New best QWK: 0.9363 (saved model)\n",
      "\n",
      "============================================================\n",
      "TRAINING COMPLETED\n",
      "============================================================\n",
      "Best QWK: 0.9363 (Epoch 14)\n",
      "Total Epochs: 14\n",
      "Model Size: 514.62 MB\n",
      "Parameters: 134,903,813 total, 134,903,813 trainable\n",
      "Inference Time: 192.24 ms per sample\n",
      "Efficiency: 134.9M params, 192.2ms\n",
      "============================================================\n",
      "✅ Trial checkpoint saved: ./checkpoints_bert/trial_3/final_epoch_14.ckpt\n",
      "✅ Model files saved in: ./checkpoints_bert/trial_3\n",
      "📊 Trial 3 score: 0.9363 (Best: 0.9374)\n"
     ]
    },
    {
     "data": {
      "text/html": [],
      "text/plain": [
       "<IPython.core.display.HTML object>"
      ]
     },
     "metadata": {},
     "output_type": "display_data"
    },
    {
     "data": {
      "text/html": [
       "<br>    <style><br>        .wandb-row {<br>            display: flex;<br>            flex-direction: row;<br>            flex-wrap: wrap;<br>            justify-content: flex-start;<br>            width: 100%;<br>        }<br>        .wandb-col {<br>            display: flex;<br>            flex-direction: column;<br>            flex-basis: 100%;<br>            flex: 1;<br>            padding: 10px;<br>        }<br>    </style><br><div class=\"wandb-row\"><div class=\"wandb-col\"><h3>Run history:</h3><br/><table class=\"wandb\"><tr><td>Epoch</td><td>▁▂▂▃▃▄▄▅▅▆▆▇▇█</td></tr><tr><td>Epoch_Time</td><td>█▄▅▃▃▃▄▃▁▁▃▃▁▂</td></tr><tr><td>Inference Time (ms)</td><td>▁▁▁▁▁▁▁▁▁▁▁▁▁▁</td></tr><tr><td>Learning_Rate</td><td>▅███▇▆▅▅▄▃▂▁▁▁</td></tr><tr><td>Model Size (MB)</td><td>▁▁▁▁▁▁▁▁▁▁▁▁▁▁</td></tr><tr><td>Parameters per MB</td><td>▁▁▁▁▁▁▁▁▁▁▁▁▁▁</td></tr><tr><td>Total Parameters</td><td>▁▁▁▁▁▁▁▁▁▁▁▁▁▁</td></tr><tr><td>Train Accuracy</td><td>▁▄▅▆▆▇▇▇██████</td></tr><tr><td>Train Loss</td><td>█▅▄▃▃▂▂▂▁▁▁▁▁▁</td></tr><tr><td>Trainable Parameters</td><td>▁▁▁▁▁▁▁▁▁▁▁▁▁▁</td></tr><tr><td>Validation Accuracy</td><td>▁▅▆▇█▇▆▇▇█████</td></tr><tr><td>Validation Adjacent Accuracy</td><td>▁▂▅▆▆▇▆▇▇█████</td></tr><tr><td>Validation F1</td><td>▁▅▅▆█▇▆▇▇█████</td></tr><tr><td>Validation Loss</td><td>█▃▂▂▁▂▅▄▅▅▆▆▆▆</td></tr><tr><td>Validation MAE</td><td>█▅▃▃▂▂▃▂▂▁▁▁▁▁</td></tr><tr><td>Validation Precision</td><td>▁▆▆▆█▇▆▇██████</td></tr><tr><td>Validation QWK</td><td>▁▃▆▆▇▇▇▇▇█████</td></tr><tr><td>Validation Recall</td><td>▁▄▆▇██▇▇▇█████</td></tr></table><br/></div><div class=\"wandb-col\"><h3>Run summary:</h3><br/><table class=\"wandb\"><tr><td>Epoch</td><td>14</td></tr><tr><td>Epoch_Time</td><td>166.93316</td></tr><tr><td>Inference Time (ms)</td><td>192.24169</td></tr><tr><td>Learning_Rate</td><td>0</td></tr><tr><td>Model Size (MB)</td><td>514.61919</td></tr><tr><td>Parameters per MB</td><td>262142.98954</td></tr><tr><td>Total Parameters</td><td>134903813</td></tr><tr><td>Train Accuracy</td><td>0.99132</td></tr><tr><td>Train Loss</td><td>0.27422</td></tr><tr><td>Trainable Parameters</td><td>134903813</td></tr><tr><td>Validation Accuracy</td><td>0.8476</td></tr><tr><td>Validation Adjacent Accuracy</td><td>0.98325</td></tr><tr><td>Validation F1</td><td>0.85053</td></tr><tr><td>Validation Loss</td><td>0.81076</td></tr><tr><td>Validation MAE</td><td>0.1703</td></tr><tr><td>Validation Precision</td><td>0.84774</td></tr><tr><td>Validation QWK</td><td>0.93633</td></tr><tr><td>Validation Recall</td><td>0.85608</td></tr></table><br/></div></div>"
      ],
      "text/plain": [
       "<IPython.core.display.HTML object>"
      ]
     },
     "metadata": {},
     "output_type": "display_data"
    },
    {
     "data": {
      "text/html": [
       " View run <strong style=\"color:#cdcd00\">bertweet-base-sentiment-analysis_trial_3</strong> at: <a href='https://wandb.ai/mayachn3-maya-bondar/sentiment-full-bert/runs/tal7m47b' target=\"_blank\">https://wandb.ai/mayachn3-maya-bondar/sentiment-full-bert/runs/tal7m47b</a><br> View project at: <a href='https://wandb.ai/mayachn3-maya-bondar/sentiment-full-bert' target=\"_blank\">https://wandb.ai/mayachn3-maya-bondar/sentiment-full-bert</a><br>Synced 5 W&B file(s), 0 media file(s), 0 artifact file(s) and 0 other file(s)"
      ],
      "text/plain": [
       "<IPython.core.display.HTML object>"
      ]
     },
     "metadata": {},
     "output_type": "display_data"
    },
    {
     "data": {
      "text/html": [
       "Find logs at: <code>./wandb/run-20250802_075215-tal7m47b/logs</code>"
      ],
      "text/plain": [
       "<IPython.core.display.HTML object>"
      ]
     },
     "metadata": {},
     "output_type": "display_data"
    },
    {
     "name": "stderr",
     "output_type": "stream",
     "text": [
      "[I 2025-08-02 08:31:58,619] Trial 3 finished with value: 0.9363284149992751 and parameters: {'learning_rate': 4.370722861893705e-05, 'batch_size': 32, 'label_smoothing': 0.05650532067967007, 'epochs': 14, 'warmup_ratio': 0.14505869364791701, 'weight_decay': 0.12934805586326448, 'attention_dropout': 0.30555226844342287, 'hidden_dropout': 0.3755019911761089}. Best is trial 2 with value: 0.9374337888939281.\n",
      "Some weights of RobertaForSequenceClassification were not initialized from the model checkpoint at finiteautomata/bertweet-base-sentiment-analysis and are newly initialized because the shapes did not match:\n",
      "- classifier.out_proj.weight: found shape torch.Size([3, 768]) in the checkpoint and torch.Size([5, 768]) in the model instantiated\n",
      "- classifier.out_proj.bias: found shape torch.Size([3]) in the checkpoint and torch.Size([5]) in the model instantiated\n",
      "You should probably TRAIN this model on a down-stream task to be able to use it for predictions and inference.\n"
     ]
    },
    {
     "data": {
      "text/html": [
       "Tracking run with wandb version 0.21.0"
      ],
      "text/plain": [
       "<IPython.core.display.HTML object>"
      ]
     },
     "metadata": {},
     "output_type": "display_data"
    },
    {
     "data": {
      "text/html": [
       "Run data is saved locally in <code>/content/deep-learning-project/wandb/run-20250802_083159-z7houu3c</code>"
      ],
      "text/plain": [
       "<IPython.core.display.HTML object>"
      ]
     },
     "metadata": {},
     "output_type": "display_data"
    },
    {
     "data": {
      "text/html": [
       "Syncing run <strong><a href='https://wandb.ai/mayachn3-maya-bondar/sentiment-full-bert/runs/z7houu3c' target=\"_blank\">bertweet-base-sentiment-analysis_trial_4</a></strong> to <a href='https://wandb.ai/mayachn3-maya-bondar/sentiment-full-bert' target=\"_blank\">Weights & Biases</a> (<a href='https://wandb.me/developer-guide' target=\"_blank\">docs</a>)<br>"
      ],
      "text/plain": [
       "<IPython.core.display.HTML object>"
      ]
     },
     "metadata": {},
     "output_type": "display_data"
    },
    {
     "data": {
      "text/html": [
       " View project at <a href='https://wandb.ai/mayachn3-maya-bondar/sentiment-full-bert' target=\"_blank\">https://wandb.ai/mayachn3-maya-bondar/sentiment-full-bert</a>"
      ],
      "text/plain": [
       "<IPython.core.display.HTML object>"
      ]
     },
     "metadata": {},
     "output_type": "display_data"
    },
    {
     "data": {
      "text/html": [
       " View run at <a href='https://wandb.ai/mayachn3-maya-bondar/sentiment-full-bert/runs/z7houu3c' target=\"_blank\">https://wandb.ai/mayachn3-maya-bondar/sentiment-full-bert/runs/z7houu3c</a>"
      ],
      "text/plain": [
       "<IPython.core.display.HTML object>"
      ]
     },
     "metadata": {},
     "output_type": "display_data"
    },
    {
     "name": "stderr",
     "output_type": "stream",
     "text": [
      "/usr/local/lib/python3.11/dist-packages/torch/nn/modules/module.py:1750: FutureWarning: `encoder_attention_mask` is deprecated and will be removed in version 4.55.0 for `RobertaSdpaSelfAttention.forward`.\n",
      "  return forward_call(*args, **kwargs)\n",
      "/tmp/ipython-input-3553570516.py:61: FutureWarning: `torch.cuda.amp.GradScaler(args...)` is deprecated. Please use `torch.amp.GradScaler('cuda', args...)` instead.\n",
      "  scaler = GradScaler()\n"
     ]
    },
    {
     "name": "stdout",
     "output_type": "stream",
     "text": [
      "============================================================\n",
      "STARTING TRAINING\n",
      "============================================================\n",
      "Training Configuration:\n",
      "   • Device: cuda\n",
      "   • Model Size: 514.62 MB\n",
      "   • Total Parameters: 134,903,813\n",
      "   • Trainable Parameters: 134,903,813\n",
      "   • Avg Inference Time: 101.92 ms\n",
      "   • Total Epochs: 10\n",
      "   • Train Batches: 1563\n",
      "   • Validation Batches: 273\n",
      "   • Learning Rate: 0.00e+00\n",
      "   • Batch Size: 16\n",
      "============================================================\n",
      "\n",
      "EPOCH 1/10\n",
      "--------------------------------------------------\n"
     ]
    },
    {
     "name": "stderr",
     "output_type": "stream",
     "text": [
      "Training:   0%|                              | 0/1563 [00:00<?, ?it/s]                              /tmp/ipython-input-3553570516.py:75: FutureWarning: `torch.cuda.amp.autocast(args...)` is deprecated. Please use `torch.amp.autocast('cuda', args...)` instead.\n",
      "  with autocast():\n",
      "Training: 100%|██████████████████████████████| 1563/1563 [03:34<00:00,  7.29it/s, Loss=1.1783, Acc=0\n"
     ]
    },
    {
     "name": "stdout",
     "output_type": "stream",
     "text": [
      "\n",
      "📋 Validation Phase...\n"
     ]
    },
    {
     "name": "stderr",
     "output_type": "stream",
     "text": [
      "\r",
      "Validation:   0%|                              | 0/273 [00:00<?, ?it/s]                             /tmp/ipython-input-3553570516.py:135: FutureWarning: `torch.cuda.amp.autocast(args...)` is deprecated. Please use `torch.amp.autocast('cuda', args...)` instead.\n",
      "  with autocast():\n",
      "Validation: 100%|██████████████████████████████| 273/273 [00:08<00:00, 32.23it/s, Loss=0.9674, Acc=0\n",
      "/tmp/ipython-input-3553570516.py:61: FutureWarning: `torch.cuda.amp.GradScaler(args...)` is deprecated. Please use `torch.amp.GradScaler('cuda', args...)` instead.\n",
      "  scaler = GradScaler()\n"
     ]
    },
    {
     "name": "stdout",
     "output_type": "stream",
     "text": [
      "\n",
      "EPOCH 1 DETAILED SUMMARY\n",
      "========================================================================================================================\n",
      "Epoch Time: 222.8s\n",
      "Training   - Loss: 1.178308 | Accuracy: 0.590873\n",
      "Validation - Loss: 0.967420 | Accuracy: 0.748451\n",
      "Overall    - F1: 0.754341 | Precision: 0.751474 | Recall: 0.767736\n",
      "Metrics    - MAE: 0.328667 | Adjacent Acc: 0.929998 | QWK: 0.855008\n",
      "\n",
      "────────────────────────────────────────────────────────────────────────────────────────────────────────────────────────\n",
      "PER-CLASS BREAKDOWN:\n",
      "────────────────────────────────────────────────────────────────────────────────────────────────────────────────────────\n",
      "Class                F1         Precision    Recall     Accuracy  \n",
      "─────────────────────────────────────────────────────────────────\n",
      "Extremely Negative   0.767521   0.658358     0.920082   0.920082  \n",
      "Negative             0.644049   0.655719     0.632787   0.632787  \n",
      "Neutral              0.818291   0.879690     0.764904   0.764904  \n",
      "Positive             0.728132   0.731591     0.724706   0.724706  \n",
      "Extremely Positive   0.813713   0.832011     0.796203   0.796203  \n",
      "========================================================================================================================\n",
      "New best QWK: 0.8550 (saved model)\n",
      "🌟 New best QWK: 0.8550 (saved model)\n",
      "\n",
      "EPOCH 2/10\n",
      "--------------------------------------------------\n"
     ]
    },
    {
     "name": "stderr",
     "output_type": "stream",
     "text": [
      "\r",
      "Training:   0%|                              | 0/1563 [00:00<?, ?it/s]                              /tmp/ipython-input-3553570516.py:75: FutureWarning: `torch.cuda.amp.autocast(args...)` is deprecated. Please use `torch.amp.autocast('cuda', args...)` instead.\n",
      "  with autocast():\n",
      "/usr/local/lib/python3.11/dist-packages/torch/nn/modules/module.py:1750: FutureWarning: `encoder_attention_mask` is deprecated and will be removed in version 4.55.0 for `RobertaSdpaSelfAttention.forward`.\n",
      "  return forward_call(*args, **kwargs)\n",
      "Training: 100%|██████████████████████████████| 1563/1563 [03:33<00:00,  7.31it/s, Loss=0.9163, Acc=0\n"
     ]
    },
    {
     "name": "stdout",
     "output_type": "stream",
     "text": [
      "\n",
      "📋 Validation Phase...\n"
     ]
    },
    {
     "name": "stderr",
     "output_type": "stream",
     "text": [
      "Validation:   0%|                              | 0/273 [00:00<?, ?it/s]                             /tmp/ipython-input-3553570516.py:135: FutureWarning: `torch.cuda.amp.autocast(args...)` is deprecated. Please use `torch.amp.autocast('cuda', args...)` instead.\n",
      "  with autocast():\n",
      "Validation: 100%|██████████████████████████████| 273/273 [00:08<00:00, 33.55it/s, Loss=0.9048, Acc=0\n",
      "/tmp/ipython-input-3553570516.py:61: FutureWarning: `torch.cuda.amp.GradScaler(args...)` is deprecated. Please use `torch.amp.GradScaler('cuda', args...)` instead.\n",
      "  scaler = GradScaler()\n"
     ]
    },
    {
     "name": "stdout",
     "output_type": "stream",
     "text": [
      "\n",
      "EPOCH 2 DETAILED SUMMARY\n",
      "========================================================================================================================\n",
      "Epoch Time: 222.1s\n",
      "Training   - Loss: 0.916252 | Accuracy: 0.777381\n",
      "Validation - Loss: 0.904805 | Accuracy: 0.792059\n",
      "Overall    - F1: 0.795268 | Precision: 0.787477 | Recall: 0.809422\n",
      "Metrics    - MAE: 0.254074 | Adjacent Acc: 0.956622 | QWK: 0.896657\n",
      "\n",
      "────────────────────────────────────────────────────────────────────────────────────────────────────────────────────────\n",
      "PER-CLASS BREAKDOWN:\n",
      "────────────────────────────────────────────────────────────────────────────────────────────────────────────────────────\n",
      "Class                F1         Precision    Recall     Accuracy  \n",
      "─────────────────────────────────────────────────────────────────\n",
      "Extremely Negative   0.796082   0.703937     0.915984   0.915984  \n",
      "Negative             0.714912   0.717272     0.712568   0.712568  \n",
      "Neutral              0.848000   0.861789     0.834646   0.834646  \n",
      "Positive             0.775175   0.814335     0.739608   0.739608  \n",
      "Extremely Positive   0.842172   0.840050     0.844304   0.844304  \n",
      "========================================================================================================================\n",
      "New best QWK: 0.8967 (saved model)\n",
      "🌟 New best QWK: 0.8967 (saved model)\n",
      "\n",
      "EPOCH 3/10\n",
      "--------------------------------------------------\n"
     ]
    },
    {
     "name": "stderr",
     "output_type": "stream",
     "text": [
      "\r",
      "Training:   0%|                              | 0/1563 [00:00<?, ?it/s]                              /tmp/ipython-input-3553570516.py:75: FutureWarning: `torch.cuda.amp.autocast(args...)` is deprecated. Please use `torch.amp.autocast('cuda', args...)` instead.\n",
      "  with autocast():\n",
      "/usr/local/lib/python3.11/dist-packages/torch/nn/modules/module.py:1750: FutureWarning: `encoder_attention_mask` is deprecated and will be removed in version 4.55.0 for `RobertaSdpaSelfAttention.forward`.\n",
      "  return forward_call(*args, **kwargs)\n",
      "Training: 100%|██████████████████████████████| 1563/1563 [03:33<00:00,  7.31it/s, Loss=0.8090, Acc=0\n"
     ]
    },
    {
     "name": "stdout",
     "output_type": "stream",
     "text": [
      "\n",
      "📋 Validation Phase...\n"
     ]
    },
    {
     "name": "stderr",
     "output_type": "stream",
     "text": [
      "Validation:   0%|                              | 0/273 [00:00<?, ?it/s]                             /tmp/ipython-input-3553570516.py:135: FutureWarning: `torch.cuda.amp.autocast(args...)` is deprecated. Please use `torch.amp.autocast('cuda', args...)` instead.\n",
      "  with autocast():\n",
      "Validation: 100%|██████████████████████████████| 273/273 [00:08<00:00, 33.54it/s, Loss=0.8774, Acc=0\n",
      "/tmp/ipython-input-3553570516.py:61: FutureWarning: `torch.cuda.amp.GradScaler(args...)` is deprecated. Please use `torch.amp.GradScaler('cuda', args...)` instead.\n",
      "  scaler = GradScaler()\n"
     ]
    },
    {
     "name": "stdout",
     "output_type": "stream",
     "text": [
      "\n",
      "EPOCH 3 DETAILED SUMMARY\n",
      "========================================================================================================================\n",
      "Epoch Time: 222.1s\n",
      "Training   - Loss: 0.808961 | Accuracy: 0.844048\n",
      "Validation - Loss: 0.877402 | Accuracy: 0.819601\n",
      "Overall    - F1: 0.822492 | Precision: 0.835104 | Recall: 0.815582\n",
      "Metrics    - MAE: 0.223319 | Adjacent Acc: 0.959835 | QWK: 0.900352\n",
      "\n",
      "────────────────────────────────────────────────────────────────────────────────────────────────────────────────────────\n",
      "PER-CLASS BREAKDOWN:\n",
      "────────────────────────────────────────────────────────────────────────────────────────────────────────────────────────\n",
      "Class                F1         Precision    Recall     Accuracy  \n",
      "─────────────────────────────────────────────────────────────────\n",
      "Extremely Negative   0.826884   0.821862     0.831967   0.831967  \n",
      "Negative             0.764097   0.806804     0.725683   0.725683  \n",
      "Neutral              0.864350   0.861453     0.867267   0.867267  \n",
      "Positive             0.807094   0.749328     0.874510   0.874510  \n",
      "Extremely Positive   0.850035   0.936073     0.778481   0.778481  \n",
      "========================================================================================================================\n",
      "New best QWK: 0.9004 (saved model)\n",
      "🌟 New best QWK: 0.9004 (saved model)\n",
      "\n",
      "EPOCH 4/10\n",
      "--------------------------------------------------\n"
     ]
    },
    {
     "name": "stderr",
     "output_type": "stream",
     "text": [
      "\r",
      "Training:   0%|                              | 0/1563 [00:00<?, ?it/s]                              /tmp/ipython-input-3553570516.py:75: FutureWarning: `torch.cuda.amp.autocast(args...)` is deprecated. Please use `torch.amp.autocast('cuda', args...)` instead.\n",
      "  with autocast():\n",
      "/usr/local/lib/python3.11/dist-packages/torch/nn/modules/module.py:1750: FutureWarning: `encoder_attention_mask` is deprecated and will be removed in version 4.55.0 for `RobertaSdpaSelfAttention.forward`.\n",
      "  return forward_call(*args, **kwargs)\n",
      "Training: 100%|██████████████████████████████| 1563/1563 [03:33<00:00,  7.31it/s, Loss=0.7432, Acc=0\n"
     ]
    },
    {
     "name": "stdout",
     "output_type": "stream",
     "text": [
      "\n",
      "📋 Validation Phase...\n"
     ]
    },
    {
     "name": "stderr",
     "output_type": "stream",
     "text": [
      "Validation:   0%|                              | 0/273 [00:00<?, ?it/s]                             /tmp/ipython-input-3553570516.py:135: FutureWarning: `torch.cuda.amp.autocast(args...)` is deprecated. Please use `torch.amp.autocast('cuda', args...)` instead.\n",
      "  with autocast():\n",
      "Validation: 100%|██████████████████████████████| 273/273 [00:08<00:00, 33.22it/s, Loss=0.8633, Acc=0\n",
      "/tmp/ipython-input-3553570516.py:61: FutureWarning: `torch.cuda.amp.GradScaler(args...)` is deprecated. Please use `torch.amp.GradScaler('cuda', args...)` instead.\n",
      "  scaler = GradScaler()\n"
     ]
    },
    {
     "name": "stdout",
     "output_type": "stream",
     "text": [
      "\n",
      "EPOCH 4 DETAILED SUMMARY\n",
      "========================================================================================================================\n",
      "Epoch Time: 222.2s\n",
      "Training   - Loss: 0.743178 | Accuracy: 0.884127\n",
      "Validation - Loss: 0.863254 | Accuracy: 0.830388\n",
      "Overall    - F1: 0.830964 | Precision: 0.826848 | Recall: 0.837711\n",
      "Metrics    - MAE: 0.201744 | Adjacent Acc: 0.971311 | QWK: 0.917462\n",
      "\n",
      "────────────────────────────────────────────────────────────────────────────────────────────────────────────────────────\n",
      "PER-CLASS BREAKDOWN:\n",
      "────────────────────────────────────────────────────────────────────────────────────────────────────────────────────────\n",
      "Class                F1         Precision    Recall     Accuracy  \n",
      "─────────────────────────────────────────────────────────────────\n",
      "Extremely Negative   0.821643   0.803922     0.840164   0.840164  \n",
      "Negative             0.787948   0.821090     0.757377   0.757377  \n",
      "Neutral              0.870666   0.852371     0.889764   0.889764  \n",
      "Positive             0.813518   0.845893     0.783529   0.783529  \n",
      "Extremely Positive   0.861045   0.810962     0.917722   0.917722  \n",
      "========================================================================================================================\n",
      "New best QWK: 0.9175 (saved model)\n",
      "🌟 New best QWK: 0.9175 (saved model)\n",
      "\n",
      "EPOCH 5/10\n",
      "--------------------------------------------------\n"
     ]
    },
    {
     "name": "stderr",
     "output_type": "stream",
     "text": [
      "\r",
      "Training:   0%|                              | 0/1563 [00:00<?, ?it/s]                              /tmp/ipython-input-3553570516.py:75: FutureWarning: `torch.cuda.amp.autocast(args...)` is deprecated. Please use `torch.amp.autocast('cuda', args...)` instead.\n",
      "  with autocast():\n",
      "/usr/local/lib/python3.11/dist-packages/torch/nn/modules/module.py:1750: FutureWarning: `encoder_attention_mask` is deprecated and will be removed in version 4.55.0 for `RobertaSdpaSelfAttention.forward`.\n",
      "  return forward_call(*args, **kwargs)\n",
      "Training: 100%|██████████████████████████████| 1563/1563 [03:33<00:00,  7.30it/s, Loss=0.6916, Acc=0\n"
     ]
    },
    {
     "name": "stdout",
     "output_type": "stream",
     "text": [
      "\n",
      "📋 Validation Phase...\n"
     ]
    },
    {
     "name": "stderr",
     "output_type": "stream",
     "text": [
      "Validation:   0%|                              | 0/273 [00:00<?, ?it/s]                             /tmp/ipython-input-3553570516.py:135: FutureWarning: `torch.cuda.amp.autocast(args...)` is deprecated. Please use `torch.amp.autocast('cuda', args...)` instead.\n",
      "  with autocast():\n",
      "Validation: 100%|██████████████████████████████| 273/273 [00:08<00:00, 33.62it/s, Loss=0.8811, Acc=0\n",
      "/tmp/ipython-input-3553570516.py:61: FutureWarning: `torch.cuda.amp.GradScaler(args...)` is deprecated. Please use `torch.amp.GradScaler('cuda', args...)` instead.\n",
      "  scaler = GradScaler()\n"
     ]
    },
    {
     "name": "stdout",
     "output_type": "stream",
     "text": [
      "\n",
      "EPOCH 5 DETAILED SUMMARY\n",
      "========================================================================================================================\n",
      "Epoch Time: 222.1s\n",
      "Training   - Loss: 0.691583 | Accuracy: 0.909524\n",
      "Validation - Loss: 0.881083 | Accuracy: 0.831076\n",
      "Overall    - F1: 0.834894 | Precision: 0.836581 | Recall: 0.836816\n",
      "Metrics    - MAE: 0.199220 | Adjacent Acc: 0.972229 | QWK: 0.919884\n",
      "\n",
      "────────────────────────────────────────────────────────────────────────────────────────────────────────────────────────\n",
      "PER-CLASS BREAKDOWN:\n",
      "────────────────────────────────────────────────────────────────────────────────────────────────────────────────────────\n",
      "Class                F1         Precision    Recall     Accuracy  \n",
      "─────────────────────────────────────────────────────────────────\n",
      "Extremely Negative   0.843552   0.871179     0.817623   0.817623  \n",
      "Negative             0.807155   0.826087     0.789071   0.789071  \n",
      "Neutral              0.861063   0.875581     0.847019   0.847019  \n",
      "Positive             0.801444   0.820197     0.783529   0.783529  \n",
      "Extremely Positive   0.861255   0.789863     0.946835   0.946835  \n",
      "========================================================================================================================\n",
      "New best QWK: 0.9199 (saved model)\n",
      "🌟 New best QWK: 0.9199 (saved model)\n",
      "\n",
      "EPOCH 6/10\n",
      "--------------------------------------------------\n"
     ]
    },
    {
     "name": "stderr",
     "output_type": "stream",
     "text": [
      "\r",
      "Training:   0%|                              | 0/1563 [00:00<?, ?it/s]                              /tmp/ipython-input-3553570516.py:75: FutureWarning: `torch.cuda.amp.autocast(args...)` is deprecated. Please use `torch.amp.autocast('cuda', args...)` instead.\n",
      "  with autocast():\n",
      "/usr/local/lib/python3.11/dist-packages/torch/nn/modules/module.py:1750: FutureWarning: `encoder_attention_mask` is deprecated and will be removed in version 4.55.0 for `RobertaSdpaSelfAttention.forward`.\n",
      "  return forward_call(*args, **kwargs)\n",
      "Training: 100%|██████████████████████████████| 1563/1563 [03:33<00:00,  7.31it/s, Loss=0.6402, Acc=0\n"
     ]
    },
    {
     "name": "stdout",
     "output_type": "stream",
     "text": [
      "\n",
      "📋 Validation Phase...\n"
     ]
    },
    {
     "name": "stderr",
     "output_type": "stream",
     "text": [
      "Validation:   0%|                              | 0/273 [00:00<?, ?it/s]                             /tmp/ipython-input-3553570516.py:135: FutureWarning: `torch.cuda.amp.autocast(args...)` is deprecated. Please use `torch.amp.autocast('cuda', args...)` instead.\n",
      "  with autocast():\n",
      "Validation: 100%|██████████████████████████████| 273/273 [00:08<00:00, 34.10it/s, Loss=0.9077, Acc=0\n",
      "/tmp/ipython-input-3553570516.py:61: FutureWarning: `torch.cuda.amp.GradScaler(args...)` is deprecated. Please use `torch.amp.GradScaler('cuda', args...)` instead.\n",
      "  scaler = GradScaler()\n"
     ]
    },
    {
     "name": "stdout",
     "output_type": "stream",
     "text": [
      "\n",
      "EPOCH 6 DETAILED SUMMARY\n",
      "========================================================================================================================\n",
      "Epoch Time: 221.8s\n",
      "Training   - Loss: 0.640169 | Accuracy: 0.936508\n",
      "Validation - Loss: 0.907656 | Accuracy: 0.826257\n",
      "Overall    - F1: 0.829507 | Precision: 0.824873 | Recall: 0.840788\n",
      "Metrics    - MAE: 0.198990 | Adjacent Acc: 0.976819 | QWK: 0.924899\n",
      "\n",
      "────────────────────────────────────────────────────────────────────────────────────────────────────────────────────────\n",
      "PER-CLASS BREAKDOWN:\n",
      "────────────────────────────────────────────────────────────────────────────────────────────────────────────────────────\n",
      "Class                F1         Precision    Recall     Accuracy  \n",
      "─────────────────────────────────────────────────────────────────\n",
      "Extremely Negative   0.848665   0.820268     0.879098   0.879098  \n",
      "Negative             0.788087   0.827918     0.751913   0.751913  \n",
      "Neutral              0.853982   0.840044     0.868391   0.868391  \n",
      "Positive             0.804029   0.864621     0.751373   0.751373  \n",
      "Extremely Positive   0.852775   0.771516     0.953165   0.953165  \n",
      "========================================================================================================================\n",
      "New best QWK: 0.9249 (saved model)\n",
      "🌟 New best QWK: 0.9249 (saved model)\n",
      "\n",
      "EPOCH 7/10\n",
      "--------------------------------------------------\n"
     ]
    },
    {
     "name": "stderr",
     "output_type": "stream",
     "text": [
      "\r",
      "Training:   0%|                              | 0/1563 [00:00<?, ?it/s]                              /tmp/ipython-input-3553570516.py:75: FutureWarning: `torch.cuda.amp.autocast(args...)` is deprecated. Please use `torch.amp.autocast('cuda', args...)` instead.\n",
      "  with autocast():\n",
      "/usr/local/lib/python3.11/dist-packages/torch/nn/modules/module.py:1750: FutureWarning: `encoder_attention_mask` is deprecated and will be removed in version 4.55.0 for `RobertaSdpaSelfAttention.forward`.\n",
      "  return forward_call(*args, **kwargs)\n",
      "Training: 100%|██████████████████████████████| 1563/1563 [03:33<00:00,  7.31it/s, Loss=0.5968, Acc=0\n"
     ]
    },
    {
     "name": "stdout",
     "output_type": "stream",
     "text": [
      "\n",
      "📋 Validation Phase...\n"
     ]
    },
    {
     "name": "stderr",
     "output_type": "stream",
     "text": [
      "Validation:   0%|                              | 0/273 [00:00<?, ?it/s]                             /tmp/ipython-input-3553570516.py:135: FutureWarning: `torch.cuda.amp.autocast(args...)` is deprecated. Please use `torch.amp.autocast('cuda', args...)` instead.\n",
      "  with autocast():\n",
      "Validation: 100%|██████████████████████████████| 273/273 [00:08<00:00, 34.11it/s, Loss=0.9336, Acc=0\n",
      "/tmp/ipython-input-3553570516.py:61: FutureWarning: `torch.cuda.amp.GradScaler(args...)` is deprecated. Please use `torch.amp.GradScaler('cuda', args...)` instead.\n",
      "  scaler = GradScaler()\n"
     ]
    },
    {
     "name": "stdout",
     "output_type": "stream",
     "text": [
      "\n",
      "EPOCH 7 DETAILED SUMMARY\n",
      "========================================================================================================================\n",
      "Epoch Time: 221.9s\n",
      "Training   - Loss: 0.596794 | Accuracy: 0.959921\n",
      "Validation - Loss: 0.933639 | Accuracy: 0.829699\n",
      "Overall    - F1: 0.832369 | Precision: 0.825939 | Recall: 0.845238\n",
      "Metrics    - MAE: 0.188891 | Adjacent Acc: 0.982786 | QWK: 0.931120\n",
      "\n",
      "────────────────────────────────────────────────────────────────────────────────────────────────────────────────────────\n",
      "PER-CLASS BREAKDOWN:\n",
      "────────────────────────────────────────────────────────────────────────────────────────────────────────────────────────\n",
      "Class                F1         Precision    Recall     Accuracy  \n",
      "─────────────────────────────────────────────────────────────────\n",
      "Extremely Negative   0.843083   0.770798     0.930328   0.930328  \n",
      "Negative             0.786001   0.827295     0.748634   0.748634  \n",
      "Neutral              0.828346   0.776575     0.887514   0.887514  \n",
      "Positive             0.821280   0.873563     0.774902   0.774902  \n",
      "Extremely Positive   0.883133   0.881463     0.884810   0.884810  \n",
      "========================================================================================================================\n",
      "New best QWK: 0.9311 (saved model)\n",
      "🌟 New best QWK: 0.9311 (saved model)\n",
      "\n",
      "EPOCH 8/10\n",
      "--------------------------------------------------\n"
     ]
    },
    {
     "name": "stderr",
     "output_type": "stream",
     "text": [
      "\r",
      "Training:   0%|                              | 0/1563 [00:00<?, ?it/s]                              /tmp/ipython-input-3553570516.py:75: FutureWarning: `torch.cuda.amp.autocast(args...)` is deprecated. Please use `torch.amp.autocast('cuda', args...)` instead.\n",
      "  with autocast():\n",
      "/usr/local/lib/python3.11/dist-packages/torch/nn/modules/module.py:1750: FutureWarning: `encoder_attention_mask` is deprecated and will be removed in version 4.55.0 for `RobertaSdpaSelfAttention.forward`.\n",
      "  return forward_call(*args, **kwargs)\n",
      "Training: 100%|██████████████████████████████| 1563/1563 [03:33<00:00,  7.31it/s, Loss=0.5900, Acc=0\n"
     ]
    },
    {
     "name": "stdout",
     "output_type": "stream",
     "text": [
      "\n",
      "📋 Validation Phase...\n"
     ]
    },
    {
     "name": "stderr",
     "output_type": "stream",
     "text": [
      "Validation:   0%|                              | 0/273 [00:00<?, ?it/s]                             /tmp/ipython-input-3553570516.py:135: FutureWarning: `torch.cuda.amp.autocast(args...)` is deprecated. Please use `torch.amp.autocast('cuda', args...)` instead.\n",
      "  with autocast():\n",
      "Validation: 100%|██████████████████████████████| 273/273 [00:08<00:00, 33.72it/s, Loss=0.9119, Acc=0\n",
      "/tmp/ipython-input-3553570516.py:61: FutureWarning: `torch.cuda.amp.GradScaler(args...)` is deprecated. Please use `torch.amp.GradScaler('cuda', args...)` instead.\n",
      "  scaler = GradScaler()\n"
     ]
    },
    {
     "name": "stdout",
     "output_type": "stream",
     "text": [
      "\n",
      "EPOCH 8 DETAILED SUMMARY\n",
      "========================================================================================================================\n",
      "Epoch Time: 222.0s\n",
      "Training   - Loss: 0.590041 | Accuracy: 0.965476\n",
      "Validation - Loss: 0.911929 | Accuracy: 0.840487\n",
      "Overall    - F1: 0.842635 | Precision: 0.837105 | Recall: 0.851576\n",
      "Metrics    - MAE: 0.178793 | Adjacent Acc: 0.982098 | QWK: 0.933413\n",
      "\n",
      "────────────────────────────────────────────────────────────────────────────────────────────────────────────────────────\n",
      "PER-CLASS BREAKDOWN:\n",
      "────────────────────────────────────────────────────────────────────────────────────────────────────────────────────────\n",
      "Class                F1         Precision    Recall     Accuracy  \n",
      "─────────────────────────────────────────────────────────────────\n",
      "Extremely Negative   0.851747   0.789842     0.924180   0.924180  \n",
      "Negative             0.794536   0.828979     0.762842   0.762842  \n",
      "Neutral              0.839827   0.809176     0.872891   0.872891  \n",
      "Positive             0.838034   0.861640     0.815686   0.815686  \n",
      "Extremely Positive   0.889031   0.895887     0.882278   0.882278  \n",
      "========================================================================================================================\n",
      "New best QWK: 0.9334 (saved model)\n",
      "🌟 New best QWK: 0.9334 (saved model)\n",
      "\n",
      "EPOCH 9/10\n",
      "--------------------------------------------------\n"
     ]
    },
    {
     "name": "stderr",
     "output_type": "stream",
     "text": [
      "\r",
      "Training:   0%|                              | 0/1563 [00:00<?, ?it/s]                              /tmp/ipython-input-3553570516.py:75: FutureWarning: `torch.cuda.amp.autocast(args...)` is deprecated. Please use `torch.amp.autocast('cuda', args...)` instead.\n",
      "  with autocast():\n",
      "/usr/local/lib/python3.11/dist-packages/torch/nn/modules/module.py:1750: FutureWarning: `encoder_attention_mask` is deprecated and will be removed in version 4.55.0 for `RobertaSdpaSelfAttention.forward`.\n",
      "  return forward_call(*args, **kwargs)\n",
      "Training: 100%|██████████████████████████████| 1563/1563 [03:33<00:00,  7.31it/s, Loss=0.5386, Acc=0\n"
     ]
    },
    {
     "name": "stdout",
     "output_type": "stream",
     "text": [
      "\n",
      "📋 Validation Phase...\n"
     ]
    },
    {
     "name": "stderr",
     "output_type": "stream",
     "text": [
      "Validation:   0%|                              | 0/273 [00:00<?, ?it/s]                             /tmp/ipython-input-3553570516.py:135: FutureWarning: `torch.cuda.amp.autocast(args...)` is deprecated. Please use `torch.amp.autocast('cuda', args...)` instead.\n",
      "  with autocast():\n",
      "Validation: 100%|██████████████████████████████| 273/273 [00:08<00:00, 33.85it/s, Loss=0.9183, Acc=0\n",
      "/tmp/ipython-input-3553570516.py:61: FutureWarning: `torch.cuda.amp.GradScaler(args...)` is deprecated. Please use `torch.amp.GradScaler('cuda', args...)` instead.\n",
      "  scaler = GradScaler()\n"
     ]
    },
    {
     "name": "stdout",
     "output_type": "stream",
     "text": [
      "\n",
      "EPOCH 9 DETAILED SUMMARY\n",
      "========================================================================================================================\n",
      "Epoch Time: 222.0s\n",
      "Training   - Loss: 0.538640 | Accuracy: 0.988492\n",
      "Validation - Loss: 0.918270 | Accuracy: 0.840487\n",
      "Overall    - F1: 0.843798 | Precision: 0.839815 | Recall: 0.851624\n",
      "Metrics    - MAE: 0.176498 | Adjacent Acc: 0.984622 | QWK: 0.935045\n",
      "\n",
      "────────────────────────────────────────────────────────────────────────────────────────────────────────────────────────\n",
      "PER-CLASS BREAKDOWN:\n",
      "────────────────────────────────────────────────────────────────────────────────────────────────────────────────────────\n",
      "Class                F1         Precision    Recall     Accuracy  \n",
      "─────────────────────────────────────────────────────────────────\n",
      "Extremely Negative   0.868110   0.835227     0.903689   0.903689  \n",
      "Negative             0.800464   0.852905     0.754098   0.754098  \n",
      "Neutral              0.836421   0.790000     0.888639   0.888639  \n",
      "Positive             0.833945   0.869048     0.801569   0.801569  \n",
      "Extremely Positive   0.880049   0.851896     0.910127   0.910127  \n",
      "========================================================================================================================\n",
      "New best QWK: 0.9350 (saved model)\n",
      "🌟 New best QWK: 0.9350 (saved model)\n",
      "\n",
      "EPOCH 10/10\n",
      "--------------------------------------------------\n"
     ]
    },
    {
     "name": "stderr",
     "output_type": "stream",
     "text": [
      "\r",
      "Training:   0%|                              | 0/1563 [00:00<?, ?it/s]                              /tmp/ipython-input-3553570516.py:75: FutureWarning: `torch.cuda.amp.autocast(args...)` is deprecated. Please use `torch.amp.autocast('cuda', args...)` instead.\n",
      "  with autocast():\n",
      "/usr/local/lib/python3.11/dist-packages/torch/nn/modules/module.py:1750: FutureWarning: `encoder_attention_mask` is deprecated and will be removed in version 4.55.0 for `RobertaSdpaSelfAttention.forward`.\n",
      "  return forward_call(*args, **kwargs)\n",
      "Training: 100%|██████████████████████████████| 1563/1563 [03:33<00:00,  7.31it/s, Loss=0.5460, Acc=0\n"
     ]
    },
    {
     "name": "stdout",
     "output_type": "stream",
     "text": [
      "\n",
      "📋 Validation Phase...\n"
     ]
    },
    {
     "name": "stderr",
     "output_type": "stream",
     "text": [
      "Validation:   0%|                              | 0/273 [00:00<?, ?it/s]                             /tmp/ipython-input-3553570516.py:135: FutureWarning: `torch.cuda.amp.autocast(args...)` is deprecated. Please use `torch.amp.autocast('cuda', args...)` instead.\n",
      "  with autocast():\n",
      "Validation: 100%|██████████████████████████████| 273/273 [00:08<00:00, 33.27it/s, Loss=0.9271, Acc=0\n"
     ]
    },
    {
     "name": "stdout",
     "output_type": "stream",
     "text": [
      "\n",
      "EPOCH 10 DETAILED SUMMARY\n",
      "========================================================================================================================\n",
      "Epoch Time: 222.0s\n",
      "Training   - Loss: 0.546027 | Accuracy: 0.987302\n",
      "Validation - Loss: 0.927108 | Accuracy: 0.842552\n",
      "Overall    - F1: 0.846158 | Precision: 0.843275 | Recall: 0.852811\n",
      "Metrics    - MAE: 0.173055 | Adjacent Acc: 0.985770 | QWK: 0.936752\n",
      "\n",
      "────────────────────────────────────────────────────────────────────────────────────────────────────────────────────────\n",
      "PER-CLASS BREAKDOWN:\n",
      "────────────────────────────────────────────────────────────────────────────────────────────────────────────────────────\n",
      "Class                F1         Precision    Recall     Accuracy  \n",
      "─────────────────────────────────────────────────────────────────\n",
      "Extremely Negative   0.872873   0.853229     0.893443   0.893443  \n",
      "Negative             0.802768   0.849817     0.760656   0.760656  \n",
      "Neutral              0.836306   0.783677     0.896513   0.896513  \n",
      "Positive             0.836885   0.876395     0.800784   0.800784  \n",
      "Extremely Positive   0.881957   0.853254     0.912658   0.912658  \n",
      "========================================================================================================================\n",
      "New best QWK: 0.9368 (saved model)\n",
      "🌟 New best QWK: 0.9368 (saved model)\n",
      "\n",
      "============================================================\n",
      "TRAINING COMPLETED\n",
      "============================================================\n",
      "Best QWK: 0.9368 (Epoch 10)\n",
      "Total Epochs: 10\n",
      "Model Size: 514.62 MB\n",
      "Parameters: 134,903,813 total, 134,903,813 trainable\n",
      "Inference Time: 101.92 ms per sample\n",
      "Efficiency: 134.9M params, 101.9ms\n",
      "============================================================\n",
      "✅ Trial checkpoint saved: ./checkpoints_bert/trial_4/final_epoch_10.ckpt\n",
      "✅ Model files saved in: ./checkpoints_bert/trial_4\n",
      "📊 Trial 4 score: 0.9368 (Best: 0.9374)\n"
     ]
    },
    {
     "data": {
      "text/html": [],
      "text/plain": [
       "<IPython.core.display.HTML object>"
      ]
     },
     "metadata": {},
     "output_type": "display_data"
    },
    {
     "data": {
      "text/html": [
       "<br>    <style><br>        .wandb-row {<br>            display: flex;<br>            flex-direction: row;<br>            flex-wrap: wrap;<br>            justify-content: flex-start;<br>            width: 100%;<br>        }<br>        .wandb-col {<br>            display: flex;<br>            flex-direction: column;<br>            flex-basis: 100%;<br>            flex: 1;<br>            padding: 10px;<br>        }<br>    </style><br><div class=\"wandb-row\"><div class=\"wandb-col\"><h3>Run history:</h3><br/><table class=\"wandb\"><tr><td>Epoch</td><td>▁▂▃▃▄▅▆▆▇█</td></tr><tr><td>Epoch_Time</td><td>█▃▃▃▃▁▁▂▂▂</td></tr><tr><td>Inference Time (ms)</td><td>▁▁▁▁▁▁▁▁▁▁</td></tr><tr><td>Learning_Rate</td><td>▇█▇▆▅▄▃▂▁▁</td></tr><tr><td>Model Size (MB)</td><td>▁▁▁▁▁▁▁▁▁▁</td></tr><tr><td>Parameters per MB</td><td>▁▁▁▁▁▁▁▁▁▁</td></tr><tr><td>Total Parameters</td><td>▁▁▁▁▁▁▁▁▁▁</td></tr><tr><td>Train Accuracy</td><td>▁▄▅▆▇▇▇███</td></tr><tr><td>Train Loss</td><td>█▅▄▃▃▂▂▂▁▁</td></tr><tr><td>Trainable Parameters</td><td>▁▁▁▁▁▁▁▁▁▁</td></tr><tr><td>Validation Accuracy</td><td>▁▄▆▇▇▇▇███</td></tr><tr><td>Validation Adjacent Accuracy</td><td>▁▄▅▆▆▇████</td></tr><tr><td>Validation F1</td><td>▁▄▆▇▇▇▇███</td></tr><tr><td>Validation Loss</td><td>█▄▂▁▂▄▆▄▅▅</td></tr><tr><td>Validation MAE</td><td>█▅▃▂▂▂▂▁▁▁</td></tr><tr><td>Validation Precision</td><td>▁▄▇▇▇▇▇███</td></tr><tr><td>Validation QWK</td><td>▁▅▅▆▇▇████</td></tr><tr><td>Validation Recall</td><td>▁▄▅▇▇▇▇███</td></tr></table><br/></div><div class=\"wandb-col\"><h3>Run summary:</h3><br/><table class=\"wandb\"><tr><td>Epoch</td><td>10</td></tr><tr><td>Epoch_Time</td><td>221.98794</td></tr><tr><td>Inference Time (ms)</td><td>101.9181</td></tr><tr><td>Learning_Rate</td><td>0</td></tr><tr><td>Model Size (MB)</td><td>514.61919</td></tr><tr><td>Parameters per MB</td><td>262142.98954</td></tr><tr><td>Total Parameters</td><td>134903813</td></tr><tr><td>Train Accuracy</td><td>0.9873</td></tr><tr><td>Train Loss</td><td>0.54603</td></tr><tr><td>Trainable Parameters</td><td>134903813</td></tr><tr><td>Validation Accuracy</td><td>0.84255</td></tr><tr><td>Validation Adjacent Accuracy</td><td>0.98577</td></tr><tr><td>Validation F1</td><td>0.84616</td></tr><tr><td>Validation Loss</td><td>0.92711</td></tr><tr><td>Validation MAE</td><td>0.17305</td></tr><tr><td>Validation Precision</td><td>0.84327</td></tr><tr><td>Validation QWK</td><td>0.93675</td></tr><tr><td>Validation Recall</td><td>0.85281</td></tr></table><br/></div></div>"
      ],
      "text/plain": [
       "<IPython.core.display.HTML object>"
      ]
     },
     "metadata": {},
     "output_type": "display_data"
    },
    {
     "data": {
      "text/html": [
       " View run <strong style=\"color:#cdcd00\">bertweet-base-sentiment-analysis_trial_4</strong> at: <a href='https://wandb.ai/mayachn3-maya-bondar/sentiment-full-bert/runs/z7houu3c' target=\"_blank\">https://wandb.ai/mayachn3-maya-bondar/sentiment-full-bert/runs/z7houu3c</a><br> View project at: <a href='https://wandb.ai/mayachn3-maya-bondar/sentiment-full-bert' target=\"_blank\">https://wandb.ai/mayachn3-maya-bondar/sentiment-full-bert</a><br>Synced 5 W&B file(s), 0 media file(s), 0 artifact file(s) and 0 other file(s)"
      ],
      "text/plain": [
       "<IPython.core.display.HTML object>"
      ]
     },
     "metadata": {},
     "output_type": "display_data"
    },
    {
     "data": {
      "text/html": [
       "Find logs at: <code>./wandb/run-20250802_083159-z7houu3c/logs</code>"
      ],
      "text/plain": [
       "<IPython.core.display.HTML object>"
      ]
     },
     "metadata": {},
     "output_type": "display_data"
    },
    {
     "name": "stderr",
     "output_type": "stream",
     "text": [
      "[I 2025-08-02 09:09:26,444] Trial 4 finished with value: 0.9367519028033742 and parameters: {'learning_rate': 5.06464307077503e-05, 'batch_size': 16, 'label_smoothing': 0.1429467563112426, 'epochs': 10, 'warmup_ratio': 0.11532875879528516, 'weight_decay': 0.13075132035276754, 'attention_dropout': 0.3243327937987488, 'hidden_dropout': 0.31432088948837145}. Best is trial 2 with value: 0.9374337888939281.\n",
      "Some weights of RobertaForSequenceClassification were not initialized from the model checkpoint at finiteautomata/bertweet-base-sentiment-analysis and are newly initialized because the shapes did not match:\n",
      "- classifier.out_proj.weight: found shape torch.Size([3, 768]) in the checkpoint and torch.Size([5, 768]) in the model instantiated\n",
      "- classifier.out_proj.bias: found shape torch.Size([3]) in the checkpoint and torch.Size([5]) in the model instantiated\n",
      "You should probably TRAIN this model on a down-stream task to be able to use it for predictions and inference.\n"
     ]
    },
    {
     "data": {
      "text/html": [
       "Tracking run with wandb version 0.21.0"
      ],
      "text/plain": [
       "<IPython.core.display.HTML object>"
      ]
     },
     "metadata": {},
     "output_type": "display_data"
    },
    {
     "data": {
      "text/html": [
       "Run data is saved locally in <code>/content/deep-learning-project/wandb/run-20250802_090927-jvtgln6m</code>"
      ],
      "text/plain": [
       "<IPython.core.display.HTML object>"
      ]
     },
     "metadata": {},
     "output_type": "display_data"
    },
    {
     "data": {
      "text/html": [
       "Syncing run <strong><a href='https://wandb.ai/mayachn3-maya-bondar/sentiment-full-bert/runs/jvtgln6m' target=\"_blank\">bertweet-base-sentiment-analysis_trial_5</a></strong> to <a href='https://wandb.ai/mayachn3-maya-bondar/sentiment-full-bert' target=\"_blank\">Weights & Biases</a> (<a href='https://wandb.me/developer-guide' target=\"_blank\">docs</a>)<br>"
      ],
      "text/plain": [
       "<IPython.core.display.HTML object>"
      ]
     },
     "metadata": {},
     "output_type": "display_data"
    },
    {
     "data": {
      "text/html": [
       " View project at <a href='https://wandb.ai/mayachn3-maya-bondar/sentiment-full-bert' target=\"_blank\">https://wandb.ai/mayachn3-maya-bondar/sentiment-full-bert</a>"
      ],
      "text/plain": [
       "<IPython.core.display.HTML object>"
      ]
     },
     "metadata": {},
     "output_type": "display_data"
    },
    {
     "data": {
      "text/html": [
       " View run at <a href='https://wandb.ai/mayachn3-maya-bondar/sentiment-full-bert/runs/jvtgln6m' target=\"_blank\">https://wandb.ai/mayachn3-maya-bondar/sentiment-full-bert/runs/jvtgln6m</a>"
      ],
      "text/plain": [
       "<IPython.core.display.HTML object>"
      ]
     },
     "metadata": {},
     "output_type": "display_data"
    },
    {
     "name": "stderr",
     "output_type": "stream",
     "text": [
      "/usr/local/lib/python3.11/dist-packages/torch/nn/modules/module.py:1750: FutureWarning: `encoder_attention_mask` is deprecated and will be removed in version 4.55.0 for `RobertaSdpaSelfAttention.forward`.\n",
      "  return forward_call(*args, **kwargs)\n",
      "/tmp/ipython-input-3553570516.py:61: FutureWarning: `torch.cuda.amp.GradScaler(args...)` is deprecated. Please use `torch.amp.GradScaler('cuda', args...)` instead.\n",
      "  scaler = GradScaler()\n"
     ]
    },
    {
     "name": "stdout",
     "output_type": "stream",
     "text": [
      "============================================================\n",
      "STARTING TRAINING\n",
      "============================================================\n",
      "Training Configuration:\n",
      "   • Device: cuda\n",
      "   • Model Size: 514.62 MB\n",
      "   • Total Parameters: 134,903,813\n",
      "   • Trainable Parameters: 134,903,813\n",
      "   • Avg Inference Time: 388.30 ms\n",
      "   • Total Epochs: 11\n",
      "   • Train Batches: 391\n",
      "   • Validation Batches: 69\n",
      "   • Learning Rate: 0.00e+00\n",
      "   • Batch Size: 64\n",
      "============================================================\n",
      "\n",
      "EPOCH 1/11\n",
      "--------------------------------------------------\n"
     ]
    },
    {
     "name": "stderr",
     "output_type": "stream",
     "text": [
      "\r",
      "Training:   0%|                              | 0/391 [00:00<?, ?it/s]                               /tmp/ipython-input-3553570516.py:75: FutureWarning: `torch.cuda.amp.autocast(args...)` is deprecated. Please use `torch.amp.autocast('cuda', args...)` instead.\n",
      "  with autocast():\n",
      "Training: 100%|██████████████████████████████| 391/391 [02:14<00:00,  2.90it/s, Loss=1.0478, Acc=0.6\n"
     ]
    },
    {
     "name": "stdout",
     "output_type": "stream",
     "text": [
      "\n",
      "📋 Validation Phase...\n"
     ]
    },
    {
     "name": "stderr",
     "output_type": "stream",
     "text": [
      "\r",
      "Validation:   0%|                              | 0/69 [00:00<?, ?it/s]                              /tmp/ipython-input-3553570516.py:135: FutureWarning: `torch.cuda.amp.autocast(args...)` is deprecated. Please use `torch.amp.autocast('cuda', args...)` instead.\n",
      "  with autocast():\n",
      "Validation: 100%|██████████████████████████████| 69/69 [00:06<00:00, 10.07it/s, Loss=0.8632, Acc=0.7\n",
      "/tmp/ipython-input-3553570516.py:61: FutureWarning: `torch.cuda.amp.GradScaler(args...)` is deprecated. Please use `torch.amp.GradScaler('cuda', args...)` instead.\n",
      "  scaler = GradScaler()\n"
     ]
    },
    {
     "name": "stdout",
     "output_type": "stream",
     "text": [
      "\n",
      "EPOCH 1 DETAILED SUMMARY\n",
      "========================================================================================================================\n",
      "Epoch Time: 141.9s\n",
      "Training   - Loss: 1.047771 | Accuracy: 0.606467\n",
      "Validation - Loss: 0.863212 | Accuracy: 0.722745\n",
      "Overall    - F1: 0.724344 | Precision: 0.769846 | Recall: 0.716593\n",
      "Metrics    - MAE: 0.354372 | Adjacent Acc: 0.929080 | QWK: 0.828504\n",
      "\n",
      "────────────────────────────────────────────────────────────────────────────────────────────────────────────────────────\n",
      "PER-CLASS BREAKDOWN:\n",
      "────────────────────────────────────────────────────────────────────────────────────────────────────────────────────────\n",
      "Class                F1         Precision    Recall     Accuracy  \n",
      "─────────────────────────────────────────────────────────────────\n",
      "Extremely Negative   0.779528   0.750000     0.811475   0.811475  \n",
      "Negative             0.622654   0.763492     0.525683   0.525683  \n",
      "Neutral              0.815057   0.791314     0.840270   0.840270  \n",
      "Positive             0.711256   0.608939     0.854902   0.854902  \n",
      "Extremely Positive   0.693227   0.935484     0.550633   0.550633  \n",
      "========================================================================================================================\n",
      "New best QWK: 0.8285 (saved model)\n",
      "🌟 New best QWK: 0.8285 (saved model)\n",
      "\n",
      "EPOCH 2/11\n",
      "--------------------------------------------------\n"
     ]
    },
    {
     "name": "stderr",
     "output_type": "stream",
     "text": [
      "\r",
      "Training:   0%|                              | 0/391 [00:00<?, ?it/s]                               /tmp/ipython-input-3553570516.py:75: FutureWarning: `torch.cuda.amp.autocast(args...)` is deprecated. Please use `torch.amp.autocast('cuda', args...)` instead.\n",
      "  with autocast():\n",
      "/usr/local/lib/python3.11/dist-packages/torch/nn/modules/module.py:1750: FutureWarning: `encoder_attention_mask` is deprecated and will be removed in version 4.55.0 for `RobertaSdpaSelfAttention.forward`.\n",
      "  return forward_call(*args, **kwargs)\n",
      "Training: 100%|██████████████████████████████| 391/391 [02:14<00:00,  2.91it/s, Loss=0.7664, Acc=0.7\n"
     ]
    },
    {
     "name": "stdout",
     "output_type": "stream",
     "text": [
      "\n",
      "📋 Validation Phase...\n"
     ]
    },
    {
     "name": "stderr",
     "output_type": "stream",
     "text": [
      "Validation:   0%|                              | 0/69 [00:00<?, ?it/s]                              /tmp/ipython-input-3553570516.py:135: FutureWarning: `torch.cuda.amp.autocast(args...)` is deprecated. Please use `torch.amp.autocast('cuda', args...)` instead.\n",
      "  with autocast():\n",
      "Validation: 100%|██████████████████████████████| 69/69 [00:06<00:00, 10.27it/s, Loss=0.8179, Acc=0.7\n",
      "/tmp/ipython-input-3553570516.py:61: FutureWarning: `torch.cuda.amp.GradScaler(args...)` is deprecated. Please use `torch.amp.GradScaler('cuda', args...)` instead.\n",
      "  scaler = GradScaler()\n"
     ]
    },
    {
     "name": "stdout",
     "output_type": "stream",
     "text": [
      "\n",
      "EPOCH 2 DETAILED SUMMARY\n",
      "========================================================================================================================\n",
      "Epoch Time: 141.0s\n",
      "Training   - Loss: 0.766432 | Accuracy: 0.762224\n",
      "Validation - Loss: 0.817935 | Accuracy: 0.750975\n",
      "Overall    - F1: 0.750781 | Precision: 0.743970 | Recall: 0.780460\n",
      "Metrics    - MAE: 0.313978 | Adjacent Acc: 0.941014 | QWK: 0.872900\n",
      "\n",
      "────────────────────────────────────────────────────────────────────────────────────────────────────────────────────────\n",
      "PER-CLASS BREAKDOWN:\n",
      "────────────────────────────────────────────────────────────────────────────────────────────────────────────────────────\n",
      "Class                F1         Precision    Recall     Accuracy  \n",
      "─────────────────────────────────────────────────────────────────\n",
      "Extremely Negative   0.723539   0.588689     0.938525   0.938525  \n",
      "Negative             0.621089   0.660912     0.585792   0.585792  \n",
      "Neutral              0.833621   0.853774     0.814398   0.814398  \n",
      "Positive             0.733800   0.830525     0.657255   0.657255  \n",
      "Extremely Positive   0.841858   0.785950     0.906329   0.906329  \n",
      "========================================================================================================================\n",
      "New best QWK: 0.8729 (saved model)\n",
      "🌟 New best QWK: 0.8729 (saved model)\n",
      "\n",
      "EPOCH 3/11\n",
      "--------------------------------------------------\n"
     ]
    },
    {
     "name": "stderr",
     "output_type": "stream",
     "text": [
      "\r",
      "Training:   0%|                              | 0/391 [00:00<?, ?it/s]                               /tmp/ipython-input-3553570516.py:75: FutureWarning: `torch.cuda.amp.autocast(args...)` is deprecated. Please use `torch.amp.autocast('cuda', args...)` instead.\n",
      "  with autocast():\n",
      "/usr/local/lib/python3.11/dist-packages/torch/nn/modules/module.py:1750: FutureWarning: `encoder_attention_mask` is deprecated and will be removed in version 4.55.0 for `RobertaSdpaSelfAttention.forward`.\n",
      "  return forward_call(*args, **kwargs)\n",
      "Training: 100%|██████████████████████████████| 391/391 [02:14<00:00,  2.91it/s, Loss=0.5892, Acc=0.8\n"
     ]
    },
    {
     "name": "stdout",
     "output_type": "stream",
     "text": [
      "\n",
      "📋 Validation Phase...\n"
     ]
    },
    {
     "name": "stderr",
     "output_type": "stream",
     "text": [
      "Validation:   0%|                              | 0/69 [00:00<?, ?it/s]                              /tmp/ipython-input-3553570516.py:135: FutureWarning: `torch.cuda.amp.autocast(args...)` is deprecated. Please use `torch.amp.autocast('cuda', args...)` instead.\n",
      "  with autocast():\n",
      "Validation: 100%|██████████████████████████████| 69/69 [00:06<00:00, 10.36it/s, Loss=0.7005, Acc=0.8\n",
      "/tmp/ipython-input-3553570516.py:61: FutureWarning: `torch.cuda.amp.GradScaler(args...)` is deprecated. Please use `torch.amp.GradScaler('cuda', args...)` instead.\n",
      "  scaler = GradScaler()\n"
     ]
    },
    {
     "name": "stdout",
     "output_type": "stream",
     "text": [
      "\n",
      "EPOCH 3 DETAILED SUMMARY\n",
      "========================================================================================================================\n",
      "Epoch Time: 141.0s\n",
      "Training   - Loss: 0.589166 | Accuracy: 0.848580\n",
      "Validation - Loss: 0.700483 | Accuracy: 0.810190\n",
      "Overall    - F1: 0.812105 | Precision: 0.818714 | Recall: 0.810996\n",
      "Metrics    - MAE: 0.239614 | Adjacent Acc: 0.955015 | QWK: 0.891756\n",
      "\n",
      "────────────────────────────────────────────────────────────────────────────────────────────────────────────────────────\n",
      "PER-CLASS BREAKDOWN:\n",
      "────────────────────────────────────────────────────────────────────────────────────────────────────────────────────────\n",
      "Class                F1         Precision    Recall     Accuracy  \n",
      "─────────────────────────────────────────────────────────────────\n",
      "Extremely Negative   0.811565   0.790291     0.834016   0.834016  \n",
      "Negative             0.738124   0.833563     0.662295   0.662295  \n",
      "Neutral              0.856351   0.844639     0.868391   0.868391  \n",
      "Positive             0.793662   0.748436     0.844706   0.844706  \n",
      "Extremely Positive   0.860825   0.876640     0.845570   0.845570  \n",
      "========================================================================================================================\n",
      "New best QWK: 0.8918 (saved model)\n",
      "🌟 New best QWK: 0.8918 (saved model)\n",
      "\n",
      "EPOCH 4/11\n",
      "--------------------------------------------------\n"
     ]
    },
    {
     "name": "stderr",
     "output_type": "stream",
     "text": [
      "\r",
      "Training:   0%|                              | 0/391 [00:00<?, ?it/s]                               /tmp/ipython-input-3553570516.py:75: FutureWarning: `torch.cuda.amp.autocast(args...)` is deprecated. Please use `torch.amp.autocast('cuda', args...)` instead.\n",
      "  with autocast():\n",
      "/usr/local/lib/python3.11/dist-packages/torch/nn/modules/module.py:1750: FutureWarning: `encoder_attention_mask` is deprecated and will be removed in version 4.55.0 for `RobertaSdpaSelfAttention.forward`.\n",
      "  return forward_call(*args, **kwargs)\n",
      "Training: 100%|██████████████████████████████| 391/391 [02:14<00:00,  2.91it/s, Loss=0.5457, Acc=0.8\n"
     ]
    },
    {
     "name": "stdout",
     "output_type": "stream",
     "text": [
      "\n",
      "📋 Validation Phase...\n"
     ]
    },
    {
     "name": "stderr",
     "output_type": "stream",
     "text": [
      "Validation:   0%|                              | 0/69 [00:00<?, ?it/s]                              /tmp/ipython-input-3553570516.py:135: FutureWarning: `torch.cuda.amp.autocast(args...)` is deprecated. Please use `torch.amp.autocast('cuda', args...)` instead.\n",
      "  with autocast():\n",
      "Validation: 100%|██████████████████████████████| 69/69 [00:06<00:00, 10.33it/s, Loss=0.6872, Acc=0.8\n",
      "/tmp/ipython-input-3553570516.py:61: FutureWarning: `torch.cuda.amp.GradScaler(args...)` is deprecated. Please use `torch.amp.GradScaler('cuda', args...)` instead.\n",
      "  scaler = GradScaler()\n"
     ]
    },
    {
     "name": "stdout",
     "output_type": "stream",
     "text": [
      "\n",
      "EPOCH 4 DETAILED SUMMARY\n",
      "========================================================================================================================\n",
      "Epoch Time: 140.9s\n",
      "Training   - Loss: 0.545671 | Accuracy: 0.874606\n",
      "Validation - Loss: 0.687241 | Accuracy: 0.829470\n",
      "Overall    - F1: 0.832609 | Precision: 0.831003 | Recall: 0.836114\n",
      "Metrics    - MAE: 0.210695 | Adjacent Acc: 0.962359 | QWK: 0.910574\n",
      "\n",
      "────────────────────────────────────────────────────────────────────────────────────────────────────────────────────────\n",
      "PER-CLASS BREAKDOWN:\n",
      "────────────────────────────────────────────────────────────────────────────────────────────────────────────────────────\n",
      "Class                F1         Precision    Recall     Accuracy  \n",
      "─────────────────────────────────────────────────────────────────\n",
      "Extremely Negative   0.833671   0.825301     0.842213   0.842213  \n",
      "Negative             0.775362   0.736480     0.818579   0.818579  \n",
      "Neutral              0.865362   0.885748     0.845894   0.845894  \n",
      "Positive             0.817363   0.855184     0.782745   0.782745  \n",
      "Extremely Positive   0.871287   0.852300     0.891139   0.891139  \n",
      "========================================================================================================================\n",
      "New best QWK: 0.9106 (saved model)\n",
      "🌟 New best QWK: 0.9106 (saved model)\n",
      "\n",
      "EPOCH 5/11\n",
      "--------------------------------------------------\n"
     ]
    },
    {
     "name": "stderr",
     "output_type": "stream",
     "text": [
      "\r",
      "Training:   0%|                              | 0/391 [00:00<?, ?it/s]                               /tmp/ipython-input-3553570516.py:75: FutureWarning: `torch.cuda.amp.autocast(args...)` is deprecated. Please use `torch.amp.autocast('cuda', args...)` instead.\n",
      "  with autocast():\n",
      "/usr/local/lib/python3.11/dist-packages/torch/nn/modules/module.py:1750: FutureWarning: `encoder_attention_mask` is deprecated and will be removed in version 4.55.0 for `RobertaSdpaSelfAttention.forward`.\n",
      "  return forward_call(*args, **kwargs)\n",
      "Training: 100%|██████████████████████████████| 391/391 [02:14<00:00,  2.92it/s, Loss=0.4786, Acc=0.8\n"
     ]
    },
    {
     "name": "stdout",
     "output_type": "stream",
     "text": [
      "\n",
      "📋 Validation Phase...\n"
     ]
    },
    {
     "name": "stderr",
     "output_type": "stream",
     "text": [
      "Validation:   0%|                              | 0/69 [00:00<?, ?it/s]                              /tmp/ipython-input-3553570516.py:135: FutureWarning: `torch.cuda.amp.autocast(args...)` is deprecated. Please use `torch.amp.autocast('cuda', args...)` instead.\n",
      "  with autocast():\n",
      "Validation: 100%|██████████████████████████████| 69/69 [00:06<00:00, 10.36it/s, Loss=0.7756, Acc=0.8\n",
      "/tmp/ipython-input-3553570516.py:61: FutureWarning: `torch.cuda.amp.GradScaler(args...)` is deprecated. Please use `torch.amp.GradScaler('cuda', args...)` instead.\n",
      "  scaler = GradScaler()\n"
     ]
    },
    {
     "name": "stdout",
     "output_type": "stream",
     "text": [
      "\n",
      "EPOCH 5 DETAILED SUMMARY\n",
      "========================================================================================================================\n",
      "Epoch Time: 140.7s\n",
      "Training   - Loss: 0.478602 | Accuracy: 0.892350\n",
      "Validation - Loss: 0.775602 | Accuracy: 0.800780\n",
      "Overall    - F1: 0.803924 | Precision: 0.796517 | Recall: 0.822008\n",
      "Metrics    - MAE: 0.241221 | Adjacent Acc: 0.962130 | QWK: 0.903897\n",
      "\n",
      "────────────────────────────────────────────────────────────────────────────────────────────────────────────────────────\n",
      "PER-CLASS BREAKDOWN:\n",
      "────────────────────────────────────────────────────────────────────────────────────────────────────────────────────────\n",
      "Class                F1         Precision    Recall     Accuracy  \n",
      "─────────────────────────────────────────────────────────────────\n",
      "Extremely Negative   0.809783   0.725649     0.915984   0.915984  \n",
      "Negative             0.738313   0.726216     0.750820   0.750820  \n",
      "Neutral              0.838253   0.881988     0.798650   0.798650  \n",
      "Positive             0.780928   0.863248     0.712941   0.712941  \n",
      "Extremely Positive   0.852345   0.785486     0.931646   0.931646  \n",
      "========================================================================================================================\n",
      "QWK: 0.9039 (best: 0.9106 at epoch 4)\n",
      "📉 QWK: 0.9039 (best: 0.9106 at epoch 4)\n",
      "\n",
      "EPOCH 6/11\n",
      "--------------------------------------------------\n"
     ]
    },
    {
     "name": "stderr",
     "output_type": "stream",
     "text": [
      "\r",
      "Training:   0%|                              | 0/391 [00:00<?, ?it/s]                               /tmp/ipython-input-3553570516.py:75: FutureWarning: `torch.cuda.amp.autocast(args...)` is deprecated. Please use `torch.amp.autocast('cuda', args...)` instead.\n",
      "  with autocast():\n",
      "/usr/local/lib/python3.11/dist-packages/torch/nn/modules/module.py:1750: FutureWarning: `encoder_attention_mask` is deprecated and will be removed in version 4.55.0 for `RobertaSdpaSelfAttention.forward`.\n",
      "  return forward_call(*args, **kwargs)\n",
      "Training: 100%|██████████████████████████████| 391/391 [02:14<00:00,  2.92it/s, Loss=0.4135, Acc=0.9\n"
     ]
    },
    {
     "name": "stdout",
     "output_type": "stream",
     "text": [
      "\n",
      "📋 Validation Phase...\n"
     ]
    },
    {
     "name": "stderr",
     "output_type": "stream",
     "text": [
      "Validation:   0%|                              | 0/69 [00:00<?, ?it/s]                              /tmp/ipython-input-3553570516.py:135: FutureWarning: `torch.cuda.amp.autocast(args...)` is deprecated. Please use `torch.amp.autocast('cuda', args...)` instead.\n",
      "  with autocast():\n",
      "Validation: 100%|██████████████████████████████| 69/69 [00:06<00:00, 10.48it/s, Loss=0.7629, Acc=0.8\n",
      "/tmp/ipython-input-3553570516.py:61: FutureWarning: `torch.cuda.amp.GradScaler(args...)` is deprecated. Please use `torch.amp.GradScaler('cuda', args...)` instead.\n",
      "  scaler = GradScaler()\n"
     ]
    },
    {
     "name": "stdout",
     "output_type": "stream",
     "text": [
      "\n",
      "EPOCH 6 DETAILED SUMMARY\n",
      "========================================================================================================================\n",
      "Epoch Time: 140.7s\n",
      "Training   - Loss: 0.413497 | Accuracy: 0.930994\n",
      "Validation - Loss: 0.762920 | Accuracy: 0.800551\n",
      "Overall    - F1: 0.801671 | Precision: 0.794573 | Recall: 0.823985\n",
      "Metrics    - MAE: 0.232270 | Adjacent Acc: 0.970852 | QWK: 0.912700\n",
      "\n",
      "────────────────────────────────────────────────────────────────────────────────────────────────────────────────────────\n",
      "PER-CLASS BREAKDOWN:\n",
      "────────────────────────────────────────────────────────────────────────────────────────────────────────────────────────\n",
      "Class                F1         Precision    Recall     Accuracy  \n",
      "─────────────────────────────────────────────────────────────────\n",
      "Extremely Negative   0.803206   0.710236     0.924180   0.924180  \n",
      "Negative             0.745190   0.798750     0.698361   0.698361  \n",
      "Neutral              0.847973   0.848929     0.847019   0.847019  \n",
      "Positive             0.777633   0.869186     0.703529   0.703529  \n",
      "Extremely Positive   0.834356   0.745763     0.946835   0.946835  \n",
      "========================================================================================================================\n",
      "New best QWK: 0.9127 (saved model)\n",
      "🌟 New best QWK: 0.9127 (saved model)\n",
      "\n",
      "EPOCH 7/11\n",
      "--------------------------------------------------\n"
     ]
    },
    {
     "name": "stderr",
     "output_type": "stream",
     "text": [
      "\r",
      "Training:   0%|                              | 0/391 [00:00<?, ?it/s]                               /tmp/ipython-input-3553570516.py:75: FutureWarning: `torch.cuda.amp.autocast(args...)` is deprecated. Please use `torch.amp.autocast('cuda', args...)` instead.\n",
      "  with autocast():\n",
      "/usr/local/lib/python3.11/dist-packages/torch/nn/modules/module.py:1750: FutureWarning: `encoder_attention_mask` is deprecated and will be removed in version 4.55.0 for `RobertaSdpaSelfAttention.forward`.\n",
      "  return forward_call(*args, **kwargs)\n",
      "Training: 100%|██████████████████████████████| 391/391 [02:14<00:00,  2.91it/s, Loss=0.3600, Acc=0.9\n"
     ]
    },
    {
     "name": "stdout",
     "output_type": "stream",
     "text": [
      "\n",
      "📋 Validation Phase...\n"
     ]
    },
    {
     "name": "stderr",
     "output_type": "stream",
     "text": [
      "Validation:   0%|                              | 0/69 [00:00<?, ?it/s]                              /tmp/ipython-input-3553570516.py:135: FutureWarning: `torch.cuda.amp.autocast(args...)` is deprecated. Please use `torch.amp.autocast('cuda', args...)` instead.\n",
      "  with autocast():\n",
      "Validation: 100%|██████████████████████████████| 69/69 [00:06<00:00, 10.37it/s, Loss=0.7356, Acc=0.8\n",
      "/tmp/ipython-input-3553570516.py:61: FutureWarning: `torch.cuda.amp.GradScaler(args...)` is deprecated. Please use `torch.amp.GradScaler('cuda', args...)` instead.\n",
      "  scaler = GradScaler()\n"
     ]
    },
    {
     "name": "stdout",
     "output_type": "stream",
     "text": [
      "\n",
      "EPOCH 7 DETAILED SUMMARY\n",
      "========================================================================================================================\n",
      "Epoch Time: 141.0s\n",
      "Training   - Loss: 0.359955 | Accuracy: 0.951104\n",
      "Validation - Loss: 0.735606 | Accuracy: 0.836585\n",
      "Overall    - F1: 0.838869 | Precision: 0.836738 | Recall: 0.841941\n",
      "Metrics    - MAE: 0.187055 | Adjacent Acc: 0.977966 | QWK: 0.927123\n",
      "\n",
      "────────────────────────────────────────────────────────────────────────────────────────────────────────────────────────\n",
      "PER-CLASS BREAKDOWN:\n",
      "────────────────────────────────────────────────────────────────────────────────────────────────────────────────────────\n",
      "Class                F1         Precision    Recall     Accuracy  \n",
      "─────────────────────────────────────────────────────────────────\n",
      "Extremely Negative   0.845996   0.847737     0.844262   0.844262  \n",
      "Negative             0.794264   0.801782     0.786885   0.786885  \n",
      "Neutral              0.845777   0.820296     0.872891   0.872891  \n",
      "Positive             0.829150   0.856904     0.803137   0.803137  \n",
      "Extremely Positive   0.879162   0.856971     0.902532   0.902532  \n",
      "========================================================================================================================\n",
      "New best QWK: 0.9271 (saved model)\n",
      "🌟 New best QWK: 0.9271 (saved model)\n",
      "\n",
      "EPOCH 8/11\n",
      "--------------------------------------------------\n"
     ]
    },
    {
     "name": "stderr",
     "output_type": "stream",
     "text": [
      "\r",
      "Training:   0%|                              | 0/391 [00:00<?, ?it/s]                               /tmp/ipython-input-3553570516.py:75: FutureWarning: `torch.cuda.amp.autocast(args...)` is deprecated. Please use `torch.amp.autocast('cuda', args...)` instead.\n",
      "  with autocast():\n",
      "/usr/local/lib/python3.11/dist-packages/torch/nn/modules/module.py:1750: FutureWarning: `encoder_attention_mask` is deprecated and will be removed in version 4.55.0 for `RobertaSdpaSelfAttention.forward`.\n",
      "  return forward_call(*args, **kwargs)\n",
      "Training: 100%|██████████████████████████████| 391/391 [02:14<00:00,  2.92it/s, Loss=0.3255, Acc=0.9\n"
     ]
    },
    {
     "name": "stdout",
     "output_type": "stream",
     "text": [
      "\n",
      "📋 Validation Phase...\n"
     ]
    },
    {
     "name": "stderr",
     "output_type": "stream",
     "text": [
      "Validation:   0%|                              | 0/69 [00:00<?, ?it/s]                              /tmp/ipython-input-3553570516.py:135: FutureWarning: `torch.cuda.amp.autocast(args...)` is deprecated. Please use `torch.amp.autocast('cuda', args...)` instead.\n",
      "  with autocast():\n",
      "Validation: 100%|██████████████████████████████| 69/69 [00:06<00:00, 10.46it/s, Loss=0.7107, Acc=0.8\n",
      "/tmp/ipython-input-3553570516.py:61: FutureWarning: `torch.cuda.amp.GradScaler(args...)` is deprecated. Please use `torch.amp.GradScaler('cuda', args...)` instead.\n",
      "  scaler = GradScaler()\n"
     ]
    },
    {
     "name": "stdout",
     "output_type": "stream",
     "text": [
      "\n",
      "EPOCH 8 DETAILED SUMMARY\n",
      "========================================================================================================================\n",
      "Epoch Time: 140.7s\n",
      "Training   - Loss: 0.325532 | Accuracy: 0.965300\n",
      "Validation - Loss: 0.710710 | Accuracy: 0.846683\n",
      "Overall    - F1: 0.848973 | Precision: 0.848399 | Recall: 0.849940\n",
      "Metrics    - MAE: 0.177416 | Adjacent Acc: 0.977048 | QWK: 0.929676\n",
      "\n",
      "────────────────────────────────────────────────────────────────────────────────────────────────────────────────────────\n",
      "PER-CLASS BREAKDOWN:\n",
      "────────────────────────────────────────────────────────────────────────────────────────────────────────────────────────\n",
      "Class                F1         Precision    Recall     Accuracy  \n",
      "─────────────────────────────────────────────────────────────────\n",
      "Extremely Negative   0.855087   0.857732     0.852459   0.852459  \n",
      "Negative             0.799781   0.800657     0.798907   0.798907  \n",
      "Neutral              0.851993   0.828025     0.877390   0.877390  \n",
      "Positive             0.844037   0.858766     0.829804   0.829804  \n",
      "Extremely Positive   0.893968   0.896815     0.891139   0.891139  \n",
      "========================================================================================================================\n",
      "New best QWK: 0.9297 (saved model)\n",
      "🌟 New best QWK: 0.9297 (saved model)\n",
      "\n",
      "EPOCH 9/11\n",
      "--------------------------------------------------\n"
     ]
    },
    {
     "name": "stderr",
     "output_type": "stream",
     "text": [
      "\r",
      "Training:   0%|                              | 0/391 [00:00<?, ?it/s]                               /tmp/ipython-input-3553570516.py:75: FutureWarning: `torch.cuda.amp.autocast(args...)` is deprecated. Please use `torch.amp.autocast('cuda', args...)` instead.\n",
      "  with autocast():\n",
      "/usr/local/lib/python3.11/dist-packages/torch/nn/modules/module.py:1750: FutureWarning: `encoder_attention_mask` is deprecated and will be removed in version 4.55.0 for `RobertaSdpaSelfAttention.forward`.\n",
      "  return forward_call(*args, **kwargs)\n",
      "Training: 100%|██████████████████████████████| 391/391 [02:14<00:00,  2.91it/s, Loss=0.2806, Acc=0.9\n"
     ]
    },
    {
     "name": "stdout",
     "output_type": "stream",
     "text": [
      "\n",
      "📋 Validation Phase...\n"
     ]
    },
    {
     "name": "stderr",
     "output_type": "stream",
     "text": [
      "Validation:   0%|                              | 0/69 [00:00<?, ?it/s]                              /tmp/ipython-input-3553570516.py:135: FutureWarning: `torch.cuda.amp.autocast(args...)` is deprecated. Please use `torch.amp.autocast('cuda', args...)` instead.\n",
      "  with autocast():\n",
      "Validation: 100%|██████████████████████████████| 69/69 [00:06<00:00, 10.48it/s, Loss=0.7890, Acc=0.8\n",
      "/tmp/ipython-input-3553570516.py:61: FutureWarning: `torch.cuda.amp.GradScaler(args...)` is deprecated. Please use `torch.amp.GradScaler('cuda', args...)` instead.\n",
      "  scaler = GradScaler()\n"
     ]
    },
    {
     "name": "stdout",
     "output_type": "stream",
     "text": [
      "\n",
      "EPOCH 9 DETAILED SUMMARY\n",
      "========================================================================================================================\n",
      "Epoch Time: 140.8s\n",
      "Training   - Loss: 0.280617 | Accuracy: 0.985804\n",
      "Validation - Loss: 0.788966 | Accuracy: 0.832683\n",
      "Overall    - F1: 0.834753 | Precision: 0.834923 | Recall: 0.838626\n",
      "Metrics    - MAE: 0.184531 | Adjacent Acc: 0.984163 | QWK: 0.931187\n",
      "\n",
      "────────────────────────────────────────────────────────────────────────────────────────────────────────────────────────\n",
      "PER-CLASS BREAKDOWN:\n",
      "────────────────────────────────────────────────────────────────────────────────────────────────────────────────────────\n",
      "Class                F1         Precision    Recall     Accuracy  \n",
      "─────────────────────────────────────────────────────────────────\n",
      "Extremely Negative   0.842105   0.832000     0.852459   0.852459  \n",
      "Negative             0.783862   0.829268     0.743169   0.743169  \n",
      "Neutral              0.821721   0.754468     0.902137   0.902137  \n",
      "Positive             0.833942   0.864478     0.805490   0.805490  \n",
      "Extremely Positive   0.892132   0.894402     0.889873   0.889873  \n",
      "========================================================================================================================\n",
      "New best QWK: 0.9312 (saved model)\n",
      "🌟 New best QWK: 0.9312 (saved model)\n",
      "\n",
      "EPOCH 10/11\n",
      "--------------------------------------------------\n"
     ]
    },
    {
     "name": "stderr",
     "output_type": "stream",
     "text": [
      "\r",
      "Training:   0%|                              | 0/391 [00:00<?, ?it/s]                               /tmp/ipython-input-3553570516.py:75: FutureWarning: `torch.cuda.amp.autocast(args...)` is deprecated. Please use `torch.amp.autocast('cuda', args...)` instead.\n",
      "  with autocast():\n",
      "/usr/local/lib/python3.11/dist-packages/torch/nn/modules/module.py:1750: FutureWarning: `encoder_attention_mask` is deprecated and will be removed in version 4.55.0 for `RobertaSdpaSelfAttention.forward`.\n",
      "  return forward_call(*args, **kwargs)\n",
      "Training: 100%|██████████████████████████████| 391/391 [02:14<00:00,  2.92it/s, Loss=0.2702, Acc=0.9\n"
     ]
    },
    {
     "name": "stdout",
     "output_type": "stream",
     "text": [
      "\n",
      "📋 Validation Phase...\n"
     ]
    },
    {
     "name": "stderr",
     "output_type": "stream",
     "text": [
      "Validation:   0%|                              | 0/69 [00:00<?, ?it/s]                              /tmp/ipython-input-3553570516.py:135: FutureWarning: `torch.cuda.amp.autocast(args...)` is deprecated. Please use `torch.amp.autocast('cuda', args...)` instead.\n",
      "  with autocast():\n",
      "Validation: 100%|██████████████████████████████| 69/69 [00:06<00:00, 10.43it/s, Loss=0.8254, Acc=0.8\n",
      "/tmp/ipython-input-3553570516.py:61: FutureWarning: `torch.cuda.amp.GradScaler(args...)` is deprecated. Please use `torch.amp.GradScaler('cuda', args...)` instead.\n",
      "  scaler = GradScaler()\n"
     ]
    },
    {
     "name": "stdout",
     "output_type": "stream",
     "text": [
      "\n",
      "EPOCH 10 DETAILED SUMMARY\n",
      "========================================================================================================================\n",
      "Epoch Time: 140.7s\n",
      "Training   - Loss: 0.270169 | Accuracy: 0.990142\n",
      "Validation - Loss: 0.825421 | Accuracy: 0.833831\n",
      "Overall    - F1: 0.835748 | Precision: 0.836203 | Recall: 0.840298\n",
      "Metrics    - MAE: 0.184760 | Adjacent Acc: 0.983245 | QWK: 0.930441\n",
      "\n",
      "────────────────────────────────────────────────────────────────────────────────────────────────────────────────────────\n",
      "PER-CLASS BREAKDOWN:\n",
      "────────────────────────────────────────────────────────────────────────────────────────────────────────────────────────\n",
      "Class                F1         Precision    Recall     Accuracy  \n",
      "─────────────────────────────────────────────────────────────────\n",
      "Extremely Negative   0.848233   0.860759     0.836066   0.836066  \n",
      "Negative             0.786790   0.837238     0.742077   0.742077  \n",
      "Neutral              0.828409   0.768269     0.898763   0.898763  \n",
      "Positive             0.831756   0.874567     0.792941   0.792941  \n",
      "Extremely Positive   0.883553   0.840183     0.931646   0.931646  \n",
      "========================================================================================================================\n",
      "QWK: 0.9304 (best: 0.9312 at epoch 9)\n",
      "📉 QWK: 0.9304 (best: 0.9312 at epoch 9)\n",
      "\n",
      "EPOCH 11/11\n",
      "--------------------------------------------------\n"
     ]
    },
    {
     "name": "stderr",
     "output_type": "stream",
     "text": [
      "\r",
      "Training:   0%|                              | 0/391 [00:00<?, ?it/s]                               /tmp/ipython-input-3553570516.py:75: FutureWarning: `torch.cuda.amp.autocast(args...)` is deprecated. Please use `torch.amp.autocast('cuda', args...)` instead.\n",
      "  with autocast():\n",
      "/usr/local/lib/python3.11/dist-packages/torch/nn/modules/module.py:1750: FutureWarning: `encoder_attention_mask` is deprecated and will be removed in version 4.55.0 for `RobertaSdpaSelfAttention.forward`.\n",
      "  return forward_call(*args, **kwargs)\n",
      "Training: 100%|██████████████████████████████| 391/391 [02:14<00:00,  2.91it/s, Loss=0.2604, Acc=0.9\n"
     ]
    },
    {
     "name": "stdout",
     "output_type": "stream",
     "text": [
      "\n",
      "📋 Validation Phase...\n"
     ]
    },
    {
     "name": "stderr",
     "output_type": "stream",
     "text": [
      "Validation:   0%|                              | 0/69 [00:00<?, ?it/s]                              /tmp/ipython-input-3553570516.py:135: FutureWarning: `torch.cuda.amp.autocast(args...)` is deprecated. Please use `torch.amp.autocast('cuda', args...)` instead.\n",
      "  with autocast():\n",
      "Validation: 100%|██████████████████████████████| 69/69 [00:06<00:00, 10.35it/s, Loss=0.8196, Acc=0.8\n"
     ]
    },
    {
     "name": "stdout",
     "output_type": "stream",
     "text": [
      "\n",
      "EPOCH 11 DETAILED SUMMARY\n",
      "========================================================================================================================\n",
      "Epoch Time: 140.9s\n",
      "Training   - Loss: 0.260368 | Accuracy: 0.993691\n",
      "Validation - Loss: 0.819645 | Accuracy: 0.835208\n",
      "Overall    - F1: 0.837652 | Precision: 0.837253 | Recall: 0.841681\n",
      "Metrics    - MAE: 0.183383 | Adjacent Acc: 0.983245 | QWK: 0.930705\n",
      "\n",
      "────────────────────────────────────────────────────────────────────────────────────────────────────────────────────────\n",
      "PER-CLASS BREAKDOWN:\n",
      "────────────────────────────────────────────────────────────────────────────────────────────────────────────────────────\n",
      "Class                F1         Precision    Recall     Accuracy  \n",
      "─────────────────────────────────────────────────────────────────\n",
      "Extremely Negative   0.850669   0.855072     0.846311   0.846311  \n",
      "Negative             0.791523   0.831528     0.755191   0.755191  \n",
      "Neutral              0.824324   0.766184     0.892013   0.892013  \n",
      "Positive             0.833402   0.871575     0.798431   0.798431  \n",
      "Extremely Positive   0.888344   0.861905     0.916456   0.916456  \n",
      "========================================================================================================================\n",
      "QWK: 0.9307 (best: 0.9312 at epoch 9)\n",
      "📉 QWK: 0.9307 (best: 0.9312 at epoch 9)\n",
      "\n",
      "============================================================\n",
      "TRAINING COMPLETED\n",
      "============================================================\n",
      "Best QWK: 0.9312 (Epoch 9)\n",
      "Total Epochs: 11\n",
      "Model Size: 514.62 MB\n",
      "Parameters: 134,903,813 total, 134,903,813 trainable\n",
      "Inference Time: 388.30 ms per sample\n",
      "Efficiency: 134.9M params, 388.3ms\n",
      "============================================================\n",
      "✅ Trial checkpoint saved: ./checkpoints_bert/trial_5/final_epoch_11.ckpt\n",
      "✅ Model files saved in: ./checkpoints_bert/trial_5\n",
      "📊 Trial 5 score: 0.9312 (Best: 0.9374)\n"
     ]
    },
    {
     "data": {
      "text/html": [],
      "text/plain": [
       "<IPython.core.display.HTML object>"
      ]
     },
     "metadata": {},
     "output_type": "display_data"
    },
    {
     "data": {
      "text/html": [
       "<br>    <style><br>        .wandb-row {<br>            display: flex;<br>            flex-direction: row;<br>            flex-wrap: wrap;<br>            justify-content: flex-start;<br>            width: 100%;<br>        }<br>        .wandb-col {<br>            display: flex;<br>            flex-direction: column;<br>            flex-basis: 100%;<br>            flex: 1;<br>            padding: 10px;<br>        }<br>    </style><br><div class=\"wandb-row\"><div class=\"wandb-col\"><h3>Run history:</h3><br/><table class=\"wandb\"><tr><td>Epoch</td><td>▁▂▂▃▄▅▅▆▇▇█</td></tr><tr><td>Epoch_Time</td><td>█▃▃▂▁▁▃▁▂▁▂</td></tr><tr><td>Inference Time (ms)</td><td>▁▁▁▁▁▁▁▁▁▁▁</td></tr><tr><td>Learning_Rate</td><td>██▇▆▅▄▃▂▂▁▁</td></tr><tr><td>Model Size (MB)</td><td>▁▁▁▁▁▁▁▁▁▁▁</td></tr><tr><td>Parameters per MB</td><td>▁▁▁▁▁▁▁▁▁▁▁</td></tr><tr><td>Total Parameters</td><td>▁▁▁▁▁▁▁▁▁▁▁</td></tr><tr><td>Train Accuracy</td><td>▁▄▅▆▆▇▇▇███</td></tr><tr><td>Train Loss</td><td>█▅▄▄▃▂▂▂▁▁▁</td></tr><tr><td>Trainable Parameters</td><td>▁▁▁▁▁▁▁▁▁▁▁</td></tr><tr><td>Validation Accuracy</td><td>▁▃▆▇▅▅▇█▇▇▇</td></tr><tr><td>Validation Adjacent Accuracy</td><td>▁▃▄▅▅▆▇▇███</td></tr><tr><td>Validation F1</td><td>▁▂▆▇▅▅▇█▇▇▇</td></tr><tr><td>Validation Loss</td><td>█▆▂▁▅▄▃▂▅▆▆</td></tr><tr><td>Validation MAE</td><td>█▆▃▂▄▃▁▁▁▁▁</td></tr><tr><td>Validation Precision</td><td>▃▁▆▇▅▄▇█▇▇▇</td></tr><tr><td>Validation QWK</td><td>▁▄▅▇▆▇█████</td></tr><tr><td>Validation Recall</td><td>▁▄▆▇▇▇██▇▇█</td></tr></table><br/></div><div class=\"wandb-col\"><h3>Run summary:</h3><br/><table class=\"wandb\"><tr><td>Epoch</td><td>11</td></tr><tr><td>Epoch_Time</td><td>140.91291</td></tr><tr><td>Inference Time (ms)</td><td>388.2978</td></tr><tr><td>Learning_Rate</td><td>0</td></tr><tr><td>Model Size (MB)</td><td>514.61919</td></tr><tr><td>Parameters per MB</td><td>262142.98954</td></tr><tr><td>Total Parameters</td><td>134903813</td></tr><tr><td>Train Accuracy</td><td>0.99369</td></tr><tr><td>Train Loss</td><td>0.26037</td></tr><tr><td>Trainable Parameters</td><td>134903813</td></tr><tr><td>Validation Accuracy</td><td>0.83521</td></tr><tr><td>Validation Adjacent Accuracy</td><td>0.98325</td></tr><tr><td>Validation F1</td><td>0.83765</td></tr><tr><td>Validation Loss</td><td>0.81965</td></tr><tr><td>Validation MAE</td><td>0.18338</td></tr><tr><td>Validation Precision</td><td>0.83725</td></tr><tr><td>Validation QWK</td><td>0.9307</td></tr><tr><td>Validation Recall</td><td>0.84168</td></tr></table><br/></div></div>"
      ],
      "text/plain": [
       "<IPython.core.display.HTML object>"
      ]
     },
     "metadata": {},
     "output_type": "display_data"
    },
    {
     "data": {
      "text/html": [
       " View run <strong style=\"color:#cdcd00\">bertweet-base-sentiment-analysis_trial_5</strong> at: <a href='https://wandb.ai/mayachn3-maya-bondar/sentiment-full-bert/runs/jvtgln6m' target=\"_blank\">https://wandb.ai/mayachn3-maya-bondar/sentiment-full-bert/runs/jvtgln6m</a><br> View project at: <a href='https://wandb.ai/mayachn3-maya-bondar/sentiment-full-bert' target=\"_blank\">https://wandb.ai/mayachn3-maya-bondar/sentiment-full-bert</a><br>Synced 5 W&B file(s), 0 media file(s), 0 artifact file(s) and 0 other file(s)"
      ],
      "text/plain": [
       "<IPython.core.display.HTML object>"
      ]
     },
     "metadata": {},
     "output_type": "display_data"
    },
    {
     "data": {
      "text/html": [
       "Find logs at: <code>./wandb/run-20250802_090927-jvtgln6m/logs</code>"
      ],
      "text/plain": [
       "<IPython.core.display.HTML object>"
      ]
     },
     "metadata": {},
     "output_type": "display_data"
    },
    {
     "name": "stderr",
     "output_type": "stream",
     "text": [
      "[I 2025-08-02 09:35:39,704] Trial 5 finished with value: 0.9311869947559468 and parameters: {'learning_rate': 0.0001751264204223623, 'batch_size': 64, 'label_smoothing': 0.05485110344469462, 'epochs': 11, 'warmup_ratio': 0.06894540809759296, 'weight_decay': 0.14145536677989268, 'attention_dropout': 0.30762801090282166, 'hidden_dropout': 0.3856199820994313}. Best is trial 2 with value: 0.9374337888939281.\n",
      "Some weights of RobertaForSequenceClassification were not initialized from the model checkpoint at finiteautomata/bertweet-base-sentiment-analysis and are newly initialized because the shapes did not match:\n",
      "- classifier.out_proj.weight: found shape torch.Size([3, 768]) in the checkpoint and torch.Size([5, 768]) in the model instantiated\n",
      "- classifier.out_proj.bias: found shape torch.Size([3]) in the checkpoint and torch.Size([5]) in the model instantiated\n",
      "You should probably TRAIN this model on a down-stream task to be able to use it for predictions and inference.\n"
     ]
    },
    {
     "data": {
      "text/html": [
       "Tracking run with wandb version 0.21.0"
      ],
      "text/plain": [
       "<IPython.core.display.HTML object>"
      ]
     },
     "metadata": {},
     "output_type": "display_data"
    },
    {
     "data": {
      "text/html": [
       "Run data is saved locally in <code>/content/deep-learning-project/wandb/run-20250802_093540-n8f9hqmr</code>"
      ],
      "text/plain": [
       "<IPython.core.display.HTML object>"
      ]
     },
     "metadata": {},
     "output_type": "display_data"
    },
    {
     "data": {
      "text/html": [
       "Syncing run <strong><a href='https://wandb.ai/mayachn3-maya-bondar/sentiment-full-bert/runs/n8f9hqmr' target=\"_blank\">bertweet-base-sentiment-analysis_trial_6</a></strong> to <a href='https://wandb.ai/mayachn3-maya-bondar/sentiment-full-bert' target=\"_blank\">Weights & Biases</a> (<a href='https://wandb.me/developer-guide' target=\"_blank\">docs</a>)<br>"
      ],
      "text/plain": [
       "<IPython.core.display.HTML object>"
      ]
     },
     "metadata": {},
     "output_type": "display_data"
    },
    {
     "data": {
      "text/html": [
       " View project at <a href='https://wandb.ai/mayachn3-maya-bondar/sentiment-full-bert' target=\"_blank\">https://wandb.ai/mayachn3-maya-bondar/sentiment-full-bert</a>"
      ],
      "text/plain": [
       "<IPython.core.display.HTML object>"
      ]
     },
     "metadata": {},
     "output_type": "display_data"
    },
    {
     "data": {
      "text/html": [
       " View run at <a href='https://wandb.ai/mayachn3-maya-bondar/sentiment-full-bert/runs/n8f9hqmr' target=\"_blank\">https://wandb.ai/mayachn3-maya-bondar/sentiment-full-bert/runs/n8f9hqmr</a>"
      ],
      "text/plain": [
       "<IPython.core.display.HTML object>"
      ]
     },
     "metadata": {},
     "output_type": "display_data"
    },
    {
     "name": "stderr",
     "output_type": "stream",
     "text": [
      "/usr/local/lib/python3.11/dist-packages/torch/nn/modules/module.py:1750: FutureWarning: `encoder_attention_mask` is deprecated and will be removed in version 4.55.0 for `RobertaSdpaSelfAttention.forward`.\n",
      "  return forward_call(*args, **kwargs)\n",
      "/tmp/ipython-input-3553570516.py:61: FutureWarning: `torch.cuda.amp.GradScaler(args...)` is deprecated. Please use `torch.amp.GradScaler('cuda', args...)` instead.\n",
      "  scaler = GradScaler()\n"
     ]
    },
    {
     "name": "stdout",
     "output_type": "stream",
     "text": [
      "============================================================\n",
      "STARTING TRAINING\n",
      "============================================================\n",
      "Training Configuration:\n",
      "   • Device: cuda\n",
      "   • Model Size: 514.62 MB\n",
      "   • Total Parameters: 134,903,813\n",
      "   • Trainable Parameters: 134,903,813\n",
      "   • Avg Inference Time: 186.13 ms\n",
      "   • Total Epochs: 10\n",
      "   • Train Batches: 782\n",
      "   • Validation Batches: 137\n",
      "   • Learning Rate: 0.00e+00\n",
      "   • Batch Size: 32\n",
      "============================================================\n",
      "\n",
      "EPOCH 1/10\n",
      "--------------------------------------------------\n"
     ]
    },
    {
     "name": "stderr",
     "output_type": "stream",
     "text": [
      "\r",
      "Training:   0%|                              | 0/782 [00:00<?, ?it/s]                               /tmp/ipython-input-3553570516.py:75: FutureWarning: `torch.cuda.amp.autocast(args...)` is deprecated. Please use `torch.amp.autocast('cuda', args...)` instead.\n",
      "  with autocast():\n",
      "Training: 100%|██████████████████████████████| 782/782 [02:40<00:00,  4.86it/s, Loss=1.1504, Acc=0.6\n"
     ]
    },
    {
     "name": "stdout",
     "output_type": "stream",
     "text": [
      "\n",
      "📋 Validation Phase...\n"
     ]
    },
    {
     "name": "stderr",
     "output_type": "stream",
     "text": [
      "Validation:   0%|                              | 0/137 [00:00<?, ?it/s]                             /tmp/ipython-input-3553570516.py:135: FutureWarning: `torch.cuda.amp.autocast(args...)` is deprecated. Please use `torch.amp.autocast('cuda', args...)` instead.\n",
      "  with autocast():\n",
      "Validation: 100%|██████████████████████████████| 137/137 [00:06<00:00, 19.69it/s, Loss=0.9663, Acc=0\n",
      "/tmp/ipython-input-3553570516.py:61: FutureWarning: `torch.cuda.amp.GradScaler(args...)` is deprecated. Please use `torch.amp.GradScaler('cuda', args...)` instead.\n",
      "  scaler = GradScaler()\n"
     ]
    },
    {
     "name": "stdout",
     "output_type": "stream",
     "text": [
      "\n",
      "EPOCH 1 DETAILED SUMMARY\n",
      "========================================================================================================================\n",
      "Epoch Time: 167.9s\n",
      "Training   - Loss: 1.150415 | Accuracy: 0.608833\n",
      "Validation - Loss: 0.966291 | Accuracy: 0.724122\n",
      "Overall    - F1: 0.733657 | Precision: 0.739450 | Recall: 0.744519\n",
      "Metrics    - MAE: 0.351159 | Adjacent Acc: 0.932522 | QWK: 0.846180\n",
      "\n",
      "────────────────────────────────────────────────────────────────────────────────────────────────────────────────────────\n",
      "PER-CLASS BREAKDOWN:\n",
      "────────────────────────────────────────────────────────────────────────────────────────────────────────────────────────\n",
      "Class                F1         Precision    Recall     Accuracy  \n",
      "─────────────────────────────────────────────────────────────────\n",
      "Extremely Negative   0.768254   0.794311     0.743852   0.743852  \n",
      "Negative             0.692453   0.609129     0.802186   0.802186  \n",
      "Neutral              0.792303   0.797267     0.787402   0.787402  \n",
      "Positive             0.635436   0.777526     0.537255   0.537255  \n",
      "Extremely Positive   0.779838   0.719017     0.851899   0.851899  \n",
      "========================================================================================================================\n",
      "New best QWK: 0.8462 (saved model)\n",
      "🌟 New best QWK: 0.8462 (saved model)\n",
      "\n",
      "EPOCH 2/10\n",
      "--------------------------------------------------\n"
     ]
    },
    {
     "name": "stderr",
     "output_type": "stream",
     "text": [
      "\r",
      "Training:   0%|                              | 0/782 [00:00<?, ?it/s]                               /tmp/ipython-input-3553570516.py:75: FutureWarning: `torch.cuda.amp.autocast(args...)` is deprecated. Please use `torch.amp.autocast('cuda', args...)` instead.\n",
      "  with autocast():\n",
      "/usr/local/lib/python3.11/dist-packages/torch/nn/modules/module.py:1750: FutureWarning: `encoder_attention_mask` is deprecated and will be removed in version 4.55.0 for `RobertaSdpaSelfAttention.forward`.\n",
      "  return forward_call(*args, **kwargs)\n",
      "Training: 100%|██████████████████████████████| 782/782 [02:40<00:00,  4.89it/s, Loss=0.9057, Acc=0.7\n"
     ]
    },
    {
     "name": "stdout",
     "output_type": "stream",
     "text": [
      "\n",
      "📋 Validation Phase...\n"
     ]
    },
    {
     "name": "stderr",
     "output_type": "stream",
     "text": [
      "Validation:   0%|                              | 0/137 [00:00<?, ?it/s]                             /tmp/ipython-input-3553570516.py:135: FutureWarning: `torch.cuda.amp.autocast(args...)` is deprecated. Please use `torch.amp.autocast('cuda', args...)` instead.\n",
      "  with autocast():\n",
      "Validation: 100%|██████████████████████████████| 137/137 [00:06<00:00, 19.91it/s, Loss=1.0087, Acc=0\n",
      "/tmp/ipython-input-3553570516.py:61: FutureWarning: `torch.cuda.amp.GradScaler(args...)` is deprecated. Please use `torch.amp.GradScaler('cuda', args...)` instead.\n",
      "  scaler = GradScaler()\n"
     ]
    },
    {
     "name": "stdout",
     "output_type": "stream",
     "text": [
      "\n",
      "EPOCH 2 DETAILED SUMMARY\n",
      "========================================================================================================================\n",
      "Epoch Time: 167.0s\n",
      "Training   - Loss: 0.905717 | Accuracy: 0.772871\n",
      "Validation - Loss: 1.008705 | Accuracy: 0.739959\n",
      "Overall    - F1: 0.737829 | Precision: 0.739138 | Recall: 0.762859\n",
      "Metrics    - MAE: 0.319945 | Adjacent Acc: 0.946064 | QWK: 0.873288\n",
      "\n",
      "────────────────────────────────────────────────────────────────────────────────────────────────────────────────────────\n",
      "PER-CLASS BREAKDOWN:\n",
      "────────────────────────────────────────────────────────────────────────────────────────────────────────────────────────\n",
      "Class                F1         Precision    Recall     Accuracy  \n",
      "─────────────────────────────────────────────────────────────────\n",
      "Extremely Negative   0.718310   0.581013     0.940574   0.940574  \n",
      "Negative             0.598596   0.719325     0.512568   0.512568  \n",
      "Neutral              0.839521   0.897567     0.788526   0.788526  \n",
      "Positive             0.733676   0.740415     0.727059   0.727059  \n",
      "Extremely Positive   0.799043   0.757370     0.845570   0.845570  \n",
      "========================================================================================================================\n",
      "New best QWK: 0.8733 (saved model)\n",
      "🌟 New best QWK: 0.8733 (saved model)\n",
      "\n",
      "EPOCH 3/10\n",
      "--------------------------------------------------\n"
     ]
    },
    {
     "name": "stderr",
     "output_type": "stream",
     "text": [
      "\r",
      "Training:   0%|                              | 0/782 [00:00<?, ?it/s]                               /tmp/ipython-input-3553570516.py:75: FutureWarning: `torch.cuda.amp.autocast(args...)` is deprecated. Please use `torch.amp.autocast('cuda', args...)` instead.\n",
      "  with autocast():\n",
      "/usr/local/lib/python3.11/dist-packages/torch/nn/modules/module.py:1750: FutureWarning: `encoder_attention_mask` is deprecated and will be removed in version 4.55.0 for `RobertaSdpaSelfAttention.forward`.\n",
      "  return forward_call(*args, **kwargs)\n",
      "Training: 100%|██████████████████████████████| 782/782 [02:39<00:00,  4.89it/s, Loss=0.8292, Acc=0.8\n"
     ]
    },
    {
     "name": "stdout",
     "output_type": "stream",
     "text": [
      "\n",
      "📋 Validation Phase...\n"
     ]
    },
    {
     "name": "stderr",
     "output_type": "stream",
     "text": [
      "\r",
      "Validation:   0%|                              | 0/137 [00:00<?, ?it/s]                             /tmp/ipython-input-3553570516.py:135: FutureWarning: `torch.cuda.amp.autocast(args...)` is deprecated. Please use `torch.amp.autocast('cuda', args...)` instead.\n",
      "  with autocast():\n",
      "Validation: 100%|██████████████████████████████| 137/137 [00:06<00:00, 19.61it/s, Loss=1.0617, Acc=0\n",
      "/tmp/ipython-input-3553570516.py:61: FutureWarning: `torch.cuda.amp.GradScaler(args...)` is deprecated. Please use `torch.amp.GradScaler('cuda', args...)` instead.\n",
      "  scaler = GradScaler()\n"
     ]
    },
    {
     "name": "stdout",
     "output_type": "stream",
     "text": [
      "\n",
      "EPOCH 3 DETAILED SUMMARY\n",
      "========================================================================================================================\n",
      "Epoch Time: 166.8s\n",
      "Training   - Loss: 0.829219 | Accuracy: 0.819401\n",
      "Validation - Loss: 1.061748 | Accuracy: 0.707826\n",
      "Overall    - F1: 0.709133 | Precision: 0.727864 | Recall: 0.752108\n",
      "Metrics    - MAE: 0.351618 | Adjacent Acc: 0.948129 | QWK: 0.871293\n",
      "\n",
      "────────────────────────────────────────────────────────────────────────────────────────────────────────────────────────\n",
      "PER-CLASS BREAKDOWN:\n",
      "────────────────────────────────────────────────────────────────────────────────────────────────────────────────────────\n",
      "Class                F1         Precision    Recall     Accuracy  \n",
      "─────────────────────────────────────────────────────────────────\n",
      "Extremely Negative   0.725118   0.589974     0.940574   0.940574  \n",
      "Negative             0.600692   0.818868     0.474317   0.474317  \n",
      "Neutral              0.869464   0.902056     0.839145   0.839145  \n",
      "Positive             0.614397   0.739514     0.525490   0.525490  \n",
      "Extremely Positive   0.735992   0.588906     0.981013   0.981013  \n",
      "========================================================================================================================\n",
      "QWK: 0.8713 (best: 0.8733 at epoch 2)\n",
      "📉 QWK: 0.8713 (best: 0.8733 at epoch 2)\n",
      "\n",
      "EPOCH 4/10\n",
      "--------------------------------------------------\n"
     ]
    },
    {
     "name": "stderr",
     "output_type": "stream",
     "text": [
      "\r",
      "Training:   0%|                              | 0/782 [00:00<?, ?it/s]                               /tmp/ipython-input-3553570516.py:75: FutureWarning: `torch.cuda.amp.autocast(args...)` is deprecated. Please use `torch.amp.autocast('cuda', args...)` instead.\n",
      "  with autocast():\n",
      "/usr/local/lib/python3.11/dist-packages/torch/nn/modules/module.py:1750: FutureWarning: `encoder_attention_mask` is deprecated and will be removed in version 4.55.0 for `RobertaSdpaSelfAttention.forward`.\n",
      "  return forward_call(*args, **kwargs)\n",
      "Training: 100%|██████████████████████████████| 782/782 [02:40<00:00,  4.87it/s, Loss=0.7340, Acc=0.8\n"
     ]
    },
    {
     "name": "stdout",
     "output_type": "stream",
     "text": [
      "\n",
      "📋 Validation Phase...\n"
     ]
    },
    {
     "name": "stderr",
     "output_type": "stream",
     "text": [
      "Validation:   0%|                              | 0/137 [00:00<?, ?it/s]                             /tmp/ipython-input-3553570516.py:135: FutureWarning: `torch.cuda.amp.autocast(args...)` is deprecated. Please use `torch.amp.autocast('cuda', args...)` instead.\n",
      "  with autocast():\n",
      "Validation: 100%|██████████████████████████████| 137/137 [00:06<00:00, 19.58it/s, Loss=0.8860, Acc=0\n",
      "/tmp/ipython-input-3553570516.py:61: FutureWarning: `torch.cuda.amp.GradScaler(args...)` is deprecated. Please use `torch.amp.GradScaler('cuda', args...)` instead.\n",
      "  scaler = GradScaler()\n"
     ]
    },
    {
     "name": "stdout",
     "output_type": "stream",
     "text": [
      "\n",
      "EPOCH 4 DETAILED SUMMARY\n",
      "========================================================================================================================\n",
      "Epoch Time: 167.5s\n",
      "Training   - Loss: 0.733965 | Accuracy: 0.876183\n",
      "Validation - Loss: 0.885998 | Accuracy: 0.806289\n",
      "Overall    - F1: 0.802459 | Precision: 0.796466 | Recall: 0.825474\n",
      "Metrics    - MAE: 0.234336 | Adjacent Acc: 0.963277 | QWK: 0.908003\n",
      "\n",
      "────────────────────────────────────────────────────────────────────────────────────────────────────────────────────────\n",
      "PER-CLASS BREAKDOWN:\n",
      "────────────────────────────────────────────────────────────────────────────────────────────────────────────────────────\n",
      "Class                F1         Precision    Recall     Accuracy  \n",
      "─────────────────────────────────────────────────────────────────\n",
      "Extremely Negative   0.756713   0.627530     0.952869   0.952869  \n",
      "Negative             0.681577   0.738520     0.632787   0.632787  \n",
      "Neutral              0.874855   0.902031     0.849269   0.849269  \n",
      "Positive             0.821725   0.871592     0.777255   0.777255  \n",
      "Extremely Positive   0.877427   0.842657     0.915190   0.915190  \n",
      "========================================================================================================================\n",
      "New best QWK: 0.9080 (saved model)\n",
      "🌟 New best QWK: 0.9080 (saved model)\n",
      "\n",
      "EPOCH 5/10\n",
      "--------------------------------------------------\n"
     ]
    },
    {
     "name": "stderr",
     "output_type": "stream",
     "text": [
      "\r",
      "Training:   0%|                              | 0/782 [00:00<?, ?it/s]                               /tmp/ipython-input-3553570516.py:75: FutureWarning: `torch.cuda.amp.autocast(args...)` is deprecated. Please use `torch.amp.autocast('cuda', args...)` instead.\n",
      "  with autocast():\n",
      "/usr/local/lib/python3.11/dist-packages/torch/nn/modules/module.py:1750: FutureWarning: `encoder_attention_mask` is deprecated and will be removed in version 4.55.0 for `RobertaSdpaSelfAttention.forward`.\n",
      "  return forward_call(*args, **kwargs)\n",
      "Training: 100%|██████████████████████████████| 782/782 [02:40<00:00,  4.88it/s, Loss=0.6708, Acc=0.9\n"
     ]
    },
    {
     "name": "stdout",
     "output_type": "stream",
     "text": [
      "\n",
      "📋 Validation Phase...\n"
     ]
    },
    {
     "name": "stderr",
     "output_type": "stream",
     "text": [
      "Validation:   0%|                              | 0/137 [00:00<?, ?it/s]                             /tmp/ipython-input-3553570516.py:135: FutureWarning: `torch.cuda.amp.autocast(args...)` is deprecated. Please use `torch.amp.autocast('cuda', args...)` instead.\n",
      "  with autocast():\n",
      "Validation: 100%|██████████████████████████████| 137/137 [00:06<00:00, 19.65it/s, Loss=0.8970, Acc=0\n",
      "/tmp/ipython-input-3553570516.py:61: FutureWarning: `torch.cuda.amp.GradScaler(args...)` is deprecated. Please use `torch.amp.GradScaler('cuda', args...)` instead.\n",
      "  scaler = GradScaler()\n"
     ]
    },
    {
     "name": "stdout",
     "output_type": "stream",
     "text": [
      "\n",
      "EPOCH 5 DETAILED SUMMARY\n",
      "========================================================================================================================\n",
      "Epoch Time: 167.4s\n",
      "Training   - Loss: 0.670843 | Accuracy: 0.908123\n",
      "Validation - Loss: 0.897047 | Accuracy: 0.805830\n",
      "Overall    - F1: 0.812958 | Precision: 0.810568 | Recall: 0.828163\n",
      "Metrics    - MAE: 0.224237 | Adjacent Acc: 0.972917 | QWK: 0.915452\n",
      "\n",
      "────────────────────────────────────────────────────────────────────────────────────────────────────────────────────────\n",
      "PER-CLASS BREAKDOWN:\n",
      "────────────────────────────────────────────────────────────────────────────────────────────────────────────────────────\n",
      "Class                F1         Precision    Recall     Accuracy  \n",
      "─────────────────────────────────────────────────────────────────\n",
      "Extremely Negative   0.849751   0.825919     0.875000   0.875000  \n",
      "Negative             0.799105   0.818807     0.780328   0.780328  \n",
      "Neutral              0.857942   0.853170     0.862767   0.862767  \n",
      "Positive             0.743612   0.848241     0.661961   0.661961  \n",
      "Extremely Positive   0.814378   0.706704     0.960759   0.960759  \n",
      "========================================================================================================================\n",
      "New best QWK: 0.9155 (saved model)\n",
      "🌟 New best QWK: 0.9155 (saved model)\n",
      "\n",
      "EPOCH 6/10\n",
      "--------------------------------------------------\n"
     ]
    },
    {
     "name": "stderr",
     "output_type": "stream",
     "text": [
      "\r",
      "Training:   0%|                              | 0/782 [00:00<?, ?it/s]                               /tmp/ipython-input-3553570516.py:75: FutureWarning: `torch.cuda.amp.autocast(args...)` is deprecated. Please use `torch.amp.autocast('cuda', args...)` instead.\n",
      "  with autocast():\n",
      "/usr/local/lib/python3.11/dist-packages/torch/nn/modules/module.py:1750: FutureWarning: `encoder_attention_mask` is deprecated and will be removed in version 4.55.0 for `RobertaSdpaSelfAttention.forward`.\n",
      "  return forward_call(*args, **kwargs)\n",
      "Training: 100%|██████████████████████████████| 782/782 [02:40<00:00,  4.88it/s, Loss=0.6317, Acc=0.9\n"
     ]
    },
    {
     "name": "stdout",
     "output_type": "stream",
     "text": [
      "\n",
      "📋 Validation Phase...\n"
     ]
    },
    {
     "name": "stderr",
     "output_type": "stream",
     "text": [
      "Validation:   0%|                              | 0/137 [00:00<?, ?it/s]                             /tmp/ipython-input-3553570516.py:135: FutureWarning: `torch.cuda.amp.autocast(args...)` is deprecated. Please use `torch.amp.autocast('cuda', args...)` instead.\n",
      "  with autocast():\n",
      "Validation: 100%|██████████████████████████████| 137/137 [00:06<00:00, 19.84it/s, Loss=0.8461, Acc=0\n",
      "/tmp/ipython-input-3553570516.py:61: FutureWarning: `torch.cuda.amp.GradScaler(args...)` is deprecated. Please use `torch.amp.GradScaler('cuda', args...)` instead.\n",
      "  scaler = GradScaler()\n"
     ]
    },
    {
     "name": "stdout",
     "output_type": "stream",
     "text": [
      "\n",
      "EPOCH 6 DETAILED SUMMARY\n",
      "========================================================================================================================\n",
      "Epoch Time: 167.3s\n",
      "Training   - Loss: 0.631669 | Accuracy: 0.929022\n",
      "Validation - Loss: 0.846092 | Accuracy: 0.841175\n",
      "Overall    - F1: 0.842460 | Precision: 0.839414 | Recall: 0.846451\n",
      "Metrics    - MAE: 0.182695 | Adjacent Acc: 0.977966 | QWK: 0.928264\n",
      "\n",
      "────────────────────────────────────────────────────────────────────────────────────────────────────────────────────────\n",
      "PER-CLASS BREAKDOWN:\n",
      "────────────────────────────────────────────────────────────────────────────────────────────────────────────────────────\n",
      "Class                F1         Precision    Recall     Accuracy  \n",
      "─────────────────────────────────────────────────────────────────\n",
      "Extremely Negative   0.842424   0.830677     0.854508   0.854508  \n",
      "Negative             0.791991   0.806342     0.778142   0.778142  \n",
      "Neutral              0.850000   0.822292     0.879640   0.879640  \n",
      "Positive             0.838579   0.863674     0.814902   0.814902  \n",
      "Extremely Positive   0.889303   0.874083     0.905063   0.905063  \n",
      "========================================================================================================================\n",
      "New best QWK: 0.9283 (saved model)\n",
      "🌟 New best QWK: 0.9283 (saved model)\n",
      "\n",
      "EPOCH 7/10\n",
      "--------------------------------------------------\n"
     ]
    },
    {
     "name": "stderr",
     "output_type": "stream",
     "text": [
      "\r",
      "Training:   0%|                              | 0/782 [00:00<?, ?it/s]                               /tmp/ipython-input-3553570516.py:75: FutureWarning: `torch.cuda.amp.autocast(args...)` is deprecated. Please use `torch.amp.autocast('cuda', args...)` instead.\n",
      "  with autocast():\n",
      "/usr/local/lib/python3.11/dist-packages/torch/nn/modules/module.py:1750: FutureWarning: `encoder_attention_mask` is deprecated and will be removed in version 4.55.0 for `RobertaSdpaSelfAttention.forward`.\n",
      "  return forward_call(*args, **kwargs)\n",
      "Training: 100%|██████████████████████████████| 782/782 [02:40<00:00,  4.88it/s, Loss=0.5709, Acc=0.9\n"
     ]
    },
    {
     "name": "stdout",
     "output_type": "stream",
     "text": [
      "\n",
      "📋 Validation Phase...\n"
     ]
    },
    {
     "name": "stderr",
     "output_type": "stream",
     "text": [
      "Validation:   0%|                              | 0/137 [00:00<?, ?it/s]                             /tmp/ipython-input-3553570516.py:135: FutureWarning: `torch.cuda.amp.autocast(args...)` is deprecated. Please use `torch.amp.autocast('cuda', args...)` instead.\n",
      "  with autocast():\n",
      "Validation: 100%|██████████████████████████████| 137/137 [00:06<00:00, 19.78it/s, Loss=0.8695, Acc=0\n",
      "/tmp/ipython-input-3553570516.py:61: FutureWarning: `torch.cuda.amp.GradScaler(args...)` is deprecated. Please use `torch.amp.GradScaler('cuda', args...)` instead.\n",
      "  scaler = GradScaler()\n"
     ]
    },
    {
     "name": "stdout",
     "output_type": "stream",
     "text": [
      "\n",
      "EPOCH 7 DETAILED SUMMARY\n",
      "========================================================================================================================\n",
      "Epoch Time: 167.3s\n",
      "Training   - Loss: 0.570899 | Accuracy: 0.960568\n",
      "Validation - Loss: 0.869453 | Accuracy: 0.836585\n",
      "Overall    - F1: 0.839346 | Precision: 0.836928 | Recall: 0.846866\n",
      "Metrics    - MAE: 0.185219 | Adjacent Acc: 0.980032 | QWK: 0.929439\n",
      "\n",
      "────────────────────────────────────────────────────────────────────────────────────────────────────────────────────────\n",
      "PER-CLASS BREAKDOWN:\n",
      "────────────────────────────────────────────────────────────────────────────────────────────────────────────────────────\n",
      "Class                F1         Precision    Recall     Accuracy  \n",
      "─────────────────────────────────────────────────────────────────\n",
      "Extremely Negative   0.856557   0.856557     0.856557   0.856557  \n",
      "Negative             0.797267   0.832342     0.765027   0.765027  \n",
      "Neutral              0.843399   0.803462     0.887514   0.887514  \n",
      "Positive             0.824070   0.881932     0.773333   0.773333  \n",
      "Extremely Positive   0.875437   0.810345     0.951899   0.951899  \n",
      "========================================================================================================================\n",
      "New best QWK: 0.9294 (saved model)\n",
      "🌟 New best QWK: 0.9294 (saved model)\n",
      "\n",
      "EPOCH 8/10\n",
      "--------------------------------------------------\n"
     ]
    },
    {
     "name": "stderr",
     "output_type": "stream",
     "text": [
      "\r",
      "Training:   0%|                              | 0/782 [00:00<?, ?it/s]                               /tmp/ipython-input-3553570516.py:75: FutureWarning: `torch.cuda.amp.autocast(args...)` is deprecated. Please use `torch.amp.autocast('cuda', args...)` instead.\n",
      "  with autocast():\n",
      "/usr/local/lib/python3.11/dist-packages/torch/nn/modules/module.py:1750: FutureWarning: `encoder_attention_mask` is deprecated and will be removed in version 4.55.0 for `RobertaSdpaSelfAttention.forward`.\n",
      "  return forward_call(*args, **kwargs)\n",
      "Training: 100%|██████████████████████████████| 782/782 [02:40<00:00,  4.87it/s, Loss=0.5596, Acc=0.9\n"
     ]
    },
    {
     "name": "stdout",
     "output_type": "stream",
     "text": [
      "\n",
      "📋 Validation Phase...\n"
     ]
    },
    {
     "name": "stderr",
     "output_type": "stream",
     "text": [
      "\r",
      "Validation:   0%|                              | 0/137 [00:00<?, ?it/s]                             /tmp/ipython-input-3553570516.py:135: FutureWarning: `torch.cuda.amp.autocast(args...)` is deprecated. Please use `torch.amp.autocast('cuda', args...)` instead.\n",
      "  with autocast():\n",
      "Validation: 100%|██████████████████████████████| 137/137 [00:07<00:00, 19.12it/s, Loss=0.8869, Acc=0\n",
      "/tmp/ipython-input-3553570516.py:61: FutureWarning: `torch.cuda.amp.GradScaler(args...)` is deprecated. Please use `torch.amp.GradScaler('cuda', args...)` instead.\n",
      "  scaler = GradScaler()\n"
     ]
    },
    {
     "name": "stdout",
     "output_type": "stream",
     "text": [
      "\n",
      "EPOCH 8 DETAILED SUMMARY\n",
      "========================================================================================================================\n",
      "Epoch Time: 167.9s\n",
      "Training   - Loss: 0.559551 | Accuracy: 0.971609\n",
      "Validation - Loss: 0.886912 | Accuracy: 0.841634\n",
      "Overall    - F1: 0.844044 | Precision: 0.840657 | Recall: 0.849215\n",
      "Metrics    - MAE: 0.178793 | Adjacent Acc: 0.981409 | QWK: 0.931893\n",
      "\n",
      "────────────────────────────────────────────────────────────────────────────────────────────────────────────────────────\n",
      "PER-CLASS BREAKDOWN:\n",
      "────────────────────────────────────────────────────────────────────────────────────────────────────────────────────────\n",
      "Class                F1         Precision    Recall     Accuracy  \n",
      "─────────────────────────────────────────────────────────────────\n",
      "Extremely Negative   0.857430   0.840551     0.875000   0.875000  \n",
      "Negative             0.797951   0.832542     0.766120   0.766120  \n",
      "Neutral              0.838043   0.810726     0.867267   0.867267  \n",
      "Positive             0.837228   0.860812     0.814902   0.814902  \n",
      "Extremely Positive   0.889567   0.858657     0.922785   0.922785  \n",
      "========================================================================================================================\n",
      "New best QWK: 0.9319 (saved model)\n",
      "🌟 New best QWK: 0.9319 (saved model)\n",
      "\n",
      "EPOCH 9/10\n",
      "--------------------------------------------------\n"
     ]
    },
    {
     "name": "stderr",
     "output_type": "stream",
     "text": [
      "\r",
      "Training:   0%|                              | 0/782 [00:00<?, ?it/s]                               /tmp/ipython-input-3553570516.py:75: FutureWarning: `torch.cuda.amp.autocast(args...)` is deprecated. Please use `torch.amp.autocast('cuda', args...)` instead.\n",
      "  with autocast():\n",
      "/usr/local/lib/python3.11/dist-packages/torch/nn/modules/module.py:1750: FutureWarning: `encoder_attention_mask` is deprecated and will be removed in version 4.55.0 for `RobertaSdpaSelfAttention.forward`.\n",
      "  return forward_call(*args, **kwargs)\n",
      "Training: 100%|██████████████████████████████| 782/782 [02:40<00:00,  4.86it/s, Loss=0.5323, Acc=0.9\n"
     ]
    },
    {
     "name": "stdout",
     "output_type": "stream",
     "text": [
      "\n",
      "📋 Validation Phase...\n"
     ]
    },
    {
     "name": "stderr",
     "output_type": "stream",
     "text": [
      "\r",
      "Validation:   0%|                              | 0/137 [00:00<?, ?it/s]                             /tmp/ipython-input-3553570516.py:135: FutureWarning: `torch.cuda.amp.autocast(args...)` is deprecated. Please use `torch.amp.autocast('cuda', args...)` instead.\n",
      "  with autocast():\n",
      "Validation: 100%|██████████████████████████████| 137/137 [00:07<00:00, 19.29it/s, Loss=0.9077, Acc=0\n",
      "/tmp/ipython-input-3553570516.py:61: FutureWarning: `torch.cuda.amp.GradScaler(args...)` is deprecated. Please use `torch.amp.GradScaler('cuda', args...)` instead.\n",
      "  scaler = GradScaler()\n"
     ]
    },
    {
     "name": "stdout",
     "output_type": "stream",
     "text": [
      "\n",
      "EPOCH 9 DETAILED SUMMARY\n",
      "========================================================================================================================\n",
      "Epoch Time: 168.1s\n",
      "Training   - Loss: 0.532274 | Accuracy: 0.983833\n",
      "Validation - Loss: 0.907674 | Accuracy: 0.836585\n",
      "Overall    - F1: 0.839674 | Precision: 0.836185 | Recall: 0.846360\n",
      "Metrics    - MAE: 0.182006 | Adjacent Acc: 0.983475 | QWK: 0.931953\n",
      "\n",
      "────────────────────────────────────────────────────────────────────────────────────────────────────────────────────────\n",
      "PER-CLASS BREAKDOWN:\n",
      "────────────────────────────────────────────────────────────────────────────────────────────────────────────────────────\n",
      "Class                F1         Precision    Recall     Accuracy  \n",
      "─────────────────────────────────────────────────────────────────\n",
      "Extremely Negative   0.858576   0.840864     0.877049   0.877049  \n",
      "Negative             0.799310   0.843447     0.759563   0.759563  \n",
      "Neutral              0.829844   0.793634     0.869516   0.869516  \n",
      "Positive             0.827755   0.862979     0.795294   0.795294  \n",
      "Extremely Positive   0.882883   0.840000     0.930380   0.930380  \n",
      "========================================================================================================================\n",
      "New best QWK: 0.9320 (saved model)\n",
      "🌟 New best QWK: 0.9320 (saved model)\n",
      "\n",
      "EPOCH 10/10\n",
      "--------------------------------------------------\n"
     ]
    },
    {
     "name": "stderr",
     "output_type": "stream",
     "text": [
      "\r",
      "Training:   0%|                              | 0/782 [00:00<?, ?it/s]                               /tmp/ipython-input-3553570516.py:75: FutureWarning: `torch.cuda.amp.autocast(args...)` is deprecated. Please use `torch.amp.autocast('cuda', args...)` instead.\n",
      "  with autocast():\n",
      "/usr/local/lib/python3.11/dist-packages/torch/nn/modules/module.py:1750: FutureWarning: `encoder_attention_mask` is deprecated and will be removed in version 4.55.0 for `RobertaSdpaSelfAttention.forward`.\n",
      "  return forward_call(*args, **kwargs)\n",
      "Training: 100%|██████████████████████████████| 782/782 [02:40<00:00,  4.86it/s, Loss=0.5176, Acc=0.9\n"
     ]
    },
    {
     "name": "stdout",
     "output_type": "stream",
     "text": [
      "\n",
      "📋 Validation Phase...\n"
     ]
    },
    {
     "name": "stderr",
     "output_type": "stream",
     "text": [
      "Validation:   0%|                              | 0/137 [00:00<?, ?it/s]                             /tmp/ipython-input-3553570516.py:135: FutureWarning: `torch.cuda.amp.autocast(args...)` is deprecated. Please use `torch.amp.autocast('cuda', args...)` instead.\n",
      "  with autocast():\n",
      "Validation: 100%|██████████████████████████████| 137/137 [00:07<00:00, 19.23it/s, Loss=0.9205, Acc=0\n"
     ]
    },
    {
     "name": "stdout",
     "output_type": "stream",
     "text": [
      "\n",
      "EPOCH 10 DETAILED SUMMARY\n",
      "========================================================================================================================\n",
      "Epoch Time: 168.1s\n",
      "Training   - Loss: 0.517553 | Accuracy: 0.990536\n",
      "Validation - Loss: 0.920538 | Accuracy: 0.836814\n",
      "Overall    - F1: 0.839375 | Precision: 0.836202 | Recall: 0.845774\n",
      "Metrics    - MAE: 0.180399 | Adjacent Acc: 0.984852 | QWK: 0.933077\n",
      "\n",
      "────────────────────────────────────────────────────────────────────────────────────────────────────────────────────────\n",
      "PER-CLASS BREAKDOWN:\n",
      "────────────────────────────────────────────────────────────────────────────────────────────────────────────────────────\n",
      "Class                F1         Precision    Recall     Accuracy  \n",
      "─────────────────────────────────────────────────────────────────\n",
      "Extremely Negative   0.855711   0.837255     0.875000   0.875000  \n",
      "Negative             0.797695   0.843902     0.756284   0.756284  \n",
      "Neutral              0.827917   0.786437     0.874016   0.874016  \n",
      "Positive             0.832450   0.866723     0.800784   0.800784  \n",
      "Extremely Positive   0.883101   0.846690     0.922785   0.922785  \n",
      "========================================================================================================================\n",
      "New best QWK: 0.9331 (saved model)\n",
      "🌟 New best QWK: 0.9331 (saved model)\n",
      "\n",
      "============================================================\n",
      "TRAINING COMPLETED\n",
      "============================================================\n",
      "Best QWK: 0.9331 (Epoch 10)\n",
      "Total Epochs: 10\n",
      "Model Size: 514.62 MB\n",
      "Parameters: 134,903,813 total, 134,903,813 trainable\n",
      "Inference Time: 186.13 ms per sample\n",
      "Efficiency: 134.9M params, 186.1ms\n",
      "============================================================\n",
      "✅ Trial checkpoint saved: ./checkpoints_bert/trial_6/final_epoch_10.ckpt\n",
      "✅ Model files saved in: ./checkpoints_bert/trial_6\n",
      "📊 Trial 6 score: 0.9331 (Best: 0.9374)\n"
     ]
    },
    {
     "data": {
      "text/html": [],
      "text/plain": [
       "<IPython.core.display.HTML object>"
      ]
     },
     "metadata": {},
     "output_type": "display_data"
    },
    {
     "data": {
      "text/html": [
       "<br>    <style><br>        .wandb-row {<br>            display: flex;<br>            flex-direction: row;<br>            flex-wrap: wrap;<br>            justify-content: flex-start;<br>            width: 100%;<br>        }<br>        .wandb-col {<br>            display: flex;<br>            flex-direction: column;<br>            flex-basis: 100%;<br>            flex: 1;<br>            padding: 10px;<br>        }<br>    </style><br><div class=\"wandb-row\"><div class=\"wandb-col\"><h3>Run history:</h3><br/><table class=\"wandb\"><tr><td>Epoch</td><td>▁▂▃▃▄▅▆▆▇█</td></tr><tr><td>Epoch_Time</td><td>▇▂▁▄▄▄▃▇██</td></tr><tr><td>Inference Time (ms)</td><td>▁▁▁▁▁▁▁▁▁▁</td></tr><tr><td>Learning_Rate</td><td>▆█▇▇▅▄▃▂▁▁</td></tr><tr><td>Model Size (MB)</td><td>▁▁▁▁▁▁▁▁▁▁</td></tr><tr><td>Parameters per MB</td><td>▁▁▁▁▁▁▁▁▁▁</td></tr><tr><td>Total Parameters</td><td>▁▁▁▁▁▁▁▁▁▁</td></tr><tr><td>Train Accuracy</td><td>▁▄▅▆▆▇▇███</td></tr><tr><td>Train Loss</td><td>█▅▄▃▃▂▂▁▁▁</td></tr><tr><td>Trainable Parameters</td><td>▁▁▁▁▁▁▁▁▁▁</td></tr><tr><td>Validation Accuracy</td><td>▂▃▁▆▆█████</td></tr><tr><td>Validation Adjacent Accuracy</td><td>▁▃▃▅▆▇▇███</td></tr><tr><td>Validation F1</td><td>▂▂▁▆▆█████</td></tr><tr><td>Validation Loss</td><td>▅▆█▂▃▁▂▂▃▃</td></tr><tr><td>Validation MAE</td><td>█▇█▃▃▁▁▁▁▁</td></tr><tr><td>Validation Precision</td><td>▂▂▁▅▆█████</td></tr><tr><td>Validation QWK</td><td>▁▃▃▆▇█████</td></tr><tr><td>Validation Recall</td><td>▁▂▂▆▇█████</td></tr></table><br/></div><div class=\"wandb-col\"><h3>Run summary:</h3><br/><table class=\"wandb\"><tr><td>Epoch</td><td>10</td></tr><tr><td>Epoch_Time</td><td>168.10208</td></tr><tr><td>Inference Time (ms)</td><td>186.12778</td></tr><tr><td>Learning_Rate</td><td>0</td></tr><tr><td>Model Size (MB)</td><td>514.61919</td></tr><tr><td>Parameters per MB</td><td>262142.98954</td></tr><tr><td>Total Parameters</td><td>134903813</td></tr><tr><td>Train Accuracy</td><td>0.99054</td></tr><tr><td>Train Loss</td><td>0.51755</td></tr><tr><td>Trainable Parameters</td><td>134903813</td></tr><tr><td>Validation Accuracy</td><td>0.83681</td></tr><tr><td>Validation Adjacent Accuracy</td><td>0.98485</td></tr><tr><td>Validation F1</td><td>0.83937</td></tr><tr><td>Validation Loss</td><td>0.92054</td></tr><tr><td>Validation MAE</td><td>0.1804</td></tr><tr><td>Validation Precision</td><td>0.8362</td></tr><tr><td>Validation QWK</td><td>0.93308</td></tr><tr><td>Validation Recall</td><td>0.84577</td></tr></table><br/></div></div>"
      ],
      "text/plain": [
       "<IPython.core.display.HTML object>"
      ]
     },
     "metadata": {},
     "output_type": "display_data"
    },
    {
     "data": {
      "text/html": [
       " View run <strong style=\"color:#cdcd00\">bertweet-base-sentiment-analysis_trial_6</strong> at: <a href='https://wandb.ai/mayachn3-maya-bondar/sentiment-full-bert/runs/n8f9hqmr' target=\"_blank\">https://wandb.ai/mayachn3-maya-bondar/sentiment-full-bert/runs/n8f9hqmr</a><br> View project at: <a href='https://wandb.ai/mayachn3-maya-bondar/sentiment-full-bert' target=\"_blank\">https://wandb.ai/mayachn3-maya-bondar/sentiment-full-bert</a><br>Synced 5 W&B file(s), 0 media file(s), 0 artifact file(s) and 0 other file(s)"
      ],
      "text/plain": [
       "<IPython.core.display.HTML object>"
      ]
     },
     "metadata": {},
     "output_type": "display_data"
    },
    {
     "data": {
      "text/html": [
       "Find logs at: <code>./wandb/run-20250802_093540-n8f9hqmr/logs</code>"
      ],
      "text/plain": [
       "<IPython.core.display.HTML object>"
      ]
     },
     "metadata": {},
     "output_type": "display_data"
    },
    {
     "name": "stderr",
     "output_type": "stream",
     "text": [
      "[I 2025-08-02 10:03:58,027] Trial 6 finished with value: 0.9330769267275812 and parameters: {'learning_rate': 9.807792845007705e-05, 'batch_size': 32, 'label_smoothing': 0.13624623232495747, 'epochs': 10, 'warmup_ratio': 0.13181059073945012, 'weight_decay': 0.13776483349555363, 'attention_dropout': 0.32024878814457686, 'hidden_dropout': 0.3682328149056981}. Best is trial 2 with value: 0.9374337888939281.\n",
      "Some weights of RobertaForSequenceClassification were not initialized from the model checkpoint at finiteautomata/bertweet-base-sentiment-analysis and are newly initialized because the shapes did not match:\n",
      "- classifier.out_proj.weight: found shape torch.Size([3, 768]) in the checkpoint and torch.Size([5, 768]) in the model instantiated\n",
      "- classifier.out_proj.bias: found shape torch.Size([3]) in the checkpoint and torch.Size([5]) in the model instantiated\n",
      "You should probably TRAIN this model on a down-stream task to be able to use it for predictions and inference.\n"
     ]
    },
    {
     "data": {
      "text/html": [
       "Tracking run with wandb version 0.21.0"
      ],
      "text/plain": [
       "<IPython.core.display.HTML object>"
      ]
     },
     "metadata": {},
     "output_type": "display_data"
    },
    {
     "data": {
      "text/html": [
       "Run data is saved locally in <code>/content/deep-learning-project/wandb/run-20250802_100359-opntdjr8</code>"
      ],
      "text/plain": [
       "<IPython.core.display.HTML object>"
      ]
     },
     "metadata": {},
     "output_type": "display_data"
    },
    {
     "data": {
      "text/html": [
       "Syncing run <strong><a href='https://wandb.ai/mayachn3-maya-bondar/sentiment-full-bert/runs/opntdjr8' target=\"_blank\">bertweet-base-sentiment-analysis_trial_7</a></strong> to <a href='https://wandb.ai/mayachn3-maya-bondar/sentiment-full-bert' target=\"_blank\">Weights & Biases</a> (<a href='https://wandb.me/developer-guide' target=\"_blank\">docs</a>)<br>"
      ],
      "text/plain": [
       "<IPython.core.display.HTML object>"
      ]
     },
     "metadata": {},
     "output_type": "display_data"
    },
    {
     "data": {
      "text/html": [
       " View project at <a href='https://wandb.ai/mayachn3-maya-bondar/sentiment-full-bert' target=\"_blank\">https://wandb.ai/mayachn3-maya-bondar/sentiment-full-bert</a>"
      ],
      "text/plain": [
       "<IPython.core.display.HTML object>"
      ]
     },
     "metadata": {},
     "output_type": "display_data"
    },
    {
     "data": {
      "text/html": [
       " View run at <a href='https://wandb.ai/mayachn3-maya-bondar/sentiment-full-bert/runs/opntdjr8' target=\"_blank\">https://wandb.ai/mayachn3-maya-bondar/sentiment-full-bert/runs/opntdjr8</a>"
      ],
      "text/plain": [
       "<IPython.core.display.HTML object>"
      ]
     },
     "metadata": {},
     "output_type": "display_data"
    },
    {
     "name": "stderr",
     "output_type": "stream",
     "text": [
      "/usr/local/lib/python3.11/dist-packages/torch/nn/modules/module.py:1750: FutureWarning: `encoder_attention_mask` is deprecated and will be removed in version 4.55.0 for `RobertaSdpaSelfAttention.forward`.\n",
      "  return forward_call(*args, **kwargs)\n",
      "/tmp/ipython-input-3553570516.py:61: FutureWarning: `torch.cuda.amp.GradScaler(args...)` is deprecated. Please use `torch.amp.GradScaler('cuda', args...)` instead.\n",
      "  scaler = GradScaler()\n"
     ]
    },
    {
     "name": "stdout",
     "output_type": "stream",
     "text": [
      "============================================================\n",
      "STARTING TRAINING\n",
      "============================================================\n",
      "Training Configuration:\n",
      "   • Device: cuda\n",
      "   • Model Size: 514.62 MB\n",
      "   • Total Parameters: 134,903,813\n",
      "   • Trainable Parameters: 134,903,813\n",
      "   • Avg Inference Time: 186.61 ms\n",
      "   • Total Epochs: 14\n",
      "   • Train Batches: 782\n",
      "   • Validation Batches: 137\n",
      "   • Learning Rate: 0.00e+00\n",
      "   • Batch Size: 32\n",
      "============================================================\n",
      "\n",
      "EPOCH 1/14\n",
      "--------------------------------------------------\n"
     ]
    },
    {
     "name": "stderr",
     "output_type": "stream",
     "text": [
      "\r",
      "Training:   0%|                              | 0/782 [00:00<?, ?it/s]                               /tmp/ipython-input-3553570516.py:75: FutureWarning: `torch.cuda.amp.autocast(args...)` is deprecated. Please use `torch.amp.autocast('cuda', args...)` instead.\n",
      "  with autocast():\n",
      "Training: 100%|██████████████████████████████| 782/782 [02:41<00:00,  4.85it/s, Loss=1.2300, Acc=0.5\n"
     ]
    },
    {
     "name": "stdout",
     "output_type": "stream",
     "text": [
      "\n",
      "📋 Validation Phase...\n"
     ]
    },
    {
     "name": "stderr",
     "output_type": "stream",
     "text": [
      "Validation:   0%|                              | 0/137 [00:00<?, ?it/s]                             /tmp/ipython-input-3553570516.py:135: FutureWarning: `torch.cuda.amp.autocast(args...)` is deprecated. Please use `torch.amp.autocast('cuda', args...)` instead.\n",
      "  with autocast():\n",
      "Validation: 100%|██████████████████████████████| 137/137 [00:07<00:00, 19.30it/s, Loss=1.6908, Acc=0\n",
      "/usr/local/lib/python3.11/dist-packages/sklearn/metrics/_classification.py:1565: UndefinedMetricWarning: Precision is ill-defined and being set to 0.0 in labels with no predicted samples. Use `zero_division` parameter to control this behavior.\n",
      "  _warn_prf(average, modifier, f\"{metric.capitalize()} is\", len(result))\n",
      "/tmp/ipython-input-3553570516.py:61: FutureWarning: `torch.cuda.amp.GradScaler(args...)` is deprecated. Please use `torch.amp.GradScaler('cuda', args...)` instead.\n",
      "  scaler = GradScaler()\n"
     ]
    },
    {
     "name": "stdout",
     "output_type": "stream",
     "text": [
      "\n",
      "EPOCH 1 DETAILED SUMMARY\n",
      "========================================================================================================================\n",
      "Epoch Time: 168.5s\n",
      "Training   - Loss: 1.230009 | Accuracy: 0.516167\n",
      "Validation - Loss: 1.690767 | Accuracy: 0.204039\n",
      "Overall    - F1: 0.067785 | Precision: 0.040808 | Recall: 0.200000\n",
      "Metrics    - MAE: 1.089282 | Adjacent Acc: 0.706679 | QWK: 0.000000\n",
      "\n",
      "────────────────────────────────────────────────────────────────────────────────────────────────────────────────────────\n",
      "PER-CLASS BREAKDOWN:\n",
      "────────────────────────────────────────────────────────────────────────────────────────────────────────────────────────\n",
      "Class                F1         Precision    Recall     Accuracy  \n",
      "─────────────────────────────────────────────────────────────────\n",
      "Extremely Negative   0.000000   0.000000     0.000000   0.000000  \n",
      "Negative             0.000000   0.000000     0.000000   0.000000  \n",
      "Neutral              0.338925   0.204039     1.000000   1.000000  \n",
      "Positive             0.000000   0.000000     0.000000   0.000000  \n",
      "Extremely Positive   0.000000   0.000000     0.000000   0.000000  \n",
      "========================================================================================================================\n",
      "New best QWK: 0.0000 (saved model)\n",
      "🌟 New best QWK: 0.0000 (saved model)\n",
      "\n",
      "EPOCH 2/14\n",
      "--------------------------------------------------\n"
     ]
    },
    {
     "name": "stderr",
     "output_type": "stream",
     "text": [
      "\r",
      "Training:   0%|                              | 0/782 [00:00<?, ?it/s]                               /tmp/ipython-input-3553570516.py:75: FutureWarning: `torch.cuda.amp.autocast(args...)` is deprecated. Please use `torch.amp.autocast('cuda', args...)` instead.\n",
      "  with autocast():\n",
      "/usr/local/lib/python3.11/dist-packages/torch/nn/modules/module.py:1750: FutureWarning: `encoder_attention_mask` is deprecated and will be removed in version 4.55.0 for `RobertaSdpaSelfAttention.forward`.\n",
      "  return forward_call(*args, **kwargs)\n",
      "Training: 100%|██████████████████████████████| 782/782 [02:40<00:00,  4.87it/s, Loss=1.6168, Acc=0.2\n"
     ]
    },
    {
     "name": "stdout",
     "output_type": "stream",
     "text": [
      "\n",
      "📋 Validation Phase...\n"
     ]
    },
    {
     "name": "stderr",
     "output_type": "stream",
     "text": [
      "\r",
      "Validation:   0%|                              | 0/137 [00:00<?, ?it/s]                             /tmp/ipython-input-3553570516.py:135: FutureWarning: `torch.cuda.amp.autocast(args...)` is deprecated. Please use `torch.amp.autocast('cuda', args...)` instead.\n",
      "  with autocast():\n",
      "Validation: 100%|██████████████████████████████| 137/137 [00:07<00:00, 19.07it/s, Loss=1.6149, Acc=0\n",
      "/usr/local/lib/python3.11/dist-packages/sklearn/metrics/_classification.py:1565: UndefinedMetricWarning: Precision is ill-defined and being set to 0.0 in labels with no predicted samples. Use `zero_division` parameter to control this behavior.\n",
      "  _warn_prf(average, modifier, f\"{metric.capitalize()} is\", len(result))\n",
      "/tmp/ipython-input-3553570516.py:61: FutureWarning: `torch.cuda.amp.GradScaler(args...)` is deprecated. Please use `torch.amp.GradScaler('cuda', args...)` instead.\n",
      "  scaler = GradScaler()\n"
     ]
    },
    {
     "name": "stdout",
     "output_type": "stream",
     "text": [
      "\n",
      "EPOCH 2 DETAILED SUMMARY\n",
      "========================================================================================================================\n",
      "Epoch Time: 167.9s\n",
      "Training   - Loss: 1.616829 | Accuracy: 0.206230\n",
      "Validation - Loss: 1.614862 | Accuracy: 0.210007\n",
      "Overall    - F1: 0.069423 | Precision: 0.042001 | Recall: 0.200000\n",
      "Metrics    - MAE: 1.445261 | Adjacent Acc: 0.526050 | QWK: 0.000000\n",
      "\n",
      "────────────────────────────────────────────────────────────────────────────────────────────────────────────────────────\n",
      "PER-CLASS BREAKDOWN:\n",
      "────────────────────────────────────────────────────────────────────────────────────────────────────────────────────────\n",
      "Class                F1         Precision    Recall     Accuracy  \n",
      "─────────────────────────────────────────────────────────────────\n",
      "Extremely Negative   0.000000   0.000000     0.000000   0.000000  \n",
      "Negative             0.347117   0.210007     1.000000   1.000000  \n",
      "Neutral              0.000000   0.000000     0.000000   0.000000  \n",
      "Positive             0.000000   0.000000     0.000000   0.000000  \n",
      "Extremely Positive   0.000000   0.000000     0.000000   0.000000  \n",
      "========================================================================================================================\n",
      "New best QWK: 0.0000 (saved model)\n",
      "🌟 New best QWK: 0.0000 (saved model)\n",
      "\n",
      "EPOCH 3/14\n",
      "--------------------------------------------------\n"
     ]
    },
    {
     "name": "stderr",
     "output_type": "stream",
     "text": [
      "\r",
      "Training:   0%|                              | 0/782 [00:00<?, ?it/s]                               /tmp/ipython-input-3553570516.py:75: FutureWarning: `torch.cuda.amp.autocast(args...)` is deprecated. Please use `torch.amp.autocast('cuda', args...)` instead.\n",
      "  with autocast():\n",
      "/usr/local/lib/python3.11/dist-packages/torch/nn/modules/module.py:1750: FutureWarning: `encoder_attention_mask` is deprecated and will be removed in version 4.55.0 for `RobertaSdpaSelfAttention.forward`.\n",
      "  return forward_call(*args, **kwargs)\n",
      "Training: 100%|██████████████████████████████| 782/782 [02:40<00:00,  4.87it/s, Loss=1.6100, Acc=0.1\n"
     ]
    },
    {
     "name": "stdout",
     "output_type": "stream",
     "text": [
      "\n",
      "📋 Validation Phase...\n"
     ]
    },
    {
     "name": "stderr",
     "output_type": "stream",
     "text": [
      "Validation:   0%|                              | 0/137 [00:00<?, ?it/s]                             /tmp/ipython-input-3553570516.py:135: FutureWarning: `torch.cuda.amp.autocast(args...)` is deprecated. Please use `torch.amp.autocast('cuda', args...)` instead.\n",
      "  with autocast():\n",
      "Validation: 100%|██████████████████████████████| 137/137 [00:07<00:00, 18.92it/s, Loss=1.6061, Acc=0\n",
      "/usr/local/lib/python3.11/dist-packages/sklearn/metrics/_classification.py:1565: UndefinedMetricWarning: Precision is ill-defined and being set to 0.0 in labels with no predicted samples. Use `zero_division` parameter to control this behavior.\n",
      "  _warn_prf(average, modifier, f\"{metric.capitalize()} is\", len(result))\n"
     ]
    },
    {
     "name": "stdout",
     "output_type": "stream",
     "text": [
      "\n",
      "EPOCH 3 DETAILED SUMMARY\n",
      "========================================================================================================================\n",
      "Epoch Time: 167.8s\n",
      "Training   - Loss: 1.610007 | Accuracy: 0.199132\n",
      "Validation - Loss: 1.606133 | Accuracy: 0.181317\n",
      "Overall    - F1: 0.061395 | Precision: 0.036263 | Recall: 0.200000\n",
      "Metrics    - MAE: 1.778747 | Adjacent Acc: 0.473950 | QWK: 0.000000\n",
      "\n",
      "────────────────────────────────────────────────────────────────────────────────────────────────────────────────────────\n",
      "PER-CLASS BREAKDOWN:\n",
      "────────────────────────────────────────────────────────────────────────────────────────────────────────────────────────\n",
      "Class                F1         Precision    Recall     Accuracy  \n",
      "─────────────────────────────────────────────────────────────────\n",
      "Extremely Negative   0.000000   0.000000     0.000000   0.000000  \n",
      "Negative             0.000000   0.000000     0.000000   0.000000  \n",
      "Neutral              0.000000   0.000000     0.000000   0.000000  \n",
      "Positive             0.000000   0.000000     0.000000   0.000000  \n",
      "Extremely Positive   0.306975   0.181317     1.000000   1.000000  \n",
      "========================================================================================================================\n",
      "New best QWK: 0.0000 (saved model)\n",
      "🌟 New best QWK: 0.0000 (saved model)\n",
      "\n",
      "⏹️  EARLY STOPPING triggered at epoch 3\n",
      "    No improvement in QWK for 2 epochs\n",
      "\n",
      "============================================================\n",
      "TRAINING COMPLETED\n",
      "============================================================\n",
      "Best QWK: 0.0000 (Epoch 0)\n",
      "Total Epochs: 3\n",
      "Model Size: 514.62 MB\n",
      "Parameters: 134,903,813 total, 134,903,813 trainable\n",
      "Inference Time: 186.61 ms per sample\n",
      "Efficiency: 134.9M params, 186.6ms\n",
      "============================================================\n",
      "✅ Trial checkpoint saved: ./checkpoints_bert/trial_7/final_epoch_14.ckpt\n",
      "✅ Model files saved in: ./checkpoints_bert/trial_7\n",
      "📊 Trial 7 score: 0.0000 (Best: 0.9374)\n"
     ]
    },
    {
     "data": {
      "text/html": [],
      "text/plain": [
       "<IPython.core.display.HTML object>"
      ]
     },
     "metadata": {},
     "output_type": "display_data"
    },
    {
     "data": {
      "text/html": [
       "<br>    <style><br>        .wandb-row {<br>            display: flex;<br>            flex-direction: row;<br>            flex-wrap: wrap;<br>            justify-content: flex-start;<br>            width: 100%;<br>        }<br>        .wandb-col {<br>            display: flex;<br>            flex-direction: column;<br>            flex-basis: 100%;<br>            flex: 1;<br>            padding: 10px;<br>        }<br>    </style><br><div class=\"wandb-row\"><div class=\"wandb-col\"><h3>Run history:</h3><br/><table class=\"wandb\"><tr><td>Epoch</td><td>▁▅█</td></tr><tr><td>Epoch_Time</td><td>█▂▁</td></tr><tr><td>Inference Time (ms)</td><td>▁▁▁</td></tr><tr><td>Learning_Rate</td><td>█▆▁</td></tr><tr><td>Model Size (MB)</td><td>▁▁▁</td></tr><tr><td>Parameters per MB</td><td>▁▁▁</td></tr><tr><td>Total Parameters</td><td>▁▁▁</td></tr><tr><td>Train Accuracy</td><td>█▁▁</td></tr><tr><td>Train Loss</td><td>▁██</td></tr><tr><td>Trainable Parameters</td><td>▁▁▁</td></tr><tr><td>Validation Accuracy</td><td>▇█▁</td></tr><tr><td>Validation Adjacent Accuracy</td><td>█▃▁</td></tr><tr><td>Validation F1</td><td>▇█▁</td></tr><tr><td>Validation Loss</td><td>█▂▁</td></tr><tr><td>Validation MAE</td><td>▁▅█</td></tr><tr><td>Validation Precision</td><td>▇█▁</td></tr><tr><td>Validation QWK</td><td>▁▁▁</td></tr><tr><td>Validation Recall</td><td>▁▁▁</td></tr></table><br/></div><div class=\"wandb-col\"><h3>Run summary:</h3><br/><table class=\"wandb\"><tr><td>Epoch</td><td>3</td></tr><tr><td>Epoch_Time</td><td>167.79392</td></tr><tr><td>Inference Time (ms)</td><td>186.60998</td></tr><tr><td>Learning_Rate</td><td>0.00025</td></tr><tr><td>Model Size (MB)</td><td>514.61919</td></tr><tr><td>Parameters per MB</td><td>262142.98954</td></tr><tr><td>Total Parameters</td><td>134903813</td></tr><tr><td>Train Accuracy</td><td>0.19913</td></tr><tr><td>Train Loss</td><td>1.61001</td></tr><tr><td>Trainable Parameters</td><td>134903813</td></tr><tr><td>Validation Accuracy</td><td>0.18132</td></tr><tr><td>Validation Adjacent Accuracy</td><td>0.47395</td></tr><tr><td>Validation F1</td><td>0.06139</td></tr><tr><td>Validation Loss</td><td>1.60613</td></tr><tr><td>Validation MAE</td><td>1.77875</td></tr><tr><td>Validation Precision</td><td>0.03626</td></tr><tr><td>Validation QWK</td><td>0</td></tr><tr><td>Validation Recall</td><td>0.2</td></tr></table><br/></div></div>"
      ],
      "text/plain": [
       "<IPython.core.display.HTML object>"
      ]
     },
     "metadata": {},
     "output_type": "display_data"
    },
    {
     "data": {
      "text/html": [
       " View run <strong style=\"color:#cdcd00\">bertweet-base-sentiment-analysis_trial_7</strong> at: <a href='https://wandb.ai/mayachn3-maya-bondar/sentiment-full-bert/runs/opntdjr8' target=\"_blank\">https://wandb.ai/mayachn3-maya-bondar/sentiment-full-bert/runs/opntdjr8</a><br> View project at: <a href='https://wandb.ai/mayachn3-maya-bondar/sentiment-full-bert' target=\"_blank\">https://wandb.ai/mayachn3-maya-bondar/sentiment-full-bert</a><br>Synced 5 W&B file(s), 0 media file(s), 0 artifact file(s) and 0 other file(s)"
      ],
      "text/plain": [
       "<IPython.core.display.HTML object>"
      ]
     },
     "metadata": {},
     "output_type": "display_data"
    },
    {
     "data": {
      "text/html": [
       "Find logs at: <code>./wandb/run-20250802_100359-opntdjr8/logs</code>"
      ],
      "text/plain": [
       "<IPython.core.display.HTML object>"
      ]
     },
     "metadata": {},
     "output_type": "display_data"
    },
    {
     "name": "stderr",
     "output_type": "stream",
     "text": [
      "[I 2025-08-02 10:13:03,133] Trial 7 finished with value: 0.0 and parameters: {'learning_rate': 0.00026574850668784197, 'batch_size': 32, 'label_smoothing': 0.06787121957757655, 'epochs': 14, 'warmup_ratio': 0.06075050223656639, 'weight_decay': 0.09584107484292885, 'attention_dropout': 0.3194849590481659, 'hidden_dropout': 0.37464253933405495}. Best is trial 2 with value: 0.9374337888939281.\n"
     ]
    }
   ],
   "source": [
    "global_best_qwk = 0.0\n",
    "global_best_model_state = None\n",
    "\n",
    "print(f\"Initialized global_best_qwk: {global_best_qwk}\")\n",
    "print(f\"Initialized global_best_model_state: {global_best_model_state}\")\n",
    "\n",
    "study = optuna.create_study(direction=\"maximize\")\n",
    "study.optimize(objective, n_trials=8)"
   ]
  },
  {
   "cell_type": "markdown",
   "id": "e720d326",
   "metadata": {
    "id": "e720d326"
   },
   "source": [
    "## Evaluation"
   ]
  },
  {
   "cell_type": "code",
   "execution_count": 22,
   "id": "95e6d36f",
   "metadata": {
    "id": "95e6d36f"
   },
   "outputs": [],
   "source": [
    "def evaluate_model(model, test_loader, device=None):\n",
    "    model.eval()\n",
    "    y_true, y_pred = [], []\n",
    "\n",
    "    with torch.no_grad():\n",
    "        for batch in test_loader:\n",
    "            device = next(model.parameters()).device  # Get model's device\n",
    "            input_ids = batch['input_ids'].to(device)\n",
    "            attention_mask = batch['attention_mask'].to(device)\n",
    "            labels = batch['labels'].to(device)\n",
    "\n",
    "            outputs = model(input_ids, attention_mask=attention_mask)\n",
    "            preds = outputs.logits.argmax(dim=-1)\n",
    "\n",
    "            y_true.extend(labels.cpu().numpy())\n",
    "            y_pred.extend(preds.cpu().numpy())\n",
    "\n",
    "    y_true, y_pred = np.array(y_true), np.array(y_pred)\n",
    "\n",
    "    results = {\n",
    "        'accuracy': accuracy_score(y_true, y_pred),\n",
    "        'macro_f1': f1_score(y_true, y_pred, average='macro'),\n",
    "        'precision': precision_score(y_true, y_pred, average='macro'),\n",
    "        'recall': recall_score(y_true, y_pred, average='macro'),\n",
    "        'weighted_f1': f1_score(y_true, y_pred, average='weighted'),\n",
    "        'mae': mean_absolute_error(y_true, y_pred),\n",
    "        'adjacent_accuracy': np.sum(np.abs(y_pred - y_true) <= 1) / len(y_true),\n",
    "        'qwk': cohen_kappa_score(y_true, y_pred, weights='quadratic'),\n",
    "        'confusion_matrix': confusion_matrix(y_true, y_pred),\n",
    "        'classification_report': classification_report(y_true, y_pred,\n",
    "                                                     target_names=list(ordinal_id2label.values()),\n",
    "                                                     labels=list(ordinal_id2label.keys()))\n",
    "    }\n",
    "    print(f\"Accuracy: {results['accuracy']:.4f}\")\n",
    "    print(f\"Macro F1: {results['macro_f1']:.4f}\")\n",
    "    print(f\"precision: {results['precision']:.4f}\")\n",
    "    print(f\"recall: {results['recall']:.4f}\")\n",
    "    print(f\"weighted_f1: {results['weighted_f1']:.4f}\")\n",
    "    print(f\"MAE: {results['mae']:.4f}\")\n",
    "    print(f\"Adjacent Accuracy: {results['adjacent_accuracy']:.4f}\")\n",
    "    print(f\"qwk: {results['qwk']:.4f}\")\n",
    "    print(f\"\\nClassification Report:\\n{results['classification_report']}\")\n",
    "\n",
    "    return results"
   ]
  },
  {
   "cell_type": "code",
   "execution_count": 23,
   "id": "7dbd13ee",
   "metadata": {
    "id": "7dbd13ee"
   },
   "outputs": [],
   "source": [
    "def plot_results(results):\n",
    "    fig, (ax1, ax2) = plt.subplots(1, 2, figsize=(12, 5))\n",
    "\n",
    "    # existing confusion matrix\n",
    "    sns.heatmap(results['confusion_matrix'], annot=True, fmt='d',\n",
    "                xticklabels=list(ordinal_id2label.values()),  # use ordinal_id2label\n",
    "                yticklabels=list(ordinal_id2label.values()), ax=ax1)  # use ordinal_id2label\n",
    "    ax1.set_title('Confusion Matrix')\n",
    "\n",
    "    # existing metrics bar chart\n",
    "    metrics = ['Accuracy', 'Macro F1', 'Precision', 'Recall', 'Adjacent Accuracy', 'QWK', 'MAE']\n",
    "    values = [results['accuracy'], results['macro_f1'], results['precision'], results['recall'],\n",
    "              results['adjacent_accuracy'], results['qwk'], results['mae']]\n",
    "    ax2.bar(metrics, values, color=['#FF6B6B', '#4ECDC4', '#45B7D1', '#96CEB4'])\n",
    "    ax2.set_title('Key Metrics')\n",
    "    ax2.set_ylim(0, 1)\n",
    "    plt.xticks(rotation=45)\n",
    "    plt.tight_layout()\n",
    "    plt.show()"
   ]
  },
  {
   "cell_type": "code",
   "execution_count": 24,
   "id": "f4ce0aa2",
   "metadata": {
    "id": "f4ce0aa2"
   },
   "outputs": [],
   "source": [
    "from torch.serialization import safe_globals\n",
    "from transformers import RobertaForSequenceClassification\n",
    "\n",
    "def quick_eval_manual(model_path, test_loader):\n",
    "    device = torch.device('cuda' if torch.cuda.is_available() else 'cpu')\n",
    "\n",
    "    if model_path == 'best_model_optuna.pt':\n",
    "        model_path = './best_bert_model_so_far/model_bert.pt'\n",
    "\n",
    "    # Use the safe_globals context manager\n",
    "    with safe_globals({RobertaForSequenceClassification}):\n",
    "        model = torch.load(model_path, map_location=device, weights_only=False)\n",
    "\n",
    "    model.to(device)\n",
    "    results = evaluate_model(model, test_loader, device)\n",
    "    plot_results(results)\n",
    "    return results\n",
    "\n",
    "def quick_eval_auto(model_path, study, formatted_test, tokenizer, id2label):\n",
    "    device = torch.device('cuda' if torch.cuda.is_available() else 'cpu')\n",
    "    optimal_batch_size = study.best_params['batch_size']\n",
    "    max_length = study.best_params.get('max_length', 128)  # Get from study if available\n",
    "    test_dataset = TweetDataset(formatted_test, tokenizer, max_length=max_length)\n",
    "    test_loader = DataLoader(test_dataset, batch_size=optimal_batch_size, shuffle=False)\n",
    "    model = AutoModelForSequenceClassification.from_pretrained(\"finiteautomata/bertweet-base-sentiment-analysis\", num_labels=5, id2label=ordinal_id2label, label2id=ordinal_label2id)\n",
    "    model.load_state_dict(torch.load(model_path, map_location=device))\n",
    "    model.to(device)\n",
    "    results = evaluate_model(model, test_loader,  device)\n",
    "    plot_results(results)\n",
    "    return results\n"
   ]
  },
  {
   "cell_type": "markdown",
   "id": "881fe776-c77f-4604-b06b-fb0f3e12f494",
   "metadata": {},
   "source": [
    "### Final Testing with Best Model"
   ]
  },
  {
   "cell_type": "code",
   "execution_count": 25,
   "id": "cc934864",
   "metadata": {
    "colab": {
     "base_uri": "https://localhost:8080/",
     "height": 934
    },
    "id": "cc934864",
    "outputId": "31e49a6d-fa29-4422-be86-8a1d6d2a1155"
   },
   "outputs": [
    {
     "name": "stderr",
     "output_type": "stream",
     "text": [
      "/usr/local/lib/python3.11/dist-packages/torch/nn/modules/module.py:1750: FutureWarning: `encoder_attention_mask` is deprecated and will be removed in version 4.55.0 for `RobertaSdpaSelfAttention.forward`.\n",
      "  return forward_call(*args, **kwargs)\n"
     ]
    },
    {
     "name": "stdout",
     "output_type": "stream",
     "text": [
      "Accuracy: 0.8423\n",
      "Macro F1: 0.8453\n",
      "precision: 0.8393\n",
      "recall: 0.8573\n",
      "weighted_f1: 0.8414\n",
      "MAE: 0.1790\n",
      "Adjacent Accuracy: 0.9810\n",
      "qwk: 0.9330\n",
      "\n",
      "Classification Report:\n",
      "                    precision    recall  f1-score   support\n",
      "\n",
      "Extremely Negative       0.80      0.91      0.85       410\n",
      "          Negative       0.88      0.77      0.82       813\n",
      "           Neutral       0.79      0.91      0.85       659\n",
      "          Positive       0.87      0.79      0.83       954\n",
      "Extremely Positive       0.85      0.91      0.88       588\n",
      "\n",
      "          accuracy                           0.84      3424\n",
      "         macro avg       0.84      0.86      0.85      3424\n",
      "      weighted avg       0.85      0.84      0.84      3424\n",
      "\n"
     ]
    },
    {
     "data": {
      "image/png": "[encoded data removed]",
      "text/plain": [
       "<Figure size 1200x500 with 3 Axes>"
      ]
     },
     "metadata": {},
     "output_type": "display_data"
    }
   ],
   "source": [
    "# Use the best model that was saved\n",
    "optimal_batch_size = study.best_params['batch_size']\n",
    "test_dataset = TweetDataset(test_encodings, test_labels)\n",
    "test_loader = DataLoader(test_dataset, batch_size=optimal_batch_size, shuffle=False)\n",
    "\n",
    "# Use the actual best model now\n",
    "results = quick_eval_manual('best_model_optuna.pt', test_loader)"
   ]
  },
  {
   "cell_type": "markdown",
   "id": "6b032764-a079-492a-b358-da6668785134",
   "metadata": {},
   "source": [
    "### Hyperparameter Tuning Results"
   ]
  },
  {
   "cell_type": "code",
   "execution_count": 26,
   "id": "e65c4ae4",
   "metadata": {
    "colab": {
     "base_uri": "https://localhost:8080/"
    },
    "id": "e65c4ae4",
    "outputId": "3c9dac27-9f21-4679-b2dd-26df5b2fcb46"
   },
   "outputs": [
    {
     "name": "stdout",
     "output_type": "stream",
     "text": [
      "=== STUDY RESULTS ===\n",
      "Best trial: 2\n",
      "Best QWK: 0.9374\n",
      "Best params: {'learning_rate': 4.7412352298523686e-05, 'batch_size': 16, 'label_smoothing': 0.14864590596800178, 'epochs': 12, 'warmup_ratio': 0.053072966467540166, 'weight_decay': 0.14067329738635054, 'attention_dropout': 0.31630050099253554, 'hidden_dropout': 0.30284169042309084}\n",
      "\n",
      "=== ALL TRIALS ===\n",
      "Trial 0: QWK = 0.9366\n",
      "Trial 1: QWK = 0.9361\n",
      "Trial 2: QWK = 0.9374\n",
      "Trial 3: QWK = 0.9363\n",
      "Trial 4: QWK = 0.9368\n",
      "Trial 5: QWK = 0.9312\n",
      "Trial 6: QWK = 0.9331\n",
      "Trial 7: QWK = 0.0000\n"
     ]
    }
   ],
   "source": [
    "# Check study results\n",
    "print(\"=== STUDY RESULTS ===\")\n",
    "print(f\"Best trial: {study.best_trial.number}\")\n",
    "print(f\"Best QWK: {study.best_value:.4f}\")\n",
    "print(f\"Best params: {study.best_params}\")\n",
    "\n",
    "# Compare all trials\n",
    "print(\"\\n=== ALL TRIALS ===\")\n",
    "for trial in study.trials:\n",
    "    print(f\"Trial {trial.number}: QWK = {trial.value:.4f}\")"
   ]
  },
  {
   "cell_type": "markdown",
   "id": "b5d791d4-dd18-4051-bd39-3a1a533a38e8",
   "metadata": {},
   "source": [
    "### Model Predictions Analysis"
   ]
  },
  {
   "cell_type": "code",
   "execution_count": 27,
   "id": "1a772083",
   "metadata": {
    "colab": {
     "base_uri": "https://localhost:8080/"
    },
    "id": "1a772083",
    "outputId": "c4b5645f-45df-48a2-b56b-3155669f968d"
   },
   "outputs": [
    {
     "name": "stderr",
     "output_type": "stream",
     "text": [
      "/usr/local/lib/python3.11/dist-packages/torch/nn/modules/module.py:1750: FutureWarning: `encoder_attention_mask` is deprecated and will be removed in version 4.55.0 for `RobertaSdpaSelfAttention.forward`.\n",
      "  return forward_call(*args, **kwargs)\n"
     ]
    },
    {
     "name": "stdout",
     "output_type": "stream",
     "text": [
      "=== BEST MODEL ANALYSIS ===\n",
      "============================================================\n",
      "MODEL SPECIFICATIONS:\n",
      "   • Model Size: 514.62 MB\n",
      "   • Total Parameters: 134,903,813\n",
      "   • Trainable Parameters: 134,903,813\n",
      "   • Inference Time: 202.11 ms per request\n",
      "============================================================\n",
      "PREDICTION ANALYSIS:\n",
      "   • True label distribution: {np.int64(2): 889, np.int64(1): 915, np.int64(3): 1275, np.int64(0): 488, np.int64(4): 790}\n",
      "   • Predicted label distribution: {np.int64(2): 1019, np.int64(1): 805, np.int64(3): 1154, np.int64(0): 510, np.int64(4): 869}\n",
      "   • Unique predictions: [np.int64(0), np.int64(1), np.int64(2), np.int64(3), np.int64(4)]\n",
      "   • Number of classes predicted: 5\n",
      "============================================================\n",
      "✅ Model is predicting all 5 classes!\n",
      "📊 Efficiency Metrics:\n",
      "   • Parameters per MB: 262,143\n"
     ]
    }
   ],
   "source": [
    "# Analyze what the best model is predicting\n",
    "import torch\n",
    "from torch.serialization import safe_globals\n",
    "from transformers import RobertaForSequenceClassification\n",
    "\n",
    "device = torch.device('cuda' if torch.cuda.is_available() else 'cpu')\n",
    "\n",
    "# Load the entire model directly\n",
    "with safe_globals({RobertaForSequenceClassification}):\n",
    "    model = torch.load('./best_bert_model_so_far/model_bert.pt', map_location=device, weights_only=False)\n",
    "\n",
    "model.to(device)\n",
    "model.eval()\n",
    "\n",
    "# Calculate model metrics\n",
    "model_size_mb = get_model_size(model)\n",
    "total_params, trainable_params = get_model_parameters(model)\n",
    "\n",
    "# Get a sample batch for inference timing\n",
    "val_loader = DataLoader(val_dataset, batch_size=32, shuffle=False)\n",
    "sample_batch = next(iter(val_loader))\n",
    "inference_time_ms = measure_inference_time(model, sample_batch, device)\n",
    "\n",
    "# Check predictions on validation data\n",
    "all_predictions = []\n",
    "all_true_labels = []\n",
    "\n",
    "with torch.no_grad():\n",
    "    for batch in val_loader:\n",
    "        input_ids = batch['input_ids'].to(device)\n",
    "        attention_mask = batch['attention_mask'].to(device)\n",
    "        labels = batch['labels'].to(device)\n",
    "\n",
    "        outputs = model(input_ids, attention_mask=attention_mask)\n",
    "        predictions = outputs.logits.argmax(dim=-1)\n",
    "\n",
    "        all_predictions.extend(predictions.cpu().numpy())\n",
    "        all_true_labels.extend(labels.cpu().numpy())\n",
    "\n",
    "# Analyze predictions\n",
    "from collections import Counter\n",
    "pred_dist = Counter(all_predictions)\n",
    "true_dist = Counter(all_true_labels)\n",
    "\n",
    "print(\"=== BEST MODEL ANALYSIS ===\")\n",
    "print(\"=\" * 60)\n",
    "print(\"MODEL SPECIFICATIONS:\")\n",
    "print(f\"   • Model Size: {model_size_mb:.2f} MB\")\n",
    "print(f\"   • Total Parameters: {total_params:,}\")\n",
    "print(f\"   • Trainable Parameters: {trainable_params:,}\")\n",
    "print(f\"   • Inference Time: {inference_time_ms:.2f} ms per request\")\n",
    "print(\"=\" * 60)\n",
    "print(\"PREDICTION ANALYSIS:\")\n",
    "print(f\"   • True label distribution: {dict(true_dist)}\")\n",
    "print(f\"   • Predicted label distribution: {dict(pred_dist)}\")\n",
    "print(f\"   • Unique predictions: {sorted(set(all_predictions))}\")\n",
    "print(f\"   • Number of classes predicted: {len(set(all_predictions))}\")\n",
    "print(\"=\" * 60)\n",
    "\n",
    "if len(set(all_predictions)) == 5:\n",
    "    print(\"✅ Model is predicting all 5 classes!\")\n",
    "elif len(set(all_predictions)) > 1:\n",
    "    print(f\"✅ Model is predicting {len(set(all_predictions))} classes (better than before!)\")\n",
    "else:\n",
    "    print(\"❌ Model still predicting only 1 class\")\n",
    "\n",
    "print(f\"📊 Efficiency Metrics:\")\n",
    "print(f\"   • Parameters per MB: {total_params/model_size_mb:,.0f}\")"
   ]
  },
  {
   "cell_type": "code",
   "execution_count": 27,
   "id": "853444bd",
   "metadata": {
    "id": "853444bd"
   },
   "outputs": [],
   "source": []
  }
 ],
 "metadata": {
  "accelerator": "GPU",
  "colab": {
   "gpuType": "T4",
   "provenance": []
  },
  "kernelspec": {
   "display_name": "Python 3 (ipykernel)",
   "language": "python",
   "name": "python3"
  },
  "language_info": {
   "codemirror_mode": {
    "name": "ipython",
    "version": 3
   },
   "file_extension": ".py",
   "mimetype": "text/x-python",
   "name": "python",
   "nbconvert_exporter": "python",
   "pygments_lexer": "ipython3",
   "version": "3.9.6"
  },
  "widgets": {
   "application/vnd.jupyter.widget-state+json": {
    "006900248ab044bb94aedfa8a64b2d7a": {
     "model_module": "@jupyter-widgets/base",
     "model_module_version": "1.2.0",
     "model_name": "LayoutModel",
     "state": {
      "_model_module": "@jupyter-widgets/base",
      "_model_module_version": "1.2.0",
      "_model_name": "LayoutModel",
      "_view_count": null,
      "_view_module": "@jupyter-widgets/base",
      "_view_module_version": "1.2.0",
      "_view_name": "LayoutView",
      "align_content": null,
      "align_items": null,
      "align_self": null,
      "border": null,
      "bottom": null,
      "display": null,
      "flex": null,
      "flex_flow": null,
      "grid_area": null,
      "grid_auto_columns": null,
      "grid_auto_flow": null,
      "grid_auto_rows": null,
      "grid_column": null,
      "grid_gap": null,
      "grid_row": null,
      "grid_template_areas": null,
      "grid_template_columns": null,
      "grid_template_rows": null,
      "height": null,
      "justify_content": null,
      "justify_items": null,
      "left": null,
      "margin": null,
      "max_height": null,
      "max_width": null,
      "min_height": null,
      "min_width": null,
      "object_fit": null,
      "object_position": null,
      "order": null,
      "overflow": null,
      "overflow_x": null,
      "overflow_y": null,
      "padding": null,
      "right": null,
      "top": null,
      "visibility": null,
      "width": null
     }
    },
    "0370530f965b436c8653e8ac911fbbfc": {
     "model_module": "@jupyter-widgets/base",
     "model_module_version": "1.2.0",
     "model_name": "LayoutModel",
     "state": {
      "_model_module": "@jupyter-widgets/base",
      "_model_module_version": "1.2.0",
      "_model_name": "LayoutModel",
      "_view_count": null,
      "_view_module": "@jupyter-widgets/base",
      "_view_module_version": "1.2.0",
      "_view_name": "LayoutView",
      "align_content": null,
      "align_items": null,
      "align_self": null,
      "border": null,
      "bottom": null,
      "display": null,
      "flex": null,
      "flex_flow": null,
      "grid_area": null,
      "grid_auto_columns": null,
      "grid_auto_flow": null,
      "grid_auto_rows": null,
      "grid_column": null,
      "grid_gap": null,
      "grid_row": null,
      "grid_template_areas": null,
      "grid_template_columns": null,
      "grid_template_rows": null,
      "height": null,
      "justify_content": null,
      "justify_items": null,
      "left": null,
      "margin": null,
      "max_height": null,
      "max_width": null,
      "min_height": null,
      "min_width": null,
      "object_fit": null,
      "object_position": null,
      "order": null,
      "overflow": null,
      "overflow_x": null,
      "overflow_y": null,
      "padding": null,
      "right": null,
      "top": null,
      "visibility": null,
      "width": "20px"
     }
    },
    "095cba7d8b754a2abc9be0a0e5598f93": {
     "model_module": "@jupyter-widgets/controls",
     "model_module_version": "1.5.0",
     "model_name": "ProgressStyleModel",
     "state": {
      "_model_module": "@jupyter-widgets/controls",
      "_model_module_version": "1.5.0",
      "_model_name": "ProgressStyleModel",
      "_view_count": null,
      "_view_module": "@jupyter-widgets/base",
      "_view_module_version": "1.2.0",
      "_view_name": "StyleView",
      "bar_color": null,
      "description_width": ""
     }
    },
    "0d123104f1c94fc7aeca0379bd4cf89f": {
     "model_module": "@jupyter-widgets/controls",
     "model_module_version": "1.5.0",
     "model_name": "HTMLModel",
     "state": {
      "_dom_classes": [],
      "_model_module": "@jupyter-widgets/controls",
      "_model_module_version": "1.5.0",
      "_model_name": "HTMLModel",
      "_view_count": null,
      "_view_module": "@jupyter-widgets/controls",
      "_view_module_version": "1.5.0",
      "_view_name": "HTMLView",
      "description": "",
      "description_tooltip": null,
      "layout": "IPY_MODEL_498e7f4dbd8f4d2c8a0f75d57ef23fc6",
      "placeholder": "​",
      "style": "IPY_MODEL_e7bb540823674f6a8d4c1493e22b31b8",
      "value": "tokenizer_config.json: 100%"
     }
    },
    "0d8463be55df462ba54cfb61aaf104e1": {
     "model_module": "@jupyter-widgets/base",
     "model_module_version": "1.2.0",
     "model_name": "LayoutModel",
     "state": {
      "_model_module": "@jupyter-widgets/base",
      "_model_module_version": "1.2.0",
      "_model_name": "LayoutModel",
      "_view_count": null,
      "_view_module": "@jupyter-widgets/base",
      "_view_module_version": "1.2.0",
      "_view_name": "LayoutView",
      "align_content": null,
      "align_items": null,
      "align_self": null,
      "border": null,
      "bottom": null,
      "display": null,
      "flex": null,
      "flex_flow": null,
      "grid_area": null,
      "grid_auto_columns": null,
      "grid_auto_flow": null,
      "grid_auto_rows": null,
      "grid_column": null,
      "grid_gap": null,
      "grid_row": null,
      "grid_template_areas": null,
      "grid_template_columns": null,
      "grid_template_rows": null,
      "height": null,
      "justify_content": null,
      "justify_items": null,
      "left": null,
      "margin": null,
      "max_height": null,
      "max_width": null,
      "min_height": null,
      "min_width": null,
      "object_fit": null,
      "object_position": null,
      "order": null,
      "overflow": null,
      "overflow_x": null,
      "overflow_y": null,
      "padding": null,
      "right": null,
      "top": null,
      "visibility": null,
      "width": null
     }
    },
    "10134821bf254743ad96bc3f02a4f9f8": {
     "model_module": "@jupyter-widgets/controls",
     "model_module_version": "1.5.0",
     "model_name": "DescriptionStyleModel",
     "state": {
      "_model_module": "@jupyter-widgets/controls",
      "_model_module_version": "1.5.0",
      "_model_name": "DescriptionStyleModel",
      "_view_count": null,
      "_view_module": "@jupyter-widgets/base",
      "_view_module_version": "1.2.0",
      "_view_name": "StyleView",
      "description_width": ""
     }
    },
    "13feaf9ad6724ea188a1ba405e08392d": {
     "model_module": "@jupyter-widgets/base",
     "model_module_version": "1.2.0",
     "model_name": "LayoutModel",
     "state": {
      "_model_module": "@jupyter-widgets/base",
      "_model_module_version": "1.2.0",
      "_model_name": "LayoutModel",
      "_view_count": null,
      "_view_module": "@jupyter-widgets/base",
      "_view_module_version": "1.2.0",
      "_view_name": "LayoutView",
      "align_content": null,
      "align_items": null,
      "align_self": null,
      "border": null,
      "bottom": null,
      "display": null,
      "flex": null,
      "flex_flow": null,
      "grid_area": null,
      "grid_auto_columns": null,
      "grid_auto_flow": null,
      "grid_auto_rows": null,
      "grid_column": null,
      "grid_gap": null,
      "grid_row": null,
      "grid_template_areas": null,
      "grid_template_columns": null,
      "grid_template_rows": null,
      "height": null,
      "justify_content": null,
      "justify_items": null,
      "left": null,
      "margin": null,
      "max_height": null,
      "max_width": null,
      "min_height": null,
      "min_width": null,
      "object_fit": null,
      "object_position": null,
      "order": null,
      "overflow": null,
      "overflow_x": null,
      "overflow_y": null,
      "padding": null,
      "right": null,
      "top": null,
      "visibility": null,
      "width": null
     }
    },
    "14be82be076d44eb8642de8837e62294": {
     "model_module": "@jupyter-widgets/controls",
     "model_module_version": "1.5.0",
     "model_name": "HBoxModel",
     "state": {
      "_dom_classes": [],
      "_model_module": "@jupyter-widgets/controls",
      "_model_module_version": "1.5.0",
      "_model_name": "HBoxModel",
      "_view_count": null,
      "_view_module": "@jupyter-widgets/controls",
      "_view_module_version": "1.5.0",
      "_view_name": "HBoxView",
      "box_style": "",
      "children": [
       "IPY_MODEL_acb8051f99dd478dadbf754d00b34c30",
       "IPY_MODEL_b53720ca6095451e9279cabbbf64201b",
       "IPY_MODEL_e2d1ff38fddd4e82a9f4290acbe5dcdc"
      ],
      "layout": "IPY_MODEL_fa80ac5acb3e4a26ac385f5506d431a0"
     }
    },
    "17a631c59eca4558a083348e87d5af81": {
     "model_module": "@jupyter-widgets/base",
     "model_module_version": "1.2.0",
     "model_name": "LayoutModel",
     "state": {
      "_model_module": "@jupyter-widgets/base",
      "_model_module_version": "1.2.0",
      "_model_name": "LayoutModel",
      "_view_count": null,
      "_view_module": "@jupyter-widgets/base",
      "_view_module_version": "1.2.0",
      "_view_name": "LayoutView",
      "align_content": null,
      "align_items": null,
      "align_self": null,
      "border": null,
      "bottom": null,
      "display": null,
      "flex": null,
      "flex_flow": null,
      "grid_area": null,
      "grid_auto_columns": null,
      "grid_auto_flow": null,
      "grid_auto_rows": null,
      "grid_column": null,
      "grid_gap": null,
      "grid_row": null,
      "grid_template_areas": null,
      "grid_template_columns": null,
      "grid_template_rows": null,
      "height": null,
      "justify_content": null,
      "justify_items": null,
      "left": null,
      "margin": null,
      "max_height": null,
      "max_width": null,
      "min_height": null,
      "min_width": null,
      "object_fit": null,
      "object_position": null,
      "order": null,
      "overflow": null,
      "overflow_x": null,
      "overflow_y": null,
      "padding": null,
      "right": null,
      "top": null,
      "visibility": null,
      "width": null
     }
    },
    "1d79fc89547f4bc08c4ce2a4e6ace4e1": {
     "model_module": "@jupyter-widgets/controls",
     "model_module_version": "1.5.0",
     "model_name": "DescriptionStyleModel",
     "state": {
      "_model_module": "@jupyter-widgets/controls",
      "_model_module_version": "1.5.0",
      "_model_name": "DescriptionStyleModel",
      "_view_count": null,
      "_view_module": "@jupyter-widgets/base",
      "_view_module_version": "1.2.0",
      "_view_name": "StyleView",
      "description_width": ""
     }
    },
    "24111e81d7884d1fba4ad2db372cc50f": {
     "model_module": "@jupyter-widgets/controls",
     "model_module_version": "1.5.0",
     "model_name": "ProgressStyleModel",
     "state": {
      "_model_module": "@jupyter-widgets/controls",
      "_model_module_version": "1.5.0",
      "_model_name": "ProgressStyleModel",
      "_view_count": null,
      "_view_module": "@jupyter-widgets/base",
      "_view_module_version": "1.2.0",
      "_view_name": "StyleView",
      "bar_color": null,
      "description_width": ""
     }
    },
    "2af65b536632441080017da7137d8a52": {
     "model_module": "@jupyter-widgets/base",
     "model_module_version": "1.2.0",
     "model_name": "LayoutModel",
     "state": {
      "_model_module": "@jupyter-widgets/base",
      "_model_module_version": "1.2.0",
      "_model_name": "LayoutModel",
      "_view_count": null,
      "_view_module": "@jupyter-widgets/base",
      "_view_module_version": "1.2.0",
      "_view_name": "LayoutView",
      "align_content": null,
      "align_items": null,
      "align_self": null,
      "border": null,
      "bottom": null,
      "display": null,
      "flex": null,
      "flex_flow": null,
      "grid_area": null,
      "grid_auto_columns": null,
      "grid_auto_flow": null,
      "grid_auto_rows": null,
      "grid_column": null,
      "grid_gap": null,
      "grid_row": null,
      "grid_template_areas": null,
      "grid_template_columns": null,
      "grid_template_rows": null,
      "height": null,
      "justify_content": null,
      "justify_items": null,
      "left": null,
      "margin": null,
      "max_height": null,
      "max_width": null,
      "min_height": null,
      "min_width": null,
      "object_fit": null,
      "object_position": null,
      "order": null,
      "overflow": null,
      "overflow_x": null,
      "overflow_y": null,
      "padding": null,
      "right": null,
      "top": null,
      "visibility": null,
      "width": null
     }
    },
    "2dbe7d6f29f44265920ae349e6799e63": {
     "model_module": "@jupyter-widgets/base",
     "model_module_version": "1.2.0",
     "model_name": "LayoutModel",
     "state": {
      "_model_module": "@jupyter-widgets/base",
      "_model_module_version": "1.2.0",
      "_model_name": "LayoutModel",
      "_view_count": null,
      "_view_module": "@jupyter-widgets/base",
      "_view_module_version": "1.2.0",
      "_view_name": "LayoutView",
      "align_content": null,
      "align_items": null,
      "align_self": null,
      "border": null,
      "bottom": null,
      "display": null,
      "flex": null,
      "flex_flow": null,
      "grid_area": null,
      "grid_auto_columns": null,
      "grid_auto_flow": null,
      "grid_auto_rows": null,
      "grid_column": null,
      "grid_gap": null,
      "grid_row": null,
      "grid_template_areas": null,
      "grid_template_columns": null,
      "grid_template_rows": null,
      "height": null,
      "justify_content": null,
      "justify_items": null,
      "left": null,
      "margin": null,
      "max_height": null,
      "max_width": null,
      "min_height": null,
      "min_width": null,
      "object_fit": null,
      "object_position": null,
      "order": null,
      "overflow": null,
      "overflow_x": null,
      "overflow_y": null,
      "padding": null,
      "right": null,
      "top": null,
      "visibility": null,
      "width": null
     }
    },
    "305f91a1665d43b4988c73e034a93bc5": {
     "model_module": "@jupyter-widgets/base",
     "model_module_version": "1.2.0",
     "model_name": "LayoutModel",
     "state": {
      "_model_module": "@jupyter-widgets/base",
      "_model_module_version": "1.2.0",
      "_model_name": "LayoutModel",
      "_view_count": null,
      "_view_module": "@jupyter-widgets/base",
      "_view_module_version": "1.2.0",
      "_view_name": "LayoutView",
      "align_content": null,
      "align_items": null,
      "align_self": null,
      "border": null,
      "bottom": null,
      "display": null,
      "flex": null,
      "flex_flow": null,
      "grid_area": null,
      "grid_auto_columns": null,
      "grid_auto_flow": null,
      "grid_auto_rows": null,
      "grid_column": null,
      "grid_gap": null,
      "grid_row": null,
      "grid_template_areas": null,
      "grid_template_columns": null,
      "grid_template_rows": null,
      "height": null,
      "justify_content": null,
      "justify_items": null,
      "left": null,
      "margin": null,
      "max_height": null,
      "max_width": null,
      "min_height": null,
      "min_width": null,
      "object_fit": null,
      "object_position": null,
      "order": null,
      "overflow": null,
      "overflow_x": null,
      "overflow_y": null,
      "padding": null,
      "right": null,
      "top": null,
      "visibility": null,
      "width": null
     }
    },
    "30e85081d3f14e71a5f0db06c5eb4a3d": {
     "model_module": "@jupyter-widgets/controls",
     "model_module_version": "1.5.0",
     "model_name": "HTMLModel",
     "state": {
      "_dom_classes": [],
      "_model_module": "@jupyter-widgets/controls",
      "_model_module_version": "1.5.0",
      "_model_name": "HTMLModel",
      "_view_count": null,
      "_view_module": "@jupyter-widgets/controls",
      "_view_module_version": "1.5.0",
      "_view_name": "HTMLView",
      "description": "",
      "description_tooltip": null,
      "layout": "IPY_MODEL_603b27009a234abdaa946080e4486e47",
      "placeholder": "​",
      "style": "IPY_MODEL_8438931fee98450e9835804f4366d3cb",
      "value": " 949/949 [00:00&lt;00:00, 25.5kB/s]"
     }
    },
    "3265bfa4994747d0a0bcbba7124fc760": {
     "model_module": "@jupyter-widgets/base",
     "model_module_version": "1.2.0",
     "model_name": "LayoutModel",
     "state": {
      "_model_module": "@jupyter-widgets/base",
      "_model_module_version": "1.2.0",
      "_model_name": "LayoutModel",
      "_view_count": null,
      "_view_module": "@jupyter-widgets/base",
      "_view_module_version": "1.2.0",
      "_view_name": "LayoutView",
      "align_content": null,
      "align_items": null,
      "align_self": null,
      "border": null,
      "bottom": null,
      "display": null,
      "flex": null,
      "flex_flow": null,
      "grid_area": null,
      "grid_auto_columns": null,
      "grid_auto_flow": null,
      "grid_auto_rows": null,
      "grid_column": null,
      "grid_gap": null,
      "grid_row": null,
      "grid_template_areas": null,
      "grid_template_columns": null,
      "grid_template_rows": null,
      "height": null,
      "justify_content": null,
      "justify_items": null,
      "left": null,
      "margin": null,
      "max_height": null,
      "max_width": null,
      "min_height": null,
      "min_width": null,
      "object_fit": null,
      "object_position": null,
      "order": null,
      "overflow": null,
      "overflow_x": null,
      "overflow_y": null,
      "padding": null,
      "right": null,
      "top": null,
      "visibility": null,
      "width": null
     }
    },
    "356a4342c81743399fb66600b064cb99": {
     "model_module": "@jupyter-widgets/base",
     "model_module_version": "1.2.0",
     "model_name": "LayoutModel",
     "state": {
      "_model_module": "@jupyter-widgets/base",
      "_model_module_version": "1.2.0",
      "_model_name": "LayoutModel",
      "_view_count": null,
      "_view_module": "@jupyter-widgets/base",
      "_view_module_version": "1.2.0",
      "_view_name": "LayoutView",
      "align_content": null,
      "align_items": null,
      "align_self": null,
      "border": null,
      "bottom": null,
      "display": null,
      "flex": null,
      "flex_flow": null,
      "grid_area": null,
      "grid_auto_columns": null,
      "grid_auto_flow": null,
      "grid_auto_rows": null,
      "grid_column": null,
      "grid_gap": null,
      "grid_row": null,
      "grid_template_areas": null,
      "grid_template_columns": null,
      "grid_template_rows": null,
      "height": null,
      "justify_content": null,
      "justify_items": null,
      "left": null,
      "margin": null,
      "max_height": null,
      "max_width": null,
      "min_height": null,
      "min_width": null,
      "object_fit": null,
      "object_position": null,
      "order": null,
      "overflow": null,
      "overflow_x": null,
      "overflow_y": null,
      "padding": null,
      "right": null,
      "top": null,
      "visibility": null,
      "width": null
     }
    },
    "3ac2eb670ad7463f9487748fc7b1c0dc": {
     "model_module": "@jupyter-widgets/controls",
     "model_module_version": "1.5.0",
     "model_name": "HBoxModel",
     "state": {
      "_dom_classes": [],
      "_model_module": "@jupyter-widgets/controls",
      "_model_module_version": "1.5.0",
      "_model_name": "HBoxModel",
      "_view_count": null,
      "_view_module": "@jupyter-widgets/controls",
      "_view_module_version": "1.5.0",
      "_view_name": "HBoxView",
      "box_style": "",
      "children": [
       "IPY_MODEL_c4895799049d49cea9d4bd98c3211ce3",
       "IPY_MODEL_50d4d2004a7843c0a2161369f830df60",
       "IPY_MODEL_9b05323233b440618348691aab0f2082"
      ],
      "layout": "IPY_MODEL_829d16b388a4493d95a7657e273da264"
     }
    },
    "3d9491215c0a471f87d32083030e5ea9": {
     "model_module": "@jupyter-widgets/controls",
     "model_module_version": "1.5.0",
     "model_name": "HTMLModel",
     "state": {
      "_dom_classes": [],
      "_model_module": "@jupyter-widgets/controls",
      "_model_module_version": "1.5.0",
      "_model_name": "HTMLModel",
      "_view_count": null,
      "_view_module": "@jupyter-widgets/controls",
      "_view_module_version": "1.5.0",
      "_view_name": "HTMLView",
      "description": "",
      "description_tooltip": null,
      "layout": "IPY_MODEL_9d9e305c443244698e8ea57f91298c6f",
      "placeholder": "​",
      "style": "IPY_MODEL_10134821bf254743ad96bc3f02a4f9f8",
      "value": "config.json: 100%"
     }
    },
    "3fcafcce6b544d38b4262965bed2583b": {
     "model_module": "@jupyter-widgets/controls",
     "model_module_version": "1.5.0",
     "model_name": "DescriptionStyleModel",
     "state": {
      "_model_module": "@jupyter-widgets/controls",
      "_model_module_version": "1.5.0",
      "_model_name": "DescriptionStyleModel",
      "_view_count": null,
      "_view_module": "@jupyter-widgets/base",
      "_view_module_version": "1.2.0",
      "_view_name": "StyleView",
      "description_width": ""
     }
    },
    "4045cf73e69b4a3bb3b63b1e010c5607": {
     "model_module": "@jupyter-widgets/base",
     "model_module_version": "1.2.0",
     "model_name": "LayoutModel",
     "state": {
      "_model_module": "@jupyter-widgets/base",
      "_model_module_version": "1.2.0",
      "_model_name": "LayoutModel",
      "_view_count": null,
      "_view_module": "@jupyter-widgets/base",
      "_view_module_version": "1.2.0",
      "_view_name": "LayoutView",
      "align_content": null,
      "align_items": null,
      "align_self": null,
      "border": null,
      "bottom": null,
      "display": null,
      "flex": null,
      "flex_flow": null,
      "grid_area": null,
      "grid_auto_columns": null,
      "grid_auto_flow": null,
      "grid_auto_rows": null,
      "grid_column": null,
      "grid_gap": null,
      "grid_row": null,
      "grid_template_areas": null,
      "grid_template_columns": null,
      "grid_template_rows": null,
      "height": null,
      "justify_content": null,
      "justify_items": null,
      "left": null,
      "margin": null,
      "max_height": null,
      "max_width": null,
      "min_height": null,
      "min_width": null,
      "object_fit": null,
      "object_position": null,
      "order": null,
      "overflow": null,
      "overflow_x": null,
      "overflow_y": null,
      "padding": null,
      "right": null,
      "top": null,
      "visibility": null,
      "width": null
     }
    },
    "42bf7fe8ab0849069990771c1635842a": {
     "model_module": "@jupyter-widgets/controls",
     "model_module_version": "1.5.0",
     "model_name": "HTMLModel",
     "state": {
      "_dom_classes": [],
      "_model_module": "@jupyter-widgets/controls",
      "_model_module_version": "1.5.0",
      "_model_name": "HTMLModel",
      "_view_count": null,
      "_view_module": "@jupyter-widgets/controls",
      "_view_module_version": "1.5.0",
      "_view_name": "HTMLView",
      "description": "",
      "description_tooltip": null,
      "layout": "IPY_MODEL_305f91a1665d43b4988c73e034a93bc5",
      "placeholder": "​",
      "style": "IPY_MODEL_be536f4ec2b147d4b7fdc33fb20a1eaa",
      "value": " 1.08M/? [00:00&lt;00:00, 22.8MB/s]"
     }
    },
    "498e7f4dbd8f4d2c8a0f75d57ef23fc6": {
     "model_module": "@jupyter-widgets/base",
     "model_module_version": "1.2.0",
     "model_name": "LayoutModel",
     "state": {
      "_model_module": "@jupyter-widgets/base",
      "_model_module_version": "1.2.0",
      "_model_name": "LayoutModel",
      "_view_count": null,
      "_view_module": "@jupyter-widgets/base",
      "_view_module_version": "1.2.0",
      "_view_name": "LayoutView",
      "align_content": null,
      "align_items": null,
      "align_self": null,
      "border": null,
      "bottom": null,
      "display": null,
      "flex": null,
      "flex_flow": null,
      "grid_area": null,
      "grid_auto_columns": null,
      "grid_auto_flow": null,
      "grid_auto_rows": null,
      "grid_column": null,
      "grid_gap": null,
      "grid_row": null,
      "grid_template_areas": null,
      "grid_template_columns": null,
      "grid_template_rows": null,
      "height": null,
      "justify_content": null,
      "justify_items": null,
      "left": null,
      "margin": null,
      "max_height": null,
      "max_width": null,
      "min_height": null,
      "min_width": null,
      "object_fit": null,
      "object_position": null,
      "order": null,
      "overflow": null,
      "overflow_x": null,
      "overflow_y": null,
      "padding": null,
      "right": null,
      "top": null,
      "visibility": null,
      "width": null
     }
    },
    "4a35771d315c46da9ee6552e4e48b7b8": {
     "model_module": "@jupyter-widgets/controls",
     "model_module_version": "1.5.0",
     "model_name": "ProgressStyleModel",
     "state": {
      "_model_module": "@jupyter-widgets/controls",
      "_model_module_version": "1.5.0",
      "_model_name": "ProgressStyleModel",
      "_view_count": null,
      "_view_module": "@jupyter-widgets/base",
      "_view_module_version": "1.2.0",
      "_view_name": "StyleView",
      "bar_color": null,
      "description_width": ""
     }
    },
    "50ae317e621743aa9b5cff652166e3a4": {
     "model_module": "@jupyter-widgets/controls",
     "model_module_version": "1.5.0",
     "model_name": "HBoxModel",
     "state": {
      "_dom_classes": [],
      "_model_module": "@jupyter-widgets/controls",
      "_model_module_version": "1.5.0",
      "_model_name": "HBoxModel",
      "_view_count": null,
      "_view_module": "@jupyter-widgets/controls",
      "_view_module_version": "1.5.0",
      "_view_name": "HBoxView",
      "box_style": "",
      "children": [
       "IPY_MODEL_eddbecafc0e14ac1a1c7b026237c7322",
       "IPY_MODEL_5441b398a6b3406fbd61655b05dbf4d3",
       "IPY_MODEL_f71be797887b4052a6b5e3dd0cde9d6d"
      ],
      "layout": "IPY_MODEL_d53ddf7de05b4409ace7e43b939229c8"
     }
    },
    "50d4d2004a7843c0a2161369f830df60": {
     "model_module": "@jupyter-widgets/controls",
     "model_module_version": "1.5.0",
     "model_name": "FloatProgressModel",
     "state": {
      "_dom_classes": [],
      "_model_module": "@jupyter-widgets/controls",
      "_model_module_version": "1.5.0",
      "_model_name": "FloatProgressModel",
      "_view_count": null,
      "_view_module": "@jupyter-widgets/controls",
      "_view_module_version": "1.5.0",
      "_view_name": "ProgressView",
      "bar_style": "success",
      "description": "",
      "description_tooltip": null,
      "layout": "IPY_MODEL_fa21ad2599f8442fb9a655077c16bd58",
      "max": 167,
      "min": 0,
      "orientation": "horizontal",
      "style": "IPY_MODEL_4a35771d315c46da9ee6552e4e48b7b8",
      "value": 167
     }
    },
    "53ff43592b8e4dda8f5f615db5583a6c": {
     "model_module": "@jupyter-widgets/base",
     "model_module_version": "1.2.0",
     "model_name": "LayoutModel",
     "state": {
      "_model_module": "@jupyter-widgets/base",
      "_model_module_version": "1.2.0",
      "_model_name": "LayoutModel",
      "_view_count": null,
      "_view_module": "@jupyter-widgets/base",
      "_view_module_version": "1.2.0",
      "_view_name": "LayoutView",
      "align_content": null,
      "align_items": null,
      "align_self": null,
      "border": null,
      "bottom": null,
      "display": null,
      "flex": null,
      "flex_flow": null,
      "grid_area": null,
      "grid_auto_columns": null,
      "grid_auto_flow": null,
      "grid_auto_rows": null,
      "grid_column": null,
      "grid_gap": null,
      "grid_row": null,
      "grid_template_areas": null,
      "grid_template_columns": null,
      "grid_template_rows": null,
      "height": null,
      "justify_content": null,
      "justify_items": null,
      "left": null,
      "margin": null,
      "max_height": null,
      "max_width": null,
      "min_height": null,
      "min_width": null,
      "object_fit": null,
      "object_position": null,
      "order": null,
      "overflow": null,
      "overflow_x": null,
      "overflow_y": null,
      "padding": null,
      "right": null,
      "top": null,
      "visibility": null,
      "width": null
     }
    },
    "5441b398a6b3406fbd61655b05dbf4d3": {
     "model_module": "@jupyter-widgets/controls",
     "model_module_version": "1.5.0",
     "model_name": "FloatProgressModel",
     "state": {
      "_dom_classes": [],
      "_model_module": "@jupyter-widgets/controls",
      "_model_module_version": "1.5.0",
      "_model_name": "FloatProgressModel",
      "_view_count": null,
      "_view_module": "@jupyter-widgets/controls",
      "_view_module_version": "1.5.0",
      "_view_name": "ProgressView",
      "bar_style": "success",
      "description": "",
      "description_tooltip": null,
      "layout": "IPY_MODEL_17a631c59eca4558a083348e87d5af81",
      "max": 539679413,
      "min": 0,
      "orientation": "horizontal",
      "style": "IPY_MODEL_e8735be100c04ee8954b47c300c1fb58",
      "value": 539679413
     }
    },
    "55c28984848741ddb4ae005c278c491e": {
     "model_module": "@jupyter-widgets/controls",
     "model_module_version": "1.5.0",
     "model_name": "FloatProgressModel",
     "state": {
      "_dom_classes": [],
      "_model_module": "@jupyter-widgets/controls",
      "_model_module_version": "1.5.0",
      "_model_name": "FloatProgressModel",
      "_view_count": null,
      "_view_module": "@jupyter-widgets/controls",
      "_view_module_version": "1.5.0",
      "_view_name": "ProgressView",
      "bar_style": "success",
      "description": "",
      "description_tooltip": null,
      "layout": "IPY_MODEL_0370530f965b436c8653e8ac911fbbfc",
      "max": 1,
      "min": 0,
      "orientation": "horizontal",
      "style": "IPY_MODEL_095cba7d8b754a2abc9be0a0e5598f93",
      "value": 1
     }
    },
    "560897643dbd464bb29cffcc2af894b5": {
     "model_module": "@jupyter-widgets/controls",
     "model_module_version": "1.5.0",
     "model_name": "HTMLModel",
     "state": {
      "_dom_classes": [],
      "_model_module": "@jupyter-widgets/controls",
      "_model_module_version": "1.5.0",
      "_model_name": "HTMLModel",
      "_view_count": null,
      "_view_module": "@jupyter-widgets/controls",
      "_view_module_version": "1.5.0",
      "_view_name": "HTMLView",
      "description": "",
      "description_tooltip": null,
      "layout": "IPY_MODEL_2dbe7d6f29f44265920ae349e6799e63",
      "placeholder": "​",
      "style": "IPY_MODEL_915e2981f56a4fbba9de15fb714ae145",
      "value": "vocab.txt: "
     }
    },
    "57994cfce6ce41e7bdb80ab12f62828e": {
     "model_module": "@jupyter-widgets/controls",
     "model_module_version": "1.5.0",
     "model_name": "HTMLModel",
     "state": {
      "_dom_classes": [],
      "_model_module": "@jupyter-widgets/controls",
      "_model_module_version": "1.5.0",
      "_model_name": "HTMLModel",
      "_view_count": null,
      "_view_module": "@jupyter-widgets/controls",
      "_view_module_version": "1.5.0",
      "_view_name": "HTMLView",
      "description": "",
      "description_tooltip": null,
      "layout": "IPY_MODEL_5d943ba338a446ef81e1ac65339f92e0",
      "placeholder": "​",
      "style": "IPY_MODEL_cbad80f213a5437c884eb1d7a6ffe1b6",
      "value": " 843k/? [00:00&lt;00:00, 8.46MB/s]"
     }
    },
    "57e4d681649d4e498f7552e670d09d8d": {
     "model_module": "@jupyter-widgets/base",
     "model_module_version": "1.2.0",
     "model_name": "LayoutModel",
     "state": {
      "_model_module": "@jupyter-widgets/base",
      "_model_module_version": "1.2.0",
      "_model_name": "LayoutModel",
      "_view_count": null,
      "_view_module": "@jupyter-widgets/base",
      "_view_module_version": "1.2.0",
      "_view_name": "LayoutView",
      "align_content": null,
      "align_items": null,
      "align_self": null,
      "border": null,
      "bottom": null,
      "display": null,
      "flex": null,
      "flex_flow": null,
      "grid_area": null,
      "grid_auto_columns": null,
      "grid_auto_flow": null,
      "grid_auto_rows": null,
      "grid_column": null,
      "grid_gap": null,
      "grid_row": null,
      "grid_template_areas": null,
      "grid_template_columns": null,
      "grid_template_rows": null,
      "height": null,
      "justify_content": null,
      "justify_items": null,
      "left": null,
      "margin": null,
      "max_height": null,
      "max_width": null,
      "min_height": null,
      "min_width": null,
      "object_fit": null,
      "object_position": null,
      "order": null,
      "overflow": null,
      "overflow_x": null,
      "overflow_y": null,
      "padding": null,
      "right": null,
      "top": null,
      "visibility": null,
      "width": null
     }
    },
    "5d943ba338a446ef81e1ac65339f92e0": {
     "model_module": "@jupyter-widgets/base",
     "model_module_version": "1.2.0",
     "model_name": "LayoutModel",
     "state": {
      "_model_module": "@jupyter-widgets/base",
      "_model_module_version": "1.2.0",
      "_model_name": "LayoutModel",
      "_view_count": null,
      "_view_module": "@jupyter-widgets/base",
      "_view_module_version": "1.2.0",
      "_view_name": "LayoutView",
      "align_content": null,
      "align_items": null,
      "align_self": null,
      "border": null,
      "bottom": null,
      "display": null,
      "flex": null,
      "flex_flow": null,
      "grid_area": null,
      "grid_auto_columns": null,
      "grid_auto_flow": null,
      "grid_auto_rows": null,
      "grid_column": null,
      "grid_gap": null,
      "grid_row": null,
      "grid_template_areas": null,
      "grid_template_columns": null,
      "grid_template_rows": null,
      "height": null,
      "justify_content": null,
      "justify_items": null,
      "left": null,
      "margin": null,
      "max_height": null,
      "max_width": null,
      "min_height": null,
      "min_width": null,
      "object_fit": null,
      "object_position": null,
      "order": null,
      "overflow": null,
      "overflow_x": null,
      "overflow_y": null,
      "padding": null,
      "right": null,
      "top": null,
      "visibility": null,
      "width": null
     }
    },
    "603b27009a234abdaa946080e4486e47": {
     "model_module": "@jupyter-widgets/base",
     "model_module_version": "1.2.0",
     "model_name": "LayoutModel",
     "state": {
      "_model_module": "@jupyter-widgets/base",
      "_model_module_version": "1.2.0",
      "_model_name": "LayoutModel",
      "_view_count": null,
      "_view_module": "@jupyter-widgets/base",
      "_view_module_version": "1.2.0",
      "_view_name": "LayoutView",
      "align_content": null,
      "align_items": null,
      "align_self": null,
      "border": null,
      "bottom": null,
      "display": null,
      "flex": null,
      "flex_flow": null,
      "grid_area": null,
      "grid_auto_columns": null,
      "grid_auto_flow": null,
      "grid_auto_rows": null,
      "grid_column": null,
      "grid_gap": null,
      "grid_row": null,
      "grid_template_areas": null,
      "grid_template_columns": null,
      "grid_template_rows": null,
      "height": null,
      "justify_content": null,
      "justify_items": null,
      "left": null,
      "margin": null,
      "max_height": null,
      "max_width": null,
      "min_height": null,
      "min_width": null,
      "object_fit": null,
      "object_position": null,
      "order": null,
      "overflow": null,
      "overflow_x": null,
      "overflow_y": null,
      "padding": null,
      "right": null,
      "top": null,
      "visibility": null,
      "width": null
     }
    },
    "68788c83cfc94ffc92b471bb65d24f36": {
     "model_module": "@jupyter-widgets/base",
     "model_module_version": "1.2.0",
     "model_name": "LayoutModel",
     "state": {
      "_model_module": "@jupyter-widgets/base",
      "_model_module_version": "1.2.0",
      "_model_name": "LayoutModel",
      "_view_count": null,
      "_view_module": "@jupyter-widgets/base",
      "_view_module_version": "1.2.0",
      "_view_name": "LayoutView",
      "align_content": null,
      "align_items": null,
      "align_self": null,
      "border": null,
      "bottom": null,
      "display": null,
      "flex": null,
      "flex_flow": null,
      "grid_area": null,
      "grid_auto_columns": null,
      "grid_auto_flow": null,
      "grid_auto_rows": null,
      "grid_column": null,
      "grid_gap": null,
      "grid_row": null,
      "grid_template_areas": null,
      "grid_template_columns": null,
      "grid_template_rows": null,
      "height": null,
      "justify_content": null,
      "justify_items": null,
      "left": null,
      "margin": null,
      "max_height": null,
      "max_width": null,
      "min_height": null,
      "min_width": null,
      "object_fit": null,
      "object_position": null,
      "order": null,
      "overflow": null,
      "overflow_x": null,
      "overflow_y": null,
      "padding": null,
      "right": null,
      "top": null,
      "visibility": null,
      "width": null
     }
    },
    "692271fe5a804d589ef167c9884f31f9": {
     "model_module": "@jupyter-widgets/controls",
     "model_module_version": "1.5.0",
     "model_name": "DescriptionStyleModel",
     "state": {
      "_model_module": "@jupyter-widgets/controls",
      "_model_module_version": "1.5.0",
      "_model_name": "DescriptionStyleModel",
      "_view_count": null,
      "_view_module": "@jupyter-widgets/base",
      "_view_module_version": "1.2.0",
      "_view_name": "StyleView",
      "description_width": ""
     }
    },
    "6e9ee454831f4a0b8a64b1c8111c0e28": {
     "model_module": "@jupyter-widgets/base",
     "model_module_version": "1.2.0",
     "model_name": "LayoutModel",
     "state": {
      "_model_module": "@jupyter-widgets/base",
      "_model_module_version": "1.2.0",
      "_model_name": "LayoutModel",
      "_view_count": null,
      "_view_module": "@jupyter-widgets/base",
      "_view_module_version": "1.2.0",
      "_view_name": "LayoutView",
      "align_content": null,
      "align_items": null,
      "align_self": null,
      "border": null,
      "bottom": null,
      "display": null,
      "flex": null,
      "flex_flow": null,
      "grid_area": null,
      "grid_auto_columns": null,
      "grid_auto_flow": null,
      "grid_auto_rows": null,
      "grid_column": null,
      "grid_gap": null,
      "grid_row": null,
      "grid_template_areas": null,
      "grid_template_columns": null,
      "grid_template_rows": null,
      "height": null,
      "justify_content": null,
      "justify_items": null,
      "left": null,
      "margin": null,
      "max_height": null,
      "max_width": null,
      "min_height": null,
      "min_width": null,
      "object_fit": null,
      "object_position": null,
      "order": null,
      "overflow": null,
      "overflow_x": null,
      "overflow_y": null,
      "padding": null,
      "right": null,
      "top": null,
      "visibility": null,
      "width": null
     }
    },
    "714ba282fe51486aa60d2442f6ce4c6d": {
     "model_module": "@jupyter-widgets/base",
     "model_module_version": "1.2.0",
     "model_name": "LayoutModel",
     "state": {
      "_model_module": "@jupyter-widgets/base",
      "_model_module_version": "1.2.0",
      "_model_name": "LayoutModel",
      "_view_count": null,
      "_view_module": "@jupyter-widgets/base",
      "_view_module_version": "1.2.0",
      "_view_name": "LayoutView",
      "align_content": null,
      "align_items": null,
      "align_self": null,
      "border": null,
      "bottom": null,
      "display": null,
      "flex": null,
      "flex_flow": null,
      "grid_area": null,
      "grid_auto_columns": null,
      "grid_auto_flow": null,
      "grid_auto_rows": null,
      "grid_column": null,
      "grid_gap": null,
      "grid_row": null,
      "grid_template_areas": null,
      "grid_template_columns": null,
      "grid_template_rows": null,
      "height": null,
      "justify_content": null,
      "justify_items": null,
      "left": null,
      "margin": null,
      "max_height": null,
      "max_width": null,
      "min_height": null,
      "min_width": null,
      "object_fit": null,
      "object_position": null,
      "order": null,
      "overflow": null,
      "overflow_x": null,
      "overflow_y": null,
      "padding": null,
      "right": null,
      "top": null,
      "visibility": null,
      "width": null
     }
    },
    "72a724691df4442c947c5e02151d5e05": {
     "model_module": "@jupyter-widgets/controls",
     "model_module_version": "1.5.0",
     "model_name": "HTMLModel",
     "state": {
      "_dom_classes": [],
      "_model_module": "@jupyter-widgets/controls",
      "_model_module_version": "1.5.0",
      "_model_name": "HTMLModel",
      "_view_count": null,
      "_view_module": "@jupyter-widgets/controls",
      "_view_module_version": "1.5.0",
      "_view_name": "HTMLView",
      "description": "",
      "description_tooltip": null,
      "layout": "IPY_MODEL_6e9ee454831f4a0b8a64b1c8111c0e28",
      "placeholder": "​",
      "style": "IPY_MODEL_e10a812f7be542ca8f1a7f8fc5b80d10",
      "value": "bpe.codes: "
     }
    },
    "778696b04de643af9376c7d2dded756f": {
     "model_module": "@jupyter-widgets/base",
     "model_module_version": "1.2.0",
     "model_name": "LayoutModel",
     "state": {
      "_model_module": "@jupyter-widgets/base",
      "_model_module_version": "1.2.0",
      "_model_name": "LayoutModel",
      "_view_count": null,
      "_view_module": "@jupyter-widgets/base",
      "_view_module_version": "1.2.0",
      "_view_name": "LayoutView",
      "align_content": null,
      "align_items": null,
      "align_self": null,
      "border": null,
      "bottom": null,
      "display": null,
      "flex": null,
      "flex_flow": null,
      "grid_area": null,
      "grid_auto_columns": null,
      "grid_auto_flow": null,
      "grid_auto_rows": null,
      "grid_column": null,
      "grid_gap": null,
      "grid_row": null,
      "grid_template_areas": null,
      "grid_template_columns": null,
      "grid_template_rows": null,
      "height": null,
      "justify_content": null,
      "justify_items": null,
      "left": null,
      "margin": null,
      "max_height": null,
      "max_width": null,
      "min_height": null,
      "min_width": null,
      "object_fit": null,
      "object_position": null,
      "order": null,
      "overflow": null,
      "overflow_x": null,
      "overflow_y": null,
      "padding": null,
      "right": null,
      "top": null,
      "visibility": null,
      "width": null
     }
    },
    "7d50020689b94a0fb1180d7f7d7741cd": {
     "model_module": "@jupyter-widgets/controls",
     "model_module_version": "1.5.0",
     "model_name": "HTMLModel",
     "state": {
      "_dom_classes": [],
      "_model_module": "@jupyter-widgets/controls",
      "_model_module_version": "1.5.0",
      "_model_name": "HTMLModel",
      "_view_count": null,
      "_view_module": "@jupyter-widgets/controls",
      "_view_module_version": "1.5.0",
      "_view_name": "HTMLView",
      "description": "",
      "description_tooltip": null,
      "layout": "IPY_MODEL_2af65b536632441080017da7137d8a52",
      "placeholder": "​",
      "style": "IPY_MODEL_d9ef9051b4fb4395b76b9a01b8ea2153",
      "value": " 22.0/22.0 [00:00&lt;00:00, 523B/s]"
     }
    },
    "7d78543c851c4a76a3c167b4ea2794c9": {
     "model_module": "@jupyter-widgets/controls",
     "model_module_version": "1.5.0",
     "model_name": "ProgressStyleModel",
     "state": {
      "_model_module": "@jupyter-widgets/controls",
      "_model_module_version": "1.5.0",
      "_model_name": "ProgressStyleModel",
      "_view_count": null,
      "_view_module": "@jupyter-widgets/base",
      "_view_module_version": "1.2.0",
      "_view_name": "StyleView",
      "bar_color": null,
      "description_width": ""
     }
    },
    "8027714395d84a00b278b3c2f533d10a": {
     "model_module": "@jupyter-widgets/controls",
     "model_module_version": "1.5.0",
     "model_name": "ProgressStyleModel",
     "state": {
      "_model_module": "@jupyter-widgets/controls",
      "_model_module_version": "1.5.0",
      "_model_name": "ProgressStyleModel",
      "_view_count": null,
      "_view_module": "@jupyter-widgets/base",
      "_view_module_version": "1.2.0",
      "_view_name": "StyleView",
      "bar_color": null,
      "description_width": ""
     }
    },
    "829d16b388a4493d95a7657e273da264": {
     "model_module": "@jupyter-widgets/base",
     "model_module_version": "1.2.0",
     "model_name": "LayoutModel",
     "state": {
      "_model_module": "@jupyter-widgets/base",
      "_model_module_version": "1.2.0",
      "_model_name": "LayoutModel",
      "_view_count": null,
      "_view_module": "@jupyter-widgets/base",
      "_view_module_version": "1.2.0",
      "_view_name": "LayoutView",
      "align_content": null,
      "align_items": null,
      "align_self": null,
      "border": null,
      "bottom": null,
      "display": null,
      "flex": null,
      "flex_flow": null,
      "grid_area": null,
      "grid_auto_columns": null,
      "grid_auto_flow": null,
      "grid_auto_rows": null,
      "grid_column": null,
      "grid_gap": null,
      "grid_row": null,
      "grid_template_areas": null,
      "grid_template_columns": null,
      "grid_template_rows": null,
      "height": null,
      "justify_content": null,
      "justify_items": null,
      "left": null,
      "margin": null,
      "max_height": null,
      "max_width": null,
      "min_height": null,
      "min_width": null,
      "object_fit": null,
      "object_position": null,
      "order": null,
      "overflow": null,
      "overflow_x": null,
      "overflow_y": null,
      "padding": null,
      "right": null,
      "top": null,
      "visibility": null,
      "width": null
     }
    },
    "8438931fee98450e9835804f4366d3cb": {
     "model_module": "@jupyter-widgets/controls",
     "model_module_version": "1.5.0",
     "model_name": "DescriptionStyleModel",
     "state": {
      "_model_module": "@jupyter-widgets/controls",
      "_model_module_version": "1.5.0",
      "_model_name": "DescriptionStyleModel",
      "_view_count": null,
      "_view_module": "@jupyter-widgets/base",
      "_view_module_version": "1.2.0",
      "_view_name": "StyleView",
      "description_width": ""
     }
    },
    "845de3a718484277a8f4619b0e94448b": {
     "model_module": "@jupyter-widgets/controls",
     "model_module_version": "1.5.0",
     "model_name": "HTMLModel",
     "state": {
      "_dom_classes": [],
      "_model_module": "@jupyter-widgets/controls",
      "_model_module_version": "1.5.0",
      "_model_name": "HTMLModel",
      "_view_count": null,
      "_view_module": "@jupyter-widgets/controls",
      "_view_module_version": "1.5.0",
      "_view_name": "HTMLView",
      "description": "",
      "description_tooltip": null,
      "layout": "IPY_MODEL_9f5f09dcd01d4d9bad9f673b8c18d4f0",
      "placeholder": "​",
      "style": "IPY_MODEL_1d79fc89547f4bc08c4ce2a4e6ace4e1",
      "value": "added_tokens.json: 100%"
     }
    },
    "89b03e781b6d4dd68c40fb895a0c2e09": {
     "model_module": "@jupyter-widgets/controls",
     "model_module_version": "1.5.0",
     "model_name": "HBoxModel",
     "state": {
      "_dom_classes": [],
      "_model_module": "@jupyter-widgets/controls",
      "_model_module_version": "1.5.0",
      "_model_name": "HBoxModel",
      "_view_count": null,
      "_view_module": "@jupyter-widgets/controls",
      "_view_module_version": "1.5.0",
      "_view_name": "HBoxView",
      "box_style": "",
      "children": [
       "IPY_MODEL_845de3a718484277a8f4619b0e94448b",
       "IPY_MODEL_eed1e9ab6356430993407915403cef6b",
       "IPY_MODEL_7d50020689b94a0fb1180d7f7d7741cd"
      ],
      "layout": "IPY_MODEL_98fbe14bbc144c66bba463ef15352628"
     }
    },
    "8da16dd4572d4236824cfa2a5b2310cc": {
     "model_module": "@jupyter-widgets/controls",
     "model_module_version": "1.5.0",
     "model_name": "HBoxModel",
     "state": {
      "_dom_classes": [],
      "_model_module": "@jupyter-widgets/controls",
      "_model_module_version": "1.5.0",
      "_model_name": "HBoxModel",
      "_view_count": null,
      "_view_module": "@jupyter-widgets/controls",
      "_view_module_version": "1.5.0",
      "_view_name": "HBoxView",
      "box_style": "",
      "children": [
       "IPY_MODEL_560897643dbd464bb29cffcc2af894b5",
       "IPY_MODEL_b2246c43b2454d7ba9975af4d375ed93",
       "IPY_MODEL_57994cfce6ce41e7bdb80ab12f62828e"
      ],
      "layout": "IPY_MODEL_006900248ab044bb94aedfa8a64b2d7a"
     }
    },
    "8df85062cabb4049b6747ef23ad3698c": {
     "model_module": "@jupyter-widgets/controls",
     "model_module_version": "1.5.0",
     "model_name": "DescriptionStyleModel",
     "state": {
      "_model_module": "@jupyter-widgets/controls",
      "_model_module_version": "1.5.0",
      "_model_name": "DescriptionStyleModel",
      "_view_count": null,
      "_view_module": "@jupyter-widgets/base",
      "_view_module_version": "1.2.0",
      "_view_name": "StyleView",
      "description_width": ""
     }
    },
    "8e002d6815754ab7958915b42a73c93e": {
     "model_module": "@jupyter-widgets/base",
     "model_module_version": "1.2.0",
     "model_name": "LayoutModel",
     "state": {
      "_model_module": "@jupyter-widgets/base",
      "_model_module_version": "1.2.0",
      "_model_name": "LayoutModel",
      "_view_count": null,
      "_view_module": "@jupyter-widgets/base",
      "_view_module_version": "1.2.0",
      "_view_name": "LayoutView",
      "align_content": null,
      "align_items": null,
      "align_self": null,
      "border": null,
      "bottom": null,
      "display": null,
      "flex": null,
      "flex_flow": null,
      "grid_area": null,
      "grid_auto_columns": null,
      "grid_auto_flow": null,
      "grid_auto_rows": null,
      "grid_column": null,
      "grid_gap": null,
      "grid_row": null,
      "grid_template_areas": null,
      "grid_template_columns": null,
      "grid_template_rows": null,
      "height": null,
      "justify_content": null,
      "justify_items": null,
      "left": null,
      "margin": null,
      "max_height": null,
      "max_width": null,
      "min_height": null,
      "min_width": null,
      "object_fit": null,
      "object_position": null,
      "order": null,
      "overflow": null,
      "overflow_x": null,
      "overflow_y": null,
      "padding": null,
      "right": null,
      "top": null,
      "visibility": null,
      "width": null
     }
    },
    "906ed3473d534f95af0ca0a59a0116fc": {
     "model_module": "@jupyter-widgets/base",
     "model_module_version": "1.2.0",
     "model_name": "LayoutModel",
     "state": {
      "_model_module": "@jupyter-widgets/base",
      "_model_module_version": "1.2.0",
      "_model_name": "LayoutModel",
      "_view_count": null,
      "_view_module": "@jupyter-widgets/base",
      "_view_module_version": "1.2.0",
      "_view_name": "LayoutView",
      "align_content": null,
      "align_items": null,
      "align_self": null,
      "border": null,
      "bottom": null,
      "display": null,
      "flex": null,
      "flex_flow": null,
      "grid_area": null,
      "grid_auto_columns": null,
      "grid_auto_flow": null,
      "grid_auto_rows": null,
      "grid_column": null,
      "grid_gap": null,
      "grid_row": null,
      "grid_template_areas": null,
      "grid_template_columns": null,
      "grid_template_rows": null,
      "height": null,
      "justify_content": null,
      "justify_items": null,
      "left": null,
      "margin": null,
      "max_height": null,
      "max_width": null,
      "min_height": null,
      "min_width": null,
      "object_fit": null,
      "object_position": null,
      "order": null,
      "overflow": null,
      "overflow_x": null,
      "overflow_y": null,
      "padding": null,
      "right": null,
      "top": null,
      "visibility": null,
      "width": "20px"
     }
    },
    "9120fdcc9f064436baa24c30e9d10be3": {
     "model_module": "@jupyter-widgets/base",
     "model_module_version": "1.2.0",
     "model_name": "LayoutModel",
     "state": {
      "_model_module": "@jupyter-widgets/base",
      "_model_module_version": "1.2.0",
      "_model_name": "LayoutModel",
      "_view_count": null,
      "_view_module": "@jupyter-widgets/base",
      "_view_module_version": "1.2.0",
      "_view_name": "LayoutView",
      "align_content": null,
      "align_items": null,
      "align_self": null,
      "border": null,
      "bottom": null,
      "display": null,
      "flex": null,
      "flex_flow": null,
      "grid_area": null,
      "grid_auto_columns": null,
      "grid_auto_flow": null,
      "grid_auto_rows": null,
      "grid_column": null,
      "grid_gap": null,
      "grid_row": null,
      "grid_template_areas": null,
      "grid_template_columns": null,
      "grid_template_rows": null,
      "height": null,
      "justify_content": null,
      "justify_items": null,
      "left": null,
      "margin": null,
      "max_height": null,
      "max_width": null,
      "min_height": null,
      "min_width": null,
      "object_fit": null,
      "object_position": null,
      "order": null,
      "overflow": null,
      "overflow_x": null,
      "overflow_y": null,
      "padding": null,
      "right": null,
      "top": null,
      "visibility": null,
      "width": null
     }
    },
    "915e2981f56a4fbba9de15fb714ae145": {
     "model_module": "@jupyter-widgets/controls",
     "model_module_version": "1.5.0",
     "model_name": "DescriptionStyleModel",
     "state": {
      "_model_module": "@jupyter-widgets/controls",
      "_model_module_version": "1.5.0",
      "_model_name": "DescriptionStyleModel",
      "_view_count": null,
      "_view_module": "@jupyter-widgets/base",
      "_view_module_version": "1.2.0",
      "_view_name": "StyleView",
      "description_width": ""
     }
    },
    "98fbe14bbc144c66bba463ef15352628": {
     "model_module": "@jupyter-widgets/base",
     "model_module_version": "1.2.0",
     "model_name": "LayoutModel",
     "state": {
      "_model_module": "@jupyter-widgets/base",
      "_model_module_version": "1.2.0",
      "_model_name": "LayoutModel",
      "_view_count": null,
      "_view_module": "@jupyter-widgets/base",
      "_view_module_version": "1.2.0",
      "_view_name": "LayoutView",
      "align_content": null,
      "align_items": null,
      "align_self": null,
      "border": null,
      "bottom": null,
      "display": null,
      "flex": null,
      "flex_flow": null,
      "grid_area": null,
      "grid_auto_columns": null,
      "grid_auto_flow": null,
      "grid_auto_rows": null,
      "grid_column": null,
      "grid_gap": null,
      "grid_row": null,
      "grid_template_areas": null,
      "grid_template_columns": null,
      "grid_template_rows": null,
      "height": null,
      "justify_content": null,
      "justify_items": null,
      "left": null,
      "margin": null,
      "max_height": null,
      "max_width": null,
      "min_height": null,
      "min_width": null,
      "object_fit": null,
      "object_position": null,
      "order": null,
      "overflow": null,
      "overflow_x": null,
      "overflow_y": null,
      "padding": null,
      "right": null,
      "top": null,
      "visibility": null,
      "width": null
     }
    },
    "9ab0859342134e9790f3a25298d410dc": {
     "model_module": "@jupyter-widgets/controls",
     "model_module_version": "1.5.0",
     "model_name": "HBoxModel",
     "state": {
      "_dom_classes": [],
      "_model_module": "@jupyter-widgets/controls",
      "_model_module_version": "1.5.0",
      "_model_name": "HBoxModel",
      "_view_count": null,
      "_view_module": "@jupyter-widgets/controls",
      "_view_module_version": "1.5.0",
      "_view_name": "HBoxView",
      "box_style": "",
      "children": [
       "IPY_MODEL_0d123104f1c94fc7aeca0379bd4cf89f",
       "IPY_MODEL_9e50434ecc9c40938281391881e811dc",
       "IPY_MODEL_a85c8479c5ef4ea89bf9c232ff866aad"
      ],
      "layout": "IPY_MODEL_53ff43592b8e4dda8f5f615db5583a6c"
     }
    },
    "9b05323233b440618348691aab0f2082": {
     "model_module": "@jupyter-widgets/controls",
     "model_module_version": "1.5.0",
     "model_name": "HTMLModel",
     "state": {
      "_dom_classes": [],
      "_model_module": "@jupyter-widgets/controls",
      "_model_module_version": "1.5.0",
      "_model_name": "HTMLModel",
      "_view_count": null,
      "_view_module": "@jupyter-widgets/controls",
      "_view_module_version": "1.5.0",
      "_view_name": "HTMLView",
      "description": "",
      "description_tooltip": null,
      "layout": "IPY_MODEL_356a4342c81743399fb66600b064cb99",
      "placeholder": "​",
      "style": "IPY_MODEL_692271fe5a804d589ef167c9884f31f9",
      "value": " 167/167 [00:00&lt;00:00, 5.46kB/s]"
     }
    },
    "9b807e5466604d858e7c3471bc78c640": {
     "model_module": "@jupyter-widgets/controls",
     "model_module_version": "1.5.0",
     "model_name": "HBoxModel",
     "state": {
      "_dom_classes": [],
      "_model_module": "@jupyter-widgets/controls",
      "_model_module_version": "1.5.0",
      "_model_name": "HBoxModel",
      "_view_count": null,
      "_view_module": "@jupyter-widgets/controls",
      "_view_module_version": "1.5.0",
      "_view_name": "HBoxView",
      "box_style": "",
      "children": [
       "IPY_MODEL_72a724691df4442c947c5e02151d5e05",
       "IPY_MODEL_55c28984848741ddb4ae005c278c491e",
       "IPY_MODEL_42bf7fe8ab0849069990771c1635842a"
      ],
      "layout": "IPY_MODEL_f64080fc8e5f4da99590da1a63d2e8f1"
     }
    },
    "9d9e305c443244698e8ea57f91298c6f": {
     "model_module": "@jupyter-widgets/base",
     "model_module_version": "1.2.0",
     "model_name": "LayoutModel",
     "state": {
      "_model_module": "@jupyter-widgets/base",
      "_model_module_version": "1.2.0",
      "_model_name": "LayoutModel",
      "_view_count": null,
      "_view_module": "@jupyter-widgets/base",
      "_view_module_version": "1.2.0",
      "_view_name": "LayoutView",
      "align_content": null,
      "align_items": null,
      "align_self": null,
      "border": null,
      "bottom": null,
      "display": null,
      "flex": null,
      "flex_flow": null,
      "grid_area": null,
      "grid_auto_columns": null,
      "grid_auto_flow": null,
      "grid_auto_rows": null,
      "grid_column": null,
      "grid_gap": null,
      "grid_row": null,
      "grid_template_areas": null,
      "grid_template_columns": null,
      "grid_template_rows": null,
      "height": null,
      "justify_content": null,
      "justify_items": null,
      "left": null,
      "margin": null,
      "max_height": null,
      "max_width": null,
      "min_height": null,
      "min_width": null,
      "object_fit": null,
      "object_position": null,
      "order": null,
      "overflow": null,
      "overflow_x": null,
      "overflow_y": null,
      "padding": null,
      "right": null,
      "top": null,
      "visibility": null,
      "width": null
     }
    },
    "9e50434ecc9c40938281391881e811dc": {
     "model_module": "@jupyter-widgets/controls",
     "model_module_version": "1.5.0",
     "model_name": "FloatProgressModel",
     "state": {
      "_dom_classes": [],
      "_model_module": "@jupyter-widgets/controls",
      "_model_module_version": "1.5.0",
      "_model_name": "FloatProgressModel",
      "_view_count": null,
      "_view_module": "@jupyter-widgets/controls",
      "_view_module_version": "1.5.0",
      "_view_name": "ProgressView",
      "bar_style": "success",
      "description": "",
      "description_tooltip": null,
      "layout": "IPY_MODEL_13feaf9ad6724ea188a1ba405e08392d",
      "max": 338,
      "min": 0,
      "orientation": "horizontal",
      "style": "IPY_MODEL_24111e81d7884d1fba4ad2db372cc50f",
      "value": 338
     }
    },
    "9f5f09dcd01d4d9bad9f673b8c18d4f0": {
     "model_module": "@jupyter-widgets/base",
     "model_module_version": "1.2.0",
     "model_name": "LayoutModel",
     "state": {
      "_model_module": "@jupyter-widgets/base",
      "_model_module_version": "1.2.0",
      "_model_name": "LayoutModel",
      "_view_count": null,
      "_view_module": "@jupyter-widgets/base",
      "_view_module_version": "1.2.0",
      "_view_name": "LayoutView",
      "align_content": null,
      "align_items": null,
      "align_self": null,
      "border": null,
      "bottom": null,
      "display": null,
      "flex": null,
      "flex_flow": null,
      "grid_area": null,
      "grid_auto_columns": null,
      "grid_auto_flow": null,
      "grid_auto_rows": null,
      "grid_column": null,
      "grid_gap": null,
      "grid_row": null,
      "grid_template_areas": null,
      "grid_template_columns": null,
      "grid_template_rows": null,
      "height": null,
      "justify_content": null,
      "justify_items": null,
      "left": null,
      "margin": null,
      "max_height": null,
      "max_width": null,
      "min_height": null,
      "min_width": null,
      "object_fit": null,
      "object_position": null,
      "order": null,
      "overflow": null,
      "overflow_x": null,
      "overflow_y": null,
      "padding": null,
      "right": null,
      "top": null,
      "visibility": null,
      "width": null
     }
    },
    "a85c8479c5ef4ea89bf9c232ff866aad": {
     "model_module": "@jupyter-widgets/controls",
     "model_module_version": "1.5.0",
     "model_name": "HTMLModel",
     "state": {
      "_dom_classes": [],
      "_model_module": "@jupyter-widgets/controls",
      "_model_module_version": "1.5.0",
      "_model_name": "HTMLModel",
      "_view_count": null,
      "_view_module": "@jupyter-widgets/controls",
      "_view_module_version": "1.5.0",
      "_view_name": "HTMLView",
      "description": "",
      "description_tooltip": null,
      "layout": "IPY_MODEL_3265bfa4994747d0a0bcbba7124fc760",
      "placeholder": "​",
      "style": "IPY_MODEL_8df85062cabb4049b6747ef23ad3698c",
      "value": " 338/338 [00:00&lt;00:00, 7.62kB/s]"
     }
    },
    "acb8051f99dd478dadbf754d00b34c30": {
     "model_module": "@jupyter-widgets/controls",
     "model_module_version": "1.5.0",
     "model_name": "HTMLModel",
     "state": {
      "_dom_classes": [],
      "_model_module": "@jupyter-widgets/controls",
      "_model_module_version": "1.5.0",
      "_model_name": "HTMLModel",
      "_view_count": null,
      "_view_module": "@jupyter-widgets/controls",
      "_view_module_version": "1.5.0",
      "_view_name": "HTMLView",
      "description": "",
      "description_tooltip": null,
      "layout": "IPY_MODEL_9120fdcc9f064436baa24c30e9d10be3",
      "placeholder": "​",
      "style": "IPY_MODEL_cd1d085caa4c4fc2ab9858048eeee2c6",
      "value": "model.safetensors: 100%"
     }
    },
    "ad68ef71375d4a9e92ad0d76210fab30": {
     "model_module": "@jupyter-widgets/controls",
     "model_module_version": "1.5.0",
     "model_name": "ProgressStyleModel",
     "state": {
      "_model_module": "@jupyter-widgets/controls",
      "_model_module_version": "1.5.0",
      "_model_name": "ProgressStyleModel",
      "_view_count": null,
      "_view_module": "@jupyter-widgets/base",
      "_view_module_version": "1.2.0",
      "_view_name": "StyleView",
      "bar_color": null,
      "description_width": ""
     }
    },
    "b2246c43b2454d7ba9975af4d375ed93": {
     "model_module": "@jupyter-widgets/controls",
     "model_module_version": "1.5.0",
     "model_name": "FloatProgressModel",
     "state": {
      "_dom_classes": [],
      "_model_module": "@jupyter-widgets/controls",
      "_model_module_version": "1.5.0",
      "_model_name": "FloatProgressModel",
      "_view_count": null,
      "_view_module": "@jupyter-widgets/controls",
      "_view_module_version": "1.5.0",
      "_view_name": "ProgressView",
      "bar_style": "success",
      "description": "",
      "description_tooltip": null,
      "layout": "IPY_MODEL_906ed3473d534f95af0ca0a59a0116fc",
      "max": 1,
      "min": 0,
      "orientation": "horizontal",
      "style": "IPY_MODEL_7d78543c851c4a76a3c167b4ea2794c9",
      "value": 1
     }
    },
    "b53720ca6095451e9279cabbbf64201b": {
     "model_module": "@jupyter-widgets/controls",
     "model_module_version": "1.5.0",
     "model_name": "FloatProgressModel",
     "state": {
      "_dom_classes": [],
      "_model_module": "@jupyter-widgets/controls",
      "_model_module_version": "1.5.0",
      "_model_name": "FloatProgressModel",
      "_view_count": null,
      "_view_module": "@jupyter-widgets/controls",
      "_view_module_version": "1.5.0",
      "_view_name": "ProgressView",
      "bar_style": "success",
      "description": "",
      "description_tooltip": null,
      "layout": "IPY_MODEL_8e002d6815754ab7958915b42a73c93e",
      "max": 539634372,
      "min": 0,
      "orientation": "horizontal",
      "style": "IPY_MODEL_ad68ef71375d4a9e92ad0d76210fab30",
      "value": 539634372
     }
    },
    "be536f4ec2b147d4b7fdc33fb20a1eaa": {
     "model_module": "@jupyter-widgets/controls",
     "model_module_version": "1.5.0",
     "model_name": "DescriptionStyleModel",
     "state": {
      "_model_module": "@jupyter-widgets/controls",
      "_model_module_version": "1.5.0",
      "_model_name": "DescriptionStyleModel",
      "_view_count": null,
      "_view_module": "@jupyter-widgets/base",
      "_view_module_version": "1.2.0",
      "_view_name": "StyleView",
      "description_width": ""
     }
    },
    "c1b1de802f37412fbba27b2b206db6a0": {
     "model_module": "@jupyter-widgets/controls",
     "model_module_version": "1.5.0",
     "model_name": "DescriptionStyleModel",
     "state": {
      "_model_module": "@jupyter-widgets/controls",
      "_model_module_version": "1.5.0",
      "_model_name": "DescriptionStyleModel",
      "_view_count": null,
      "_view_module": "@jupyter-widgets/base",
      "_view_module_version": "1.2.0",
      "_view_name": "StyleView",
      "description_width": ""
     }
    },
    "c4895799049d49cea9d4bd98c3211ce3": {
     "model_module": "@jupyter-widgets/controls",
     "model_module_version": "1.5.0",
     "model_name": "HTMLModel",
     "state": {
      "_dom_classes": [],
      "_model_module": "@jupyter-widgets/controls",
      "_model_module_version": "1.5.0",
      "_model_name": "HTMLModel",
      "_view_count": null,
      "_view_module": "@jupyter-widgets/controls",
      "_view_module_version": "1.5.0",
      "_view_name": "HTMLView",
      "description": "",
      "description_tooltip": null,
      "layout": "IPY_MODEL_e92f2da1db7847628561da9f63a27307",
      "placeholder": "​",
      "style": "IPY_MODEL_c837e987955a436e8e889c87f277c281",
      "value": "special_tokens_map.json: 100%"
     }
    },
    "c837e987955a436e8e889c87f277c281": {
     "model_module": "@jupyter-widgets/controls",
     "model_module_version": "1.5.0",
     "model_name": "DescriptionStyleModel",
     "state": {
      "_model_module": "@jupyter-widgets/controls",
      "_model_module_version": "1.5.0",
      "_model_name": "DescriptionStyleModel",
      "_view_count": null,
      "_view_module": "@jupyter-widgets/base",
      "_view_module_version": "1.2.0",
      "_view_name": "StyleView",
      "description_width": ""
     }
    },
    "cbad80f213a5437c884eb1d7a6ffe1b6": {
     "model_module": "@jupyter-widgets/controls",
     "model_module_version": "1.5.0",
     "model_name": "DescriptionStyleModel",
     "state": {
      "_model_module": "@jupyter-widgets/controls",
      "_model_module_version": "1.5.0",
      "_model_name": "DescriptionStyleModel",
      "_view_count": null,
      "_view_module": "@jupyter-widgets/base",
      "_view_module_version": "1.2.0",
      "_view_name": "StyleView",
      "description_width": ""
     }
    },
    "cd1d085caa4c4fc2ab9858048eeee2c6": {
     "model_module": "@jupyter-widgets/controls",
     "model_module_version": "1.5.0",
     "model_name": "DescriptionStyleModel",
     "state": {
      "_model_module": "@jupyter-widgets/controls",
      "_model_module_version": "1.5.0",
      "_model_name": "DescriptionStyleModel",
      "_view_count": null,
      "_view_module": "@jupyter-widgets/base",
      "_view_module_version": "1.2.0",
      "_view_name": "StyleView",
      "description_width": ""
     }
    },
    "cd644400d9e043fb8628a3376c7f303b": {
     "model_module": "@jupyter-widgets/controls",
     "model_module_version": "1.5.0",
     "model_name": "ProgressStyleModel",
     "state": {
      "_model_module": "@jupyter-widgets/controls",
      "_model_module_version": "1.5.0",
      "_model_name": "ProgressStyleModel",
      "_view_count": null,
      "_view_module": "@jupyter-widgets/base",
      "_view_module_version": "1.2.0",
      "_view_name": "StyleView",
      "bar_color": null,
      "description_width": ""
     }
    },
    "d53ddf7de05b4409ace7e43b939229c8": {
     "model_module": "@jupyter-widgets/base",
     "model_module_version": "1.2.0",
     "model_name": "LayoutModel",
     "state": {
      "_model_module": "@jupyter-widgets/base",
      "_model_module_version": "1.2.0",
      "_model_name": "LayoutModel",
      "_view_count": null,
      "_view_module": "@jupyter-widgets/base",
      "_view_module_version": "1.2.0",
      "_view_name": "LayoutView",
      "align_content": null,
      "align_items": null,
      "align_self": null,
      "border": null,
      "bottom": null,
      "display": null,
      "flex": null,
      "flex_flow": null,
      "grid_area": null,
      "grid_auto_columns": null,
      "grid_auto_flow": null,
      "grid_auto_rows": null,
      "grid_column": null,
      "grid_gap": null,
      "grid_row": null,
      "grid_template_areas": null,
      "grid_template_columns": null,
      "grid_template_rows": null,
      "height": null,
      "justify_content": null,
      "justify_items": null,
      "left": null,
      "margin": null,
      "max_height": null,
      "max_width": null,
      "min_height": null,
      "min_width": null,
      "object_fit": null,
      "object_position": null,
      "order": null,
      "overflow": null,
      "overflow_x": null,
      "overflow_y": null,
      "padding": null,
      "right": null,
      "top": null,
      "visibility": null,
      "width": null
     }
    },
    "d9ef9051b4fb4395b76b9a01b8ea2153": {
     "model_module": "@jupyter-widgets/controls",
     "model_module_version": "1.5.0",
     "model_name": "DescriptionStyleModel",
     "state": {
      "_model_module": "@jupyter-widgets/controls",
      "_model_module_version": "1.5.0",
      "_model_name": "DescriptionStyleModel",
      "_view_count": null,
      "_view_module": "@jupyter-widgets/base",
      "_view_module_version": "1.2.0",
      "_view_name": "StyleView",
      "description_width": ""
     }
    },
    "dece572d8755490abc564e29ffe540a1": {
     "model_module": "@jupyter-widgets/controls",
     "model_module_version": "1.5.0",
     "model_name": "FloatProgressModel",
     "state": {
      "_dom_classes": [],
      "_model_module": "@jupyter-widgets/controls",
      "_model_module_version": "1.5.0",
      "_model_name": "FloatProgressModel",
      "_view_count": null,
      "_view_module": "@jupyter-widgets/controls",
      "_view_module_version": "1.5.0",
      "_view_name": "ProgressView",
      "bar_style": "success",
      "description": "",
      "description_tooltip": null,
      "layout": "IPY_MODEL_57e4d681649d4e498f7552e670d09d8d",
      "max": 949,
      "min": 0,
      "orientation": "horizontal",
      "style": "IPY_MODEL_cd644400d9e043fb8628a3376c7f303b",
      "value": 949
     }
    },
    "e10a812f7be542ca8f1a7f8fc5b80d10": {
     "model_module": "@jupyter-widgets/controls",
     "model_module_version": "1.5.0",
     "model_name": "DescriptionStyleModel",
     "state": {
      "_model_module": "@jupyter-widgets/controls",
      "_model_module_version": "1.5.0",
      "_model_name": "DescriptionStyleModel",
      "_view_count": null,
      "_view_module": "@jupyter-widgets/base",
      "_view_module_version": "1.2.0",
      "_view_name": "StyleView",
      "description_width": ""
     }
    },
    "e2d1ff38fddd4e82a9f4290acbe5dcdc": {
     "model_module": "@jupyter-widgets/controls",
     "model_module_version": "1.5.0",
     "model_name": "HTMLModel",
     "state": {
      "_dom_classes": [],
      "_model_module": "@jupyter-widgets/controls",
      "_model_module_version": "1.5.0",
      "_model_name": "HTMLModel",
      "_view_count": null,
      "_view_module": "@jupyter-widgets/controls",
      "_view_module_version": "1.5.0",
      "_view_name": "HTMLView",
      "description": "",
      "description_tooltip": null,
      "layout": "IPY_MODEL_4045cf73e69b4a3bb3b63b1e010c5607",
      "placeholder": "​",
      "style": "IPY_MODEL_c1b1de802f37412fbba27b2b206db6a0",
      "value": " 540M/540M [00:05&lt;00:00, 137MB/s]"
     }
    },
    "e7bb540823674f6a8d4c1493e22b31b8": {
     "model_module": "@jupyter-widgets/controls",
     "model_module_version": "1.5.0",
     "model_name": "DescriptionStyleModel",
     "state": {
      "_model_module": "@jupyter-widgets/controls",
      "_model_module_version": "1.5.0",
      "_model_name": "DescriptionStyleModel",
      "_view_count": null,
      "_view_module": "@jupyter-widgets/base",
      "_view_module_version": "1.2.0",
      "_view_name": "StyleView",
      "description_width": ""
     }
    },
    "e8735be100c04ee8954b47c300c1fb58": {
     "model_module": "@jupyter-widgets/controls",
     "model_module_version": "1.5.0",
     "model_name": "ProgressStyleModel",
     "state": {
      "_model_module": "@jupyter-widgets/controls",
      "_model_module_version": "1.5.0",
      "_model_name": "ProgressStyleModel",
      "_view_count": null,
      "_view_module": "@jupyter-widgets/base",
      "_view_module_version": "1.2.0",
      "_view_name": "StyleView",
      "bar_color": null,
      "description_width": ""
     }
    },
    "e92f2da1db7847628561da9f63a27307": {
     "model_module": "@jupyter-widgets/base",
     "model_module_version": "1.2.0",
     "model_name": "LayoutModel",
     "state": {
      "_model_module": "@jupyter-widgets/base",
      "_model_module_version": "1.2.0",
      "_model_name": "LayoutModel",
      "_view_count": null,
      "_view_module": "@jupyter-widgets/base",
      "_view_module_version": "1.2.0",
      "_view_name": "LayoutView",
      "align_content": null,
      "align_items": null,
      "align_self": null,
      "border": null,
      "bottom": null,
      "display": null,
      "flex": null,
      "flex_flow": null,
      "grid_area": null,
      "grid_auto_columns": null,
      "grid_auto_flow": null,
      "grid_auto_rows": null,
      "grid_column": null,
      "grid_gap": null,
      "grid_row": null,
      "grid_template_areas": null,
      "grid_template_columns": null,
      "grid_template_rows": null,
      "height": null,
      "justify_content": null,
      "justify_items": null,
      "left": null,
      "margin": null,
      "max_height": null,
      "max_width": null,
      "min_height": null,
      "min_width": null,
      "object_fit": null,
      "object_position": null,
      "order": null,
      "overflow": null,
      "overflow_x": null,
      "overflow_y": null,
      "padding": null,
      "right": null,
      "top": null,
      "visibility": null,
      "width": null
     }
    },
    "eaff056b30be4bb4b4b60a0d2bebef0b": {
     "model_module": "@jupyter-widgets/controls",
     "model_module_version": "1.5.0",
     "model_name": "HBoxModel",
     "state": {
      "_dom_classes": [],
      "_model_module": "@jupyter-widgets/controls",
      "_model_module_version": "1.5.0",
      "_model_name": "HBoxModel",
      "_view_count": null,
      "_view_module": "@jupyter-widgets/controls",
      "_view_module_version": "1.5.0",
      "_view_name": "HBoxView",
      "box_style": "",
      "children": [
       "IPY_MODEL_3d9491215c0a471f87d32083030e5ea9",
       "IPY_MODEL_dece572d8755490abc564e29ffe540a1",
       "IPY_MODEL_30e85081d3f14e71a5f0db06c5eb4a3d"
      ],
      "layout": "IPY_MODEL_0d8463be55df462ba54cfb61aaf104e1"
     }
    },
    "eddbecafc0e14ac1a1c7b026237c7322": {
     "model_module": "@jupyter-widgets/controls",
     "model_module_version": "1.5.0",
     "model_name": "HTMLModel",
     "state": {
      "_dom_classes": [],
      "_model_module": "@jupyter-widgets/controls",
      "_model_module_version": "1.5.0",
      "_model_name": "HTMLModel",
      "_view_count": null,
      "_view_module": "@jupyter-widgets/controls",
      "_view_module_version": "1.5.0",
      "_view_name": "HTMLView",
      "description": "",
      "description_tooltip": null,
      "layout": "IPY_MODEL_778696b04de643af9376c7d2dded756f",
      "placeholder": "​",
      "style": "IPY_MODEL_3fcafcce6b544d38b4262965bed2583b",
      "value": "pytorch_model.bin: 100%"
     }
    },
    "eed1e9ab6356430993407915403cef6b": {
     "model_module": "@jupyter-widgets/controls",
     "model_module_version": "1.5.0",
     "model_name": "FloatProgressModel",
     "state": {
      "_dom_classes": [],
      "_model_module": "@jupyter-widgets/controls",
      "_model_module_version": "1.5.0",
      "_model_name": "FloatProgressModel",
      "_view_count": null,
      "_view_module": "@jupyter-widgets/controls",
      "_view_module_version": "1.5.0",
      "_view_name": "ProgressView",
      "bar_style": "success",
      "description": "",
      "description_tooltip": null,
      "layout": "IPY_MODEL_714ba282fe51486aa60d2442f6ce4c6d",
      "max": 22,
      "min": 0,
      "orientation": "horizontal",
      "style": "IPY_MODEL_8027714395d84a00b278b3c2f533d10a",
      "value": 22
     }
    },
    "efb2d8e2bccb4213b6eac67741341efe": {
     "model_module": "@jupyter-widgets/controls",
     "model_module_version": "1.5.0",
     "model_name": "DescriptionStyleModel",
     "state": {
      "_model_module": "@jupyter-widgets/controls",
      "_model_module_version": "1.5.0",
      "_model_name": "DescriptionStyleModel",
      "_view_count": null,
      "_view_module": "@jupyter-widgets/base",
      "_view_module_version": "1.2.0",
      "_view_name": "StyleView",
      "description_width": ""
     }
    },
    "f64080fc8e5f4da99590da1a63d2e8f1": {
     "model_module": "@jupyter-widgets/base",
     "model_module_version": "1.2.0",
     "model_name": "LayoutModel",
     "state": {
      "_model_module": "@jupyter-widgets/base",
      "_model_module_version": "1.2.0",
      "_model_name": "LayoutModel",
      "_view_count": null,
      "_view_module": "@jupyter-widgets/base",
      "_view_module_version": "1.2.0",
      "_view_name": "LayoutView",
      "align_content": null,
      "align_items": null,
      "align_self": null,
      "border": null,
      "bottom": null,
      "display": null,
      "flex": null,
      "flex_flow": null,
      "grid_area": null,
      "grid_auto_columns": null,
      "grid_auto_flow": null,
      "grid_auto_rows": null,
      "grid_column": null,
      "grid_gap": null,
      "grid_row": null,
      "grid_template_areas": null,
      "grid_template_columns": null,
      "grid_template_rows": null,
      "height": null,
      "justify_content": null,
      "justify_items": null,
      "left": null,
      "margin": null,
      "max_height": null,
      "max_width": null,
      "min_height": null,
      "min_width": null,
      "object_fit": null,
      "object_position": null,
      "order": null,
      "overflow": null,
      "overflow_x": null,
      "overflow_y": null,
      "padding": null,
      "right": null,
      "top": null,
      "visibility": null,
      "width": null
     }
    },
    "f71be797887b4052a6b5e3dd0cde9d6d": {
     "model_module": "@jupyter-widgets/controls",
     "model_module_version": "1.5.0",
     "model_name": "HTMLModel",
     "state": {
      "_dom_classes": [],
      "_model_module": "@jupyter-widgets/controls",
      "_model_module_version": "1.5.0",
      "_model_name": "HTMLModel",
      "_view_count": null,
      "_view_module": "@jupyter-widgets/controls",
      "_view_module_version": "1.5.0",
      "_view_name": "HTMLView",
      "description": "",
      "description_tooltip": null,
      "layout": "IPY_MODEL_68788c83cfc94ffc92b471bb65d24f36",
      "placeholder": "​",
      "style": "IPY_MODEL_efb2d8e2bccb4213b6eac67741341efe",
      "value": " 540M/540M [00:14&lt;00:00, 73.5MB/s]"
     }
    },
    "fa21ad2599f8442fb9a655077c16bd58": {
     "model_module": "@jupyter-widgets/base",
     "model_module_version": "1.2.0",
     "model_name": "LayoutModel",
     "state": {
      "_model_module": "@jupyter-widgets/base",
      "_model_module_version": "1.2.0",
      "_model_name": "LayoutModel",
      "_view_count": null,
      "_view_module": "@jupyter-widgets/base",
      "_view_module_version": "1.2.0",
      "_view_name": "LayoutView",
      "align_content": null,
      "align_items": null,
      "align_self": null,
      "border": null,
      "bottom": null,
      "display": null,
      "flex": null,
      "flex_flow": null,
      "grid_area": null,
      "grid_auto_columns": null,
      "grid_auto_flow": null,
      "grid_auto_rows": null,
      "grid_column": null,
      "grid_gap": null,
      "grid_row": null,
      "grid_template_areas": null,
      "grid_template_columns": null,
      "grid_template_rows": null,
      "height": null,
      "justify_content": null,
      "justify_items": null,
      "left": null,
      "margin": null,
      "max_height": null,
      "max_width": null,
      "min_height": null,
      "min_width": null,
      "object_fit": null,
      "object_position": null,
      "order": null,
      "overflow": null,
      "overflow_x": null,
      "overflow_y": null,
      "padding": null,
      "right": null,
      "top": null,
      "visibility": null,
      "width": null
     }
    },
    "fa80ac5acb3e4a26ac385f5506d431a0": {
     "model_module": "@jupyter-widgets/base",
     "model_module_version": "1.2.0",
     "model_name": "LayoutModel",
     "state": {
      "_model_module": "@jupyter-widgets/base",
      "_model_module_version": "1.2.0",
      "_model_name": "LayoutModel",
      "_view_count": null,
      "_view_module": "@jupyter-widgets/base",
      "_view_module_version": "1.2.0",
      "_view_name": "LayoutView",
      "align_content": null,
      "align_items": null,
      "align_self": null,
      "border": null,
      "bottom": null,
      "display": null,
      "flex": null,
      "flex_flow": null,
      "grid_area": null,
      "grid_auto_columns": null,
      "grid_auto_flow": null,
      "grid_auto_rows": null,
      "grid_column": null,
      "grid_gap": null,
      "grid_row": null,
      "grid_template_areas": null,
      "grid_template_columns": null,
      "grid_template_rows": null,
      "height": null,
      "justify_content": null,
      "justify_items": null,
      "left": null,
      "margin": null,
      "max_height": null,
      "max_width": null,
      "min_height": null,
      "min_width": null,
      "object_fit": null,
      "object_position": null,
      "order": null,
      "overflow": null,
      "overflow_x": null,
      "overflow_y": null,
      "padding": null,
      "right": null,
      "top": null,
      "visibility": null,
      "width": null
     }
    }
   }
  }
 },
 "nbformat": 4,
 "nbformat_minor": 5
}
